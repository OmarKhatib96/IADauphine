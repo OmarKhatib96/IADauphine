{
  "nbformat": 4,
  "nbformat_minor": 0,
  "metadata": {
    "colab": {
      "name": "01_Introduction_pythonPandas.ipynb",
      "provenance": [],
      "collapsed_sections": []
    },
    "kernelspec": {
      "display_name": "Python 3",
      "language": "python",
      "name": "python3"
    },
    "language_info": {
      "codemirror_mode": {
        "name": "ipython",
        "version": 3
      },
      "file_extension": ".py",
      "mimetype": "text/x-python",
      "name": "python",
      "nbconvert_exporter": "python",
      "pygments_lexer": "ipython3",
      "version": "3.7.3"
    }
  },
  "cells": [
    {
      "cell_type": "markdown",
      "metadata": {
        "id": "CumKKJoF7Q4I"
      },
      "source": [
        "#Introduction"
      ]
    },
    {
      "cell_type": "markdown",
      "metadata": {
        "id": "ynOUsvs57U9c"
      },
      "source": [
        "This notebook gives some reminders on the [Pandas DataFrames and Series structures](https://pandas.pydata.org/docs/getting_started/dsintro.html)."
      ]
    },
    {
      "cell_type": "markdown",
      "metadata": {
        "id": "qsXifYOK_qzQ"
      },
      "source": [
        "## Series"
      ]
    },
    {
      "cell_type": "markdown",
      "metadata": {
        "id": "fHS_DlpsBPz-"
      },
      "source": [
        "\n",
        "`Series`structures can be created from the following data types:\n",
        "- scalar values \n",
        "- Python native dictionaries\n",
        "- multidimensional arrays (called ndarrays)."
      ]
    },
    {
      "cell_type": "markdown",
      "metadata": {
        "id": "oTWAzavQ_hhX"
      },
      "source": [
        "A series is a vector of values taken by a variable. Usually it would represent the values taken by a variable for different observations (or individuals)."
      ]
    },
    {
      "cell_type": "code",
      "metadata": {
        "id": "mur79hd2-hU3"
      },
      "source": [
        "import pandas as pd"
      ],
      "execution_count": null,
      "outputs": []
    },
    {
      "cell_type": "markdown",
      "metadata": {
        "id": "vfS7ZHiKCszP"
      },
      "source": [
        " ### from scalar values"
      ]
    },
    {
      "cell_type": "code",
      "metadata": {
        "id": "kVhGBMAp_R9G"
      },
      "source": [
        "# Program to Create series with scalar values  \n",
        "data_points =[1, 3, 4, 5, 6, 2, 9]  # Numeric data \n",
        "  \n",
        "# Creating series with default index values \n",
        "s = pd.Series(data_points) \n"
      ],
      "execution_count": null,
      "outputs": []
    },
    {
      "cell_type": "code",
      "metadata": {
        "id": "KN--893MALN8"
      },
      "source": [
        "# predefined index values \n",
        "index =['a', 'b', 'c', 'd', 'e', 'f', 'g']  \n",
        "  \n",
        "# Creating series with predefined index values \n",
        "si = pd.Series(data_points, index) "
      ],
      "execution_count": null,
      "outputs": []
    },
    {
      "cell_type": "code",
      "metadata": {
        "id": "DObd2AGVAE1x",
        "colab": {
          "base_uri": "https://localhost:8080/"
        },
        "outputId": "b55cbd24-0f06-45dd-da74-bf1acce9e40d"
      },
      "source": [
        "si"
      ],
      "execution_count": null,
      "outputs": [
        {
          "output_type": "execute_result",
          "data": {
            "text/plain": [
              "a    1\n",
              "b    3\n",
              "c    4\n",
              "d    5\n",
              "e    6\n",
              "f    2\n",
              "g    9\n",
              "dtype: int64"
            ]
          },
          "metadata": {
            "tags": []
          },
          "execution_count": 11
        }
      ]
    },
    {
      "cell_type": "code",
      "metadata": {
        "id": "ZRrfd_mi_TXS",
        "colab": {
          "base_uri": "https://localhost:8080/"
        },
        "outputId": "a9903008-f96e-4487-b8ad-291c317bc822"
      },
      "source": [
        "si['f']  # direct indexing"
      ],
      "execution_count": null,
      "outputs": [
        {
          "output_type": "execute_result",
          "data": {
            "text/plain": [
              "2"
            ]
          },
          "metadata": {
            "tags": []
          },
          "execution_count": 12
        }
      ]
    },
    {
      "cell_type": "markdown",
      "metadata": {
        "id": "qFVVSr5sDV4Z"
      },
      "source": [
        "### from a dictionary\n",
        "\n",
        "A dictionary is a key-value mapping. Where values are indexed by their position in a list, here values are indexed by a key (which can take any hashable type, for instance alpha-numerical characters)."
      ]
    },
    {
      "cell_type": "code",
      "metadata": {
        "id": "oXepXx0VDdCw",
        "colab": {
          "base_uri": "https://localhost:8080/"
        },
        "outputId": "e7a4f7e5-ab95-49be-dcaf-0fb2c5a7836f"
      },
      "source": [
        "# Program to Create Dictionary series \n",
        "dictionary ={'a':1, 'b':2, 'c':3, 'd':4, 'e':5}  \n",
        "  \n",
        "# Creating series of Dictionary type \n",
        "sd = pd.Series(dictionary)\n",
        "sd"
      ],
      "execution_count": null,
      "outputs": [
        {
          "output_type": "execute_result",
          "data": {
            "text/plain": [
              "a    1\n",
              "b    2\n",
              "c    3\n",
              "d    4\n",
              "e    5\n",
              "dtype: int64"
            ]
          },
          "metadata": {
            "tags": []
          },
          "execution_count": 13
        }
      ]
    },
    {
      "cell_type": "markdown",
      "metadata": {
        "id": "V64KXAoQRQ_R"
      },
      "source": [
        "###  from a Ndarray"
      ]
    },
    {
      "cell_type": "code",
      "metadata": {
        "id": "rh1E2Gj_DjAy"
      },
      "source": [
        "import pandas as pd\n",
        "# Program to Create ndarray series \n",
        "nddata =[[2, 3, 4], [5, 6, 7]]  # Defining 2darray \n",
        "  \n",
        "# Creating series of 2darray \n",
        "snd = pd.Series(nddata) "
      ],
      "execution_count": null,
      "outputs": []
    },
    {
      "cell_type": "code",
      "metadata": {
        "id": "mv6Y_i-l3aXL",
        "colab": {
          "base_uri": "https://localhost:8080/"
        },
        "outputId": "d044efcf-a66e-43bb-9f76-840345d54640"
      },
      "source": [
        "nddata, nddata[0][1]"
      ],
      "execution_count": null,
      "outputs": [
        {
          "output_type": "execute_result",
          "data": {
            "text/plain": [
              "([[2, 3, 4], [5, 6, 7]], 3)"
            ]
          },
          "metadata": {
            "tags": []
          },
          "execution_count": 15
        }
      ]
    },
    {
      "cell_type": "code",
      "metadata": {
        "id": "0EkWmcBrRkXJ",
        "colab": {
          "base_uri": "https://localhost:8080/"
        },
        "outputId": "9f524e76-02e4-42f8-d4b5-5d21bbaa44db"
      },
      "source": [
        "snd[1][1]"
      ],
      "execution_count": null,
      "outputs": [
        {
          "output_type": "execute_result",
          "data": {
            "text/plain": [
              "6"
            ]
          },
          "metadata": {
            "tags": []
          },
          "execution_count": 16
        }
      ]
    },
    {
      "cell_type": "markdown",
      "metadata": {
        "id": "30qZORvWRtRE"
      },
      "source": [
        "## DataFrames\n",
        "\n",
        "A DataFrame is a 2-dimensional data structure : several columns contain the variables, with their observations indexed on the rows.\n",
        "\n",
        "It can be built from the same kind of data as `Series`:\n",
        "- one or more scalar vectors\n",
        "- one or more dictionaries\n",
        "- 2D-numpy ndarray"
      ]
    },
    {
      "cell_type": "code",
      "metadata": {
        "id": "VUSzYgpKRvQA"
      },
      "source": [
        "# Program to Create Data Frame with two dictionaries \n",
        "dict1 ={'a':1, 'b':2, 'c':3, 'd':4}        # Define Dictionary 1 \n",
        "dict2 ={'a':5, 'b':6, 'c':7, 'd':8, 'e':9} # Define Dictionary 2 \n",
        "data = {'first':dict1, 'second':dict2}  # Define Data with dict1 and dict2 \n",
        "df = pd.DataFrame(data)  # Create DataFrame "
      ],
      "execution_count": null,
      "outputs": []
    },
    {
      "cell_type": "code",
      "metadata": {
        "id": "Ys6HSN4lS_bS",
        "colab": {
          "base_uri": "https://localhost:8080/",
          "height": 195
        },
        "outputId": "ba14e236-a0b2-4258-a31c-6e1c908ad79e"
      },
      "source": [
        "df  # note that the missing value is filled with a NaN by default (Not a Number)"
      ],
      "execution_count": null,
      "outputs": [
        {
          "output_type": "execute_result",
          "data": {
            "text/html": [
              "<div>\n",
              "<style scoped>\n",
              "    .dataframe tbody tr th:only-of-type {\n",
              "        vertical-align: middle;\n",
              "    }\n",
              "\n",
              "    .dataframe tbody tr th {\n",
              "        vertical-align: top;\n",
              "    }\n",
              "\n",
              "    .dataframe thead th {\n",
              "        text-align: right;\n",
              "    }\n",
              "</style>\n",
              "<table border=\"1\" class=\"dataframe\">\n",
              "  <thead>\n",
              "    <tr style=\"text-align: right;\">\n",
              "      <th></th>\n",
              "      <th>first</th>\n",
              "      <th>second</th>\n",
              "    </tr>\n",
              "  </thead>\n",
              "  <tbody>\n",
              "    <tr>\n",
              "      <th>a</th>\n",
              "      <td>1.0</td>\n",
              "      <td>5</td>\n",
              "    </tr>\n",
              "    <tr>\n",
              "      <th>b</th>\n",
              "      <td>2.0</td>\n",
              "      <td>6</td>\n",
              "    </tr>\n",
              "    <tr>\n",
              "      <th>c</th>\n",
              "      <td>3.0</td>\n",
              "      <td>7</td>\n",
              "    </tr>\n",
              "    <tr>\n",
              "      <th>d</th>\n",
              "      <td>4.0</td>\n",
              "      <td>8</td>\n",
              "    </tr>\n",
              "    <tr>\n",
              "      <th>e</th>\n",
              "      <td>NaN</td>\n",
              "      <td>9</td>\n",
              "    </tr>\n",
              "  </tbody>\n",
              "</table>\n",
              "</div>"
            ],
            "text/plain": [
              "   first  second\n",
              "a    1.0       5\n",
              "b    2.0       6\n",
              "c    3.0       7\n",
              "d    4.0       8\n",
              "e    NaN       9"
            ]
          },
          "metadata": {
            "tags": []
          },
          "execution_count": 19
        }
      ]
    },
    {
      "cell_type": "markdown",
      "metadata": {
        "id": "ojUAgNzDTLp5"
      },
      "source": [
        "###  from Series\n",
        "\n",
        "A DataFrame can also be created from a set of series, for instance as follows:"
      ]
    },
    {
      "cell_type": "code",
      "metadata": {
        "id": "ol-tmKMwTrvs"
      },
      "source": [
        "# Program to create Dataframe of three series  \n",
        "import pandas as pd \n",
        "  \n",
        "s1 = pd.Series([1, 3, 4, 5, 6, 2, 9])           # Define series 1 \n",
        "s2 = pd.Series([1.1, 3.5, 4.7, 5.8, 2.9, 9.3]) # Define series 2 \n",
        "s3 = pd.Series(['a', 'b', 'c', 'd', 'e'])     # Define series 3 \n",
        "  \n",
        "  \n",
        "Data ={'first':s1, 'second':s2, 'third':s3} # Define Data \n",
        "dfseries = pd.DataFrame(Data)              # Create DataFrame "
      ],
      "execution_count": null,
      "outputs": []
    },
    {
      "cell_type": "markdown",
      "metadata": {
        "id": "3L60pT0tT9LF"
      },
      "source": [
        "### from 2D-numpy ndarray"
      ]
    },
    {
      "cell_type": "code",
      "metadata": {
        "id": "ti6tCCtET18E"
      },
      "source": [
        "# Program to create DataFrame from 2D array \n",
        "import pandas as pd # Import Library \n",
        "d1 =[[2, 3, 4], [5, 6, 7]] # Define 2d array 1 \n",
        "d2 =[[2, 4, 8], [1, 3, 9]] # Define 2d array 2 \n",
        "Data ={'first': d1, 'second': d2} # Define Data  \n",
        "df2d = pd.DataFrame(Data)    # Create DataFrame "
      ],
      "execution_count": null,
      "outputs": []
    },
    {
      "cell_type": "code",
      "metadata": {
        "id": "owvl4Iis4HXk",
        "colab": {
          "base_uri": "https://localhost:8080/",
          "height": 106
        },
        "outputId": "3cd73bef-9a25-490f-83c0-5189b086e473"
      },
      "source": [
        "df2d"
      ],
      "execution_count": null,
      "outputs": [
        {
          "output_type": "execute_result",
          "data": {
            "text/html": [
              "<div>\n",
              "<style scoped>\n",
              "    .dataframe tbody tr th:only-of-type {\n",
              "        vertical-align: middle;\n",
              "    }\n",
              "\n",
              "    .dataframe tbody tr th {\n",
              "        vertical-align: top;\n",
              "    }\n",
              "\n",
              "    .dataframe thead th {\n",
              "        text-align: right;\n",
              "    }\n",
              "</style>\n",
              "<table border=\"1\" class=\"dataframe\">\n",
              "  <thead>\n",
              "    <tr style=\"text-align: right;\">\n",
              "      <th></th>\n",
              "      <th>first</th>\n",
              "      <th>second</th>\n",
              "    </tr>\n",
              "  </thead>\n",
              "  <tbody>\n",
              "    <tr>\n",
              "      <th>0</th>\n",
              "      <td>[2, 3, 4]</td>\n",
              "      <td>[2, 4, 8]</td>\n",
              "    </tr>\n",
              "    <tr>\n",
              "      <th>1</th>\n",
              "      <td>[5, 6, 7]</td>\n",
              "      <td>[1, 3, 9]</td>\n",
              "    </tr>\n",
              "  </tbody>\n",
              "</table>\n",
              "</div>"
            ],
            "text/plain": [
              "       first     second\n",
              "0  [2, 3, 4]  [2, 4, 8]\n",
              "1  [5, 6, 7]  [1, 3, 9]"
            ]
          },
          "metadata": {
            "tags": []
          },
          "execution_count": 23
        }
      ]
    },
    {
      "cell_type": "markdown",
      "metadata": {
        "id": "zJjzvQccfKiY"
      },
      "source": [
        "## Tidy data\n",
        "\n",
        "It is useful to organize a DataFrame as [_tidy data_](https://vita.had.co.nz/papers/tidy-data.pdf):\n",
        "\n",
        "\"A dataset is a collection of **values**, usually either numbers (if quantitative) or strings (if\n",
        "qualitative). Values are organised in two ways. Every value belongs to a **variable** and an\n",
        "**observation**. A variable contains all values that measure the same underlying attribute (like\n",
        "height, temperature, duration) across units. An observation contains all values measured on\n",
        "the same unit (like a person, or a day, or a race) across attributes.\"\n",
        "\n",
        "In tidy data:\n",
        "1. Each variable forms a column.\n",
        "2. Each observation forms a row.\n",
        "3. Each type of observational unit forms a table\"\n"
      ]
    },
    {
      "cell_type": "markdown",
      "metadata": {
        "id": "KapNngHa4OdJ"
      },
      "source": [
        "# Exercise \n",
        "\n",
        "We are going to play with an automobile dataset, in which each column gives a different feature of a car, such as body shape, motor type, price, etc.\n",
        "\n",
        "You can download the data at [this url](https://github.com/annemariet/tutorials/blob/master/data/Automobile_data.csv). \n",
        "\n"
      ]
    },
    {
      "cell_type": "markdown",
      "metadata": {
        "id": "HpiRbf-b4kfb"
      },
      "source": [
        "\n",
        "Load the dataframe and print the first 10 and last 10 lines:\n",
        "\n",
        "- use the github \"raw\" button to get the link to the raw content\n",
        "- pandas read_csv can read from urls\n",
        "- use `head` and `tail` methods."
      ]
    },
    {
      "cell_type": "code",
      "metadata": {
        "id": "Naq_yaYJ4SNR",
        "colab": {
          "base_uri": "https://localhost:8080/"
        },
        "outputId": "4d2d22bf-5003-4965-ec06-c51ff6e38dec"
      },
      "source": [
        "# load df\n",
        "# load df\n",
        "import pandas as pd\n",
        "url = \"https://raw.githubusercontent.com/annemariet/tutorials/master/data/Automobile_data.csv\"\n",
        "c = pd.read_csv(url)\n",
        "print(c)"
      ],
      "execution_count": null,
      "outputs": [
        {
          "output_type": "stream",
          "text": [
            "    index      company   body-style  ...  horsepower  average-mileage    price\n",
            "0       0  alfa-romero  convertible  ...         111               21  13495.0\n",
            "1       1  alfa-romero  convertible  ...         111               21  16500.0\n",
            "2       2  alfa-romero    hatchback  ...         154               19  16500.0\n",
            "3       3         audi        sedan  ...         102               24  13950.0\n",
            "4       4         audi        sedan  ...         115               18  17450.0\n",
            "..    ...          ...          ...  ...         ...              ...      ...\n",
            "56     81   volkswagen        sedan  ...          85               27   7975.0\n",
            "57     82   volkswagen        sedan  ...          52               37   7995.0\n",
            "58     86   volkswagen        sedan  ...         100               26   9995.0\n",
            "59     87        volvo        sedan  ...         114               23  12940.0\n",
            "60     88        volvo        wagon  ...         114               23  13415.0\n",
            "\n",
            "[61 rows x 10 columns]\n"
          ],
          "name": "stdout"
        }
      ]
    },
    {
      "cell_type": "code",
      "metadata": {
        "id": "DwJ_SkAMoAwg",
        "colab": {
          "base_uri": "https://localhost:8080/",
          "height": 195
        },
        "outputId": "6ec91bb2-da95-4ea9-b5a2-c696f4b96318"
      },
      "source": [
        "# head\n",
        "c.head()"
      ],
      "execution_count": null,
      "outputs": [
        {
          "output_type": "execute_result",
          "data": {
            "text/html": [
              "<div>\n",
              "<style scoped>\n",
              "    .dataframe tbody tr th:only-of-type {\n",
              "        vertical-align: middle;\n",
              "    }\n",
              "\n",
              "    .dataframe tbody tr th {\n",
              "        vertical-align: top;\n",
              "    }\n",
              "\n",
              "    .dataframe thead th {\n",
              "        text-align: right;\n",
              "    }\n",
              "</style>\n",
              "<table border=\"1\" class=\"dataframe\">\n",
              "  <thead>\n",
              "    <tr style=\"text-align: right;\">\n",
              "      <th></th>\n",
              "      <th>index</th>\n",
              "      <th>company</th>\n",
              "      <th>body-style</th>\n",
              "      <th>wheel-base</th>\n",
              "      <th>length</th>\n",
              "      <th>engine-type</th>\n",
              "      <th>num-of-cylinders</th>\n",
              "      <th>horsepower</th>\n",
              "      <th>average-mileage</th>\n",
              "      <th>price</th>\n",
              "    </tr>\n",
              "  </thead>\n",
              "  <tbody>\n",
              "    <tr>\n",
              "      <th>0</th>\n",
              "      <td>0</td>\n",
              "      <td>alfa-romero</td>\n",
              "      <td>convertible</td>\n",
              "      <td>88.6</td>\n",
              "      <td>168.8</td>\n",
              "      <td>dohc</td>\n",
              "      <td>four</td>\n",
              "      <td>111</td>\n",
              "      <td>21</td>\n",
              "      <td>13495.0</td>\n",
              "    </tr>\n",
              "    <tr>\n",
              "      <th>1</th>\n",
              "      <td>1</td>\n",
              "      <td>alfa-romero</td>\n",
              "      <td>convertible</td>\n",
              "      <td>88.6</td>\n",
              "      <td>168.8</td>\n",
              "      <td>dohc</td>\n",
              "      <td>four</td>\n",
              "      <td>111</td>\n",
              "      <td>21</td>\n",
              "      <td>16500.0</td>\n",
              "    </tr>\n",
              "    <tr>\n",
              "      <th>2</th>\n",
              "      <td>2</td>\n",
              "      <td>alfa-romero</td>\n",
              "      <td>hatchback</td>\n",
              "      <td>94.5</td>\n",
              "      <td>171.2</td>\n",
              "      <td>ohcv</td>\n",
              "      <td>six</td>\n",
              "      <td>154</td>\n",
              "      <td>19</td>\n",
              "      <td>16500.0</td>\n",
              "    </tr>\n",
              "    <tr>\n",
              "      <th>3</th>\n",
              "      <td>3</td>\n",
              "      <td>audi</td>\n",
              "      <td>sedan</td>\n",
              "      <td>99.8</td>\n",
              "      <td>176.6</td>\n",
              "      <td>ohc</td>\n",
              "      <td>four</td>\n",
              "      <td>102</td>\n",
              "      <td>24</td>\n",
              "      <td>13950.0</td>\n",
              "    </tr>\n",
              "    <tr>\n",
              "      <th>4</th>\n",
              "      <td>4</td>\n",
              "      <td>audi</td>\n",
              "      <td>sedan</td>\n",
              "      <td>99.4</td>\n",
              "      <td>176.6</td>\n",
              "      <td>ohc</td>\n",
              "      <td>five</td>\n",
              "      <td>115</td>\n",
              "      <td>18</td>\n",
              "      <td>17450.0</td>\n",
              "    </tr>\n",
              "  </tbody>\n",
              "</table>\n",
              "</div>"
            ],
            "text/plain": [
              "   index      company   body-style  ...  horsepower  average-mileage    price\n",
              "0      0  alfa-romero  convertible  ...         111               21  13495.0\n",
              "1      1  alfa-romero  convertible  ...         111               21  16500.0\n",
              "2      2  alfa-romero    hatchback  ...         154               19  16500.0\n",
              "3      3         audi        sedan  ...         102               24  13950.0\n",
              "4      4         audi        sedan  ...         115               18  17450.0\n",
              "\n",
              "[5 rows x 10 columns]"
            ]
          },
          "metadata": {
            "tags": []
          },
          "execution_count": 36
        }
      ]
    },
    {
      "cell_type": "code",
      "metadata": {
        "id": "D6pNhWlyncwk",
        "colab": {
          "base_uri": "https://localhost:8080/",
          "height": 195
        },
        "outputId": "549a8d7d-4300-416f-f6a0-8fd977b9d691"
      },
      "source": [
        "# tail\n",
        "c.tail()"
      ],
      "execution_count": null,
      "outputs": [
        {
          "output_type": "execute_result",
          "data": {
            "text/html": [
              "<div>\n",
              "<style scoped>\n",
              "    .dataframe tbody tr th:only-of-type {\n",
              "        vertical-align: middle;\n",
              "    }\n",
              "\n",
              "    .dataframe tbody tr th {\n",
              "        vertical-align: top;\n",
              "    }\n",
              "\n",
              "    .dataframe thead th {\n",
              "        text-align: right;\n",
              "    }\n",
              "</style>\n",
              "<table border=\"1\" class=\"dataframe\">\n",
              "  <thead>\n",
              "    <tr style=\"text-align: right;\">\n",
              "      <th></th>\n",
              "      <th>index</th>\n",
              "      <th>company</th>\n",
              "      <th>body-style</th>\n",
              "      <th>wheel-base</th>\n",
              "      <th>length</th>\n",
              "      <th>engine-type</th>\n",
              "      <th>num-of-cylinders</th>\n",
              "      <th>horsepower</th>\n",
              "      <th>average-mileage</th>\n",
              "      <th>price</th>\n",
              "    </tr>\n",
              "  </thead>\n",
              "  <tbody>\n",
              "    <tr>\n",
              "      <th>56</th>\n",
              "      <td>81</td>\n",
              "      <td>volkswagen</td>\n",
              "      <td>sedan</td>\n",
              "      <td>97.3</td>\n",
              "      <td>171.7</td>\n",
              "      <td>ohc</td>\n",
              "      <td>four</td>\n",
              "      <td>85</td>\n",
              "      <td>27</td>\n",
              "      <td>7975.0</td>\n",
              "    </tr>\n",
              "    <tr>\n",
              "      <th>57</th>\n",
              "      <td>82</td>\n",
              "      <td>volkswagen</td>\n",
              "      <td>sedan</td>\n",
              "      <td>97.3</td>\n",
              "      <td>171.7</td>\n",
              "      <td>ohc</td>\n",
              "      <td>four</td>\n",
              "      <td>52</td>\n",
              "      <td>37</td>\n",
              "      <td>7995.0</td>\n",
              "    </tr>\n",
              "    <tr>\n",
              "      <th>58</th>\n",
              "      <td>86</td>\n",
              "      <td>volkswagen</td>\n",
              "      <td>sedan</td>\n",
              "      <td>97.3</td>\n",
              "      <td>171.7</td>\n",
              "      <td>ohc</td>\n",
              "      <td>four</td>\n",
              "      <td>100</td>\n",
              "      <td>26</td>\n",
              "      <td>9995.0</td>\n",
              "    </tr>\n",
              "    <tr>\n",
              "      <th>59</th>\n",
              "      <td>87</td>\n",
              "      <td>volvo</td>\n",
              "      <td>sedan</td>\n",
              "      <td>104.3</td>\n",
              "      <td>188.8</td>\n",
              "      <td>ohc</td>\n",
              "      <td>four</td>\n",
              "      <td>114</td>\n",
              "      <td>23</td>\n",
              "      <td>12940.0</td>\n",
              "    </tr>\n",
              "    <tr>\n",
              "      <th>60</th>\n",
              "      <td>88</td>\n",
              "      <td>volvo</td>\n",
              "      <td>wagon</td>\n",
              "      <td>104.3</td>\n",
              "      <td>188.8</td>\n",
              "      <td>ohc</td>\n",
              "      <td>four</td>\n",
              "      <td>114</td>\n",
              "      <td>23</td>\n",
              "      <td>13415.0</td>\n",
              "    </tr>\n",
              "  </tbody>\n",
              "</table>\n",
              "</div>"
            ],
            "text/plain": [
              "    index     company body-style  ...  horsepower  average-mileage    price\n",
              "56     81  volkswagen      sedan  ...          85               27   7975.0\n",
              "57     82  volkswagen      sedan  ...          52               37   7995.0\n",
              "58     86  volkswagen      sedan  ...         100               26   9995.0\n",
              "59     87       volvo      sedan  ...         114               23  12940.0\n",
              "60     88       volvo      wagon  ...         114               23  13415.0\n",
              "\n",
              "[5 rows x 10 columns]"
            ]
          },
          "metadata": {
            "tags": []
          },
          "execution_count": 37
        }
      ]
    },
    {
      "cell_type": "markdown",
      "metadata": {
        "id": "EvuvHR-DoJ43"
      },
      "source": [
        "You can access to the content of a column by indexing the dataframe with the column name, which returns a `pd.Series`. You can view the list of columns with `df.columns`."
      ]
    },
    {
      "cell_type": "code",
      "metadata": {
        "id": "fgMMk63_3ce5",
        "colab": {
          "base_uri": "https://localhost:8080/"
        },
        "outputId": "cddefaad-9dcc-46f5-9030-9642aaf74c22"
      },
      "source": [
        "d1=c['company']\n",
        "d1"
      ],
      "execution_count": null,
      "outputs": [
        {
          "output_type": "execute_result",
          "data": {
            "text/plain": [
              "0     alfa-romero\n",
              "1     alfa-romero\n",
              "2     alfa-romero\n",
              "3            audi\n",
              "4            audi\n",
              "         ...     \n",
              "56     volkswagen\n",
              "57     volkswagen\n",
              "58     volkswagen\n",
              "59          volvo\n",
              "60          volvo\n",
              "Name: company, Length: 61, dtype: object"
            ]
          },
          "metadata": {
            "tags": []
          },
          "execution_count": 38
        }
      ]
    },
    {
      "cell_type": "code",
      "metadata": {
        "id": "n1dyl7pt3ce_",
        "colab": {
          "base_uri": "https://localhost:8080/"
        },
        "outputId": "731566f8-065f-482a-a286-46c6b3502ef8"
      },
      "source": [
        "c.columns"
      ],
      "execution_count": null,
      "outputs": [
        {
          "output_type": "execute_result",
          "data": {
            "text/plain": [
              "Index(['index', 'company', 'body-style', 'wheel-base', 'length', 'engine-type',\n",
              "       'num-of-cylinders', 'horsepower', 'average-mileage', 'price'],\n",
              "      dtype='object')"
            ]
          },
          "metadata": {
            "tags": []
          },
          "execution_count": 39
        }
      ]
    },
    {
      "cell_type": "markdown",
      "metadata": {
        "id": "964Nbl9c4pNh"
      },
      "source": [
        "What is the company with the most expensive car?\n",
        "- using and filtering, you can select rows for which a predicate is true, eg: `df[df[\"<column>\"]==<value>]`.\n",
        "- using `df.loc[<index>]` you can select rows at the given indexes.\n",
        "- pandas offers both `max` and `idxmax` methods."
      ]
    },
    {
      "cell_type": "code",
      "metadata": {
        "id": "1cNB7Nyu5QmO",
        "colab": {
          "base_uri": "https://localhost:8080/",
          "height": 77
        },
        "outputId": "f7f1bcb8-ae00-454d-a03b-de4f02c41bc7"
      },
      "source": [
        "c[c['price']==c['price'].max()]\n"
      ],
      "execution_count": null,
      "outputs": [
        {
          "output_type": "execute_result",
          "data": {
            "text/html": [
              "<div>\n",
              "<style scoped>\n",
              "    .dataframe tbody tr th:only-of-type {\n",
              "        vertical-align: middle;\n",
              "    }\n",
              "\n",
              "    .dataframe tbody tr th {\n",
              "        vertical-align: top;\n",
              "    }\n",
              "\n",
              "    .dataframe thead th {\n",
              "        text-align: right;\n",
              "    }\n",
              "</style>\n",
              "<table border=\"1\" class=\"dataframe\">\n",
              "  <thead>\n",
              "    <tr style=\"text-align: right;\">\n",
              "      <th></th>\n",
              "      <th>index</th>\n",
              "      <th>company</th>\n",
              "      <th>body-style</th>\n",
              "      <th>wheel-base</th>\n",
              "      <th>length</th>\n",
              "      <th>engine-type</th>\n",
              "      <th>num-of-cylinders</th>\n",
              "      <th>horsepower</th>\n",
              "      <th>average-mileage</th>\n",
              "      <th>price</th>\n",
              "    </tr>\n",
              "  </thead>\n",
              "  <tbody>\n",
              "    <tr>\n",
              "      <th>35</th>\n",
              "      <td>47</td>\n",
              "      <td>mercedes-benz</td>\n",
              "      <td>hardtop</td>\n",
              "      <td>112.0</td>\n",
              "      <td>199.2</td>\n",
              "      <td>ohcv</td>\n",
              "      <td>eight</td>\n",
              "      <td>184</td>\n",
              "      <td>14</td>\n",
              "      <td>45400.0</td>\n",
              "    </tr>\n",
              "  </tbody>\n",
              "</table>\n",
              "</div>"
            ],
            "text/plain": [
              "    index        company body-style  ...  horsepower  average-mileage    price\n",
              "35     47  mercedes-benz    hardtop  ...         184               14  45400.0\n",
              "\n",
              "[1 rows x 10 columns]"
            ]
          },
          "metadata": {
            "tags": []
          },
          "execution_count": 40
        }
      ]
    },
    {
      "cell_type": "markdown",
      "metadata": {
        "id": "5cZ0vdmG5R3S"
      },
      "source": [
        "Print the details of all the Toyota cars\n",
        "\n",
        "\n"
      ]
    },
    {
      "cell_type": "code",
      "metadata": {
        "id": "H6jt9q0H5mZ1",
        "colab": {
          "base_uri": "https://localhost:8080/",
          "height": 254
        },
        "outputId": "e3a06737-e301-4589-fbfa-f5dd5f413491"
      },
      "source": [
        "# answer\n",
        "c[c[\"company\"]==\"toyota\"]"
      ],
      "execution_count": null,
      "outputs": [
        {
          "output_type": "execute_result",
          "data": {
            "text/html": [
              "<div>\n",
              "<style scoped>\n",
              "    .dataframe tbody tr th:only-of-type {\n",
              "        vertical-align: middle;\n",
              "    }\n",
              "\n",
              "    .dataframe tbody tr th {\n",
              "        vertical-align: top;\n",
              "    }\n",
              "\n",
              "    .dataframe thead th {\n",
              "        text-align: right;\n",
              "    }\n",
              "</style>\n",
              "<table border=\"1\" class=\"dataframe\">\n",
              "  <thead>\n",
              "    <tr style=\"text-align: right;\">\n",
              "      <th></th>\n",
              "      <th>index</th>\n",
              "      <th>company</th>\n",
              "      <th>body-style</th>\n",
              "      <th>wheel-base</th>\n",
              "      <th>length</th>\n",
              "      <th>engine-type</th>\n",
              "      <th>num-of-cylinders</th>\n",
              "      <th>horsepower</th>\n",
              "      <th>average-mileage</th>\n",
              "      <th>price</th>\n",
              "    </tr>\n",
              "  </thead>\n",
              "  <tbody>\n",
              "    <tr>\n",
              "      <th>48</th>\n",
              "      <td>66</td>\n",
              "      <td>toyota</td>\n",
              "      <td>hatchback</td>\n",
              "      <td>95.7</td>\n",
              "      <td>158.7</td>\n",
              "      <td>ohc</td>\n",
              "      <td>four</td>\n",
              "      <td>62</td>\n",
              "      <td>35</td>\n",
              "      <td>5348.0</td>\n",
              "    </tr>\n",
              "    <tr>\n",
              "      <th>49</th>\n",
              "      <td>67</td>\n",
              "      <td>toyota</td>\n",
              "      <td>hatchback</td>\n",
              "      <td>95.7</td>\n",
              "      <td>158.7</td>\n",
              "      <td>ohc</td>\n",
              "      <td>four</td>\n",
              "      <td>62</td>\n",
              "      <td>31</td>\n",
              "      <td>6338.0</td>\n",
              "    </tr>\n",
              "    <tr>\n",
              "      <th>50</th>\n",
              "      <td>68</td>\n",
              "      <td>toyota</td>\n",
              "      <td>hatchback</td>\n",
              "      <td>95.7</td>\n",
              "      <td>158.7</td>\n",
              "      <td>ohc</td>\n",
              "      <td>four</td>\n",
              "      <td>62</td>\n",
              "      <td>31</td>\n",
              "      <td>6488.0</td>\n",
              "    </tr>\n",
              "    <tr>\n",
              "      <th>51</th>\n",
              "      <td>69</td>\n",
              "      <td>toyota</td>\n",
              "      <td>wagon</td>\n",
              "      <td>95.7</td>\n",
              "      <td>169.7</td>\n",
              "      <td>ohc</td>\n",
              "      <td>four</td>\n",
              "      <td>62</td>\n",
              "      <td>31</td>\n",
              "      <td>6918.0</td>\n",
              "    </tr>\n",
              "    <tr>\n",
              "      <th>52</th>\n",
              "      <td>70</td>\n",
              "      <td>toyota</td>\n",
              "      <td>wagon</td>\n",
              "      <td>95.7</td>\n",
              "      <td>169.7</td>\n",
              "      <td>ohc</td>\n",
              "      <td>four</td>\n",
              "      <td>62</td>\n",
              "      <td>27</td>\n",
              "      <td>7898.0</td>\n",
              "    </tr>\n",
              "    <tr>\n",
              "      <th>53</th>\n",
              "      <td>71</td>\n",
              "      <td>toyota</td>\n",
              "      <td>wagon</td>\n",
              "      <td>95.7</td>\n",
              "      <td>169.7</td>\n",
              "      <td>ohc</td>\n",
              "      <td>four</td>\n",
              "      <td>62</td>\n",
              "      <td>27</td>\n",
              "      <td>8778.0</td>\n",
              "    </tr>\n",
              "    <tr>\n",
              "      <th>54</th>\n",
              "      <td>79</td>\n",
              "      <td>toyota</td>\n",
              "      <td>wagon</td>\n",
              "      <td>104.5</td>\n",
              "      <td>187.8</td>\n",
              "      <td>dohc</td>\n",
              "      <td>six</td>\n",
              "      <td>156</td>\n",
              "      <td>19</td>\n",
              "      <td>15750.0</td>\n",
              "    </tr>\n",
              "  </tbody>\n",
              "</table>\n",
              "</div>"
            ],
            "text/plain": [
              "    index company body-style  ...  horsepower  average-mileage    price\n",
              "48     66  toyota  hatchback  ...          62               35   5348.0\n",
              "49     67  toyota  hatchback  ...          62               31   6338.0\n",
              "50     68  toyota  hatchback  ...          62               31   6488.0\n",
              "51     69  toyota      wagon  ...          62               31   6918.0\n",
              "52     70  toyota      wagon  ...          62               27   7898.0\n",
              "53     71  toyota      wagon  ...          62               27   8778.0\n",
              "54     79  toyota      wagon  ...         156               19  15750.0\n",
              "\n",
              "[7 rows x 10 columns]"
            ]
          },
          "metadata": {
            "tags": []
          },
          "execution_count": 42
        }
      ]
    },
    {
      "cell_type": "markdown",
      "metadata": {
        "id": "4qMXSMN-5vJk"
      },
      "source": [
        "You can use `<Series>.value_counts()` to count the number of cars per company."
      ]
    },
    {
      "cell_type": "code",
      "metadata": {
        "id": "LMO-Ynt85xdX",
        "colab": {
          "base_uri": "https://localhost:8080/"
        },
        "outputId": "b16776bd-3ff2-471e-f182-ffad4acf246b"
      },
      "source": [
        "c[\"company\"].value_counts()\n",
        "\n",
        "\n",
        "c[c['price']==c['price'].max()]\n"
      ],
      "execution_count": null,
      "outputs": [
        {
          "output_type": "execute_result",
          "data": {
            "text/plain": [
              "toyota           7\n",
              "bmw              6\n",
              "mazda            5\n",
              "nissan           5\n",
              "mitsubishi       4\n",
              "volkswagen       4\n",
              "audi             4\n",
              "mercedes-benz    4\n",
              "jaguar           3\n",
              "porsche          3\n",
              "isuzu            3\n",
              "chevrolet        3\n",
              "honda            3\n",
              "alfa-romero      3\n",
              "dodge            2\n",
              "volvo            2\n",
              "Name: company, dtype: int64"
            ]
          },
          "metadata": {
            "tags": []
          },
          "execution_count": 43
        }
      ]
    },
    {
      "cell_type": "markdown",
      "metadata": {
        "id": "xLgVfIXF5x9R"
      },
      "source": [
        "Find the most expensive car for each company. For this you can use the `groupby` method."
      ]
    },
    {
      "cell_type": "code",
      "metadata": {
        "id": "kFa0miuy6E62",
        "colab": {
          "base_uri": "https://localhost:8080/",
          "height": 606
        },
        "outputId": "4cc6ce51-9c36-457c-baad-abeee5dfdbea"
      },
      "source": [
        "c.groupby(\"company\")['price','index'].max()\n",
        "\n",
        "\n"
      ],
      "execution_count": null,
      "outputs": [
        {
          "output_type": "stream",
          "text": [
            "/usr/local/lib/python3.7/dist-packages/ipykernel_launcher.py:1: FutureWarning: Indexing with multiple keys (implicitly converted to a tuple of keys) will be deprecated, use a list instead.\n",
            "  \"\"\"Entry point for launching an IPython kernel.\n"
          ],
          "name": "stderr"
        },
        {
          "output_type": "execute_result",
          "data": {
            "text/html": [
              "<div>\n",
              "<style scoped>\n",
              "    .dataframe tbody tr th:only-of-type {\n",
              "        vertical-align: middle;\n",
              "    }\n",
              "\n",
              "    .dataframe tbody tr th {\n",
              "        vertical-align: top;\n",
              "    }\n",
              "\n",
              "    .dataframe thead th {\n",
              "        text-align: right;\n",
              "    }\n",
              "</style>\n",
              "<table border=\"1\" class=\"dataframe\">\n",
              "  <thead>\n",
              "    <tr style=\"text-align: right;\">\n",
              "      <th></th>\n",
              "      <th>price</th>\n",
              "      <th>index</th>\n",
              "    </tr>\n",
              "    <tr>\n",
              "      <th>company</th>\n",
              "      <th></th>\n",
              "      <th></th>\n",
              "    </tr>\n",
              "  </thead>\n",
              "  <tbody>\n",
              "    <tr>\n",
              "      <th>alfa-romero</th>\n",
              "      <td>16500.0</td>\n",
              "      <td>2</td>\n",
              "    </tr>\n",
              "    <tr>\n",
              "      <th>audi</th>\n",
              "      <td>18920.0</td>\n",
              "      <td>6</td>\n",
              "    </tr>\n",
              "    <tr>\n",
              "      <th>bmw</th>\n",
              "      <td>41315.0</td>\n",
              "      <td>15</td>\n",
              "    </tr>\n",
              "    <tr>\n",
              "      <th>chevrolet</th>\n",
              "      <td>6575.0</td>\n",
              "      <td>18</td>\n",
              "    </tr>\n",
              "    <tr>\n",
              "      <th>dodge</th>\n",
              "      <td>6377.0</td>\n",
              "      <td>20</td>\n",
              "    </tr>\n",
              "    <tr>\n",
              "      <th>honda</th>\n",
              "      <td>12945.0</td>\n",
              "      <td>29</td>\n",
              "    </tr>\n",
              "    <tr>\n",
              "      <th>isuzu</th>\n",
              "      <td>6785.0</td>\n",
              "      <td>32</td>\n",
              "    </tr>\n",
              "    <tr>\n",
              "      <th>jaguar</th>\n",
              "      <td>36000.0</td>\n",
              "      <td>35</td>\n",
              "    </tr>\n",
              "    <tr>\n",
              "      <th>mazda</th>\n",
              "      <td>18344.0</td>\n",
              "      <td>43</td>\n",
              "    </tr>\n",
              "    <tr>\n",
              "      <th>mercedes-benz</th>\n",
              "      <td>45400.0</td>\n",
              "      <td>47</td>\n",
              "    </tr>\n",
              "    <tr>\n",
              "      <th>mitsubishi</th>\n",
              "      <td>8189.0</td>\n",
              "      <td>52</td>\n",
              "    </tr>\n",
              "    <tr>\n",
              "      <th>nissan</th>\n",
              "      <td>13499.0</td>\n",
              "      <td>57</td>\n",
              "    </tr>\n",
              "    <tr>\n",
              "      <th>porsche</th>\n",
              "      <td>37028.0</td>\n",
              "      <td>63</td>\n",
              "    </tr>\n",
              "    <tr>\n",
              "      <th>toyota</th>\n",
              "      <td>15750.0</td>\n",
              "      <td>79</td>\n",
              "    </tr>\n",
              "    <tr>\n",
              "      <th>volkswagen</th>\n",
              "      <td>9995.0</td>\n",
              "      <td>86</td>\n",
              "    </tr>\n",
              "    <tr>\n",
              "      <th>volvo</th>\n",
              "      <td>13415.0</td>\n",
              "      <td>88</td>\n",
              "    </tr>\n",
              "  </tbody>\n",
              "</table>\n",
              "</div>"
            ],
            "text/plain": [
              "                 price  index\n",
              "company                      \n",
              "alfa-romero    16500.0      2\n",
              "audi           18920.0      6\n",
              "bmw            41315.0     15\n",
              "chevrolet       6575.0     18\n",
              "dodge           6377.0     20\n",
              "honda          12945.0     29\n",
              "isuzu           6785.0     32\n",
              "jaguar         36000.0     35\n",
              "mazda          18344.0     43\n",
              "mercedes-benz  45400.0     47\n",
              "mitsubishi      8189.0     52\n",
              "nissan         13499.0     57\n",
              "porsche        37028.0     63\n",
              "toyota         15750.0     79\n",
              "volkswagen      9995.0     86\n",
              "volvo          13415.0     88"
            ]
          },
          "metadata": {
            "tags": []
          },
          "execution_count": 50
        }
      ]
    },
    {
      "cell_type": "markdown",
      "metadata": {
        "id": "N5Gr0dal6FhW"
      },
      "source": [
        "Groupbys allow for a variety of aggregation functions. Can you compute the average mileage by company?"
      ]
    },
    {
      "cell_type": "code",
      "metadata": {
        "id": "p9JF9oHZ3cff",
        "colab": {
          "base_uri": "https://localhost:8080/"
        },
        "outputId": "50892257-24df-4dc4-ff45-aa3559874154"
      },
      "source": [
        "c.groupby(\"company\")['average-mileage'].mean()\n"
      ],
      "execution_count": null,
      "outputs": [
        {
          "output_type": "execute_result",
          "data": {
            "text/plain": [
              "company\n",
              "alfa-romero      20.333333\n",
              "audi             20.000000\n",
              "bmw              19.000000\n",
              "chevrolet        41.000000\n",
              "dodge            31.000000\n",
              "honda            26.333333\n",
              "isuzu            33.333333\n",
              "jaguar           14.333333\n",
              "mazda            28.000000\n",
              "mercedes-benz    18.000000\n",
              "mitsubishi       29.500000\n",
              "nissan           31.400000\n",
              "porsche          17.000000\n",
              "toyota           28.714286\n",
              "volkswagen       31.750000\n",
              "volvo            23.000000\n",
              "Name: average-mileage, dtype: float64"
            ]
          },
          "metadata": {
            "tags": []
          },
          "execution_count": 53
        }
      ]
    },
    {
      "cell_type": "markdown",
      "metadata": {
        "id": "OXRq11sd6cPY"
      },
      "source": [
        "Sort all cars by decreasing price, using the `sort_values` method."
      ]
    },
    {
      "cell_type": "code",
      "metadata": {
        "id": "OdfCxcCE6k-U",
        "colab": {
          "base_uri": "https://localhost:8080/",
          "height": 402
        },
        "outputId": "e30a10b2-0f75-4573-b11a-b282761c9083"
      },
      "source": [
        "c.sort_values('price')"
      ],
      "execution_count": null,
      "outputs": [
        {
          "output_type": "execute_result",
          "data": {
            "text/html": [
              "<div>\n",
              "<style scoped>\n",
              "    .dataframe tbody tr th:only-of-type {\n",
              "        vertical-align: middle;\n",
              "    }\n",
              "\n",
              "    .dataframe tbody tr th {\n",
              "        vertical-align: top;\n",
              "    }\n",
              "\n",
              "    .dataframe thead th {\n",
              "        text-align: right;\n",
              "    }\n",
              "</style>\n",
              "<table border=\"1\" class=\"dataframe\">\n",
              "  <thead>\n",
              "    <tr style=\"text-align: right;\">\n",
              "      <th></th>\n",
              "      <th>index</th>\n",
              "      <th>company</th>\n",
              "      <th>body-style</th>\n",
              "      <th>wheel-base</th>\n",
              "      <th>length</th>\n",
              "      <th>engine-type</th>\n",
              "      <th>num-of-cylinders</th>\n",
              "      <th>horsepower</th>\n",
              "      <th>average-mileage</th>\n",
              "      <th>price</th>\n",
              "    </tr>\n",
              "  </thead>\n",
              "  <tbody>\n",
              "    <tr>\n",
              "      <th>13</th>\n",
              "      <td>16</td>\n",
              "      <td>chevrolet</td>\n",
              "      <td>hatchback</td>\n",
              "      <td>88.4</td>\n",
              "      <td>141.1</td>\n",
              "      <td>l</td>\n",
              "      <td>three</td>\n",
              "      <td>48</td>\n",
              "      <td>47</td>\n",
              "      <td>5151.0</td>\n",
              "    </tr>\n",
              "    <tr>\n",
              "      <th>27</th>\n",
              "      <td>36</td>\n",
              "      <td>mazda</td>\n",
              "      <td>hatchback</td>\n",
              "      <td>93.1</td>\n",
              "      <td>159.1</td>\n",
              "      <td>ohc</td>\n",
              "      <td>four</td>\n",
              "      <td>68</td>\n",
              "      <td>30</td>\n",
              "      <td>5195.0</td>\n",
              "    </tr>\n",
              "    <tr>\n",
              "      <th>48</th>\n",
              "      <td>66</td>\n",
              "      <td>toyota</td>\n",
              "      <td>hatchback</td>\n",
              "      <td>95.7</td>\n",
              "      <td>158.7</td>\n",
              "      <td>ohc</td>\n",
              "      <td>four</td>\n",
              "      <td>62</td>\n",
              "      <td>35</td>\n",
              "      <td>5348.0</td>\n",
              "    </tr>\n",
              "    <tr>\n",
              "      <th>36</th>\n",
              "      <td>49</td>\n",
              "      <td>mitsubishi</td>\n",
              "      <td>hatchback</td>\n",
              "      <td>93.7</td>\n",
              "      <td>157.3</td>\n",
              "      <td>ohc</td>\n",
              "      <td>four</td>\n",
              "      <td>68</td>\n",
              "      <td>37</td>\n",
              "      <td>5389.0</td>\n",
              "    </tr>\n",
              "    <tr>\n",
              "      <th>28</th>\n",
              "      <td>37</td>\n",
              "      <td>mazda</td>\n",
              "      <td>hatchback</td>\n",
              "      <td>93.1</td>\n",
              "      <td>159.1</td>\n",
              "      <td>ohc</td>\n",
              "      <td>four</td>\n",
              "      <td>68</td>\n",
              "      <td>31</td>\n",
              "      <td>6095.0</td>\n",
              "    </tr>\n",
              "    <tr>\n",
              "      <th>...</th>\n",
              "      <td>...</td>\n",
              "      <td>...</td>\n",
              "      <td>...</td>\n",
              "      <td>...</td>\n",
              "      <td>...</td>\n",
              "      <td>...</td>\n",
              "      <td>...</td>\n",
              "      <td>...</td>\n",
              "      <td>...</td>\n",
              "      <td>...</td>\n",
              "    </tr>\n",
              "    <tr>\n",
              "      <th>11</th>\n",
              "      <td>14</td>\n",
              "      <td>bmw</td>\n",
              "      <td>sedan</td>\n",
              "      <td>103.5</td>\n",
              "      <td>193.8</td>\n",
              "      <td>ohc</td>\n",
              "      <td>six</td>\n",
              "      <td>182</td>\n",
              "      <td>16</td>\n",
              "      <td>41315.0</td>\n",
              "    </tr>\n",
              "    <tr>\n",
              "      <th>35</th>\n",
              "      <td>47</td>\n",
              "      <td>mercedes-benz</td>\n",
              "      <td>hardtop</td>\n",
              "      <td>112.0</td>\n",
              "      <td>199.2</td>\n",
              "      <td>ohcv</td>\n",
              "      <td>eight</td>\n",
              "      <td>184</td>\n",
              "      <td>14</td>\n",
              "      <td>45400.0</td>\n",
              "    </tr>\n",
              "    <tr>\n",
              "      <th>22</th>\n",
              "      <td>31</td>\n",
              "      <td>isuzu</td>\n",
              "      <td>sedan</td>\n",
              "      <td>94.5</td>\n",
              "      <td>155.9</td>\n",
              "      <td>ohc</td>\n",
              "      <td>four</td>\n",
              "      <td>70</td>\n",
              "      <td>38</td>\n",
              "      <td>NaN</td>\n",
              "    </tr>\n",
              "    <tr>\n",
              "      <th>23</th>\n",
              "      <td>32</td>\n",
              "      <td>isuzu</td>\n",
              "      <td>sedan</td>\n",
              "      <td>94.5</td>\n",
              "      <td>155.9</td>\n",
              "      <td>ohc</td>\n",
              "      <td>four</td>\n",
              "      <td>70</td>\n",
              "      <td>38</td>\n",
              "      <td>NaN</td>\n",
              "    </tr>\n",
              "    <tr>\n",
              "      <th>47</th>\n",
              "      <td>63</td>\n",
              "      <td>porsche</td>\n",
              "      <td>hatchback</td>\n",
              "      <td>98.4</td>\n",
              "      <td>175.7</td>\n",
              "      <td>dohcv</td>\n",
              "      <td>eight</td>\n",
              "      <td>288</td>\n",
              "      <td>17</td>\n",
              "      <td>NaN</td>\n",
              "    </tr>\n",
              "  </tbody>\n",
              "</table>\n",
              "<p>61 rows × 10 columns</p>\n",
              "</div>"
            ],
            "text/plain": [
              "    index        company body-style  ...  horsepower  average-mileage    price\n",
              "13     16      chevrolet  hatchback  ...          48               47   5151.0\n",
              "27     36          mazda  hatchback  ...          68               30   5195.0\n",
              "48     66         toyota  hatchback  ...          62               35   5348.0\n",
              "36     49     mitsubishi  hatchback  ...          68               37   5389.0\n",
              "28     37          mazda  hatchback  ...          68               31   6095.0\n",
              "..    ...            ...        ...  ...         ...              ...      ...\n",
              "11     14            bmw      sedan  ...         182               16  41315.0\n",
              "35     47  mercedes-benz    hardtop  ...         184               14  45400.0\n",
              "22     31          isuzu      sedan  ...          70               38      NaN\n",
              "23     32          isuzu      sedan  ...          70               38      NaN\n",
              "47     63        porsche  hatchback  ...         288               17      NaN\n",
              "\n",
              "[61 rows x 10 columns]"
            ]
          },
          "metadata": {
            "tags": []
          },
          "execution_count": 54
        }
      ]
    },
    {
      "cell_type": "markdown",
      "metadata": {
        "id": "2QiQD19O6kG0"
      },
      "source": [
        "Pandas gives you access to merge and concatenate functions. Create two dataframes from the following dictionaries and merge them to get a single dataframe with 3 columns: Company, Price, horsepower, and 4 lines."
      ]
    },
    {
      "cell_type": "code",
      "metadata": {
        "id": "L7A9FiBp7VjV"
      },
      "source": [
        "Car_Price = {'Company': ['Toyota', 'Honda', 'BMV', 'Audi'], 'Price': [23845, 17995, 135925 , 71400]}\n",
        "car_Horsepower = {'Company': ['Toyota', 'Honda', 'BMV', 'Audi'], 'horsepower': [141, 80, 182 , 160]}\n",
        "\n",
        "df1 = pd.DataFrame(Car_Price)\n",
        "df2= pd.DataFrame(car_Horsepower)\n",
        "\n",
        "frames = [df1, df2]\n",
        "result = pd.concat(frames)"
      ],
      "execution_count": null,
      "outputs": []
    },
    {
      "cell_type": "code",
      "metadata": {
        "id": "zFp26L1Y3cf6",
        "colab": {
          "base_uri": "https://localhost:8080/",
          "height": 195
        },
        "outputId": "7ef3fdb5-0a5a-4cb0-86dc-a1ee7761cb65"
      },
      "source": [
        "result.head()"
      ],
      "execution_count": null,
      "outputs": [
        {
          "output_type": "execute_result",
          "data": {
            "text/html": [
              "<div>\n",
              "<style scoped>\n",
              "    .dataframe tbody tr th:only-of-type {\n",
              "        vertical-align: middle;\n",
              "    }\n",
              "\n",
              "    .dataframe tbody tr th {\n",
              "        vertical-align: top;\n",
              "    }\n",
              "\n",
              "    .dataframe thead th {\n",
              "        text-align: right;\n",
              "    }\n",
              "</style>\n",
              "<table border=\"1\" class=\"dataframe\">\n",
              "  <thead>\n",
              "    <tr style=\"text-align: right;\">\n",
              "      <th></th>\n",
              "      <th>Company</th>\n",
              "      <th>Price</th>\n",
              "      <th>horsepower</th>\n",
              "    </tr>\n",
              "  </thead>\n",
              "  <tbody>\n",
              "    <tr>\n",
              "      <th>0</th>\n",
              "      <td>Toyota</td>\n",
              "      <td>23845.0</td>\n",
              "      <td>NaN</td>\n",
              "    </tr>\n",
              "    <tr>\n",
              "      <th>1</th>\n",
              "      <td>Honda</td>\n",
              "      <td>17995.0</td>\n",
              "      <td>NaN</td>\n",
              "    </tr>\n",
              "    <tr>\n",
              "      <th>2</th>\n",
              "      <td>BMV</td>\n",
              "      <td>135925.0</td>\n",
              "      <td>NaN</td>\n",
              "    </tr>\n",
              "    <tr>\n",
              "      <th>3</th>\n",
              "      <td>Audi</td>\n",
              "      <td>71400.0</td>\n",
              "      <td>NaN</td>\n",
              "    </tr>\n",
              "    <tr>\n",
              "      <th>0</th>\n",
              "      <td>Toyota</td>\n",
              "      <td>NaN</td>\n",
              "      <td>141.0</td>\n",
              "    </tr>\n",
              "  </tbody>\n",
              "</table>\n",
              "</div>"
            ],
            "text/plain": [
              "  Company     Price  horsepower\n",
              "0  Toyota   23845.0         NaN\n",
              "1   Honda   17995.0         NaN\n",
              "2     BMV  135925.0         NaN\n",
              "3    Audi   71400.0         NaN\n",
              "0  Toyota       NaN       141.0"
            ]
          },
          "metadata": {
            "tags": []
          },
          "execution_count": 57
        }
      ]
    },
    {
      "cell_type": "markdown",
      "metadata": {
        "id": "H_bvUruz3cgP"
      },
      "source": [
        "- write a program to change the order of a pandas Series. Create a series indexed with 'A', 'B', 'C'... like this:\n",
        "- A 1\n",
        "- B 2\n",
        "- C 3\n",
        "- D 4\n",
        "- E 5\n",
        "\n",
        "and reorder using a new list such as 'B', 'D', 'E'..., using `reindex`."
      ]
    },
    {
      "cell_type": "code",
      "metadata": {
        "id": "D_3VJNg53cgQ"
      },
      "source": [
        "# code"
      ],
      "execution_count": null,
      "outputs": []
    },
    {
      "cell_type": "markdown",
      "metadata": {
        "id": "vxAibBOPUcIt"
      },
      "source": [
        "# NumPy"
      ]
    },
    {
      "cell_type": "markdown",
      "metadata": {
        "id": "A44Bef82UhgZ"
      },
      "source": [
        "The numpy library (http://www.numpy.org/) is the go-to library for numerical analysis in Python;"
      ]
    },
    {
      "cell_type": "code",
      "metadata": {
        "id": "jEJEPQcFGEw8"
      },
      "source": [
        "import numpy as np"
      ],
      "execution_count": null,
      "outputs": []
    },
    {
      "cell_type": "code",
      "metadata": {
        "id": "18cLa1hP3cge",
        "colab": {
          "base_uri": "https://localhost:8080/",
          "height": 35
        },
        "outputId": "9ee41808-1e1a-438c-fc32-d0f32930ca4a"
      },
      "source": [
        "np.pi"
      ],
      "execution_count": null,
      "outputs": [
        {
          "output_type": "execute_result",
          "data": {
            "text/plain": [
              "3.141592653589793"
            ]
          },
          "metadata": {
            "tags": []
          },
          "execution_count": 26
        }
      ]
    },
    {
      "cell_type": "markdown",
      "metadata": {
        "id": "LOHQLCxD3cgk"
      },
      "source": [
        "## Arrays with numpy.array()"
      ]
    },
    {
      "cell_type": "markdown",
      "metadata": {
        "id": "jijaJxfy3cgk"
      },
      "source": [
        "### Creation\n",
        "You can create an array from a list (1-d vector), or a list of lists of the same lengths (2-d matrix).\n",
        "You can also create empty arrays, arrays of zeros and ones, or random arrays of any given size and value type (int, float...). "
      ]
    },
    {
      "cell_type": "code",
      "metadata": {
        "id": "CgVAGrKu3cgm"
      },
      "source": [
        "a = np.array([[1, 2, 3], [4, 5, 6]])"
      ],
      "execution_count": null,
      "outputs": []
    },
    {
      "cell_type": "code",
      "metadata": {
        "id": "V7QyINXm3cgr",
        "colab": {
          "base_uri": "https://localhost:8080/",
          "height": 52
        },
        "outputId": "5fc11904-9df4-471b-9ea2-86ba33811071"
      },
      "source": [
        "a"
      ],
      "execution_count": null,
      "outputs": [
        {
          "output_type": "execute_result",
          "data": {
            "text/plain": [
              "array([[1, 2, 3],\n",
              "       [4, 5, 6]])"
            ]
          },
          "metadata": {
            "tags": []
          },
          "execution_count": 28
        }
      ]
    },
    {
      "cell_type": "code",
      "metadata": {
        "id": "W9DCAjY_3cgx",
        "colab": {
          "base_uri": "https://localhost:8080/",
          "height": 35
        },
        "outputId": "a025c7cb-ec28-4e2e-e7c1-b6dd62fca4ab"
      },
      "source": [
        "type(a), a.dtype\n"
      ],
      "execution_count": null,
      "outputs": [
        {
          "output_type": "execute_result",
          "data": {
            "text/plain": [
              "(numpy.ndarray, dtype('int64'))"
            ]
          },
          "metadata": {
            "tags": []
          },
          "execution_count": 30
        }
      ]
    },
    {
      "cell_type": "markdown",
      "metadata": {
        "id": "E1MUOxmK3cg0"
      },
      "source": [
        "\n",
        "### Accessing elements"
      ]
    },
    {
      "cell_type": "code",
      "metadata": {
        "id": "NIwIl8bO3cg1",
        "outputId": "41d73c46-5e79-416d-dbf1-23526e18290b"
      },
      "source": [
        "a[0,1]"
      ],
      "execution_count": null,
      "outputs": [
        {
          "output_type": "execute_result",
          "data": {
            "text/plain": [
              "2"
            ]
          },
          "metadata": {
            "tags": []
          },
          "execution_count": 7
        }
      ]
    },
    {
      "cell_type": "code",
      "metadata": {
        "id": "rzJTUkt13cg4"
      },
      "source": [
        "a[1,2]"
      ],
      "execution_count": null,
      "outputs": []
    },
    {
      "cell_type": "markdown",
      "metadata": {
        "id": "7vZZWvT83cg9"
      },
      "source": [
        "### numpy.arange()\n",
        "\n",
        "`numpy.arange` gives you a range from a to b (excluded), increasing with the given step (defaulting to 1)."
      ]
    },
    {
      "cell_type": "code",
      "metadata": {
        "id": "FSmzCa2G3cg_",
        "colab": {
          "base_uri": "https://localhost:8080/",
          "height": 35
        },
        "outputId": "42da03a9-ac32-41ac-ae09-5455d8d6dc3e"
      },
      "source": [
        "m = np.arange(3, 15, 2)\n",
        "m"
      ],
      "execution_count": null,
      "outputs": [
        {
          "output_type": "execute_result",
          "data": {
            "text/plain": [
              "array([ 3,  5,  7,  9, 11, 13])"
            ]
          },
          "metadata": {
            "tags": []
          },
          "execution_count": 35
        }
      ]
    },
    {
      "cell_type": "markdown",
      "metadata": {
        "id": "biWgV4JE3chC"
      },
      "source": [
        "Note the difference between `numpy.arange()` and native Python `range()`:\n",
        "\n",
        "- `numpy.arange()` returns a numpy.ndarray.\n",
        "- `range()` returns an object of type `range`, which is an iterator."
      ]
    },
    {
      "cell_type": "code",
      "metadata": {
        "id": "lQ0fauKJxfG_",
        "colab": {
          "base_uri": "https://localhost:8080/",
          "height": 35
        },
        "outputId": "ecbe941e-dc9c-4b25-cbca-47a0ac75ad94"
      },
      "source": [
        "type(m)"
      ],
      "execution_count": null,
      "outputs": [
        {
          "output_type": "execute_result",
          "data": {
            "text/plain": [
              "numpy.ndarray"
            ]
          },
          "metadata": {
            "tags": []
          },
          "execution_count": 36
        }
      ]
    },
    {
      "cell_type": "code",
      "metadata": {
        "id": "11YCBoux3chD",
        "colab": {
          "base_uri": "https://localhost:8080/",
          "height": 35
        },
        "outputId": "c8899770-9da0-4e21-f9aa-bdd4eee7ab33"
      },
      "source": [
        "n = range(3, 15, 2)\n",
        "type(n)"
      ],
      "execution_count": null,
      "outputs": [
        {
          "output_type": "execute_result",
          "data": {
            "text/plain": [
              "range"
            ]
          },
          "metadata": {
            "tags": []
          },
          "execution_count": 32
        }
      ]
    },
    {
      "cell_type": "markdown",
      "metadata": {
        "id": "qdtk6anJ3chH"
      },
      "source": [
        "`numpy.arange()` accepts non-integer inputs."
      ]
    },
    {
      "cell_type": "code",
      "metadata": {
        "id": "CHL-Un4i3chI",
        "colab": {
          "base_uri": "https://localhost:8080/",
          "height": 69
        },
        "outputId": "fabfaf83-4e2d-43d3-d099-0b7229b69865"
      },
      "source": [
        "np.arange(0, 11*np.pi, np.pi)"
      ],
      "execution_count": null,
      "outputs": [
        {
          "output_type": "execute_result",
          "data": {
            "text/plain": [
              "array([ 0.        ,  3.14159265,  6.28318531,  9.42477796, 12.56637061,\n",
              "       15.70796327, 18.84955592, 21.99114858, 25.13274123, 28.27433388,\n",
              "       31.41592654])"
            ]
          },
          "metadata": {
            "tags": []
          },
          "execution_count": 33
        }
      ]
    },
    {
      "cell_type": "markdown",
      "metadata": {
        "id": "mTmvydh43chL"
      },
      "source": [
        "### numpy.linspace()\n",
        "`numpy.linspace()` has a differnt API: it takes a range [a, b] (b included) and a number of values rather than a step."
      ]
    },
    {
      "cell_type": "code",
      "metadata": {
        "id": "Tw4S7jqb3chN",
        "colab": {
          "base_uri": "https://localhost:8080/",
          "height": 52
        },
        "outputId": "215bc944-e491-4320-e775-5e8d7496a352"
      },
      "source": [
        "np.linspace(3, 9, 10)"
      ],
      "execution_count": null,
      "outputs": [
        {
          "output_type": "execute_result",
          "data": {
            "text/plain": [
              "array([3.        , 3.66666667, 4.33333333, 5.        , 5.66666667,\n",
              "       6.33333333, 7.        , 7.66666667, 8.33333333, 9.        ])"
            ]
          },
          "metadata": {
            "tags": []
          },
          "execution_count": 34
        }
      ]
    },
    {
      "cell_type": "markdown",
      "metadata": {
        "id": "y_FSH-l-3chR"
      },
      "source": [
        "## Applying mathematical functions\n",
        "\n",
        "`numpy`gives you a number of mathematical functions, which can be applied to numpy arrays, ie to each element individually: `sin`, `cos`, `log` `exp`...\n"
      ]
    },
    {
      "cell_type": "code",
      "metadata": {
        "id": "zcBDAhxM3chR",
        "colab": {
          "base_uri": "https://localhost:8080/",
          "height": 35
        },
        "outputId": "3fc71b06-5f56-4151-dcf2-0786deb1c031"
      },
      "source": [
        "x = np.linspace(-np.pi/2, np.pi/2, 3)\n",
        "y = np.sin(x)\n",
        "y"
      ],
      "execution_count": null,
      "outputs": [
        {
          "output_type": "execute_result",
          "data": {
            "text/plain": [
              "array([-1.,  0.,  1.])"
            ]
          },
          "metadata": {
            "tags": []
          },
          "execution_count": 37
        }
      ]
    },
    {
      "cell_type": "markdown",
      "metadata": {
        "id": "_fnxZ8Nj3chU"
      },
      "source": [
        "# Exercise"
      ]
    },
    {
      "cell_type": "markdown",
      "metadata": {
        "id": "eTm3CbPp3chU"
      },
      "source": [
        "Create a 4x2 integer array (of type unsigned int16) and print the following attributes:\n",
        "- the shape `shape`,\n",
        "- the number of dimensions `ndims`,\n",
        "- the size in bytes of each element `itemsize`.\n",
        "\n",
        "Compare also with `nbytes` and `size`."
      ]
    },
    {
      "cell_type": "code",
      "metadata": {
        "id": "NHjAShZj3chY"
      },
      "source": [
        "import numpy as np\n",
        "my_array=np.zeros((4,2))"
      ],
      "execution_count": null,
      "outputs": []
    },
    {
      "cell_type": "code",
      "metadata": {
        "colab": {
          "base_uri": "https://localhost:8080/"
        },
        "id": "pFQ17aN6wSHh",
        "outputId": "076c96d6-7651-435d-9a45-6446fc39e159"
      },
      "source": [
        "print(my_array.ndim)"
      ],
      "execution_count": null,
      "outputs": [
        {
          "output_type": "stream",
          "text": [
            "2\n"
          ],
          "name": "stdout"
        }
      ]
    },
    {
      "cell_type": "markdown",
      "metadata": {
        "id": "aMRcSlgd3chc"
      },
      "source": [
        "- Create an array of size 5x2, with values ranging from 100 to 200, such that the different between two consecutive elements is 10. You can use `arange` and `reshape`."
      ]
    },
    {
      "cell_type": "code",
      "metadata": {
        "id": "om_DrX4Z3chc"
      },
      "source": [
        "my_array2=np.arange(100,200,10).reshape((5,2))\n",
        "\n"
      ],
      "execution_count": null,
      "outputs": []
    },
    {
      "cell_type": "code",
      "metadata": {
        "colab": {
          "base_uri": "https://localhost:8080/"
        },
        "id": "OjW6QOtnxnym",
        "outputId": "dbd92a6a-5187-4111-bdec-b347be026159"
      },
      "source": [
        "print(my_array2)"
      ],
      "execution_count": null,
      "outputs": [
        {
          "output_type": "stream",
          "text": [
            "[[100 110]\n",
            " [120 130]\n",
            " [140 150]\n",
            " [160 170]\n",
            " [180 190]]\n"
          ],
          "name": "stdout"
        }
      ]
    },
    {
      "cell_type": "markdown",
      "metadata": {
        "id": "FzwNdWyL3chf"
      },
      "source": [
        "Given the following array, can you print the third column only?\n"
      ]
    },
    {
      "cell_type": "code",
      "metadata": {
        "id": "LTMjqkJ43chg"
      },
      "source": [
        "import numpy\n",
        "sampleArray = numpy.array([[11 ,22, 33], [44, 55, 66], [77, 88, 99]])"
      ],
      "execution_count": null,
      "outputs": []
    },
    {
      "cell_type": "code",
      "metadata": {
        "colab": {
          "base_uri": "https://localhost:8080/"
        },
        "id": "JXEOWwD-yFBW",
        "outputId": "7796e522-91c1-4579-8d47-a1c0f8f1b734"
      },
      "source": [
        "print(sampleArray.shape)"
      ],
      "execution_count": null,
      "outputs": [
        {
          "output_type": "stream",
          "text": [
            "(3, 3)\n"
          ],
          "name": "stdout"
        }
      ]
    },
    {
      "cell_type": "code",
      "metadata": {
        "colab": {
          "base_uri": "https://localhost:8080/"
        },
        "id": "ZhwKLgvrxyAr",
        "outputId": "5150d734-30ea-4bb1-d293-83a4b0316f65"
      },
      "source": [
        "print(sampleArray[:,2])"
      ],
      "execution_count": null,
      "outputs": [
        {
          "output_type": "stream",
          "text": [
            "[33 66 99]\n"
          ],
          "name": "stdout"
        }
      ]
    },
    {
      "cell_type": "code",
      "metadata": {
        "id": "PTlIO9AN3chj",
        "outputId": "d329297c-9996-4833-d3df-e5326671ac27"
      },
      "source": [
        "# code"
      ],
      "execution_count": null,
      "outputs": [
        {
          "output_type": "stream",
          "text": [
            "Printing Input Array\n",
            "[[11 22 33]\n",
            " [44 55 66]\n",
            " [77 88 99]]\n",
            "\n",
            " Printing array of items in the third column from all rows\n",
            "[33 66 99]\n"
          ],
          "name": "stdout"
        }
      ]
    },
    {
      "cell_type": "markdown",
      "metadata": {
        "id": "hEungCKw3cht"
      },
      "source": [
        "Given the following array, can you return only odd rows and even columns? (considering the mathematical numbering with row 1 at index 0). \n"
      ]
    },
    {
      "cell_type": "code",
      "metadata": {
        "id": "T1EaD3yJ3chv"
      },
      "source": [
        "import numpy\n",
        "sampleArray = numpy.array([[3 ,6, 9, 12], [15 ,18, 21, 24], \n",
        "[27 ,30, 33, 36], [39 ,42, 45, 48], [51 ,54, 57, 60]])"
      ],
      "execution_count": null,
      "outputs": []
    },
    {
      "cell_type": "code",
      "metadata": {
        "colab": {
          "base_uri": "https://localhost:8080/",
          "height": 132
        },
        "id": "6wXbjEgNyTfT",
        "outputId": "f3940d8f-0c84-493a-d759-b554c685044a"
      },
      "source": [
        ""
      ],
      "execution_count": null,
      "outputs": [
        {
          "output_type": "error",
          "ename": "SyntaxError",
          "evalue": "ignored",
          "traceback": [
            "\u001b[0;36m  File \u001b[0;32m\"<ipython-input-81-72a9b6d5ad23>\"\u001b[0;36m, line \u001b[0;32m1\u001b[0m\n\u001b[0;31m    print(sampleArray[])\u001b[0m\n\u001b[0m                      ^\u001b[0m\n\u001b[0;31mSyntaxError\u001b[0m\u001b[0;31m:\u001b[0m invalid syntax\n"
          ]
        }
      ]
    },
    {
      "cell_type": "code",
      "metadata": {
        "id": "7q_uusxp3ch1",
        "colab": {
          "base_uri": "https://localhost:8080/"
        },
        "outputId": "b41e7a4b-35c2-4d9a-870e-23b071ac98fd"
      },
      "source": [
        "# code\n",
        "sampleArray[::2]#odd rows"
      ],
      "execution_count": null,
      "outputs": [
        {
          "output_type": "execute_result",
          "data": {
            "text/plain": [
              "array([[ 3,  6,  9, 12],\n",
              "       [27, 30, 33, 36],\n",
              "       [51, 54, 57, 60]])"
            ]
          },
          "metadata": {
            "tags": []
          },
          "execution_count": 88
        }
      ]
    },
    {
      "cell_type": "code",
      "metadata": {
        "colab": {
          "base_uri": "https://localhost:8080/"
        },
        "id": "zGKLrCxDy1Rp",
        "outputId": "66fdcdaa-bc66-4877-b838-6e5c9d74364e"
      },
      "source": [
        "sampleArray[:, 1::2]"
      ],
      "execution_count": null,
      "outputs": [
        {
          "output_type": "execute_result",
          "data": {
            "text/plain": [
              "array([[ 6, 12],\n",
              "       [18, 24],\n",
              "       [30, 36],\n",
              "       [42, 48],\n",
              "       [54, 60]])"
            ]
          },
          "metadata": {
            "tags": []
          },
          "execution_count": 89
        }
      ]
    },
    {
      "cell_type": "markdown",
      "metadata": {
        "id": "OMIkoroA3ch6"
      },
      "source": [
        "Let A, B be two array of the same size, compute C such that $c_i = \\sqrt{a_i + b_i}$."
      ]
    },
    {
      "cell_type": "code",
      "metadata": {
        "id": "Go16IUW83ch7"
      },
      "source": [
        "import numpy\n",
        "arrayOne = numpy.array([[5, 6, 9], [21 ,18, 27]])\n",
        "arrayTwo = numpy.array([[15 ,33, 24], [4 ,7, 1]])"
      ],
      "execution_count": null,
      "outputs": []
    },
    {
      "cell_type": "code",
      "metadata": {
        "id": "Fl67BK6n3ch_",
        "colab": {
          "base_uri": "https://localhost:8080/"
        },
        "outputId": "be2c316e-cdf1-4f33-a6fe-d2a40dea7412"
      },
      "source": [
        "from math import sqrt\n",
        "def f(a,b):\n",
        "    return sqrt(a+b)\n",
        "\n",
        "f2=np.vectorize(f)\n",
        "shape=arrayOne.shape\n",
        "result=[]\n",
        "for i in range(shape[0]):\n",
        "  for j in range(shape[1]):\n",
        "    u=f(arrayOne[i][j],arrayTwo[i][j])\n",
        "    result.append(u)\n",
        "result=np.array(result).reshape(shape)\n",
        "print(result)"
      ],
      "execution_count": null,
      "outputs": [
        {
          "output_type": "stream",
          "text": [
            "[[4.47213595 6.244998   5.74456265]\n",
            " [5.         5.         5.29150262]]\n"
          ],
          "name": "stdout"
        }
      ]
    },
    {
      "cell_type": "markdown",
      "metadata": {
        "id": "CaAbFwRO3ciF"
      },
      "source": [
        "Create a new integer array of size 8x3, with values ranging from 10 to 34 with step size=1. Split the array into 4 subarrays (using `split`).\n"
      ]
    },
    {
      "cell_type": "code",
      "metadata": {
        "id": "uW6BKaQF3ciG",
        "colab": {
          "base_uri": "https://localhost:8080/"
        },
        "outputId": "ec9458d0-df6e-4a62-e4f4-81c38285e7b7"
      },
      "source": [
        "my_array2=np.arange(10,34,1).reshape((8,3))\n",
        "np.array_split(my_array2,4)"
      ],
      "execution_count": null,
      "outputs": [
        {
          "output_type": "execute_result",
          "data": {
            "text/plain": [
              "[array([[10, 11, 12],\n",
              "        [13, 14, 15]]), array([[16, 17, 18],\n",
              "        [19, 20, 21]]), array([[22, 23, 24],\n",
              "        [25, 26, 27]]), array([[28, 29, 30],\n",
              "        [31, 32, 33]])]"
            ]
          },
          "metadata": {
            "tags": []
          },
          "execution_count": 104
        }
      ]
    },
    {
      "cell_type": "markdown",
      "metadata": {
        "id": "SSoJjaqO3ciL"
      },
      "source": [
        "Sort the array:\n",
        "- along the second row\n",
        "- along the second column"
      ]
    },
    {
      "cell_type": "code",
      "metadata": {
        "id": "M_q6wsne3ciM"
      },
      "source": [
        "import numpy\n",
        "sampleArray = numpy.array([[34,43,73],[82,22,12],[53,94,66]])"
      ],
      "execution_count": null,
      "outputs": []
    },
    {
      "cell_type": "code",
      "metadata": {
        "id": "mFhTACKZ3ciP",
        "colab": {
          "base_uri": "https://localhost:8080/"
        },
        "outputId": "aae6401a-360b-4b88-c2de-6d6b33457844"
      },
      "source": [
        "# code\n",
        "np.sort(sampleArray,axis=0)\n",
        "np.sort(sampleArray,axis=1)\n"
      ],
      "execution_count": null,
      "outputs": [
        {
          "output_type": "execute_result",
          "data": {
            "text/plain": [
              "array([[ 3,  6,  9, 12],\n",
              "       [15, 18, 21, 24],\n",
              "       [27, 30, 33, 36],\n",
              "       [39, 42, 45, 48],\n",
              "       [51, 54, 57, 60]])"
            ]
          },
          "metadata": {
            "tags": []
          },
          "execution_count": 105
        }
      ]
    },
    {
      "cell_type": "markdown",
      "metadata": {
        "id": "lUD4sieL3ciR"
      },
      "source": [
        "Given the following array, print the max along axis 0 and the min along axis 1."
      ]
    },
    {
      "cell_type": "code",
      "metadata": {
        "id": "k6As4ku63ciS"
      },
      "source": [
        "import numpy\n",
        "sampleArray = numpy.array([[34,43,73],[82,22,12],[53,94,66]])"
      ],
      "execution_count": null,
      "outputs": []
    },
    {
      "cell_type": "code",
      "metadata": {
        "id": "cYa8awfS3ciW",
        "colab": {
          "base_uri": "https://localhost:8080/"
        },
        "outputId": "a4ac8960-f1b5-48ac-96a8-f841e385f7b0"
      },
      "source": [
        "# code\n",
        "print(np.max(sampleArray,axis=0))\n",
        "print(np.max(sampleArray,axis=1))"
      ],
      "execution_count": null,
      "outputs": [
        {
          "output_type": "stream",
          "text": [
            "[82 94 73]\n",
            "[73 82 94]\n"
          ],
          "name": "stdout"
        }
      ]
    },
    {
      "cell_type": "markdown",
      "metadata": {
        "id": "oC7xG-6h3ciZ"
      },
      "source": [
        "Given the following array, remove the second column and replace it with the new column values using `delete` and `insert`. Print the intermediate results."
      ]
    },
    {
      "cell_type": "code",
      "metadata": {
        "id": "697418kM3ciZ"
      },
      "source": [
        "import numpy\n",
        "sampleArray = numpy.array([[34,43,73],[82,22,12],[53,94,66]]) \n",
        "newColumn = numpy.array([[10,10,10]]) "
      ],
      "execution_count": null,
      "outputs": []
    },
    {
      "cell_type": "code",
      "metadata": {
        "id": "d5NohQe93cic",
        "colab": {
          "base_uri": "https://localhost:8080/"
        },
        "outputId": "c1cfee2f-6eef-4c5b-b781-2c2cbb42bca6"
      },
      "source": [
        "np.delete(sampleArray,1)"
      ],
      "execution_count": null,
      "outputs": [
        {
          "output_type": "execute_result",
          "data": {
            "text/plain": [
              "array([34, 73, 82, 22, 12, 53, 94, 66])"
            ]
          },
          "metadata": {
            "tags": []
          },
          "execution_count": 112
        }
      ]
    },
    {
      "cell_type": "code",
      "metadata": {
        "id": "-lkbNSGv3Urk"
      },
      "source": [
        "np.insert(samplArray,[:,1],newColumn)"
      ],
      "execution_count": null,
      "outputs": []
    },
    {
      "cell_type": "code",
      "metadata": {
        "id": "0pBXE0793cig"
      },
      "source": [
        ""
      ],
      "execution_count": null,
      "outputs": []
    }
  ]
}