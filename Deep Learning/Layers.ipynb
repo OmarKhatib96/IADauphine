{
  "nbformat": 4,
  "nbformat_minor": 0,
  "metadata": {
    "colab": {
      "name": "Layers.ipynb",
      "provenance": [],
      "collapsed_sections": []
    },
    "kernelspec": {
      "name": "python3",
      "display_name": "Python 3"
    }
  },
  "cells": [
    {
      "cell_type": "code",
      "metadata": {
        "colab": {
          "base_uri": "https://localhost:8080/",
          "height": 130
        },
        "id": "BPc8C9i-2s7B",
        "outputId": "b36e3ad8-9d88-48b2-ecb4-52d416c1d287"
      },
      "source": [
        "    \n",
        "\n",
        "from tensorflow.keras import layers\n",
        "\n",
        "class Linear(layers.Layer):\n",
        "  def __init__(self, units=32):\n",
        "    super(Linear, self).__init__()\n",
        "    self.units = units\n",
        "\n",
        "  def build(self, input_shape):\n",
        "    self.w = self.add_weight(shape=(input_shape[-1], self.units), initializer='random_normal', trainable=True)\n",
        "    self.b = self.add_weight(shape=(self.units,), initializer='random_normal', trainable=True)\n",
        "\n",
        "\n",
        "  def call(self, inputs):\n",
        "    return tf.matmul(inputs, self.w) + self.b\n",
        "\n",
        "\n",
        "x = tf.ones((2,2))\n",
        "print(x)\n",
        "linear_layer = Linear(4)\n",
        "y = linear_layer(x)\n",
        "print(y)\n",
        "\n",
        "\n",
        "\n",
        "\n",
        "\n",
        "\n",
        "\n",
        "\n",
        "\n",
        "\n"
      ],
      "execution_count": 1,
      "outputs": [
        {
          "output_type": "error",
          "ename": "IndentationError",
          "evalue": "ignored",
          "traceback": [
            "\u001b[0;36m  File \u001b[0;32m\"<ipython-input-1-6966a1e040b3>\"\u001b[0;36m, line \u001b[0;32m7\u001b[0m\n\u001b[0;31m    super(Linear, self).__init__()\u001b[0m\n\u001b[0m                                  ^\u001b[0m\n\u001b[0;31mIndentationError\u001b[0m\u001b[0;31m:\u001b[0m expected an indented block\n"
          ]
        }
      ]
    },
    {
      "cell_type": "code",
      "metadata": {
        "id": "stFdjVlE200J"
      },
      "source": [
        "\n",
        "\n",
        "\n",
        "    class ResNetBlock(tf.keras.layers.Layer):\n",
        "  def __init__(self, kernel_size=3):\n",
        "    super(ResNetBlock, self).__init__()\n",
        "    self.kernel_size = (kernel_size, kernel_size)\n",
        "   \n",
        "  def build(self, input_shape):\n",
        "    #print(input_shape)\n",
        "    self.convol_1 = tf.keras.layers.Conv2D(filters = input_shape[-1], kernel_size = self.kernel_size,\n",
        "                                           padding='same', activation='relu',\n",
        "                                           input_shape=input_shape)\n",
        "    self.convol_2 = tf.keras.layers.Conv2D(filters = input_shape[-1], kernel_size = self.kernel_size,\n",
        "                                           padding='same', activation='relu',\n",
        "                                           input_shape=input_shape)\n",
        "  def call(self, inputs):\n",
        "    x = self.convol_1(inputs)\n",
        "    x = self.convol_2(x)\n",
        "    x = tf.keras.layers.add([x, inputs])\n",
        "    return x\n",
        "\n",
        "\n",
        "\n",
        "class ResNet(tf.keras.Model):\n",
        "  def __init__(self, num_classes):\n",
        "    super(ResNet, self).__init__()\n",
        "    self.num_classes = num_classes\n",
        "\n",
        "\n",
        "  def build(self, input_shape):\n",
        "    self.conv = tf.keras.layers.Conv2D(filters = 64, kernel_size= (3,3), input_shape=input_shape)\n",
        "    self.block_1 = ResNetBlock()\n",
        "    self.block_2 = ResNetBlock()\n",
        "    self.classifier = tf.keras.layers.Dense(self.num_classes, activation='softmax')\n",
        "\n",
        "\n",
        "  def call(self, inputs):\n",
        "    x = self.conv(inputs)\n",
        "    x = self.block_1(x)\n",
        "    x = self.block_2(x)\n",
        "    x = tf.keras.layers.Flatten()(x)\n",
        "    return self.classifier(x)\n"
      ],
      "execution_count": null,
      "outputs": []
    },
    {
      "cell_type": "code",
      "metadata": {
        "id": "bBj7dHMC3sZJ"
      },
      "source": [
        "(X_train, y_train), (X_test, y_test) = tf.keras.datasets.cifar10.load_data()\n",
        "X_train = X_train.astype('float32')/255.\n",
        "X_test = X_test.astype('float32')/255.\n",
        "y_train = tf.keras.utils.to_categorical(y_train)\n",
        "y_test = tf.keras.utils.to_categorical(y_test)\n",
        " \n",
        "model = ResNet(10)\n",
        " \n",
        "model.compile(loss='categorical_crossentropy', optimizer='adam', metrics=['acc'])\n",
        " \n",
        "history = model.fit(X_train, y_train, epochs = 10, validation_split = 0.1, batch_size = 256)"
      ],
      "execution_count": null,
      "outputs": []
    }
  ]
}