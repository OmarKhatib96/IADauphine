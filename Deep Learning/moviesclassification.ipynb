{
  "nbformat": 4,
  "nbformat_minor": 0,
  "metadata": {
    "colab": {
      "name": "moviesclassification.ipynb",
      "provenance": [],
      "collapsed_sections": []
    },
    "kernelspec": {
      "name": "python3",
      "display_name": "Python 3"
    }
  },
  "cells": [
    {
      "cell_type": "code",
      "metadata": {
        "id": "GD-hCfjQscAq",
        "outputId": "ec2fbffd-cdb8-4e15-8ab1-25c90fead88d",
        "colab": {
          "base_uri": "https://localhost:8080/",
          "height": 1000
        }
      },
      "source": [
        "import tensorflow as tf\n",
        "import numpy as np\n",
        "from tensorflow import keras\n",
        "from tensorflow.keras.datasets import imdb\n",
        "from tensorflow.keras import regularizers\n",
        "(train_data, train_labels), (test_data, test_labels) = imdb.load_data(num_words=10000)\n",
        "\n",
        "def vectorize_sequences(sequences, dimension=10000):#prend en paramètre une séquence de nombre et la transforme en liste de liste de nombre shape:(nombre d'exemple,10000)\n",
        "    results = np.zeros((len(sequences), dimension))#len(sequence)=nombre d'exemples\n",
        "    print(dimension)\n",
        "    print(len(sequences[0]))\n",
        "    for i in range (len (sequences)):\n",
        "        for j in range (len (sequences [i])):\n",
        "            results [i] [sequences [i] [j]] = 1.#on prend l'indice de cet entier et l'indice de cet entier dans le vecteur\n",
        "    return results#ok\n",
        "\n",
        "\n",
        "x_train = vectorize_sequences(train_data)\n",
        "x_test = vectorize_sequences(test_data)\n",
        "\n",
        "\n",
        "\n",
        "\n",
        "y_train = np.asarray(train_labels).astype('float32')\n",
        "print(train_labels)\n",
        "print(train_labels.shape)\n",
        "y_test = np.asarray(test_labels).astype('float32')\n",
        "     \n",
        "from tensorflow.keras import Sequential\n",
        "from tensorflow.keras.layers import Dense\n",
        "\n",
        "from tensorflow.keras.layers import Dropout\n",
        "model = Sequential()\n",
        "model.add(Dense(16,kernel_regularizer=regularizers.l1(0.005), activation='relu', input_shape=(10000,)))\n",
        "model.add(Dense(16,kernel_regularizer=regularizers.l2(0.005), activation='relu'))\n",
        "model.add(Dropout(.2, input_shape=(10000,)))\n",
        "model.add(Dense(1, activation='sigmoid'))\n",
        "\n",
        "\n",
        "\n",
        "model1 = Sequential()\n",
        "model1.add(Dense(16, activation='relu', input_shape=(10000,)))\n",
        "\n",
        "model1.add(Dense(16, activation='relu', input_shape=(10000,)))\n",
        "#model1.add(Dense(16, activation='relu'))\n",
        "model1.add(Dense(1, activation='sigmoid'))\n",
        "\n",
        "\n",
        "\n",
        "model.compile(optimizer='rmsprop',\n",
        "loss='binary_crossentropy',\n",
        "metrics=['accuracy'])\n",
        "\n",
        "model1.compile(optimizer='rmsprop',\n",
        "loss='binary_crossentropy',\n",
        "metrics=['accuracy'])\n",
        "\n",
        "    \n",
        "x_val = x_train[:10000]\n",
        "partial_x_train = x_train[10000:]\n",
        "\n",
        "\n",
        "y_val = y_train[:10000]\n",
        "partial_y_train = y_train[10000:]\n",
        " \n",
        "\n",
        "history = model.fit (partial_x_train, partial_y_train,epochs=20, batch_size=512, validation_data=(x_val, y_val))\n",
        "history1 = model1.fit (partial_x_train, partial_y_train,epochs=20, batch_size=512, validation_data=(x_val, y_val))\n",
        "\n",
        " \n",
        "import matplotlib.pyplot as plt\n",
        "history_dict = history.history\n",
        "history_dict1 = history1.history\n",
        "\n",
        "\n",
        "loss_values = history_dict['loss']\n",
        "loss_values1 = history_dict1['loss']\n",
        "\n",
        "val_loss_values = history_dict['val_loss']\n",
        "val_loss_values1 = history_dict1['val_loss']\n",
        "\n",
        "epochs = range(1, len(loss_values) + 1)\n",
        "plt.plot(epochs, loss_values, 'bo', label='Training loss with reg and dropout')\n",
        "plt.plot(epochs, val_loss_values, 'b', label='Validation loss with reg and dropout')\n",
        "\n",
        "plt.plot(epochs, val_loss_values1, 'ro', label='Training loss without regularization and without dropout')\n",
        "plt.plot(epochs, val_loss_values1, 'r', label='Validation loss without regularization and without' )\n",
        "\n",
        "plt.title('Training and validation loss')\n",
        "plt.xlabel('Epochs')\n",
        "plt.ylabel('Loss')\n",
        "plt.legend()\n",
        "plt.show()\n",
        "plt.clf() #Clears the figure\n",
        "acc = history_dict['acc']\n",
        "val_acc = history_dict['val_acc']\n",
        "plt.plot(epochs, acc, 'bo', label='Training acc')\n",
        "plt.plot(epochs, val_acc, 'b', label='Validation acc')\n",
        "plt.title('Training and validation accuracy')\n",
        "plt.xlabel('Epochs')\n",
        "plt.ylabel('Accuracy')\n",
        "plt.legend()\n",
        "plt.show()\n",
        "\n",
        "\n",
        "\n",
        "\n",
        "\n"
      ],
      "execution_count": 12,
      "outputs": [
        {
          "output_type": "stream",
          "text": [
            "10000\n",
            "218\n",
            "10000\n",
            "68\n",
            "[1 0 0 ... 0 1 0]\n",
            "(25000,)\n",
            "Epoch 1/20\n",
            "30/30 [==============================] - 1s 43ms/step - loss: 2.6174 - accuracy: 0.6249 - val_loss: 1.1398 - val_accuracy: 0.7848\n",
            "Epoch 2/20\n",
            "30/30 [==============================] - 1s 34ms/step - loss: 1.1179 - accuracy: 0.7330 - val_loss: 1.0932 - val_accuracy: 0.8028\n",
            "Epoch 3/20\n",
            "30/30 [==============================] - 1s 34ms/step - loss: 1.0749 - accuracy: 0.7686 - val_loss: 1.0590 - val_accuracy: 0.8054\n",
            "Epoch 4/20\n",
            "30/30 [==============================] - 1s 33ms/step - loss: 1.0423 - accuracy: 0.7846 - val_loss: 1.0758 - val_accuracy: 0.7576\n",
            "Epoch 5/20\n",
            "30/30 [==============================] - 1s 34ms/step - loss: 1.0211 - accuracy: 0.7929 - val_loss: 1.0235 - val_accuracy: 0.8033\n",
            "Epoch 6/20\n",
            "30/30 [==============================] - 1s 34ms/step - loss: 0.9999 - accuracy: 0.8042 - val_loss: 1.0209 - val_accuracy: 0.7935\n",
            "Epoch 7/20\n",
            "30/30 [==============================] - 1s 34ms/step - loss: 0.9873 - accuracy: 0.8039 - val_loss: 0.9752 - val_accuracy: 0.8253\n",
            "Epoch 8/20\n",
            "30/30 [==============================] - 1s 34ms/step - loss: 0.9741 - accuracy: 0.8094 - val_loss: 1.0091 - val_accuracy: 0.7904\n",
            "Epoch 9/20\n",
            "30/30 [==============================] - 1s 34ms/step - loss: 0.9599 - accuracy: 0.8177 - val_loss: 0.9814 - val_accuracy: 0.8085\n",
            "Epoch 10/20\n",
            "30/30 [==============================] - 1s 33ms/step - loss: 0.9557 - accuracy: 0.8181 - val_loss: 0.9611 - val_accuracy: 0.8208\n",
            "Epoch 11/20\n",
            "30/30 [==============================] - 1s 35ms/step - loss: 0.9467 - accuracy: 0.8241 - val_loss: 0.9404 - val_accuracy: 0.8382\n",
            "Epoch 12/20\n",
            "30/30 [==============================] - 1s 34ms/step - loss: 0.9472 - accuracy: 0.8211 - val_loss: 0.9324 - val_accuracy: 0.8415\n",
            "Epoch 13/20\n",
            "30/30 [==============================] - 1s 34ms/step - loss: 0.9337 - accuracy: 0.8294 - val_loss: 0.9394 - val_accuracy: 0.8322\n",
            "Epoch 14/20\n",
            "30/30 [==============================] - 1s 34ms/step - loss: 0.9308 - accuracy: 0.8328 - val_loss: 0.9337 - val_accuracy: 0.8357\n",
            "Epoch 15/20\n",
            "30/30 [==============================] - 1s 33ms/step - loss: 0.9255 - accuracy: 0.8324 - val_loss: 0.9179 - val_accuracy: 0.8474\n",
            "Epoch 16/20\n",
            "30/30 [==============================] - 1s 35ms/step - loss: 0.9209 - accuracy: 0.8359 - val_loss: 0.9134 - val_accuracy: 0.8444\n",
            "Epoch 17/20\n",
            "30/30 [==============================] - 1s 34ms/step - loss: 0.9110 - accuracy: 0.8383 - val_loss: 0.9179 - val_accuracy: 0.8452\n",
            "Epoch 18/20\n",
            "30/30 [==============================] - 1s 34ms/step - loss: 0.9085 - accuracy: 0.8405 - val_loss: 0.9518 - val_accuracy: 0.8230\n",
            "Epoch 19/20\n",
            "30/30 [==============================] - 1s 34ms/step - loss: 0.9047 - accuracy: 0.8421 - val_loss: 0.9495 - val_accuracy: 0.8218\n",
            "Epoch 20/20\n",
            "30/30 [==============================] - 1s 34ms/step - loss: 0.9024 - accuracy: 0.8439 - val_loss: 0.9364 - val_accuracy: 0.8305\n",
            "Epoch 1/20\n",
            "30/30 [==============================] - 1s 40ms/step - loss: 0.5288 - accuracy: 0.7895 - val_loss: 0.4172 - val_accuracy: 0.8543\n",
            "Epoch 2/20\n",
            "30/30 [==============================] - 1s 31ms/step - loss: 0.3290 - accuracy: 0.9005 - val_loss: 0.3262 - val_accuracy: 0.8792\n",
            "Epoch 3/20\n",
            "30/30 [==============================] - 1s 32ms/step - loss: 0.2404 - accuracy: 0.9248 - val_loss: 0.2831 - val_accuracy: 0.8913\n",
            "Epoch 4/20\n",
            "30/30 [==============================] - 1s 32ms/step - loss: 0.1886 - accuracy: 0.9400 - val_loss: 0.2764 - val_accuracy: 0.8905\n",
            "Epoch 5/20\n",
            "30/30 [==============================] - 1s 32ms/step - loss: 0.1531 - accuracy: 0.9525 - val_loss: 0.2970 - val_accuracy: 0.8851\n",
            "Epoch 6/20\n",
            "30/30 [==============================] - 1s 32ms/step - loss: 0.1286 - accuracy: 0.9602 - val_loss: 0.2831 - val_accuracy: 0.8873\n",
            "Epoch 7/20\n",
            "30/30 [==============================] - 1s 32ms/step - loss: 0.1056 - accuracy: 0.9689 - val_loss: 0.2989 - val_accuracy: 0.8831\n",
            "Epoch 8/20\n",
            "30/30 [==============================] - 1s 32ms/step - loss: 0.0914 - accuracy: 0.9727 - val_loss: 0.3214 - val_accuracy: 0.8801\n",
            "Epoch 9/20\n",
            "30/30 [==============================] - 1s 32ms/step - loss: 0.0743 - accuracy: 0.9791 - val_loss: 0.3310 - val_accuracy: 0.8803\n",
            "Epoch 10/20\n",
            "30/30 [==============================] - 1s 32ms/step - loss: 0.0618 - accuracy: 0.9844 - val_loss: 0.3630 - val_accuracy: 0.8805\n",
            "Epoch 11/20\n",
            "30/30 [==============================] - 1s 32ms/step - loss: 0.0513 - accuracy: 0.9877 - val_loss: 0.3804 - val_accuracy: 0.8795\n",
            "Epoch 12/20\n",
            "30/30 [==============================] - 1s 32ms/step - loss: 0.0412 - accuracy: 0.9902 - val_loss: 0.4071 - val_accuracy: 0.8751\n",
            "Epoch 13/20\n",
            "30/30 [==============================] - 1s 32ms/step - loss: 0.0333 - accuracy: 0.9935 - val_loss: 0.4383 - val_accuracy: 0.8715\n",
            "Epoch 14/20\n",
            "30/30 [==============================] - 1s 33ms/step - loss: 0.0283 - accuracy: 0.9939 - val_loss: 0.4566 - val_accuracy: 0.8740\n",
            "Epoch 15/20\n",
            "30/30 [==============================] - 1s 32ms/step - loss: 0.0193 - accuracy: 0.9973 - val_loss: 0.4933 - val_accuracy: 0.8682\n",
            "Epoch 16/20\n",
            "30/30 [==============================] - 1s 33ms/step - loss: 0.0143 - accuracy: 0.9985 - val_loss: 0.5863 - val_accuracy: 0.8615\n",
            "Epoch 17/20\n",
            "30/30 [==============================] - 1s 32ms/step - loss: 0.0127 - accuracy: 0.9987 - val_loss: 0.5521 - val_accuracy: 0.8712\n",
            "Epoch 18/20\n",
            "30/30 [==============================] - 1s 33ms/step - loss: 0.0106 - accuracy: 0.9986 - val_loss: 0.5851 - val_accuracy: 0.8696\n",
            "Epoch 19/20\n",
            "30/30 [==============================] - 1s 32ms/step - loss: 0.0090 - accuracy: 0.9988 - val_loss: 0.6150 - val_accuracy: 0.8692\n",
            "Epoch 20/20\n",
            "30/30 [==============================] - 1s 31ms/step - loss: 0.0044 - accuracy: 0.9999 - val_loss: 0.6450 - val_accuracy: 0.8670\n"
          ],
          "name": "stdout"
        },
        {
          "output_type": "display_data",
          "data": {
            "image/png": "[encoded data removed]",
            "text/plain": [
              "<Figure size 432x288 with 1 Axes>"
            ]
          },
          "metadata": {
            "tags": [],
            "needs_background": "light"
          }
        },
        {
          "output_type": "error",
          "ename": "KeyError",
          "evalue": "ignored",
          "traceback": [
            "\u001b[0;31m---------------------------------------------------------------------------\u001b[0m",
            "\u001b[0;31mKeyError\u001b[0m                                  Traceback (most recent call last)",
            "\u001b[0;32m<ipython-input-12-8fb8d9d7d724>\u001b[0m in \u001b[0;36m<module>\u001b[0;34m()\u001b[0m\n\u001b[1;32m     93\u001b[0m \u001b[0mplt\u001b[0m\u001b[0;34m.\u001b[0m\u001b[0mshow\u001b[0m\u001b[0;34m(\u001b[0m\u001b[0;34m)\u001b[0m\u001b[0;34m\u001b[0m\u001b[0;34m\u001b[0m\u001b[0m\n\u001b[1;32m     94\u001b[0m \u001b[0mplt\u001b[0m\u001b[0;34m.\u001b[0m\u001b[0mclf\u001b[0m\u001b[0;34m(\u001b[0m\u001b[0;34m)\u001b[0m \u001b[0;31m#Clears the figure\u001b[0m\u001b[0;34m\u001b[0m\u001b[0;34m\u001b[0m\u001b[0m\n\u001b[0;32m---> 95\u001b[0;31m \u001b[0macc\u001b[0m \u001b[0;34m=\u001b[0m \u001b[0mhistory_dict\u001b[0m\u001b[0;34m[\u001b[0m\u001b[0;34m'acc'\u001b[0m\u001b[0;34m]\u001b[0m\u001b[0;34m\u001b[0m\u001b[0;34m\u001b[0m\u001b[0m\n\u001b[0m\u001b[1;32m     96\u001b[0m \u001b[0mval_acc\u001b[0m \u001b[0;34m=\u001b[0m \u001b[0mhistory_dict\u001b[0m\u001b[0;34m[\u001b[0m\u001b[0;34m'val_acc'\u001b[0m\u001b[0;34m]\u001b[0m\u001b[0;34m\u001b[0m\u001b[0;34m\u001b[0m\u001b[0m\n\u001b[1;32m     97\u001b[0m \u001b[0mplt\u001b[0m\u001b[0;34m.\u001b[0m\u001b[0mplot\u001b[0m\u001b[0;34m(\u001b[0m\u001b[0mepochs\u001b[0m\u001b[0;34m,\u001b[0m \u001b[0macc\u001b[0m\u001b[0;34m,\u001b[0m \u001b[0;34m'bo'\u001b[0m\u001b[0;34m,\u001b[0m \u001b[0mlabel\u001b[0m\u001b[0;34m=\u001b[0m\u001b[0;34m'Training acc'\u001b[0m\u001b[0;34m)\u001b[0m\u001b[0;34m\u001b[0m\u001b[0;34m\u001b[0m\u001b[0m\n",
            "\u001b[0;31mKeyError\u001b[0m: 'acc'"
          ]
        },
        {
          "output_type": "display_data",
          "data": {
            "text/plain": [
              "<Figure size 432x288 with 0 Axes>"
            ]
          },
          "metadata": {
            "tags": []
          }
        }
      ]
    },
    {
      "cell_type": "code",
      "metadata": {
        "id": "5n-XZcjJ0RF8",
        "outputId": "449ceff9-df37-476a-abe5-956e47a9bdc5",
        "colab": {
          "base_uri": "https://localhost:8080/",
          "height": 167
        }
      },
      "source": [
        ""
      ],
      "execution_count": null,
      "outputs": [
        {
          "output_type": "error",
          "ename": "NameError",
          "evalue": "ignored",
          "traceback": [
            "\u001b[0;31m---------------------------------------------------------------------------\u001b[0m",
            "\u001b[0;31mNameError\u001b[0m                                 Traceback (most recent call last)",
            "\u001b[0;32m<ipython-input-5-9be165d8a940>\u001b[0m in \u001b[0;36m<module>\u001b[0;34m()\u001b[0m\n\u001b[0;32m----> 1\u001b[0;31m \u001b[0mprint\u001b[0m\u001b[0;34m(\u001b[0m\u001b[0mdimension\u001b[0m\u001b[0;34m)\u001b[0m\u001b[0;34m\u001b[0m\u001b[0;34m\u001b[0m\u001b[0m\n\u001b[0m",
            "\u001b[0;31mNameError\u001b[0m: name 'dimension' is not defined"
          ]
        }
      ]
    },
    {
      "cell_type": "code",
      "metadata": {
        "id": "vXvRnAUwy06a"
      },
      "source": [
        ""
      ],
      "execution_count": null,
      "outputs": []
    },
    {
      "cell_type": "code",
      "metadata": {
        "id": "0nyfNz5hxds4",
        "outputId": "eb29a93f-f49a-49a4-b31c-c40c4273c87b",
        "colab": {
          "base_uri": "https://localhost:8080/",
          "height": 52
        }
      },
      "source": [
        "\n"
      ],
      "execution_count": null,
      "outputs": [
        {
          "output_type": "stream",
          "text": [
            "[1 0 0 ... 0 1 0]\n",
            "(25000,)\n"
          ],
          "name": "stdout"
        }
      ]
    }
  ]
}