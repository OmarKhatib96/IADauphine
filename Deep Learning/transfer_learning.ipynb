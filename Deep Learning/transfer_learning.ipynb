{
  "nbformat": 4,
  "nbformat_minor": 0,
  "metadata": {
    "colab": {
      "name": "transfer_learning.ipynb",
      "provenance": [],
      "collapsed_sections": []
    },
    "kernelspec": {
      "name": "python3",
      "display_name": "Python 3"
    }
  },
  "cells": [
    {
      "cell_type": "code",
      "metadata": {
        "id": "aSF0Kc6XPhYU",
        "colab": {
          "base_uri": "https://localhost:8080/"
        },
        "outputId": "b1c4f0ab-cb61-42fb-ae9e-6e43e70891cd"
      },
      "source": [
        "from tensorflow.keras.applications.vgg19 import VGG19\n",
        "\n",
        "import numpy as np\n",
        "import keras\n",
        "model=VGG19(include_top=False,input_shape=(32,32,3))\n",
        "features_list = [layer.output for layer in model.layers]\n",
        "feat_extraction_model = keras.Model(inputs=model.input, outputs=features_list)\n",
        "#shared_embedding = layers.Embedding(1000, 128)\n"
      ],
      "execution_count": 1,
      "outputs": [
        {
          "output_type": "stream",
          "name": "stdout",
          "text": [
            "Downloading data from https://storage.googleapis.com/tensorflow/keras-applications/vgg19/vgg19_weights_tf_dim_ordering_tf_kernels_notop.h5\n",
            "80142336/80134624 [==============================] - 3s 0us/step\n",
            "80150528/80134624 [==============================] - 3s 0us/step\n"
          ]
        }
      ]
    },
    {
      "cell_type": "code",
      "metadata": {
        "colab": {
          "base_uri": "https://localhost:8080/",
          "height": 460
        },
        "id": "ZWhR3SiiTuSy",
        "outputId": "d1bd77bc-d70b-45de-ae95-485687b2a7c6"
      },
      "source": [
        "import tensorflow as tf\n",
        "import numpy as np\n",
        "import matplotlib.pyplot as plt\n",
        "model = tf.keras.applications.vgg16.VGG16(include_top=False, classes=10, input_shape = (32,32,3))\n",
        "(X_train, y_train), (X_test, y_test) = tf.keras.datasets.cifar10.load_data()\n",
        "X_train = tf.keras.applications.vgg16.preprocess_input(X_train)\n",
        "X_test = tf.keras.applications.vgg16.preprocess_input(X_test)\n",
        "y_train = tf.keras.utils.to_categorical(y_train)\n",
        "y_test = tf.keras.utils.to_categorical(y_test)\n",
        "\n",
        "\n",
        "\n",
        "\n",
        "model.trainable = False\n",
        "input_layer = model.input\n",
        "x = model(input_layer)\n",
        "x = tf.keras.layers.Flatten()(x)\n",
        "x = tf.keras.layers.Dense(256, activation = 'relu')(x)\n",
        "x = tf.keras.layers.Dense(10, activation = 'softmax')(x)\n",
        "\n",
        " \n",
        "\n",
        "new_model = tf.keras.models.Model(inputs = input_layer, outputs = x)\n",
        "new_model.summary()\n",
        "\n",
        "\n",
        "'''\n",
        "Take layers from a previously trained model.\n",
        "Freeze them, so as to avoid destroying any of the information they contain during future training rounds.\n",
        "Add some new, trainable layers on top of the frozen layers. They will learn to turn the old features into predictions on a new dataset.\n",
        "Train the new layers on your dataset.\n",
        "'''"
      ],
      "execution_count": 2,
      "outputs": [
        {
          "output_type": "stream",
          "name": "stdout",
          "text": [
            "Downloading data from https://storage.googleapis.com/tensorflow/keras-applications/vgg16/vgg16_weights_tf_dim_ordering_tf_kernels_notop.h5\n",
            "58892288/58889256 [==============================] - 2s 0us/step\n",
            "58900480/58889256 [==============================] - 2s 0us/step\n",
            "Downloading data from https://www.cs.toronto.edu/~kriz/cifar-10-python.tar.gz\n",
            "170500096/170498071 [==============================] - 5s 0us/step\n",
            "170508288/170498071 [==============================] - 5s 0us/step\n",
            "Model: \"model_1\"\n",
            "_________________________________________________________________\n",
            "Layer (type)                 Output Shape              Param #   \n",
            "=================================================================\n",
            "input_2 (InputLayer)         [(None, 32, 32, 3)]       0         \n",
            "_________________________________________________________________\n",
            "vgg16 (Functional)           (None, 1, 1, 512)         14714688  \n",
            "_________________________________________________________________\n",
            "flatten (Flatten)            (None, 512)               0         \n",
            "_________________________________________________________________\n",
            "dense (Dense)                (None, 256)               131328    \n",
            "_________________________________________________________________\n",
            "dense_1 (Dense)              (None, 10)                2570      \n",
            "=================================================================\n",
            "Total params: 14,848,586\n",
            "Trainable params: 133,898\n",
            "Non-trainable params: 14,714,688\n",
            "_________________________________________________________________\n"
          ]
        },
        {
          "output_type": "execute_result",
          "data": {
            "application/vnd.google.colaboratory.intrinsic+json": {
              "type": "string"
            },
            "text/plain": [
              "'\\nTake layers from a previously trained model.\\nFreeze them, so as to avoid destroying any of the information they contain during future training rounds.\\nAdd some new, trainable layers on top of the frozen layers. They will learn to turn the old features into predictions on a new dataset.\\nTrain the new layers on your dataset.\\n'"
            ]
          },
          "metadata": {},
          "execution_count": 2
        }
      ]
    },
    {
      "cell_type": "code",
      "metadata": {
        "id": "rnfxMKJ5UmER"
      },
      "source": [
        "\n",
        "\n",
        "#img = np.random.random((1, 224, 224, 3)).astype('float32')\n",
        "#extracted_features = feat_extraction_model(img)"
      ],
      "execution_count": 3,
      "outputs": []
    },
    {
      "cell_type": "code",
      "metadata": {
        "colab": {
          "base_uri": "https://localhost:8080/"
        },
        "id": "-bqawDVxXsL2",
        "outputId": "baec9bd5-1a22-4c78-c564-a1acb40522a6"
      },
      "source": [
        "new_model.compile(loss ='categorical_crossentropy', optimizer = 'adam', metrics = ['acc'])\n",
        "history = new_model.fit(X_train, y_train, validation_split = 0.1, epochs = 5)\n",
        "new_model.evaluate(X_test, y_test)"
      ],
      "execution_count": null,
      "outputs": [
        {
          "output_type": "stream",
          "name": "stdout",
          "text": [
            "Epoch 1/5\n",
            " 129/1407 [=>............................] - ETA: 7:33 - loss: 5.8008 - acc: 0.4368"
          ]
        }
      ]
    },
    {
      "cell_type": "code",
      "metadata": {
        "id": "rKdXsG_vfVLA"
      },
      "source": [
        "def flip(x):\n",
        "    x = tf.reverse (x, [-1])\n",
        "    return x\n",
        "\n",
        " \n",
        "\n",
        "model.add(Lambda(flip))\n",
        "\n",
        "\n"
      ],
      "execution_count": null,
      "outputs": []
    }
  ]
}