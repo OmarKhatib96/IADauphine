{
  "nbformat": 4,
  "nbformat_minor": 0,
  "metadata": {
    "colab": {
      "name": "shufflenet.ipynb",
      "provenance": [],
      "collapsed_sections": []
    },
    "kernelspec": {
      "name": "python3",
      "display_name": "Python 3"
    }
  },
  "cells": [
    {
      "cell_type": "code",
      "metadata": {
        "colab": {
          "base_uri": "https://localhost:8080/",
          "height": 378
        },
        "id": "ukgYVUQWUjrb",
        "outputId": "9b9ae402-92be-4d7b-98b2-b67d20b68d47"
      },
      "source": [
        "from keras.layers import Dense, Flatten, regularizers\n",
        "from keras.layers import Conv2D\n",
        "import keras.layers\n",
        "import keras\n",
        "from tensorflow.keras import layers"
      ],
      "execution_count": null,
      "outputs": [
        {
          "output_type": "error",
          "ename": "ImportError",
          "evalue": "ignored",
          "traceback": [
            "\u001b[0;31m---------------------------------------------------------------------------\u001b[0m",
            "\u001b[0;31mImportError\u001b[0m                               Traceback (most recent call last)",
            "\u001b[0;32m<ipython-input-18-23d75e51d8a5>\u001b[0m in \u001b[0;36m<module>\u001b[0;34m()\u001b[0m\n\u001b[0;32m----> 1\u001b[0;31m \u001b[0;32mfrom\u001b[0m \u001b[0mkeras\u001b[0m\u001b[0;34m.\u001b[0m\u001b[0mlayers\u001b[0m \u001b[0;32mimport\u001b[0m \u001b[0mDense\u001b[0m\u001b[0;34m,\u001b[0m \u001b[0mFlatten\u001b[0m\u001b[0;34m,\u001b[0m \u001b[0mregularizers\u001b[0m\u001b[0;34m\u001b[0m\u001b[0;34m\u001b[0m\u001b[0m\n\u001b[0m\u001b[1;32m      2\u001b[0m \u001b[0;32mfrom\u001b[0m \u001b[0mkeras\u001b[0m\u001b[0;34m.\u001b[0m\u001b[0mlayers\u001b[0m \u001b[0;32mimport\u001b[0m \u001b[0mConv2D\u001b[0m\u001b[0;34m\u001b[0m\u001b[0;34m\u001b[0m\u001b[0m\n\u001b[1;32m      3\u001b[0m \u001b[0;32mimport\u001b[0m \u001b[0mkeras\u001b[0m\u001b[0;34m.\u001b[0m\u001b[0mlayers\u001b[0m\u001b[0;34m\u001b[0m\u001b[0;34m\u001b[0m\u001b[0m\n\u001b[1;32m      4\u001b[0m \u001b[0;32mimport\u001b[0m \u001b[0mkeras\u001b[0m\u001b[0;34m\u001b[0m\u001b[0;34m\u001b[0m\u001b[0m\n\u001b[1;32m      5\u001b[0m \u001b[0;32mfrom\u001b[0m \u001b[0mtensorflow\u001b[0m\u001b[0;34m.\u001b[0m\u001b[0mkeras\u001b[0m \u001b[0;32mimport\u001b[0m \u001b[0mlayers\u001b[0m\u001b[0;34m\u001b[0m\u001b[0;34m\u001b[0m\u001b[0m\n",
            "\u001b[0;31mImportError\u001b[0m: cannot import name 'regularizers'",
            "",
            "\u001b[0;31m---------------------------------------------------------------------------\u001b[0;32m\nNOTE: If your import is failing due to a missing package, you can\nmanually install dependencies using either !pip or !apt.\n\nTo view examples of installing some common dependencies, click the\n\"Open Examples\" button below.\n\u001b[0;31m---------------------------------------------------------------------------\u001b[0m\n"
          ]
        }
      ]
    },
    {
      "cell_type": "code",
      "metadata": {
        "id": "edm1eGGgVyIN"
      },
      "source": [
        "from tensorflow.keras.layers import Input, Conv2D, DepthwiseConv2D, Dense, Concatenate, Add, ReLU, BatchNormalization,AvgPool2D, MaxPool2D, GlobalAveragePooling2D, Reshape, Permute, Lambda, Flatten, Activation\n",
        "trunk=64\n",
        "blocks=64\n",
        "filters=64\n",
        "import tensorflow as tf\n",
        "\n",
        "from tensorflow.keras import regularizers\n",
        "\n",
        "def getModel ():\n",
        "    input = keras.Input(shape=(19, 19, planes), name='board')\n",
        "    x = Conv2D(trunk, 1, padding='same', kernel_regularizer=regularizers.l2(0.0001))(input)\n",
        "    x = BatchNormalization()(x)\n",
        "    x = ReLU()(x)\n",
        "    for i in range (blocks):\n",
        "        x = bottleneck_block (x, filters, trunk)\n",
        "    policy_head = Conv2D(1, 1, activation='relu', padding='same', use_bias = False, kernel_regularizer=regularizers.l2(0.0001))(x)\n",
        "    policy_head = Flatten()(policy_head)\n",
        "    policy_head = Activation('softmax', name='policy')(policy_head)\n",
        "    value_head = GlobalAveragePooling2D()(x)\n",
        "    value_head = Dense(50, activation='relu', kernel_regularizer=regularizers.l2(0.0001))(value_head)\n",
        "    value_head = Dense(1, activation='sigmoid', name='value', kernel_regularizer=regularizers.l2(0.0001))(value_head)\n",
        "\n",
        "    model = keras.Model(inputs=input, outputs=[policy_head, value_head])\n",
        " \n",
        "    return model"
      ],
      "execution_count": null,
      "outputs": []
    },
    {
      "cell_type": "code",
      "metadata": {
        "id": "ax4557Gjg1_X"
      },
      "source": [
        "def bottleneck_block(tensor, expand=64, squeeze=16):\n",
        "    x = gconv(tensor, channels=expand, groups=4)\n",
        "    x = BatchNormalization()(x)\n",
        "    x = ReLU()(x)\n",
        " \n",
        "    x = channel_shuffle(x, groups=4)\n",
        "    x = DepthwiseConv2D(kernel_size=3, padding='same')(x)\n",
        "    x = BatchNormalization()(x)\n",
        " \n",
        "    x = gconv(x, channels=squeeze, groups=4)\n",
        "    x = BatchNormalization()(x)\n",
        " \n",
        "    x = Add()([tensor, x])\n",
        "    output = ReLU()(x)\n",
        "    return output"
      ],
      "execution_count": null,
      "outputs": []
    },
    {
      "cell_type": "code",
      "metadata": {
        "id": "SxwDysauzOnr"
      },
      "source": [
        "def gconv(tensor, channels, groups):\n",
        "    input_ch = tensor.get_shape().as_list()[-1]\n",
        "    group_ch = input_ch // groups\n",
        "    output_ch = channels // groups\n",
        "    groups_list = []\n",
        " \n",
        "    for i in range(groups):\n",
        "        group_tensor = tensor[:, :, :, i * group_ch: (i+1) * group_ch]\n",
        "        group_tensor = Conv2D(output_ch, 1)(group_tensor)\n",
        "        groups_list.append(group_tensor)\n",
        " \n",
        "    output = Concatenate()(groups_list)\n",
        "    return output"
      ],
      "execution_count": null,
      "outputs": []
    },
    {
      "cell_type": "code",
      "metadata": {
        "id": "ZaYjrEz3zInT"
      },
      "source": [
        "def channel_shuffle(x, groups):  \n",
        "    _, width, height, channels = x.get_shape().as_list()\n",
        "    group_ch = channels // groups\n",
        " \n",
        "    x = Reshape([width, height, group_ch, groups])(x)\n",
        "    x = Permute([1, 2, 4, 3])(x)\n",
        "    x = Reshape([width, height, channels])(x)\n",
        "    return x"
      ],
      "execution_count": null,
      "outputs": []
    },
    {
      "cell_type": "code",
      "metadata": {
        "id": "5FnD8oc3WhIn"
      },
      "source": [
        "my_model=getModel()"
      ],
      "execution_count": null,
      "outputs": []
    }
  ]
}