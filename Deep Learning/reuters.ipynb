{
  "nbformat": 4,
  "nbformat_minor": 0,
  "metadata": {
    "colab": {
      "name": "reuters.ipynb",
      "provenance": [],
      "collapsed_sections": []
    },
    "kernelspec": {
      "name": "python3",
      "display_name": "Python 3"
    }
  },
  "cells": [
    {
      "cell_type": "code",
      "metadata": {
        "id": "sDBNvj00l6eW"
      },
      "source": [
        "from tensorflow.keras.datasets import reuters\n",
        "\n"
      ],
      "execution_count": 5,
      "outputs": []
    },
    {
      "cell_type": "code",
      "metadata": {
        "id": "XbQqFbxbmEhD",
        "outputId": "1db34962-fefd-493f-f63e-8be2ffa57d27",
        "colab": {
          "base_uri": "https://localhost:8080/",
          "height": 1000
        }
      },
      "source": [
        "\n",
        "\n",
        "import tensorflow as tf\n",
        "import numpy as np\n",
        "from tensorflow import keras\n",
        "from tensorflow.keras import regularizers\n",
        "\n",
        "(train_data, train_labels), (test_data, test_labels) = reuters.load_data(num_words=10000)\n",
        "\n",
        "def vectorize_sequences(sequences, dimension=10000):#prend en paramètre une séquence de nombre et la transforme en liste de liste de nombre shape:(nombre d'exemple,10000)\n",
        "    results = np.zeros((len(sequences), dimension))#len(sequence)=nombre d'exemples\n",
        "    print(dimension)\n",
        "    print(len(sequences[0]))\n",
        "    for i in range (len (sequences)):\n",
        "        for j in range (len (sequences [i])):\n",
        "            results [i] [sequences [i] [j]] = 1.#on prend l'indice de cet entier et l'indice de cet entier dans le vecteur\n",
        "    return results#ok\n",
        "\n",
        "\n",
        "x_train = vectorize_sequences(train_data)\n",
        "x_test = vectorize_sequences(test_data)\n",
        "\n",
        "from tensorflow.keras.utils import to_categorical \n",
        "one_hot_train_labels = to_categorical(train_labels) \n",
        "one_hot_test_labels = to_categorical(test_labels)\n",
        "\n",
        "print(train_labels)\n",
        "\n",
        "y_train = np.asarray(one_hot_train_labels).astype('float32')\n",
        "print(train_labels)\n",
        "print(train_labels.shape)\n",
        "y_test = np.asarray(one_hot_test_labels).astype('float32')\n",
        "     \n",
        "from tensorflow.keras import Sequential\n",
        "from tensorflow.keras.layers import Dense\n",
        "\n",
        "from tensorflow.keras.layers import Dropout\n",
        "model = Sequential()\n",
        "model.add(Dense(64, activation='relu', input_shape=(10000,)))\n",
        "model.add(Dense(64, activation='relu'))\n",
        "model.add(Dropout(.45, input_shape=(10000,)))\n",
        "model.add(Dense(46, activation='softmax'))\n",
        "\n",
        "\n",
        "model.compile(optimizer='rmsprop', loss='categorical_crossentropy', metrics=['accuracy'])\n",
        "\n",
        "\n",
        "x_val = x_train[:1000] \n",
        "partial_x_train = x_train[1000:]\n",
        "y_val = one_hot_train_labels[:1000] \n",
        "partial_y_train = one_hot_train_labels[1000:]\n",
        "\n",
        "history = model.fit(partial_x_train, partial_y_train, epochs=20, batch_size=512, validation_data=(x_val, y_val))\n",
        "import matplotlib.pyplot as plt \n",
        "loss = history.history['loss'] \n",
        "val_loss = history.history['val_loss'] \n",
        "epochs = range(1, len(loss) + 1) \n",
        "plt.plot(epochs, loss, 'bo', label='Training loss') \n",
        "plt.plot(epochs, val_loss, 'b', label='Validation loss') \n",
        "plt.title('Training and validation loss') \n",
        "plt.xlabel('Epochs') \n",
        "plt.ylabel('Loss') \n",
        "plt.legend()\n",
        "plt.show()\n",
        "\n",
        "\n",
        "\n",
        "\n",
        "''' \n",
        "x_val = x_train[:10000]\n",
        "partial_x_train = x_train[10000:]\n",
        "\n",
        "\n",
        "y_val = y_train[:10000]\n",
        "partial_y_train = y_train[10000:]\n",
        "\n",
        "\n",
        "history = model.fit (partial_x_train, partial_y_train, epochs=20,batch_size=20, validation_data=(x_val, y_val))\n",
        "\n",
        "\n",
        " \n",
        "import matplotlib.pyplot as plt\n",
        "history_dict = history.history\n",
        "\n",
        "\n",
        "loss_values = history_dict['loss']\n",
        "\n",
        "\n",
        "val_loss_values = history_dict['val_loss']\n",
        "\n",
        "\n",
        "\n",
        "\n",
        "\n",
        "epochs = range(1, len(loss_values) + 1)\n",
        "plt.plot(epochs, loss_values, 'bo', label='Training loss with reg and dropout')\n",
        "plt.plot(epochs, val_loss_values, 'b', label='Validation loss with reg and dropout')\n",
        "\n",
        "\n",
        "\n",
        "\n",
        "plt.title('Training and validation loss')\n",
        "plt.xlabel('Epochs')\n",
        "plt.ylabel('Loss')\n",
        "plt.legend()\n",
        "plt.show()\n",
        "plt.clf() #Clears the figure\n",
        "acc = history_dict['acc']\n",
        "val_acc = history_dict['val_acc']\n",
        "plt.plot(epochs, acc, 'bo', label='Training acc')\n",
        "plt.plot(epochs, val_acc, 'b', label='Validation acc')\n",
        "plt.title('Training and validation accuracy')\n",
        "plt.xlabel('Epochs')\n",
        "plt.ylabel('Accuracy')\n",
        "plt.legend()\n",
        "plt.show()\n",
        "'''\n"
      ],
      "execution_count": 28,
      "outputs": [
        {
          "output_type": "stream",
          "text": [
            "10000\n",
            "87\n",
            "10000\n",
            "145\n",
            "[ 3  4  3 ... 25  3 25]\n",
            "[ 3  4  3 ... 25  3 25]\n",
            "(8982,)\n",
            "Epoch 1/20\n",
            "16/16 [==============================] - 1s 56ms/step - loss: 2.8582 - accuracy: 0.4359 - val_loss: 1.8809 - val_accuracy: 0.6370\n",
            "Epoch 2/20\n",
            "16/16 [==============================] - 1s 48ms/step - loss: 1.7254 - accuracy: 0.6453 - val_loss: 1.4175 - val_accuracy: 0.6850\n",
            "Epoch 3/20\n",
            "16/16 [==============================] - 1s 47ms/step - loss: 1.3592 - accuracy: 0.7072 - val_loss: 1.2405 - val_accuracy: 0.7120\n",
            "Epoch 4/20\n",
            "16/16 [==============================] - 1s 48ms/step - loss: 1.1595 - accuracy: 0.7413 - val_loss: 1.1485 - val_accuracy: 0.7350\n",
            "Epoch 5/20\n",
            "16/16 [==============================] - 1s 48ms/step - loss: 1.0043 - accuracy: 0.7701 - val_loss: 1.0840 - val_accuracy: 0.7550\n",
            "Epoch 6/20\n",
            "16/16 [==============================] - 1s 47ms/step - loss: 0.8820 - accuracy: 0.7987 - val_loss: 1.0341 - val_accuracy: 0.7600\n",
            "Epoch 7/20\n",
            "16/16 [==============================] - 1s 47ms/step - loss: 0.7628 - accuracy: 0.8239 - val_loss: 0.9841 - val_accuracy: 0.7840\n",
            "Epoch 8/20\n",
            "16/16 [==============================] - 1s 48ms/step - loss: 0.6665 - accuracy: 0.8482 - val_loss: 0.9629 - val_accuracy: 0.7860\n",
            "Epoch 9/20\n",
            "16/16 [==============================] - 1s 47ms/step - loss: 0.6029 - accuracy: 0.8617 - val_loss: 0.9483 - val_accuracy: 0.7990\n",
            "Epoch 10/20\n",
            "16/16 [==============================] - 1s 47ms/step - loss: 0.5281 - accuracy: 0.8809 - val_loss: 0.9287 - val_accuracy: 0.8110\n",
            "Epoch 11/20\n",
            "16/16 [==============================] - 1s 47ms/step - loss: 0.4766 - accuracy: 0.8893 - val_loss: 0.9283 - val_accuracy: 0.8110\n",
            "Epoch 12/20\n",
            "16/16 [==============================] - 1s 47ms/step - loss: 0.4295 - accuracy: 0.9042 - val_loss: 0.9097 - val_accuracy: 0.8240\n",
            "Epoch 13/20\n",
            "16/16 [==============================] - 1s 50ms/step - loss: 0.3870 - accuracy: 0.9116 - val_loss: 0.9456 - val_accuracy: 0.8100\n",
            "Epoch 14/20\n",
            "16/16 [==============================] - 1s 48ms/step - loss: 0.3622 - accuracy: 0.9163 - val_loss: 0.9552 - val_accuracy: 0.8140\n",
            "Epoch 15/20\n",
            "16/16 [==============================] - 1s 47ms/step - loss: 0.3173 - accuracy: 0.9270 - val_loss: 0.9745 - val_accuracy: 0.8150\n",
            "Epoch 16/20\n",
            "16/16 [==============================] - 1s 48ms/step - loss: 0.2941 - accuracy: 0.9267 - val_loss: 0.9684 - val_accuracy: 0.8130\n",
            "Epoch 17/20\n",
            "16/16 [==============================] - 1s 48ms/step - loss: 0.2753 - accuracy: 0.9361 - val_loss: 0.9707 - val_accuracy: 0.8140\n",
            "Epoch 18/20\n",
            "16/16 [==============================] - 1s 48ms/step - loss: 0.2491 - accuracy: 0.9414 - val_loss: 1.0223 - val_accuracy: 0.8030\n",
            "Epoch 19/20\n",
            "16/16 [==============================] - 1s 47ms/step - loss: 0.2391 - accuracy: 0.9391 - val_loss: 1.0326 - val_accuracy: 0.8100\n",
            "Epoch 20/20\n",
            "16/16 [==============================] - 1s 46ms/step - loss: 0.2190 - accuracy: 0.9468 - val_loss: 1.0074 - val_accuracy: 0.8180\n"
          ],
          "name": "stdout"
        },
        {
          "output_type": "display_data",
          "data": {
            "image/png": "[encoded data removed]",
            "text/plain": [
              "<Figure size 432x288 with 1 Axes>"
            ]
          },
          "metadata": {
            "tags": [],
            "needs_background": "light"
          }
        },
        {
          "output_type": "execute_result",
          "data": {
            "application/vnd.google.colaboratory.intrinsic+json": {
              "type": "string"
            },
            "text/plain": [
              "\" \\nx_val = x_train[:10000]\\npartial_x_train = x_train[10000:]\\n\\n\\ny_val = y_train[:10000]\\npartial_y_train = y_train[10000:]\\n\\n\\nhistory = model.fit (partial_x_train, partial_y_train, epochs=20,batch_size=20, validation_data=(x_val, y_val))\\n\\n\\n \\nimport matplotlib.pyplot as plt\\nhistory_dict = history.history\\n\\n\\nloss_values = history_dict['loss']\\n\\n\\nval_loss_values = history_dict['val_loss']\\n\\n\\n\\n\\n\\nepochs = range(1, len(loss_values) + 1)\\nplt.plot(epochs, loss_values, 'bo', label='Training loss with reg and dropout')\\nplt.plot(epochs, val_loss_values, 'b', label='Validation loss with reg and dropout')\\n\\n\\n\\n\\nplt.title('Training and validation loss')\\nplt.xlabel('Epochs')\\nplt.ylabel('Loss')\\nplt.legend()\\nplt.show()\\nplt.clf() #Clears the figure\\nacc = history_dict['acc']\\nval_acc = history_dict['val_acc']\\nplt.plot(epochs, acc, 'bo', label='Training acc')\\nplt.plot(epochs, val_acc, 'b', label='Validation acc')\\nplt.title('Training and validation accuracy')\\nplt.xlabel('Epochs')\\nplt.ylabel('Accuracy')\\nplt.legend()\\nplt.show()\\n\""
            ]
          },
          "metadata": {
            "tags": []
          },
          "execution_count": 28
        }
      ]
    },
    {
      "cell_type": "code",
      "metadata": {
        "id": "8YwQIWNo2Wof",
        "outputId": "0c0f5d5c-0c3a-40a9-f1ef-34ffb5519a7b",
        "colab": {
          "base_uri": "https://localhost:8080/",
          "height": 1000
        }
      },
      "source": [
        " #sklearn.metrics.classification_report(y_test, y_pred, *, labels=None, target_names=None, sample_weight=None, digits=2, output_dict=False, zero_division='warn')\n",
        "from sklearn.metrics import classification_report\n",
        "import numpy as np\n",
        "Y_test = np.argmax(y_test, axis=1) # Convert one-hot to index\n",
        "y_pred = model.predict_classes(x_test)\n",
        "print(classification_report(Y_test, y_pred))"
      ],
      "execution_count": 29,
      "outputs": [
        {
          "output_type": "stream",
          "text": [
            "WARNING:tensorflow:From <ipython-input-29-41bbea8dcbb7>:5: Sequential.predict_classes (from tensorflow.python.keras.engine.sequential) is deprecated and will be removed after 2021-01-01.\n",
            "Instructions for updating:\n",
            "Please use instead:* `np.argmax(model.predict(x), axis=-1)`,   if your model does multi-class classification   (e.g. if it uses a `softmax` last-layer activation).* `(model.predict(x) > 0.5).astype(\"int32\")`,   if your model does binary classification   (e.g. if it uses a `sigmoid` last-layer activation).\n",
            "              precision    recall  f1-score   support\n",
            "\n",
            "           0       0.86      0.50      0.63        12\n",
            "           1       0.64      0.81      0.71       105\n",
            "           2       0.76      0.65      0.70        20\n",
            "           3       0.90      0.94      0.92       813\n",
            "           4       0.79      0.88      0.84       474\n",
            "           5       1.00      0.20      0.33         5\n",
            "           6       0.92      0.86      0.89        14\n",
            "           7       1.00      0.33      0.50         3\n",
            "           8       0.74      0.66      0.69        38\n",
            "           9       0.87      0.80      0.83        25\n",
            "          10       0.90      0.90      0.90        30\n",
            "          11       0.66      0.70      0.68        83\n",
            "          12       0.50      0.15      0.24        13\n",
            "          13       0.64      0.57      0.60        37\n",
            "          14       1.00      0.50      0.67         2\n",
            "          15       0.50      0.11      0.18         9\n",
            "          16       0.67      0.79      0.73        99\n",
            "          17       1.00      0.17      0.29        12\n",
            "          18       0.81      0.65      0.72        20\n",
            "          19       0.63      0.71      0.67       133\n",
            "          20       0.54      0.51      0.53        70\n",
            "          21       0.77      0.74      0.75        27\n",
            "          22       0.00      0.00      0.00         7\n",
            "          23       0.50      0.25      0.33        12\n",
            "          24       0.67      0.32      0.43        19\n",
            "          25       0.83      0.65      0.73        31\n",
            "          26       0.83      0.62      0.71         8\n",
            "          27       1.00      0.25      0.40         4\n",
            "          28       0.67      0.20      0.31        10\n",
            "          29       0.40      0.50      0.44         4\n",
            "          30       0.83      0.42      0.56        12\n",
            "          31       0.75      0.46      0.57        13\n",
            "          32       1.00      0.50      0.67        10\n",
            "          33       1.00      0.80      0.89         5\n",
            "          34       0.80      0.57      0.67         7\n",
            "          35       1.00      0.33      0.50         6\n",
            "          36       0.71      0.45      0.56        11\n",
            "          37       0.00      0.00      0.00         2\n",
            "          38       1.00      0.33      0.50         3\n",
            "          39       0.00      0.00      0.00         5\n",
            "          40       0.67      0.20      0.31        10\n",
            "          41       0.50      0.12      0.20         8\n",
            "          42       0.00      0.00      0.00         3\n",
            "          43       0.75      1.00      0.86         6\n",
            "          44       1.00      0.80      0.89         5\n",
            "          45       0.00      0.00      0.00         1\n",
            "\n",
            "    accuracy                           0.79      2246\n",
            "   macro avg       0.70      0.48      0.53      2246\n",
            "weighted avg       0.79      0.79      0.78      2246\n",
            "\n"
          ],
          "name": "stdout"
        },
        {
          "output_type": "stream",
          "text": [
            "/usr/local/lib/python3.6/dist-packages/sklearn/metrics/_classification.py:1272: UndefinedMetricWarning: Precision and F-score are ill-defined and being set to 0.0 in labels with no predicted samples. Use `zero_division` parameter to control this behavior.\n",
            "  _warn_prf(average, modifier, msg_start, len(result))\n"
          ],
          "name": "stderr"
        }
      ]
    }
  ]
}