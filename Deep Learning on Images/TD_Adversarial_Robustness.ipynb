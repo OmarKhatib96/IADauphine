{
  "nbformat": 4,
  "nbformat_minor": 0,
  "metadata": {
    "accelerator": "GPU",
    "colab": {
      "name": "TD Adversarial Robustness.ipynb",
      "provenance": [],
      "collapsed_sections": []
    },
    "kernelspec": {
      "display_name": "Python 3",
      "language": "python",
      "name": "python3"
    },
    "language_info": {
      "codemirror_mode": {
        "name": "ipython",
        "version": 3
      },
      "file_extension": ".py",
      "mimetype": "text/x-python",
      "name": "python",
      "nbconvert_exporter": "python",
      "pygments_lexer": "ipython3",
      "version": "3.8.3"
    }
  },
  "cells": [
    {
      "cell_type": "code",
      "metadata": {
        "id": "GKXtjue7P8me"
      },
      "source": [
        "%%capture\n",
        "\n",
        "!pip install mlflow"
      ],
      "execution_count": null,
      "outputs": []
    },
    {
      "cell_type": "code",
      "metadata": {
        "id": "MtBuT9Qsr8YA"
      },
      "source": [
        "import torch\n",
        "import torchvision.datasets as dset\n",
        "import torchvision.transforms as transforms\n",
        "import torch.nn.functional as F\n",
        "import torchvision.models as models\n",
        "from torch import nn, optim, no_grad\n",
        "\n",
        "from sklearn import datasets\n",
        "from time import time\n",
        "import os\n",
        "import mlflow\n",
        "import numpy as np\n",
        "import pandas as pd\n",
        "import matplotlib.pyplot as plt\n",
        "from operator import itemgetter\n",
        "\n",
        "torch.set_default_tensor_type(torch.DoubleTensor) "
      ],
      "execution_count": null,
      "outputs": []
    },
    {
      "cell_type": "code",
      "metadata": {
        "colab": {
          "base_uri": "https://localhost:8080/"
        },
        "id": "RZssMsbxgESU",
        "outputId": "5db9dc9e-08b3-490f-b473-947ed2ba4205"
      },
      "source": [
        "# CUDA for PyTorch\n",
        "use_cuda = torch.cuda.is_available()\n",
        "device = torch.device(\"cuda:0\" if use_cuda else \"cpu\")\n",
        "print(\"device is \", device)"
      ],
      "execution_count": null,
      "outputs": [
        {
          "output_type": "stream",
          "text": [
            "device is  cuda:0\n"
          ],
          "name": "stdout"
        }
      ]
    },
    {
      "cell_type": "code",
      "metadata": {
        "id": "YKr-oLF5Q6R6",
        "colab": {
          "base_uri": "https://localhost:8080/"
        },
        "outputId": "7b83d293-477d-42de-d165-6cdea3a25fd2"
      },
      "source": [
        "from google.colab import drive\n",
        "drive.mount(\"/content/gdrive\")"
      ],
      "execution_count": null,
      "outputs": [
        {
          "output_type": "stream",
          "text": [
            "Drive already mounted at /content/gdrive; to attempt to forcibly remount, call drive.mount(\"/content/gdrive\", force_remount=True).\n"
          ],
          "name": "stdout"
        }
      ]
    },
    {
      "cell_type": "code",
      "metadata": {
        "id": "8pbBRCuMsJcm",
        "colab": {
          "base_uri": "https://localhost:8080/"
        },
        "outputId": "d7cbf9ae-c12f-4a2e-d296-f149532e5819"
      },
      "source": [
        "#@title Paramètres MLFlow { display-mode: \"form\" }\n",
        "mlflow_tracking_uri = \"https://mlflow-iasd.herokuapp.com\" #@param {type:\"string\"}\n",
        "experiment_name = \"adversarial_robustness_t.ricatte\" #@param {type:\"string\"}\n",
        "\n",
        "mlflow.set_tracking_uri(mlflow_tracking_uri)\n",
        "mlflow.set_experiment(experiment_name)"
      ],
      "execution_count": null,
      "outputs": [
        {
          "output_type": "stream",
          "text": [
            "INFO: 'adversarial_robustness_t.ricatte' does not exist. Creating a new experiment\n"
          ],
          "name": "stdout"
        }
      ]
    },
    {
      "cell_type": "markdown",
      "metadata": {
        "id": "tsVOp7jUP8mk"
      },
      "source": [
        "# Utilitaries\n",
        "\n",
        "In this section, we define useful fonctions for the TP. No need to change anything here."
      ]
    },
    {
      "cell_type": "markdown",
      "metadata": {
        "id": "88b1AJTsP8ml"
      },
      "source": [
        "### Dataset\n",
        "\n",
        "Here we load the convenient dataset (MNIST) and make it useable (by rescaling each pixel between 0 and 1 for example)"
      ]
    },
    {
      "cell_type": "code",
      "metadata": {
        "id": "UAQwEkUzP8ml"
      },
      "source": [
        "%%capture\n",
        "\n",
        "# We specify the location of the data to load and the transformation to apply to the data\n",
        "_root = \"./data\"\n",
        "_trans = transforms.Compose(\n",
        "    [\n",
        "        transforms.ToTensor(),\n",
        "        transforms.Normalize((0.0,), (1.0,)),\n",
        "        transforms.Lambda(lambda x: x.to(device))\n",
        "    ]\n",
        ")\n",
        "# Load the data! We use MNIST\n",
        "train_dataset = dset.MNIST(root=_root, train=True, transform=_trans, download=True)\n",
        "test_and_val_dataset = dset.MNIST(root=_root, train=False, transform=_trans, download=True)\n",
        "\n",
        "# Now we separate the \"test and val\" dataset between validation and test datasets\n",
        "val_dataset = list()\n",
        "test_dataset = list()\n",
        "validation_size = 1000\n",
        "for i, x in enumerate(test_and_val_dataset):\n",
        "    if i < validation_size:\n",
        "        val_dataset.append(x)\n",
        "    else:\n",
        "        test_dataset.append(x)"
      ],
      "execution_count": null,
      "outputs": []
    },
    {
      "cell_type": "code",
      "metadata": {
        "id": "czlaX_42P8mm"
      },
      "source": [
        "# Create the loaders\n",
        "train_loader = torch.utils.data.DataLoader(dataset=train_dataset, batch_size=128, shuffle=True, num_workers=0)\n",
        "test_loader = torch.utils.data.DataLoader(dataset=test_dataset, shuffle=True, batch_size=1, num_workers=0)\n",
        "val_loader = torch.utils.data.DataLoader(dataset=val_dataset, batch_size=1000, shuffle=True, num_workers=0)"
      ],
      "execution_count": null,
      "outputs": []
    },
    {
      "cell_type": "markdown",
      "metadata": {
        "id": "quPMTuaNP8mm"
      },
      "source": [
        "### Model"
      ]
    },
    {
      "cell_type": "code",
      "metadata": {
        "id": "KwSKRrxEP8mm"
      },
      "source": [
        "#@title TODO: Implement a simple torch model (e.g. LeNet) { display-mode: \"form\" }\n",
        "# We define a MNIST LeNet model\n",
        "class LeNet(nn.Module):\n",
        "    def __init__(self):\n",
        "        super(LeNet, self).__init__()\n",
        "        self.conv1 = nn.Conv2d(1, 10, kernel_size=5)\n",
        "        self.conv2 = nn.Conv2d(10, 20, kernel_size=5)\n",
        "        self.conv2_drop = nn.Dropout2d()\n",
        "        self.fc1 = nn.Linear(320, 50)\n",
        "        self.fc2 = nn.Linear(50, 10)\n",
        "\n",
        "    def forward(self, x):\n",
        "        #x = x.view(-1, 1, 28 * 28)\n",
        "        x = F.relu(F.max_pool2d(self.conv1(x), 2))\n",
        "        x = F.relu(F.max_pool2d(self.conv2_drop(self.conv2(x)), 2))\n",
        "        x = x.view(-1, 320)\n",
        "        x = F.relu(self.fc1(x))\n",
        "        x = F.dropout(x, training=self.training)\n",
        "        x = self.fc2(x)\n",
        "        return F.log_softmax(x)"
      ],
      "execution_count": null,
      "outputs": []
    },
    {
      "cell_type": "code",
      "metadata": {
        "colab": {
          "base_uri": "https://localhost:8080/"
        },
        "id": "u2ZOWHO-wEFh",
        "outputId": "6b49d326-29a6-4bba-84b7-cccb0aee6db2"
      },
      "source": [
        "x = torch.from_numpy(np.random.randn(2))\n",
        "x.requires_grad = True\n",
        "print(x)\n",
        "\n",
        "# z = x_1^2 + x_2^2\n",
        "z = torch.sum(x**2)\n",
        "print(z)\n",
        "z.backward() # calcule le gradient\n",
        "\n",
        "# dz/dx_1 = 2*x_1\n",
        "# dz/dx_2 = 2*x_2\n",
        "print(x.grad)"
      ],
      "execution_count": null,
      "outputs": [
        {
          "output_type": "stream",
          "text": [
            "tensor([-0.6225,  0.6177], requires_grad=True)\n",
            "tensor(0.7691, grad_fn=<SumBackward0>)\n",
            "tensor([-1.2450,  1.2354])\n"
          ],
          "name": "stdout"
        }
      ]
    },
    {
      "cell_type": "code",
      "metadata": {
        "id": "l-VGIKRCw1At"
      },
      "source": [
        ""
      ],
      "execution_count": null,
      "outputs": []
    },
    {
      "cell_type": "code",
      "metadata": {
        "colab": {
          "base_uri": "https://localhost:8080/"
        },
        "id": "Q56xsmnvw_2I",
        "outputId": "d51af545-3482-4fae-8e78-ccb7e6e41ff4"
      },
      "source": [
        ""
      ],
      "execution_count": null,
      "outputs": [
        {
          "output_type": "stream",
          "text": [
            "tensor([-0.8518, -0.1141], requires_grad=True)\n",
            "tensor([-1.7037, -0.2283])\n"
          ],
          "name": "stdout"
        }
      ]
    },
    {
      "cell_type": "code",
      "metadata": {
        "colab": {
          "base_uri": "https://localhost:8080/"
        },
        "id": "la3k_3KcyA5z",
        "outputId": "dade5e88-bd89-45ac-b4ce-d274f115f434"
      },
      "source": [
        "x = torch.tensor(1.0, requires_grad = True)\n",
        "z = x ** 3\n",
        "z.backward() #Computes the gradient \n",
        "print(x.grad.data)"
      ],
      "execution_count": null,
      "outputs": [
        {
          "output_type": "stream",
          "text": [
            "tensor(3.)\n"
          ],
          "name": "stdout"
        }
      ]
    },
    {
      "cell_type": "markdown",
      "metadata": {
        "id": "CPrP0c_SP8mn"
      },
      "source": [
        "### Training"
      ]
    },
    {
      "cell_type": "code",
      "metadata": {
        "id": "hqz8On4cP8mn"
      },
      "source": [
        "def compute_accuracy(model, loader):\n",
        "    correct = 0\n",
        "    model.eval()\n",
        "    with no_grad():\n",
        "        for data, target in loader:\n",
        "            data = data.double()\n",
        "            output = model(data)\n",
        "            pred = output.argmax(dim=1, keepdim=True)\n",
        "            correct += pred.eq(target.to(device).view_as(pred)).sum().item()\n",
        "    acc = correct / len(loader.dataset)\n",
        "    return acc"
      ],
      "execution_count": null,
      "outputs": []
    },
    {
      "cell_type": "code",
      "metadata": {
        "id": "d4ng3v-tP8mo"
      },
      "source": [
        "def go_training(x,y, model, optimizer, loss_func, adv, eps):\n",
        "    x = x.double()\n",
        "    optimizer.zero_grad()\n",
        "    if not adv:\n",
        "        y_pred = model(x)\n",
        "        loss = loss_func(y_pred, y.to(device))\n",
        "        loss.backward()\n",
        "        optimizer.step()\n",
        "    elif adv:\n",
        "        raise NotImplementedError()"
      ],
      "execution_count": null,
      "outputs": []
    },
    {
      "cell_type": "code",
      "metadata": {
        "id": "OeIqCQVDP8mo"
      },
      "source": [
        "def train_network(model, train_loader, val_loader, loss_func, epochs, adv=False, eps=0.15):\n",
        "    lr = 0.001\n",
        "    patience = 20\n",
        "    optimizer = optim.Adam(model.parameters(), lr=lr, betas=(0.9, 0.99))\n",
        "    scheduler = optim.lr_scheduler.ReduceLROnPlateau(optimizer, mode=\"min\", patience=patience, verbose=True, factor=0.5)\n",
        "    model = model.to(device)\n",
        "    \n",
        "    loss_history = []\n",
        "    t = time()\n",
        "    with mlflow.start_run(run_name=\"training\"):\n",
        "\n",
        "      mlflow.log_param(\"adv\", adv)\n",
        "      mlflow.log_param(\"eps\", eps)\n",
        "      mlflow.log_param(\"epochs\", epochs)\n",
        "\n",
        "\n",
        "      for epoch in range(epochs):\n",
        "          print(f\"Starting epoch {epoch} ({time()-t} secs) and lr = {[param['lr'] for param in optimizer.param_groups]}\")\n",
        "          t = time()\n",
        "          \n",
        "          for x, y in train_loader:\n",
        "              go_training(x, y.to(device), model, optimizer, loss_func, adv, eps)\n",
        "          \n",
        "          for x_val, y_val in val_loader:\n",
        "              x_val = x_val.double()\n",
        "              y_val_pred = model(x_val)\n",
        "              val_loss = loss_func(y_val_pred, y_val.to(device))\n",
        "              print(f\"Validation loss = {np.around(val_loss.item(), decimals=4)}\")\n",
        "              mlflow.log_metric(\"val_loss\", val_loss.item(), step=epoch)\n",
        "              loss_history.append(val_loss.item())\n",
        "          scheduler.step(val_loss)\n",
        "          \n",
        "          if epoch % 10 == 9:\n",
        "              val_acc = compute_accuracy(model, val_loader)\n",
        "              print(f\"Validation accuracy = {val_acc}\")\n",
        "              mlflow.log_metric(\"val_acc\", val_acc, step=epoch)\n",
        "    \n",
        "    return model, loss_history"
      ],
      "execution_count": null,
      "outputs": []
    },
    {
      "cell_type": "code",
      "metadata": {
        "id": "WvNO-JtjP8mo"
      },
      "source": [
        "def get_deep_model(epochs, path=None, adv=False, eps=0.15, cls=LeNet):\n",
        "    loss_func = nn.CrossEntropyLoss()\n",
        "    if not adv:\n",
        "        adv_message = \"\"\n",
        "    else:\n",
        "        adv_message = \"_adv_training_eps_\"+str(eps)+\"_\"\n",
        "    if path == None:\n",
        "        model_path = \"/content/gdrive/MyDrive/trained_models\"+\"/MNIST_LeNet_\"+str(epochs)+\"_epochs\"+adv_message+\".model\"\n",
        "    else:\n",
        "        model_path = path\n",
        "    if not os.path.exists(\"/content/gdrive/MyDrive/trained_models\"):\n",
        "        os.mkdir(\"/content/gdrive/MyDrive/trained_models\")\n",
        "    try:\n",
        "        model = torch.load(model_path)\n",
        "        print(f\"Successfully loaded {model_path}\")\n",
        "    except:\n",
        "        print(f\"Retraining {model_path}\")\n",
        "        model = cls()\n",
        "        model, loss_history = train_network(model, train_loader, val_loader, loss_func, epochs, adv, eps)\n",
        "        torch.save(model, model_path)\n",
        "    print(f\"Test accuracy = {compute_accuracy(model, test_loader)}\")\n",
        "    \n",
        "    return model"
      ],
      "execution_count": null,
      "outputs": []
    },
    {
      "cell_type": "code",
      "metadata": {
        "id": "LrIjQek-P8mq",
        "colab": {
          "base_uri": "https://localhost:8080/"
        },
        "outputId": "2b87e909-924a-420d-b7ad-2e25af938c60"
      },
      "source": [
        "epochs = 10\n",
        "model = get_deep_model(epochs)"
      ],
      "execution_count": null,
      "outputs": [
        {
          "output_type": "stream",
          "text": [
            "Successfully loaded /content/gdrive/MyDrive/trained_models/MNIST_LeNet_10_epochs.model\n"
          ],
          "name": "stdout"
        },
        {
          "output_type": "stream",
          "text": [
            "/usr/local/lib/python3.7/dist-packages/ipykernel_launcher.py:20: UserWarning: Implicit dimension choice for log_softmax has been deprecated. Change the call to include dim=X as an argument.\n"
          ],
          "name": "stderr"
        },
        {
          "output_type": "stream",
          "text": [
            "Test accuracy = 0.9862222222222222\n"
          ],
          "name": "stdout"
        }
      ]
    },
    {
      "cell_type": "code",
      "metadata": {
        "id": "AejNnfjLP8mr"
      },
      "source": [
        "x_examples, y_examples = list(map(itemgetter(0), test_dataset)), list(map(itemgetter(1), test_dataset))\n",
        "x_examples = torch.stack(x_examples).view(-1,28,28).cpu().numpy()"
      ],
      "execution_count": null,
      "outputs": []
    },
    {
      "cell_type": "markdown",
      "metadata": {
        "id": "tAOyraLIP8mr"
      },
      "source": [
        "# First, looking at the data"
      ]
    },
    {
      "cell_type": "markdown",
      "metadata": {
        "id": "bdnb9GULP8mr"
      },
      "source": [
        "Before starting with whatever we want to do, it is important to always have a look to the data, to understand what we are looking at, what kind of shape it has, etc.\n",
        "\n",
        "Here, we start with a very simple code snippet thait aims at visualizing the data.\n",
        "\n",
        "[WHAT YOU HAVE TO DO] Based on this simple code snippet, complete the function \"show_dataset_and_predictions\" to display the image, the true label of the image and the prediction made by the model.\n",
        "\n",
        "You may need to use:\n",
        "- torch.from_numpy(x) --> it convert a numpy array a to a pytorch tensor\n",
        "- x.view(dim0, dim1, dim2, ...) --> it quickly reshape a pytorch tensor according to the dimension given\n",
        "- x.double() --> it converts x to a \"double\" type of data\n",
        "- x.detach()\n",
        "- x.numpy() --> it converts a pytorch tensor to a numpy array"
      ]
    },
    {
      "cell_type": "code",
      "metadata": {
        "id": "TStqkd_BP8ms",
        "colab": {
          "base_uri": "https://localhost:8080/",
          "height": 465
        },
        "outputId": "089a485a-0c34-4818-ac39-45704744927a"
      },
      "source": [
        "plt.figure(figsize=(16, 8))\n",
        "for i in range(0, 18):\n",
        "    plt.subplot(3, 6, i + 1)\n",
        "    plt.imshow(x_examples[i], cmap=\"gray\")\n",
        "    plt.axis(\"off\")\n",
        "plt.show()"
      ],
      "execution_count": null,
      "outputs": [
        {
          "output_type": "display_data",
          "data": {
            "image/png": "[encoded data removed]",
            "text/plain": [
              "<Figure size 1152x576 with 18 Axes>"
            ]
          },
          "metadata": {
            "tags": [],
            "needs_background": "light"
          }
        }
      ]
    },
    {
      "cell_type": "code",
      "metadata": {
        "id": "eCgLSvmiP8ms"
      },
      "source": [
        "def show_dataset_and_predictions(x, y, model):\n",
        "    plt.figure(figsize=(16, 8))\n",
        "    for i in range(0, 18):\n",
        "        plt.subplot(3, 6, i + 1)\n",
        "        plt.imshow(x[i], cmap=\"gray\")\n",
        "            \n",
        "        # Here\n",
        "        plt.text(0, 2, s=f\"y_true={y[i]}\",\n",
        "              bbox=dict(facecolor='blue', alpha=0.9),\n",
        "              color=\"white\")\n",
        "        prediction = model(torch.from_numpy(x[i]).to(device).view(-1,1,28,28).double()).cpu().detach().numpy()\n",
        "        prediction = np.argmax(prediction)\n",
        "\n",
        "        color = \"green\" if prediction == y[i] else \"red\"\n",
        "        plt.text(0, 26, s=f\"y_pred={prediction}\",\n",
        "              bbox=dict(facecolor=color, alpha=0.9),\n",
        "              color=\"white\")\n",
        "\n",
        "        plt.axis(\"off\")\n",
        "    plt.show()    "
      ],
      "execution_count": null,
      "outputs": []
    },
    {
      "cell_type": "code",
      "metadata": {
        "id": "wz6EgjnVP8ms",
        "colab": {
          "base_uri": "https://localhost:8080/",
          "height": 482
        },
        "outputId": "58fa9485-0dc0-4411-99ee-5d8a6dd0dc52"
      },
      "source": [
        "# Check if what you did works\n",
        "show_dataset_and_predictions(x_examples, y_examples, model)"
      ],
      "execution_count": null,
      "outputs": [
        {
          "output_type": "stream",
          "text": [
            "/usr/local/lib/python3.7/dist-packages/ipykernel_launcher.py:20: UserWarning: Implicit dimension choice for log_softmax has been deprecated. Change the call to include dim=X as an argument.\n"
          ],
          "name": "stderr"
        },
        {
          "output_type": "display_data",
          "data": {
            "image/png": "[encoded data removed]",
            "text/plain": [
              "<Figure size 1152x576 with 18 Axes>"
            ]
          },
          "metadata": {
            "tags": [],
            "needs_background": "light"
          }
        }
      ]
    },
    {
      "cell_type": "markdown",
      "metadata": {
        "id": "HNfY7CjXP8mt"
      },
      "source": [
        "# An easy adversarial attack\n",
        "\n",
        "Now we know a bit more how our data looks like, let us dive a bit more into adversarial robustness. First things first, if we want to study the robustness of our model, we need an attack...\n",
        "\n",
        "## FGSM\n",
        "\n",
        "FGSM is a widely used attack and still a state-of-the-art one because 1) It is very easy to understand and to implement, 2) It is really quick to run and 3) It works kind of well.\n",
        "\n",
        "As a reminder, FGSM works as follows:\n",
        "- It has a parameter \"epsilon\" which controls the strength of the attack\n",
        "- FGSM is going to add epsilon to the input in the same direction of the gradient of the loss function of our model in that input (the idea is that we want to make the loss function higher, so we go in the same direction)"
      ]
    },
    {
      "cell_type": "code",
      "metadata": {
        "id": "zANYyGBlP8mt"
      },
      "source": [
        "#@title TODO: Complete the function 'fgsm_attack' to implement the attack { display-mode: \"form\" }\n",
        "def fgsm_attack(model, x, y, epsilon):\n",
        "    if type(x) is np.ndarray:\n",
        "        x = torch.from_numpy(x).view(-1,1,28,28).double()\n",
        "    else:\n",
        "        x = x.view(-1,1,28,28).double()\n",
        "    if isinstance(y, int):\n",
        "        y = torch.from_numpy(np.array([y]))\n",
        "    elif type(y) is np.ndarray:\n",
        "        y = torch.from_numpy(y)\n",
        "    loss_func = nn.CrossEntropyLoss()\n",
        "\n",
        "    x = x.to(device)\n",
        "    y = y.to(device)\n",
        "\n",
        "    x.requires_grad = True\n",
        "            \n",
        "    y_pred = model(x)\n",
        "    model.zero_grad()\n",
        "    loss = loss_func(y_pred, y)\n",
        "    loss.backward()\n",
        "    \n",
        "    x_adv = x + epsilon*x.grad.sign()\n",
        "    x_adv = torch.clamp(x_adv, 0, 1)\n",
        "    \n",
        "    return x_adv"
      ],
      "execution_count": null,
      "outputs": []
    },
    {
      "cell_type": "code",
      "metadata": {
        "id": "5-hhAp3SxnZJ"
      },
      "source": [
        "def fgsm_attack(model, x, y, epsilon):\n",
        "    ..."
      ],
      "execution_count": null,
      "outputs": []
    },
    {
      "cell_type": "code",
      "metadata": {
        "id": "5Tm2nE9vdmhz"
      },
      "source": [
        "# FYI here's how it looks in tensorflow / keras\n",
        "\n",
        "# def fgsm(x_numpy, y_numpy, epsilon, model=model):\n",
        "#  x = tf.constant(np.expand_dims(x_numpy, 0), dtype=tf.float32)\n",
        "#  y = tf.constant(tf.one_hot(y_numpy, 10))\n",
        "#  with tf.GradientTape() as g: \n",
        "#    g.watch(x)\n",
        "#    prediction = model(x)\n",
        "#    loss_func = tf.keras.losses.CategoricalCrossentropy()\n",
        "#    loss_value = loss_func(y, prediction)\n",
        "#    perturbation = np.sign(g.gradient(loss_value, x))\n",
        "#    x_attack = x_numpy + epsilon * np.squeeze(perturbation, 0)\n",
        "#    x_attack = np.clip(np.floor(x_attack), 0, 255)\n",
        "#  return x_attack\n",
        "    "
      ],
      "execution_count": null,
      "outputs": []
    },
    {
      "cell_type": "code",
      "metadata": {
        "id": "ORqgr2O-P8mt",
        "colab": {
          "base_uri": "https://localhost:8080/",
          "height": 482
        },
        "outputId": "3c2c4b72-62ce-4b4f-91b3-6d2fb9255967"
      },
      "source": [
        "epsilon = 0.01\n",
        "x_advs = []\n",
        "plt.figure(figsize=(16, 8))\n",
        "for i in range(0, 18):\n",
        "    x_advs.append(fgsm_attack(model, x_examples[i], y_examples[i], epsilon).view(28,28).cpu().detach().numpy())\n",
        "    plt.subplot(3, 6, i + 1)\n",
        "    plt.imshow(x_advs[i], cmap=\"gray\")\n",
        "    plt.axis(\"off\")\n",
        "plt.show()"
      ],
      "execution_count": null,
      "outputs": [
        {
          "output_type": "stream",
          "text": [
            "/usr/local/lib/python3.7/dist-packages/ipykernel_launcher.py:20: UserWarning: Implicit dimension choice for log_softmax has been deprecated. Change the call to include dim=X as an argument.\n"
          ],
          "name": "stderr"
        },
        {
          "output_type": "display_data",
          "data": {
            "image/png": "[encoded data removed]",
            "text/plain": [
              "<Figure size 1152x576 with 18 Axes>"
            ]
          },
          "metadata": {
            "tags": [],
            "needs_background": "light"
          }
        }
      ]
    },
    {
      "cell_type": "markdown",
      "metadata": {
        "id": "azapQ6haP8mt"
      },
      "source": [
        "Now that we have implemented FGSM, let's check is relevance on some examples.\n",
        "\n",
        "We want to run the FGSM on as many examples from x_examples as needed to call the function \"show_dataset_and_predictions\" so that we have:\n",
        "- adversarial images displayed (not \"clean\" ones)\n",
        "- the true label (of the \"clean\" image)\n",
        "- the prediction of the adversarial image"
      ]
    },
    {
      "cell_type": "code",
      "metadata": {
        "id": "-YBKu2hEP8mu",
        "colab": {
          "base_uri": "https://localhost:8080/",
          "height": 482
        },
        "outputId": "7edc88b9-64f9-4168-82ac-cec58e05b072"
      },
      "source": [
        "#@title [TODO] Run the FGSM on as many examples from x_examples as needed to call the function \n",
        "epsilon = 0.05\n",
        "y_advs = []\n",
        "x_advs = []\n",
        "for i in range(0, 18):\n",
        "    x_adv = fgsm_attack(model, x_examples[i], y_examples[i], epsilon)\n",
        "    x_advs.append(x_adv.view(28,28).cpu().detach().numpy())\n",
        "    y_pred_adv = model(x_adv)\n",
        "    y_advs.append(y_pred_adv.argmax(dim=1, keepdim=True))\n",
        "\n",
        "show_dataset_and_predictions(x_advs, y_examples, model)"
      ],
      "execution_count": null,
      "outputs": [
        {
          "output_type": "stream",
          "text": [
            "/usr/local/lib/python3.7/dist-packages/ipykernel_launcher.py:20: UserWarning: Implicit dimension choice for log_softmax has been deprecated. Change the call to include dim=X as an argument.\n"
          ],
          "name": "stderr"
        },
        {
          "output_type": "display_data",
          "data": {
            "image/png": "[encoded data removed]",
            "text/plain": [
              "<Figure size 1152x576 with 18 Axes>"
            ]
          },
          "metadata": {
            "tags": [],
            "needs_background": "light"
          }
        }
      ]
    },
    {
      "cell_type": "code",
      "metadata": {
        "id": "VatMpcQQyYOc"
      },
      "source": [
        "epsilon = 0.2\n",
        "y_advs = []\n",
        "x_advs = []\n",
        "\n",
        "..."
      ],
      "execution_count": null,
      "outputs": []
    },
    {
      "cell_type": "markdown",
      "metadata": {
        "id": "pk-rf534P8mu"
      },
      "source": [
        "Now that we have a better idea of how good FGSM is, it is time to check that on more than a few visual examples. Here, we are going to run FGSM at a larger scale on our test datasets, and measure how accuracy changes with different epsilon paramaters."
      ]
    },
    {
      "cell_type": "code",
      "metadata": {
        "id": "J7ltVnMvP8mu"
      },
      "source": [
        "#@title [WHAT YOU NEED TO DO] Complete the following function to run FGSM on the complete test dataset and compute its accuracy. Then, plot the accuracy as a function of epsilon (the strength parameter of the attack). { display-mode: \"form\" }\n",
        "def run_attack(model, test_loader, epsilon):\n",
        "    loss_func = nn.CrossEntropyLoss()\n",
        "    correct = 0\n",
        "    adv_examples = []\n",
        "\n",
        "    total_clean_correct = 0\n",
        "    total_adv_correct = 0\n",
        "    for x, y in test_loader:\n",
        "        #x.requires_grad = True\n",
        "        y = y.to(device)\n",
        "        x = x.double()\n",
        "        y_pred = model(x)\n",
        "        y_init_pred = y_pred.argmax(dim=1, keepdim=True)\n",
        "        \n",
        "        # How many good predictions model make on the current batch\n",
        "        #init_correct = sum([1 for i in range(len(y)) if y[i] == y_init_pred[i]])\n",
        "\n",
        "        x_adv = fgsm_attack(model, x, y, epsilon)\n",
        "        y_pred_adv = model(x_adv)\n",
        "\n",
        "        # Check for success\n",
        "        y_final_pred_adv = y_pred_adv.argmax(dim=1, keepdim=True)\n",
        "        adv_correct = sum([1 for i in range(len(y)) if (y[i] == y_final_pred_adv[i]) and (y[i] == y_init_pred[i])])\n",
        "        \n",
        "        #total_clean_correct += init_correct\n",
        "        total_adv_correct += adv_correct\n",
        "\n",
        "    #print(f\"Adv correct = {total_adv_correct}\")\n",
        "    return total_adv_correct/float(len(test_loader))"
      ],
      "execution_count": null,
      "outputs": []
    },
    {
      "cell_type": "code",
      "metadata": {
        "id": "haQIjotozB0t"
      },
      "source": [
        "def run_attack(model, test_loader, epsilon):\n",
        "    ...\n",
        "    \n",
        "    return adversarial_accuracy"
      ],
      "execution_count": null,
      "outputs": []
    },
    {
      "cell_type": "code",
      "metadata": {
        "id": "cJQmidhqP8mv"
      },
      "source": [
        "epsilon = 0.2\n",
        "run_attack(model, test_loader, epsilon)"
      ],
      "execution_count": null,
      "outputs": []
    },
    {
      "cell_type": "code",
      "metadata": {
        "id": "dxAiA7qLP8mv",
        "colab": {
          "base_uri": "https://localhost:8080/",
          "height": 546
        },
        "outputId": "5d6791b5-ba2b-4cfa-9e5a-c96fb578b416"
      },
      "source": [
        "epsilons = [0, 0.01, 0.05, 0.1, 0.15, 0.2, 0.3, 0.4, 0.5, 0.6, 0.7]\n",
        "adv_accs = []\n",
        "with mlflow.start_run(run_name=\"robustness\"):\n",
        "  mlflow.log_param(\"epsilons\", epsilons)\n",
        "  for i, epsilon in enumerate(epsilons):\n",
        "      adv_acc = run_attack(model, test_loader, epsilon)\n",
        "      mlflow.log_metric(\"adv_accuracy\", adv_acc, step=i)\n",
        "      adv_accs.append(adv_acc)\n",
        "\n",
        "plt.figure(figsize=(16, 8))\n",
        "plt.plot(epsilons, adv_accs, \"o-\")\n",
        "plt.xlabel(\"FGSM strength epsilon\")\n",
        "plt.ylabel(\"Accuracy\")\n",
        "plt.title(\"Adversarial accuracy under FGSM\")\n",
        "plt.plot()"
      ],
      "execution_count": null,
      "outputs": [
        {
          "output_type": "stream",
          "text": [
            "/usr/local/lib/python3.7/dist-packages/ipykernel_launcher.py:20: UserWarning: Implicit dimension choice for log_softmax has been deprecated. Change the call to include dim=X as an argument.\n"
          ],
          "name": "stderr"
        },
        {
          "output_type": "execute_result",
          "data": {
            "text/plain": [
              "[]"
            ]
          },
          "metadata": {
            "tags": []
          },
          "execution_count": 173
        },
        {
          "output_type": "display_data",
          "data": {
            "image/png": "[encoded data removed]",
            "text/plain": [
              "<Figure size 1152x576 with 1 Axes>"
            ]
          },
          "metadata": {
            "tags": [],
            "needs_background": "light"
          }
        }
      ]
    },
    {
      "cell_type": "markdown",
      "metadata": {
        "id": "h1wEe5RjP8mv"
      },
      "source": [
        "# Visualizing adversarial perturbation\n",
        "\n",
        "What does the adversarial perturbation look like? Can we see a pattern, can we deduce interesting stuff from there?\n",
        "\n",
        "To try to answer this questions, we will first zoom on the adversarial perturbation."
      ]
    },
    {
      "cell_type": "code",
      "metadata": {
        "id": "e6iIo9CMP8mw",
        "colab": {
          "base_uri": "https://localhost:8080/",
          "height": 344
        },
        "outputId": "5f10fdbc-8a30-4c80-8fe9-c6f0a0079dc0"
      },
      "source": [
        "#@title [WHAT YOU NEED TO DO] Plot a clean image, its corresponding perturbation and the corresponding adversarial image side by side { display-mode: \"form\" }\n",
        "epsilon = 0.2\n",
        "i = 31\n",
        "\n",
        "x = x_examples[i]\n",
        "x_adv = fgsm_attack(model, x, y_examples[i], epsilon)\n",
        "print(f\"Is the attack successful? {(model(x_adv).argmax(dim=1, keepdim=True) != y_examples[i])}\")\n",
        "perturbation = (torch.from_numpy(x).to(device) - x_adv).view(28,28).cpu().detach().numpy()\n",
        "\n",
        "plt.figure(figsize=(16, 8))\n",
        "plt.subplot(1, 3, 1)\n",
        "plt.imshow(x, cmap=\"gray\")\n",
        "plt.subplot(1, 3, 2)\n",
        "plt.imshow(-1/epsilon * perturbation, cmap=\"gray\")\n",
        "plt.subplot(1, 3, 3)\n",
        "plt.imshow(x_adv.cpu().view(28,28).detach().numpy(), cmap=\"gray\")\n",
        "plt.text(0, 26, s=f\"adv_pred={int(model(x_adv).argmax(dim=1, keepdim=True))}\",\n",
        "              bbox=dict(facecolor=\"red\", alpha=0.9),\n",
        "              color=\"white\")\n",
        "plt.axis(\"off\")\n",
        "plt.show()"
      ],
      "execution_count": null,
      "outputs": [
        {
          "output_type": "stream",
          "text": [
            "/usr/local/lib/python3.7/dist-packages/ipykernel_launcher.py:20: UserWarning: Implicit dimension choice for log_softmax has been deprecated. Change the call to include dim=X as an argument.\n"
          ],
          "name": "stderr"
        },
        {
          "output_type": "stream",
          "text": [
            "Is the attack successful? tensor([[True]], device='cuda:0')\n"
          ],
          "name": "stdout"
        },
        {
          "output_type": "display_data",
          "data": {
            "image/png": "[encoded data removed]",
            "text/plain": [
              "<Figure size 1152x576 with 3 Axes>"
            ]
          },
          "metadata": {
            "tags": [],
            "needs_background": "light"
          }
        }
      ]
    },
    {
      "cell_type": "code",
      "metadata": {
        "id": "FS0T0Tcu1X8l"
      },
      "source": [
        "..."
      ],
      "execution_count": null,
      "outputs": []
    },
    {
      "cell_type": "markdown",
      "metadata": {
        "id": "kyETUdOxP8mw"
      },
      "source": [
        "We realize that the attack is quite able to identify the true label, as shown by the black pixels in the perturbation... But it is difficult to see where the adversarial label comes from."
      ]
    },
    {
      "cell_type": "markdown",
      "metadata": {
        "id": "ApSiKxAzP8mw"
      },
      "source": [
        "### Saliency map\n",
        "\n",
        "Saliency maps are a way to visualize which pixels of the input image are important to the model to make the prediction. Here, we will show that on a \"normal\" model, the saliency maps doesn't show anything obvious, while we have much more convincing information using saliency maps on adversarially trained models. There is thus a link between adversarial examples and interpretability."
      ]
    },
    {
      "cell_type": "code",
      "metadata": {
        "id": "uTuRpi4uP8mw",
        "colab": {
          "base_uri": "https://localhost:8080/",
          "height": 319
        },
        "outputId": "f4e02c52-1c6a-45ce-92b0-66ce995a2164"
      },
      "source": [
        "def saliency_map(x,y, model):\n",
        "\n",
        "    x = torch.from_numpy(x).view(-1,1,28,28).double().to(device)\n",
        "    x.requires_grad = True\n",
        "\n",
        "    pred = model(x)\n",
        "    score, ind = torch.max(pred, 1)\n",
        "    score.backward()\n",
        "    slc, _ = torch.max(torch.abs(x.grad), dim=0)\n",
        "    slc = (slc - slc.min())/(slc.max()-slc.min())\n",
        "\n",
        "    plt.figure(figsize=(10, 10))\n",
        "    plt.subplot(1, 2, 1)\n",
        "    plt.imshow(x.cpu().detach().view(28,28).numpy(), cmap=\"gray\")\n",
        "    plt.subplot(1, 2, 2)\n",
        "    plt.imshow(slc.cpu().view(28,28).numpy(), cmap=\"gray\")\n",
        "    plt.show()\n",
        "    \n",
        "    return slc\n",
        "\n",
        "i = 12\n",
        "slc = saliency_map(x_examples[i],y_examples[i], model)"
      ],
      "execution_count": null,
      "outputs": [
        {
          "output_type": "stream",
          "text": [
            "/usr/local/lib/python3.7/dist-packages/ipykernel_launcher.py:20: UserWarning: Implicit dimension choice for log_softmax has been deprecated. Change the call to include dim=X as an argument.\n"
          ],
          "name": "stderr"
        },
        {
          "output_type": "display_data",
          "data": {
            "image/png": "[encoded data removed]",
            "text/plain": [
              "<Figure size 720x720 with 2 Axes>"
            ]
          },
          "metadata": {
            "tags": [],
            "needs_background": "light"
          }
        }
      ]
    },
    {
      "cell_type": "markdown",
      "metadata": {
        "id": "7gmdiaXKP8mw"
      },
      "source": [
        "# Adversarial Training"
      ]
    },
    {
      "cell_type": "code",
      "metadata": {
        "id": "olKnnsuntVLi"
      },
      "source": [
        "#@title TODO: Update the go_training method for adversarial training { display-mode: \"form\" }\n",
        "def go_training(x,y, model, optimizer, loss_func, adv, eps):\n",
        "    x = x.double()\n",
        "    optimizer.zero_grad()\n",
        "    if not adv:\n",
        "        y_pred = model(x)\n",
        "        loss = loss_func(y_pred, y)\n",
        "        loss.backward()\n",
        "        optimizer.step()\n",
        "    elif adv:\n",
        "        x_adv = fgsm_attack(model, x, y, epsilon=eps)\n",
        "        y_pred_adv = model(x_adv)\n",
        "        loss = loss_func(y_pred_adv, y)\n",
        "        loss.backward()\n",
        "        optimizer.step()"
      ],
      "execution_count": null,
      "outputs": []
    },
    {
      "cell_type": "code",
      "metadata": {
        "id": "NTIWBRM-toZl"
      },
      "source": [
        "def go_training(x,y, model, optimizer, loss_func, adv, eps):\n",
        "    x = x.double()\n",
        "    optimizer.zero_grad()\n",
        "    if not adv:\n",
        "        y_pred = model(x)\n",
        "        loss = loss_func(y_pred, y)\n",
        "        loss.backward()\n",
        "        optimizer.step()\n",
        "    elif adv:\n",
        "        ..."
      ],
      "execution_count": null,
      "outputs": []
    },
    {
      "cell_type": "code",
      "metadata": {
        "id": "pkwUru2QP8mx",
        "colab": {
          "base_uri": "https://localhost:8080/"
        },
        "outputId": "f73f1c33-4025-4811-96dc-e0957e15810b"
      },
      "source": [
        "epochs = 10\n",
        "model_adv = get_deep_model(epochs, adv=True)"
      ],
      "execution_count": null,
      "outputs": [
        {
          "output_type": "stream",
          "text": [
            "Retraining /content/gdrive/MyDrive/trained_models/MNIST_LeNet_10_epochs_adv_training_eps_0.15_.model\n",
            "Starting epoch 0 (1.624352216720581 secs) and lr = [0.001]\n"
          ],
          "name": "stdout"
        },
        {
          "output_type": "stream",
          "text": [
            "/usr/local/lib/python3.7/dist-packages/ipykernel_launcher.py:20: UserWarning: Implicit dimension choice for log_softmax has been deprecated. Change the call to include dim=X as an argument.\n"
          ],
          "name": "stderr"
        },
        {
          "output_type": "stream",
          "text": [
            "Validation loss = 0.3151\n",
            "Starting epoch 1 (16.511779069900513 secs) and lr = [0.001]\n",
            "Validation loss = 0.2389\n",
            "Starting epoch 2 (16.323837757110596 secs) and lr = [0.001]\n",
            "Validation loss = 0.2023\n",
            "Starting epoch 3 (16.524669408798218 secs) and lr = [0.001]\n",
            "Validation loss = 0.1725\n",
            "Starting epoch 4 (16.380590677261353 secs) and lr = [0.001]\n",
            "Validation loss = 0.1675\n",
            "Starting epoch 5 (16.310654163360596 secs) and lr = [0.001]\n",
            "Validation loss = 0.1624\n",
            "Starting epoch 6 (16.268876791000366 secs) and lr = [0.001]\n",
            "Validation loss = 0.1574\n",
            "Starting epoch 7 (16.524538278579712 secs) and lr = [0.001]\n",
            "Validation loss = 0.1289\n",
            "Starting epoch 8 (16.664345502853394 secs) and lr = [0.001]\n",
            "Validation loss = 0.1399\n",
            "Starting epoch 9 (16.792911529541016 secs) and lr = [0.001]\n",
            "Validation loss = 0.1474\n",
            "Validation accuracy = 0.991\n",
            "Test accuracy = 0.9851111111111112\n"
          ],
          "name": "stdout"
        }
      ]
    },
    {
      "cell_type": "code",
      "metadata": {
        "id": "dx7bdDRwP8mx",
        "colab": {
          "base_uri": "https://localhost:8080/",
          "height": 87
        },
        "outputId": "ea417baa-2905-410c-a1b2-7e4eb43ba883"
      },
      "source": [
        "epsilons = [0, 0.01, 0.05, 0.1, 0.15, 0.2, 0.3, 0.4, 0.5, 0.6, 0.7]\n",
        "adv_accs = []\n",
        "with mlflow.start_run(run_name=\"robustness\"):\n",
        "  mlflow.log_param(\"epsilons\", epsilons)\n",
        "  for i, epsilon in enumerate(epsilons):\n",
        "        adv_acc = run_attack(model_adv, test_loader, epsilon)\n",
        "        mlflow.log_metric(\"adv_accuracy\", adv_acc, step=i)\n",
        "        adv_accs.append(adv_acc)\n",
        "\n",
        "\n",
        "plt.figure(figsize=(16, 8))\n",
        "plt.plot(epsilons, adv_accs, \"o-\")\n",
        "plt.xlabel(\"FGSM strength epsilon\")\n",
        "plt.ylabel(\"Accyracy\")\n",
        "plt.title(\"Adversarial accuracy under FGSM\")\n",
        "plt.plot()"
      ],
      "execution_count": null,
      "outputs": [
        {
          "output_type": "stream",
          "text": [
            "/usr/local/lib/python3.7/dist-packages/ipykernel_launcher.py:20: UserWarning: Implicit dimension choice for log_softmax has been deprecated. Change the call to include dim=X as an argument.\n"
          ],
          "name": "stderr"
        },
        {
          "output_type": "execute_result",
          "data": {
            "text/plain": [
              "[]"
            ]
          },
          "metadata": {
            "tags": []
          },
          "execution_count": 191
        },
        {
          "output_type": "display_data",
          "data": {
            "image/png": "[encoded data removed]",
            "text/plain": [
              "<Figure size 1152x576 with 1 Axes>"
            ]
          },
          "metadata": {
            "tags": [],
            "needs_background": "light"
          }
        }
      ]
    },
    {
      "cell_type": "code",
      "metadata": {
        "id": "TnakY_dHP8mx"
      },
      "source": [
        "i = 12\n",
        "slc = saliency_map(x_examples[i],y_examples[i], model_adv)"
      ],
      "execution_count": null,
      "outputs": []
    },
    {
      "cell_type": "code",
      "metadata": {
        "id": "5cWKDyb6S0wU"
      },
      "source": [
        ""
      ],
      "execution_count": null,
      "outputs": []
    }
  ]
}