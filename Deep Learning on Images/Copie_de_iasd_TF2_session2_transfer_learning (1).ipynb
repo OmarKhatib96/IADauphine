{
  "nbformat": 4,
  "nbformat_minor": 0,
  "metadata": {
    "kernelspec": {
      "name": "python3",
      "display_name": "Python 3"
    },
    "colab": {
      "name": "Copie de iasd_TF2_session2-transfer-learning.ipynb",
      "provenance": [],
      "collapsed_sections": [],
      "machine_shape": "hm"
    },
    "accelerator": "GPU"
  },
  "cells": [
    {
      "cell_type": "markdown",
      "metadata": {
        "id": "cPzRlk1ESdtU"
      },
      "source": [
        "#Introduction\n"
      ]
    },
    {
      "cell_type": "markdown",
      "metadata": {
        "id": "hVzLtX7eS-8W"
      },
      "source": [
        "AI Introduction Workshop (Image Classification)\n",
        "\n",
        "\n",
        "*   **Workshop duration:** 1.30h\n",
        "*   **Prerequisite:** Notions in AI, Python & tensorFlow2.0. +An introduction to Transfer Learning on AI 101.\n",
        "\n",
        "*   **Goal:** design a simple, yet efficient, model to solve any image classification problem. The workshop will illutrate how Transfer Learning works relying Tensorflow 2.0 and Keras.\n",
        "\n",
        "\n",
        "\n",
        "\n"
      ]
    },
    {
      "cell_type": "markdown",
      "metadata": {
        "id": "1HKEDIzTyLqK"
      },
      "source": [
        "# Import Libraries and Define functions"
      ]
    },
    {
      "cell_type": "markdown",
      "metadata": {
        "id": "MCtXGRDB19HY"
      },
      "source": [
        "We leverage the work done in Part 1. You can use and update these functions as needed. "
      ]
    },
    {
      "cell_type": "code",
      "metadata": {
        "id": "jKv1hO151t30",
        "colab": {
          "base_uri": "https://localhost:8080/"
        },
        "outputId": "a7e14dcc-49af-4a98-e37c-35886611d3dc"
      },
      "source": [
        "%tensorflow_version 2.x #to avoid loading another version at run time (since you can't change it after it's imported)\n",
        "import tensorflow as tf\n",
        "import matplotlib.pyplot as plt\n",
        "import numpy as np\n",
        "\n",
        "###Functions\n",
        "\n",
        "def normalize(train_images_, test_images_):\n",
        "\t# convert from integers to floats\n",
        "\ttrain_norm = train_images_.astype('float32')#convert numpy.float32: 32-bit-precision floating-point number type: sign bit, 8 bits exponent, 23 bits mantissa.\n",
        "\ttest_norm = test_images_.astype('float32')\n",
        "\t# normalize to range 0-1\n",
        "\ttrain_norm = train_norm / 255.0\n",
        "\ttest_norm = test_norm / 255.0\n",
        "\t# return normalized images\n",
        "\treturn train_norm, test_norm\n",
        "\n",
        "def conv_block(filter_size_, kernel_size_, max_pooling_size_, activation_type_=None, input_shape_=None): \n",
        "  model_ = tf.keras.Sequential()\n",
        "  model_.add(tf.keras.layers.Conv2D(filters=filter_size_, kernel_size=kernel_size_, activation=activation_type_, input_shape=input_shape_, padding='same'))\n",
        "  model_.add(tf.keras.layers.Conv2D(filters=filter_size_, kernel_size=kernel_size_, activation=activation_type_, padding='same'))\n",
        "  model_.add(tf.keras.layers.MaxPooling2D(max_pooling_size_))\n",
        "  #maxPooling2D=output_shape = (input_shape - pool_size + 1) / strides)\n",
        "\n",
        "  return model_\n",
        "\n",
        "def accuracy_lost_curves(history):\n",
        "  # plot loss\n",
        "  fig = plt.figure(figsize=(8,8))\n",
        "  ax1 = fig.add_subplot(2,1,1)\n",
        "  ax1.plot(history.history['loss'], color='blue', label='train')\n",
        "  ax1.plot(history.history['val_loss'], color='orange', label='test')\n",
        "  ax1.set_title('Cross Entropy Loss')\n",
        "  ax1.legend(['Training Loss', 'Validation Loss'])\n",
        "\t# plot accuracy\n",
        "  ax2 = fig.add_subplot(2,1,2)\n",
        "  ax2.plot(history.history['accuracy'], color='blue', label='train')\n",
        "  ax2.plot(history.history['val_accuracy'], color='orange', label='test')\n",
        "  ax2.set_title('Classification Accuracy')\n",
        "  ax2.legend(['Training Acc', 'Validation Acc'])\n",
        "  \n",
        "def display_images(images_, labels_, rows_, cols_, additional_input_=''):#sample here is an image from a dataset tfds\n",
        "  fig = plt.figure(figsize=(8,8))\n",
        "  for img in range(rows_*cols_):\n",
        "    ax = fig.add_subplot(rows_,cols_,1+img)\n",
        "    ax.imshow(images_[img])\n",
        "    ax.set_axis_off()\n",
        "    if additional_input_!='':\n",
        "      ax.set_title(str(labels_[img])+ ' vs: ' +str(additional_input_[img]))\n",
        "    else:\n",
        "      ax.set_title(str(labels_[img]))\n",
        "\n",
        "def resize_image(image_, sizes=(32,32)):\n",
        "  image = tf.image.resize_with_crop_or_pad(image_, sizes[0], sizes[1])\n",
        "  return image\n",
        "\n",
        "\n",
        "def crop_center_and_resize(img, size):\n",
        "    s = tf.shape(img)\n",
        "    w, h = s[0], s[1]\n",
        "    c = tf.maximum(w, h)\n",
        "    wn, hn = h / c, w / c\n",
        "    result = tf.image.crop_and_resize(tf.expand_dims(img, 0),\n",
        "                                      boxes=[[(1 - wn) / 2, (1 - hn) / 2, wn, hn]],\n",
        "                                      box_indices=[0], crop_size=[size, size],\n",
        "                                      method=tf.image.ResizeMethod.NEAREST_NEIGHBOR)\n",
        "    return tf.squeeze(result, 0)\n",
        "\n",
        "\n",
        "def get_images_and_labels(datasetv1Adapter):\n",
        "  import time\n",
        "  start_time = time.time()\n",
        "  dataset = tfds.as_numpy(datasetv1Adapter)\n",
        "  dataset = np.array(list(datasetv1Adapter))\n",
        "\n",
        "  images=np.array([example[\"image\"] for example in dataset])\n",
        "  labels=np.array([example[\"label\"] for example in dataset])\n",
        "  print(\"--- %s seconds ---\" % (time.time() - start_time))\n",
        "  \n",
        "  #If you're using datasetv1Adapter as input\n",
        "  #images = np.array([example['image'] for example in datasetv1Adapter])\n",
        "  #labels =  np.array([np.array(example['label']) for example in datasetv1Adapter])\n",
        "  return images, labels\n",
        "\n",
        "### - End Functions "
      ],
      "execution_count": null,
      "outputs": [
        {
          "output_type": "stream",
          "text": [
            "`%tensorflow_version` only switches the major version: 1.x or 2.x.\n",
            "You set: `2.x #to avoid loading another version at run time (since you can't change it after it's imported)`. This will be interpreted as: `2.x`.\n",
            "\n",
            "\n",
            "TensorFlow is already loaded. Please restart the runtime to change versions.\n"
          ],
          "name": "stdout"
        }
      ]
    },
    {
      "cell_type": "markdown",
      "metadata": {
        "id": "NCTgmjlWy0Hr"
      },
      "source": [
        "# Image **Classification**"
      ]
    },
    {
      "cell_type": "markdown",
      "metadata": {
        "id": "-XZEqIWty0H8"
      },
      "source": [
        "## Loading & Looking at the data"
      ]
    },
    {
      "cell_type": "markdown",
      "metadata": {
        "id": "4fwUF-tEy0H-"
      },
      "source": [
        "### Dataset Description"
      ]
    },
    {
      "cell_type": "markdown",
      "metadata": {
        "id": "qTwprEU7y0IA"
      },
      "source": [
        "Tensorflow comes with various datasets already ready to be used. You can leverage them to learn or teach Machine Learning. \n",
        "\n",
        "\n",
        "\n",
        "\n",
        "*   **Dataset** list can be found [here](https://www.tensorflow.org/datasets/catalog/overview). In Part 1 we saw how we can  play with data loaded through keras and load_data() function ; we'll explore the full set of data available in tensorflow now. \n",
        "*   **And an introduction** to TF datasets can be found [here](https://blog.tensorflow.org/2019/02/introducing-tensorflow-datasets.html).\n",
        "\n",
        "\n"
      ]
    },
    {
      "cell_type": "markdown",
      "metadata": {
        "id": "-wec7bLiZGzS"
      },
      "source": [
        "This is also one of Keras's [datasets](https://www.tensorflow.org/api_docs/python/tf/keras/datasets) easy to access and play with via the load_data() function. "
      ]
    },
    {
      "cell_type": "markdown",
      "metadata": {
        "id": "Qv-lXY4SN-ld"
      },
      "source": [
        "### More Data - TensorFlow DataSets "
      ]
    },
    {
      "cell_type": "markdown",
      "metadata": {
        "id": "ZduTGXpNy0IE"
      },
      "source": [
        "There are two ways to load a dataset from tensorflow. The way we did it via tdfs or via the load_data() function in Keras, e.g., \n",
        "\n",
        "*    *fashion_mnist = keras.datasets.fashion_mnist*\n",
        "*    *(train_images, train_labels), (test_images, test_labels) = fashion_mnist.load_data()*"
      ]
    },
    {
      "cell_type": "markdown",
      "metadata": {
        "id": "IDiyoupsy0IG"
      },
      "source": [
        "Or we can go through Tensorflow datasets. This is what we'll learn first befor going further. \n",
        "\n"
      ]
    },
    {
      "cell_type": "markdown",
      "metadata": {
        "id": "LjOo_EIViZI2"
      },
      "source": [
        "### Load Dataset"
      ]
    },
    {
      "cell_type": "markdown",
      "metadata": {
        "id": "gySFCzs9N_H0"
      },
      "source": [
        "**For this subsection we'll:**\n",
        "*   Load the dataset\n",
        "*   Encode classes (from integers into one-hot vectors)\n",
        "*   Normalize images (floats & values between [0-1])\n",
        "\n",
        "\n"
      ]
    },
    {
      "cell_type": "code",
      "metadata": {
        "id": "I3Gn8H0QPZEa"
      },
      "source": [
        "#### Import tensorflow_datasets and name it tfds as an alias\n",
        "import tensorflow_datasets as tfds\n"
      ],
      "execution_count": null,
      "outputs": []
    },
    {
      "cell_type": "code",
      "metadata": {
        "id": "2JC17ysJPhFx"
      },
      "source": [
        "dataset, info= tfds.load('cifar10:3.*.*', with_info=True)#oxford_iiit_pet"
      ],
      "execution_count": null,
      "outputs": []
    },
    {
      "cell_type": "code",
      "metadata": {
        "id": "DgOFZkOHR92y"
      },
      "source": [
        "train, test = dataset['train'], dataset['test']"
      ],
      "execution_count": null,
      "outputs": []
    },
    {
      "cell_type": "code",
      "metadata": {
        "id": "bbZpXPDKSCP_",
        "colab": {
          "base_uri": "https://localhost:8080/"
        },
        "outputId": "cf2680ac-8222-410c-c08d-7460eb2c4c2a"
      },
      "source": [
        "#@title split into images and labels\n",
        "train_images, train_labels = get_images_and_labels(train)\n",
        "test_images, test_labels = get_images_and_labels(test)\n",
        "train_images.shape"
      ],
      "execution_count": null,
      "outputs": [
        {
          "output_type": "stream",
          "text": [
            "--- 15.270779132843018 seconds ---\n",
            "--- 3.2181522846221924 seconds ---\n"
          ],
          "name": "stdout"
        },
        {
          "output_type": "execute_result",
          "data": {
            "text/plain": [
              "(50000, 32, 32, 3)"
            ]
          },
          "metadata": {
            "tags": []
          },
          "execution_count": 47
        }
      ]
    },
    {
      "cell_type": "code",
      "metadata": {
        "cellView": "form",
        "id": "gzbzWGrspYR0",
        "colab": {
          "base_uri": "https://localhost:8080/"
        },
        "outputId": "865d7523-3cd6-40d4-be85-3d5b583db71c"
      },
      "source": [
        "#@title Let's look at the size for some images\n",
        "[img.shape for img in train_images[:5]]"
      ],
      "execution_count": null,
      "outputs": [
        {
          "output_type": "execute_result",
          "data": {
            "text/plain": [
              "[(32, 32, 3), (32, 32, 3), (32, 32, 3), (32, 32, 3), (32, 32, 3)]"
            ]
          },
          "metadata": {
            "tags": []
          },
          "execution_count": 48
        }
      ]
    },
    {
      "cell_type": "code",
      "metadata": {
        "cellView": "form",
        "id": "9xWwh4tbpqL-",
        "colab": {
          "base_uri": "https://localhost:8080/",
          "height": 482
        },
        "outputId": "6d98b798-9424-4183-b83f-5c5702166ac7"
      },
      "source": [
        "#@title Display some images\n",
        "display_images(train_images, train_labels, 3, 3)"
      ],
      "execution_count": null,
      "outputs": [
        {
          "output_type": "display_data",
          "data": {
            "image/png": "[encoded data removed]",
            "text/plain": [
              "<Figure size 576x576 with 9 Axes>"
            ]
          },
          "metadata": {
            "tags": [],
            "needs_background": "light"
          }
        }
      ]
    },
    {
      "cell_type": "code",
      "metadata": {
        "id": "eag1sG8bfTuE",
        "cellView": "form",
        "colab": {
          "base_uri": "https://localhost:8080/"
        },
        "outputId": "300a8ebf-bcf3-4759-e797-31cd7aa0e316"
      },
      "source": [
        "#@title Possibly resize-center-crop images\n",
        "resize=False\n",
        "if resize:\n",
        "  import time\n",
        "  start_time = time.time()\n",
        "  train_images = np.array([np.array(resize_image(image)) for image in train_images]) # or crop_center_and_resise\n",
        "  test_images = np.array([np.array(resize_image(image)) for image in test_images])\n",
        "  print(\"--- %s seconds ---\" % (time.time() - start_time))\n",
        "test_images.shape"
      ],
      "execution_count": null,
      "outputs": [
        {
          "output_type": "execute_result",
          "data": {
            "text/plain": [
              "(10000, 32, 32, 3)"
            ]
          },
          "metadata": {
            "tags": []
          },
          "execution_count": 50
        }
      ]
    },
    {
      "cell_type": "code",
      "metadata": {
        "cellView": "form",
        "id": "EI630F9Lp-Pk",
        "colab": {
          "base_uri": "https://localhost:8080/"
        },
        "outputId": "0c90abb7-92b1-41d5-8752-9896d2dfcd58"
      },
      "source": [
        "#@title Let's look at the size for some images\n",
        "[img.shape for img in train_images[:5]]"
      ],
      "execution_count": null,
      "outputs": [
        {
          "output_type": "execute_result",
          "data": {
            "text/plain": [
              "[(32, 32, 3), (32, 32, 3), (32, 32, 3), (32, 32, 3), (32, 32, 3)]"
            ]
          },
          "metadata": {
            "tags": []
          },
          "execution_count": 51
        }
      ]
    },
    {
      "cell_type": "code",
      "metadata": {
        "id": "KMN_upXQ2dHB",
        "cellView": "form",
        "colab": {
          "base_uri": "https://localhost:8080/",
          "height": 88
        },
        "outputId": "cd04a966-648a-4fc2-e9e1-b4fff28b9efd"
      },
      "source": [
        "#@title LoadData, Encode Labels and Normalize\n",
        "#(train_images, train_labels), (test_images, test_labels) = tf.keras.datasets.cifar10.load_data()\n",
        "if False: # (from integers into one-hot vectors)\n",
        "  train_labels_encoded = tf.keras.utils.to_categorical(train_labels)\n",
        "  test_labels_encoded = tf.keras.utils.to_categorical(test_labels)\n",
        "  category_size=train_labels_encoded.shape[1]\n",
        "else:\n",
        "  train_labels_encoded = train_labels\n",
        "  test_labels_encoded = test_labels\n",
        "  category_size = len(set(train_labels_encoded))\n",
        "\n",
        "train_images_norm, test_images_norm = normalize(train_images, test_images)\n",
        "print(f'Phase 1/5: DataLoaded, Encoded And Normalized, there {category_size} categories')\n",
        "\n",
        "input_shape=train_images[0].shape\n",
        "\n",
        "'''#1-b optional - adapat input shape if you want your code to run for all datasets\n",
        "if len(train_images.shape)==4: #no need to expand, just store input shape that we'll use for the CNN\n",
        "  input_shape=train_images[0].shape\n",
        "else: #expand both train and test image datasets\n",
        "  train_images = np.expand_dims(train_images, axis=3) \n",
        "  test_images = np.expand_dims(test_images, axis=3)\n",
        "  input_shape=train_images[0].shape\n",
        "print('Phase 1/5 - optional: Input Shape Checked/Updated')'''"
      ],
      "execution_count": null,
      "outputs": [
        {
          "output_type": "stream",
          "text": [
            "Phase 1/5: DataLoaded, Encoded And Normalized, there 10 categories\n"
          ],
          "name": "stdout"
        },
        {
          "output_type": "execute_result",
          "data": {
            "application/vnd.google.colaboratory.intrinsic+json": {
              "type": "string"
            },
            "text/plain": [
              "\"#1-b optional - adapat input shape if you want your code to run for all datasets\\nif len(train_images.shape)==4: #no need to expand, just store input shape that we'll use for the CNN\\n  input_shape=train_images[0].shape\\nelse: #expand both train and test image datasets\\n  train_images = np.expand_dims(train_images, axis=3) \\n  test_images = np.expand_dims(test_images, axis=3)\\n  input_shape=train_images[0].shape\\nprint('Phase 1/5 - optional: Input Shape Checked/Updated')\""
            ]
          },
          "metadata": {
            "tags": []
          },
          "execution_count": 52
        }
      ]
    },
    {
      "cell_type": "code",
      "metadata": {
        "id": "IiGk4uqNs4rq",
        "colab": {
          "base_uri": "https://localhost:8080/"
        },
        "outputId": "f6d6a21b-c054-4850-a57e-b45fa50c2831"
      },
      "source": [
        "category_size"
      ],
      "execution_count": null,
      "outputs": [
        {
          "output_type": "execute_result",
          "data": {
            "text/plain": [
              "10"
            ]
          },
          "metadata": {
            "tags": []
          },
          "execution_count": 53
        }
      ]
    },
    {
      "cell_type": "markdown",
      "metadata": {
        "id": "Qk4jqF9ebZR9"
      },
      "source": [
        "[texte du lien](https://)#Build and Train a Baseline Model"
      ]
    },
    {
      "cell_type": "code",
      "metadata": {
        "id": "BsDwn1ngsgV1",
        "cellView": "form"
      },
      "source": [
        "#@title Create a basic model made of a convolutional bloc (e.g., at least one convolutional layer followed by a maxpooling layer)\n",
        "def conv_block(filter_size_, kernel_size_, max_pooling_size_, activation_type_=None, input_shape_=None): \n",
        "  model_ = tf.keras.Sequential()\n",
        "  model_.add(tf.keras.layers.Conv2D(filters=filter_size_, kernel_size=kernel_size_, activation=activation_type_, input_shape=input_shape_, padding='same'))\n",
        "  model_.add(tf.keras.layers.Conv2D(filters=filter_size_, kernel_size=kernel_size_, activation=activation_type_, padding='same'))\n",
        "  model_.add(tf.keras.layers.BatchNormalization())\n",
        "  model_.add(tf.keras.layers.MaxPooling2D(max_pooling_size_))\n",
        "  model_.add(tf.keras.layers.Dropout(0.2))\n",
        "\n",
        "  model_.add(tf.keras.layers.Conv2D(filters=filter_size_*2, kernel_size=kernel_size_, activation=activation_type_, padding='same'))\n",
        "  model_.add(tf.keras.layers.Conv2D(filters=filter_size_*2, kernel_size=kernel_size_, activation=activation_type_, padding='same'))\n",
        "  model_.add(tf.keras.layers.BatchNormalization())\n",
        "  model_.add(tf.keras.layers.MaxPooling2D(max_pooling_size_))\n",
        "  model_.add(tf.keras.layers.Dropout(0.3))\n",
        "\n",
        "  model_.add(tf.keras.layers.Conv2D(filters=filter_size_*4, kernel_size=kernel_size_, activation=activation_type_, padding='same'))\n",
        "  model_.add(tf.keras.layers.Conv2D(filters=filter_size_*4, kernel_size=kernel_size_, activation=activation_type_, padding='same'))\n",
        "  model_.add(tf.keras.layers.Conv2D(filters=filter_size_*4, kernel_size=kernel_size_, activation=activation_type_, padding='same'))\n",
        "  model_.add(tf.keras.layers.BatchNormalization())\n",
        "  model_.add(tf.keras.layers.MaxPooling2D(max_pooling_size_))\n",
        "  model_.add(tf.keras.layers.Dropout(0.4))\n",
        "  return model_"
      ],
      "execution_count": null,
      "outputs": []
    },
    {
      "cell_type": "code",
      "metadata": {
        "id": "hobsu7pJu4Qr",
        "colab": {
          "base_uri": "https://localhost:8080/",
          "height": 70
        },
        "outputId": "59c7fade-f177-4b0a-875d-9abeba2b524f"
      },
      "source": [
        "#SKIP THIS IF YOUR TESTING WITH CIFAR10 ONLY\n",
        "#Training needs to have a 4 dimension shape. Which isn't the case for some datasets (e.g., Mnist). \n",
        "#Ex expand the shape of the dataset by one additional dimension when needed to make this code as generic as possible. \n",
        "\n",
        "'''expanded = False\n",
        "if len(train_images.shape)==4: #no need to expand, just store input shape that we'll use for the CNN\n",
        "  input_shape=train_images[0].shape\n",
        "else: #expand both train and test image datasets\n",
        "  train_images = np.expand_dims(train_images, axis=3) \n",
        "  test_images = np.expand_dims(test_images, axis=3)\n",
        "  input_shape=train_images[0].shape\n",
        "  expanded=True'''\n"
      ],
      "execution_count": null,
      "outputs": [
        {
          "output_type": "execute_result",
          "data": {
            "application/vnd.google.colaboratory.intrinsic+json": {
              "type": "string"
            },
            "text/plain": [
              "\"expanded = False\\nif len(train_images.shape)==4: #no need to expand, just store input shape that we'll use for the CNN\\n  input_shape=train_images[0].shape\\nelse: #expand both train and test image datasets\\n  train_images = np.expand_dims(train_images, axis=3) \\n  test_images = np.expand_dims(test_images, axis=3)\\n  input_shape=train_images[0].shape\\n  expanded=True\""
            ]
          },
          "metadata": {
            "tags": []
          },
          "execution_count": 55
        }
      ]
    },
    {
      "cell_type": "code",
      "metadata": {
        "id": "3XC636CkT8TB"
      },
      "source": [
        "#### Instanciate your model (if you build a function to create your model)\n",
        "base_model = conv_block(32, (3, 3), (2, 2), activation_type_='relu', input_shape_=input_shape)\n",
        "#base_model = tf.keras.applications.ResNet50(weights = 'imagenet', include_top = False, input_shape=input_shape)\n",
        "#base_model.trainable = False"
      ],
      "execution_count": null,
      "outputs": []
    },
    {
      "cell_type": "code",
      "metadata": {
        "id": "KNaJTCRQqJNn",
        "colab": {
          "base_uri": "https://localhost:8080/"
        },
        "outputId": "6b84c0bd-6215-427c-9d80-dde95d92c5fa"
      },
      "source": [
        "base_model.summary()"
      ],
      "execution_count": null,
      "outputs": [
        {
          "output_type": "stream",
          "text": [
            "Model: \"sequential_5\"\n",
            "_________________________________________________________________\n",
            "Layer (type)                 Output Shape              Param #   \n",
            "=================================================================\n",
            "conv2d_7 (Conv2D)            (None, 32, 32, 32)        896       \n",
            "_________________________________________________________________\n",
            "conv2d_8 (Conv2D)            (None, 32, 32, 32)        9248      \n",
            "_________________________________________________________________\n",
            "batch_normalization_3 (Batch (None, 32, 32, 32)        128       \n",
            "_________________________________________________________________\n",
            "max_pooling2d_3 (MaxPooling2 (None, 16, 16, 32)        0         \n",
            "_________________________________________________________________\n",
            "dropout_3 (Dropout)          (None, 16, 16, 32)        0         \n",
            "_________________________________________________________________\n",
            "conv2d_9 (Conv2D)            (None, 16, 16, 64)        18496     \n",
            "_________________________________________________________________\n",
            "conv2d_10 (Conv2D)           (None, 16, 16, 64)        36928     \n",
            "_________________________________________________________________\n",
            "batch_normalization_4 (Batch (None, 16, 16, 64)        256       \n",
            "_________________________________________________________________\n",
            "max_pooling2d_4 (MaxPooling2 (None, 8, 8, 64)          0         \n",
            "_________________________________________________________________\n",
            "dropout_4 (Dropout)          (None, 8, 8, 64)          0         \n",
            "_________________________________________________________________\n",
            "conv2d_11 (Conv2D)           (None, 8, 8, 128)         73856     \n",
            "_________________________________________________________________\n",
            "conv2d_12 (Conv2D)           (None, 8, 8, 128)         147584    \n",
            "_________________________________________________________________\n",
            "conv2d_13 (Conv2D)           (None, 8, 8, 128)         147584    \n",
            "_________________________________________________________________\n",
            "batch_normalization_5 (Batch (None, 8, 8, 128)         512       \n",
            "_________________________________________________________________\n",
            "max_pooling2d_5 (MaxPooling2 (None, 4, 4, 128)         0         \n",
            "_________________________________________________________________\n",
            "dropout_5 (Dropout)          (None, 4, 4, 128)         0         \n",
            "=================================================================\n",
            "Total params: 435,488\n",
            "Trainable params: 435,040\n",
            "Non-trainable params: 448\n",
            "_________________________________________________________________\n"
          ],
          "name": "stdout"
        }
      ]
    },
    {
      "cell_type": "code",
      "metadata": {
        "id": "-xTbfUih3nto"
      },
      "source": [
        "#@title create top layers and sequential model with base_model\n",
        "top_layers = tf.keras.Sequential()\n",
        "top_layers.add(tf.keras.layers.Flatten())\n",
        "top_layers.add(tf.keras.layers.Dense(512, activation='relu'))\n",
        "top_layers.add(tf.keras.layers.Dense(32, activation='relu'))\n",
        "top_layers.add(tf.keras.layers.Dense(category_size,activation='softmax'))\n",
        "\n",
        "model= tf.keras.Sequential([\n",
        "    base_model, \n",
        "    top_layers\n",
        "])# OK!"
      ],
      "execution_count": null,
      "outputs": []
    },
    {
      "cell_type": "code",
      "metadata": {
        "id": "g9k7aq5U5dVD",
        "colab": {
          "base_uri": "https://localhost:8080/"
        },
        "outputId": "456d896d-999c-4514-e0e0-df568b7059b4"
      },
      "source": [
        "model.summary()"
      ],
      "execution_count": null,
      "outputs": [
        {
          "output_type": "stream",
          "text": [
            "Model: \"sequential_7\"\n",
            "_________________________________________________________________\n",
            "Layer (type)                 Output Shape              Param #   \n",
            "=================================================================\n",
            "sequential_5 (Sequential)    (None, 4, 4, 128)         435488    \n",
            "_________________________________________________________________\n",
            "sequential_6 (Sequential)    (None, 10)                1065834   \n",
            "=================================================================\n",
            "Total params: 1,501,322\n",
            "Trainable params: 1,500,874\n",
            "Non-trainable params: 448\n",
            "_________________________________________________________________\n"
          ],
          "name": "stdout"
        }
      ]
    },
    {
      "cell_type": "code",
      "metadata": {
        "id": "MQ8OmomngNvE"
      },
      "source": [
        "#@title  Compile your model (use SGD optimizer and choose a relevant loss and metric)\n",
        "opt = tf.keras.optimizers.SGD(lr=0.0005, momentum=0.9)\n",
        "model.compile(optimizer=opt, loss='categorical_crossentropy', metrics=['accuracy'])"
      ],
      "execution_count": null,
      "outputs": []
    },
    {
      "cell_type": "code",
      "metadata": {
        "colab": {
          "base_uri": "https://localhost:8080/"
        },
        "id": "7tcpDJTke3oF",
        "outputId": "247a018f-ed7f-432b-b236-f5ca97feae26"
      },
      "source": [
        "print(train_labels_encoded.shape)"
      ],
      "execution_count": null,
      "outputs": [
        {
          "output_type": "stream",
          "text": [
            "(50000,)\n"
          ],
          "name": "stdout"
        }
      ]
    },
    {
      "cell_type": "code",
      "metadata": {
        "id": "j6zwxvrW4nJ8"
      },
      "source": [
        "from tensorflow.keras.utils import to_categorical\n",
        "\n",
        "train_labels_encoded = to_categorical(train_labels_encoded, 10)\n",
        "test_labels_encoded = to_categorical(test_labels_encoded, 10)"
      ],
      "execution_count": null,
      "outputs": []
    },
    {
      "cell_type": "code",
      "metadata": {
        "id": "SQKrj0-RsSyS",
        "colab": {
          "base_uri": "https://localhost:8080/"
        },
        "outputId": "dc3db676-f064-4cb2-8dcf-6adaf4eda022"
      },
      "source": [
        "#@title Fit your model (you can use the test set as your validation data)\n",
        "epochs = 100\n",
        "augment_data=False\n",
        "\n",
        "print(train_labels_encoded.shape)\n",
        "print(test_labels_encoded.shape)\n",
        "if augment_data:\n",
        "  print(\"Training with Augmented Data\")\n",
        "  steps = int(train_images.shape[0] / 64)\n",
        "  history = model.fit(it_train, steps_per_epoch=steps, epochs=epochs, validation_data=(test_images, test_labels_encoded), verbose=1)\n",
        "else: \n",
        "  print(\"Training withOUT Augmented Data\")\n",
        "  history = model.fit(train_images, train_labels_encoded, epochs=epochs, batch_size=64, \n",
        "                    validation_data=(test_images, test_labels_encoded))"
      ],
      "execution_count": null,
      "outputs": [
        {
          "output_type": "stream",
          "text": [
            "(50000, 10)\n",
            "(10000, 10)\n",
            "Training withOUT Augmented Data\n",
            "Epoch 1/100\n",
            "782/782 [==============================] - 7s 8ms/step - loss: 2.1566 - accuracy: 0.2171 - val_loss: 1.7891 - val_accuracy: 0.3646\n",
            "Epoch 2/100\n",
            "782/782 [==============================] - 6s 8ms/step - loss: 1.6012 - accuracy: 0.3997 - val_loss: 1.4533 - val_accuracy: 0.4635\n",
            "Epoch 3/100\n",
            "782/782 [==============================] - 6s 8ms/step - loss: 1.4339 - accuracy: 0.4695 - val_loss: 1.4502 - val_accuracy: 0.4829\n",
            "Epoch 4/100\n",
            "782/782 [==============================] - 6s 8ms/step - loss: 1.3134 - accuracy: 0.5183 - val_loss: 1.3198 - val_accuracy: 0.5330\n",
            "Epoch 5/100\n",
            "782/782 [==============================] - 6s 8ms/step - loss: 1.2278 - accuracy: 0.5514 - val_loss: 1.2076 - val_accuracy: 0.5674\n",
            "Epoch 6/100\n",
            "782/782 [==============================] - 6s 8ms/step - loss: 1.1594 - accuracy: 0.5812 - val_loss: 1.3070 - val_accuracy: 0.5419\n",
            "Epoch 7/100\n",
            "782/782 [==============================] - 6s 8ms/step - loss: 1.0996 - accuracy: 0.6004 - val_loss: 1.0812 - val_accuracy: 0.6120\n",
            "Epoch 8/100\n",
            "782/782 [==============================] - 6s 8ms/step - loss: 1.0520 - accuracy: 0.6194 - val_loss: 0.9984 - val_accuracy: 0.6376\n",
            "Epoch 9/100\n",
            "782/782 [==============================] - 6s 8ms/step - loss: 0.9968 - accuracy: 0.6435 - val_loss: 1.0348 - val_accuracy: 0.6322\n",
            "Epoch 10/100\n",
            "782/782 [==============================] - 6s 8ms/step - loss: 0.9676 - accuracy: 0.6518 - val_loss: 1.0948 - val_accuracy: 0.6169\n",
            "Epoch 11/100\n",
            "782/782 [==============================] - 6s 8ms/step - loss: 0.9257 - accuracy: 0.6643 - val_loss: 0.9104 - val_accuracy: 0.6803\n",
            "Epoch 12/100\n",
            "782/782 [==============================] - 6s 8ms/step - loss: 0.9003 - accuracy: 0.6775 - val_loss: 0.8500 - val_accuracy: 0.6989\n",
            "Epoch 13/100\n",
            "782/782 [==============================] - 6s 8ms/step - loss: 0.8744 - accuracy: 0.6892 - val_loss: 0.8972 - val_accuracy: 0.6814\n",
            "Epoch 14/100\n",
            "782/782 [==============================] - 6s 8ms/step - loss: 0.8407 - accuracy: 0.6993 - val_loss: 0.8587 - val_accuracy: 0.6988\n",
            "Epoch 15/100\n",
            "782/782 [==============================] - 6s 8ms/step - loss: 0.8223 - accuracy: 0.7102 - val_loss: 0.7993 - val_accuracy: 0.7112\n",
            "Epoch 16/100\n",
            "782/782 [==============================] - 6s 8ms/step - loss: 0.7938 - accuracy: 0.7156 - val_loss: 0.8449 - val_accuracy: 0.7054\n",
            "Epoch 17/100\n",
            "782/782 [==============================] - 6s 8ms/step - loss: 0.7827 - accuracy: 0.7193 - val_loss: 0.7618 - val_accuracy: 0.7302\n",
            "Epoch 18/100\n",
            "782/782 [==============================] - 6s 8ms/step - loss: 0.7509 - accuracy: 0.7337 - val_loss: 0.8445 - val_accuracy: 0.7056\n",
            "Epoch 19/100\n",
            "782/782 [==============================] - 6s 8ms/step - loss: 0.7365 - accuracy: 0.7379 - val_loss: 0.8340 - val_accuracy: 0.7118\n",
            "Epoch 20/100\n",
            "782/782 [==============================] - 6s 8ms/step - loss: 0.7054 - accuracy: 0.7483 - val_loss: 0.7038 - val_accuracy: 0.7553\n",
            "Epoch 21/100\n",
            "782/782 [==============================] - 6s 8ms/step - loss: 0.6981 - accuracy: 0.7531 - val_loss: 0.7940 - val_accuracy: 0.7276\n",
            "Epoch 22/100\n",
            "782/782 [==============================] - 6s 8ms/step - loss: 0.6840 - accuracy: 0.7570 - val_loss: 0.6916 - val_accuracy: 0.7618\n",
            "Epoch 23/100\n",
            "782/782 [==============================] - 6s 8ms/step - loss: 0.6729 - accuracy: 0.7595 - val_loss: 0.7807 - val_accuracy: 0.7367\n",
            "Epoch 24/100\n",
            "782/782 [==============================] - 6s 8ms/step - loss: 0.6537 - accuracy: 0.7652 - val_loss: 0.6502 - val_accuracy: 0.7749\n",
            "Epoch 25/100\n",
            "782/782 [==============================] - 6s 8ms/step - loss: 0.6362 - accuracy: 0.7751 - val_loss: 0.6280 - val_accuracy: 0.7808\n",
            "Epoch 26/100\n",
            "782/782 [==============================] - 6s 8ms/step - loss: 0.6199 - accuracy: 0.7815 - val_loss: 0.6531 - val_accuracy: 0.7754\n",
            "Epoch 27/100\n",
            "782/782 [==============================] - 6s 8ms/step - loss: 0.6162 - accuracy: 0.7834 - val_loss: 0.7227 - val_accuracy: 0.7584\n",
            "Epoch 28/100\n",
            "782/782 [==============================] - 6s 8ms/step - loss: 0.6024 - accuracy: 0.7864 - val_loss: 0.6709 - val_accuracy: 0.7724\n",
            "Epoch 29/100\n",
            "782/782 [==============================] - 6s 8ms/step - loss: 0.5867 - accuracy: 0.7891 - val_loss: 0.6699 - val_accuracy: 0.7734\n",
            "Epoch 30/100\n",
            "782/782 [==============================] - 6s 8ms/step - loss: 0.5801 - accuracy: 0.7955 - val_loss: 0.6213 - val_accuracy: 0.7868\n",
            "Epoch 31/100\n",
            "782/782 [==============================] - 6s 8ms/step - loss: 0.5652 - accuracy: 0.7994 - val_loss: 0.6271 - val_accuracy: 0.7796\n",
            "Epoch 32/100\n",
            "782/782 [==============================] - 6s 8ms/step - loss: 0.5637 - accuracy: 0.8005 - val_loss: 0.6678 - val_accuracy: 0.7733\n",
            "Epoch 33/100\n",
            "782/782 [==============================] - 6s 8ms/step - loss: 0.5407 - accuracy: 0.8068 - val_loss: 0.6544 - val_accuracy: 0.7784\n",
            "Epoch 34/100\n",
            "782/782 [==============================] - 6s 8ms/step - loss: 0.5366 - accuracy: 0.8087 - val_loss: 0.6274 - val_accuracy: 0.7881\n",
            "Epoch 35/100\n",
            "782/782 [==============================] - 6s 8ms/step - loss: 0.5311 - accuracy: 0.8109 - val_loss: 0.6018 - val_accuracy: 0.7923\n",
            "Epoch 36/100\n",
            "782/782 [==============================] - 6s 8ms/step - loss: 0.5243 - accuracy: 0.8170 - val_loss: 0.5810 - val_accuracy: 0.8009\n",
            "Epoch 37/100\n",
            "782/782 [==============================] - 6s 8ms/step - loss: 0.5066 - accuracy: 0.8183 - val_loss: 0.6673 - val_accuracy: 0.7739\n",
            "Epoch 38/100\n",
            "782/782 [==============================] - 6s 8ms/step - loss: 0.5018 - accuracy: 0.8235 - val_loss: 0.6290 - val_accuracy: 0.7920\n",
            "Epoch 39/100\n",
            "782/782 [==============================] - 6s 8ms/step - loss: 0.4902 - accuracy: 0.8262 - val_loss: 0.5766 - val_accuracy: 0.8027\n",
            "Epoch 40/100\n",
            "782/782 [==============================] - 6s 8ms/step - loss: 0.4977 - accuracy: 0.8248 - val_loss: 0.6402 - val_accuracy: 0.7875\n",
            "Epoch 41/100\n",
            "782/782 [==============================] - 6s 8ms/step - loss: 0.4792 - accuracy: 0.8306 - val_loss: 0.5583 - val_accuracy: 0.8082\n",
            "Epoch 42/100\n",
            "782/782 [==============================] - 6s 8ms/step - loss: 0.4764 - accuracy: 0.8301 - val_loss: 0.5918 - val_accuracy: 0.7976\n",
            "Epoch 43/100\n",
            "782/782 [==============================] - 6s 8ms/step - loss: 0.4667 - accuracy: 0.8353 - val_loss: 0.6291 - val_accuracy: 0.7908\n",
            "Epoch 44/100\n",
            "782/782 [==============================] - 6s 8ms/step - loss: 0.4583 - accuracy: 0.8355 - val_loss: 0.5394 - val_accuracy: 0.8141\n",
            "Epoch 45/100\n",
            "782/782 [==============================] - 6s 8ms/step - loss: 0.4456 - accuracy: 0.8386 - val_loss: 0.5406 - val_accuracy: 0.8170\n",
            "Epoch 46/100\n",
            "782/782 [==============================] - 6s 8ms/step - loss: 0.4425 - accuracy: 0.8431 - val_loss: 0.5516 - val_accuracy: 0.8093\n",
            "Epoch 47/100\n",
            "782/782 [==============================] - 6s 8ms/step - loss: 0.4316 - accuracy: 0.8469 - val_loss: 0.5560 - val_accuracy: 0.8152\n",
            "Epoch 48/100\n",
            "782/782 [==============================] - 6s 8ms/step - loss: 0.4344 - accuracy: 0.8440 - val_loss: 0.5755 - val_accuracy: 0.8087\n",
            "Epoch 49/100\n",
            "782/782 [==============================] - 6s 8ms/step - loss: 0.4183 - accuracy: 0.8519 - val_loss: 0.5371 - val_accuracy: 0.8161\n",
            "Epoch 50/100\n",
            "782/782 [==============================] - 6s 8ms/step - loss: 0.4179 - accuracy: 0.8493 - val_loss: 0.5717 - val_accuracy: 0.8074\n",
            "Epoch 51/100\n",
            "782/782 [==============================] - 6s 8ms/step - loss: 0.4060 - accuracy: 0.8535 - val_loss: 0.6029 - val_accuracy: 0.8008\n",
            "Epoch 52/100\n",
            "782/782 [==============================] - 6s 8ms/step - loss: 0.4007 - accuracy: 0.8581 - val_loss: 0.5704 - val_accuracy: 0.8109\n",
            "Epoch 53/100\n",
            "782/782 [==============================] - 6s 8ms/step - loss: 0.3964 - accuracy: 0.8592 - val_loss: 0.5460 - val_accuracy: 0.8187\n",
            "Epoch 54/100\n",
            "782/782 [==============================] - 6s 8ms/step - loss: 0.3932 - accuracy: 0.8639 - val_loss: 0.5585 - val_accuracy: 0.8136\n",
            "Epoch 55/100\n",
            "782/782 [==============================] - 6s 8ms/step - loss: 0.3838 - accuracy: 0.8626 - val_loss: 0.5721 - val_accuracy: 0.8085\n",
            "Epoch 56/100\n",
            "782/782 [==============================] - 6s 8ms/step - loss: 0.3830 - accuracy: 0.8638 - val_loss: 0.6027 - val_accuracy: 0.8095\n",
            "Epoch 57/100\n",
            "782/782 [==============================] - 6s 8ms/step - loss: 0.3762 - accuracy: 0.8673 - val_loss: 0.5486 - val_accuracy: 0.8159\n",
            "Epoch 58/100\n",
            "782/782 [==============================] - 6s 8ms/step - loss: 0.3703 - accuracy: 0.8666 - val_loss: 0.5324 - val_accuracy: 0.8186\n",
            "Epoch 59/100\n",
            "782/782 [==============================] - 6s 8ms/step - loss: 0.3573 - accuracy: 0.8713 - val_loss: 0.5541 - val_accuracy: 0.8201\n",
            "Epoch 60/100\n",
            "782/782 [==============================] - 6s 8ms/step - loss: 0.3560 - accuracy: 0.8708 - val_loss: 0.5478 - val_accuracy: 0.8210\n",
            "Epoch 61/100\n",
            "782/782 [==============================] - 6s 8ms/step - loss: 0.3405 - accuracy: 0.8788 - val_loss: 0.5696 - val_accuracy: 0.8143\n",
            "Epoch 62/100\n",
            "782/782 [==============================] - 6s 8ms/step - loss: 0.3461 - accuracy: 0.8763 - val_loss: 0.5316 - val_accuracy: 0.8249\n",
            "Epoch 63/100\n",
            "782/782 [==============================] - 6s 8ms/step - loss: 0.3351 - accuracy: 0.8792 - val_loss: 0.5494 - val_accuracy: 0.8201\n",
            "Epoch 64/100\n",
            "782/782 [==============================] - 6s 8ms/step - loss: 0.3287 - accuracy: 0.8828 - val_loss: 0.5783 - val_accuracy: 0.8175\n",
            "Epoch 65/100\n",
            "782/782 [==============================] - 6s 8ms/step - loss: 0.3324 - accuracy: 0.8824 - val_loss: 0.5202 - val_accuracy: 0.8326\n",
            "Epoch 66/100\n",
            "782/782 [==============================] - 6s 8ms/step - loss: 0.3267 - accuracy: 0.8837 - val_loss: 0.5253 - val_accuracy: 0.8300\n",
            "Epoch 67/100\n",
            "782/782 [==============================] - 6s 8ms/step - loss: 0.3163 - accuracy: 0.8847 - val_loss: 0.6062 - val_accuracy: 0.8121\n",
            "Epoch 68/100\n",
            "782/782 [==============================] - 6s 8ms/step - loss: 0.3276 - accuracy: 0.8824 - val_loss: 0.5647 - val_accuracy: 0.8246\n",
            "Epoch 69/100\n",
            "782/782 [==============================] - 6s 8ms/step - loss: 0.3087 - accuracy: 0.8870 - val_loss: 0.5675 - val_accuracy: 0.8204\n",
            "Epoch 70/100\n",
            "782/782 [==============================] - 6s 8ms/step - loss: 0.3007 - accuracy: 0.8915 - val_loss: 0.5704 - val_accuracy: 0.8193\n",
            "Epoch 71/100\n",
            "782/782 [==============================] - 6s 8ms/step - loss: 0.3014 - accuracy: 0.8908 - val_loss: 0.5276 - val_accuracy: 0.8319\n",
            "Epoch 72/100\n",
            "782/782 [==============================] - 6s 8ms/step - loss: 0.2929 - accuracy: 0.8934 - val_loss: 0.5416 - val_accuracy: 0.8281\n",
            "Epoch 73/100\n",
            "782/782 [==============================] - 6s 8ms/step - loss: 0.2890 - accuracy: 0.8982 - val_loss: 0.5684 - val_accuracy: 0.8179\n",
            "Epoch 74/100\n",
            "782/782 [==============================] - 6s 8ms/step - loss: 0.2929 - accuracy: 0.8940 - val_loss: 0.5081 - val_accuracy: 0.8343\n",
            "Epoch 75/100\n",
            "782/782 [==============================] - 6s 8ms/step - loss: 0.2856 - accuracy: 0.8978 - val_loss: 0.5352 - val_accuracy: 0.8316\n",
            "Epoch 76/100\n",
            "782/782 [==============================] - 6s 8ms/step - loss: 0.2845 - accuracy: 0.8975 - val_loss: 0.5541 - val_accuracy: 0.8328\n",
            "Epoch 77/100\n",
            "782/782 [==============================] - 6s 8ms/step - loss: 0.2754 - accuracy: 0.9009 - val_loss: 0.5392 - val_accuracy: 0.8316\n",
            "Epoch 78/100\n",
            "782/782 [==============================] - 6s 8ms/step - loss: 0.2694 - accuracy: 0.9012 - val_loss: 0.5352 - val_accuracy: 0.8296\n",
            "Epoch 79/100\n",
            "782/782 [==============================] - 6s 8ms/step - loss: 0.2590 - accuracy: 0.9070 - val_loss: 0.5230 - val_accuracy: 0.8338\n",
            "Epoch 80/100\n",
            "782/782 [==============================] - 6s 8ms/step - loss: 0.2623 - accuracy: 0.9078 - val_loss: 0.5547 - val_accuracy: 0.8277\n",
            "Epoch 81/100\n",
            "782/782 [==============================] - 6s 8ms/step - loss: 0.2616 - accuracy: 0.9047 - val_loss: 0.5305 - val_accuracy: 0.8376\n",
            "Epoch 82/100\n",
            "782/782 [==============================] - 6s 8ms/step - loss: 0.2619 - accuracy: 0.9048 - val_loss: 0.5356 - val_accuracy: 0.8383\n",
            "Epoch 83/100\n",
            "782/782 [==============================] - 6s 8ms/step - loss: 0.2535 - accuracy: 0.9090 - val_loss: 0.5562 - val_accuracy: 0.8311\n",
            "Epoch 84/100\n",
            "782/782 [==============================] - 6s 8ms/step - loss: 0.2483 - accuracy: 0.9096 - val_loss: 0.5664 - val_accuracy: 0.8279\n",
            "Epoch 85/100\n",
            "782/782 [==============================] - 6s 8ms/step - loss: 0.2460 - accuracy: 0.9114 - val_loss: 0.5653 - val_accuracy: 0.8301\n",
            "Epoch 86/100\n",
            "782/782 [==============================] - 6s 8ms/step - loss: 0.2418 - accuracy: 0.9102 - val_loss: 0.5588 - val_accuracy: 0.8333\n",
            "Epoch 87/100\n",
            "782/782 [==============================] - 6s 8ms/step - loss: 0.2410 - accuracy: 0.9125 - val_loss: 0.5590 - val_accuracy: 0.8345\n",
            "Epoch 88/100\n",
            "782/782 [==============================] - 6s 8ms/step - loss: 0.2366 - accuracy: 0.9132 - val_loss: 0.5521 - val_accuracy: 0.8332\n",
            "Epoch 89/100\n",
            "782/782 [==============================] - 6s 8ms/step - loss: 0.2301 - accuracy: 0.9165 - val_loss: 0.5543 - val_accuracy: 0.8364\n",
            "Epoch 90/100\n",
            "782/782 [==============================] - 6s 8ms/step - loss: 0.2280 - accuracy: 0.9170 - val_loss: 0.5809 - val_accuracy: 0.8311\n",
            "Epoch 91/100\n",
            "782/782 [==============================] - 6s 8ms/step - loss: 0.2265 - accuracy: 0.9177 - val_loss: 0.5760 - val_accuracy: 0.8292\n",
            "Epoch 92/100\n",
            "782/782 [==============================] - 6s 8ms/step - loss: 0.2221 - accuracy: 0.9184 - val_loss: 0.5356 - val_accuracy: 0.8373\n",
            "Epoch 93/100\n",
            "782/782 [==============================] - 6s 8ms/step - loss: 0.2219 - accuracy: 0.9187 - val_loss: 0.5714 - val_accuracy: 0.8323\n",
            "Epoch 94/100\n",
            "782/782 [==============================] - 6s 8ms/step - loss: 0.2157 - accuracy: 0.9223 - val_loss: 0.5844 - val_accuracy: 0.8265\n",
            "Epoch 95/100\n",
            "782/782 [==============================] - 6s 8ms/step - loss: 0.2125 - accuracy: 0.9229 - val_loss: 0.5325 - val_accuracy: 0.8407\n",
            "Epoch 96/100\n",
            "782/782 [==============================] - 6s 8ms/step - loss: 0.2125 - accuracy: 0.9231 - val_loss: 0.5729 - val_accuracy: 0.8320\n",
            "Epoch 97/100\n",
            "782/782 [==============================] - 6s 8ms/step - loss: 0.2110 - accuracy: 0.9231 - val_loss: 0.5467 - val_accuracy: 0.8365\n",
            "Epoch 98/100\n",
            "782/782 [==============================] - 6s 8ms/step - loss: 0.1999 - accuracy: 0.9282 - val_loss: 0.5424 - val_accuracy: 0.8421\n",
            "Epoch 99/100\n",
            "782/782 [==============================] - 6s 8ms/step - loss: 0.2001 - accuracy: 0.9281 - val_loss: 0.5462 - val_accuracy: 0.8387\n",
            "Epoch 100/100\n",
            "782/782 [==============================] - 6s 8ms/step - loss: 0.2009 - accuracy: 0.9275 - val_loss: 0.5429 - val_accuracy: 0.8385\n"
          ],
          "name": "stdout"
        }
      ]
    },
    {
      "cell_type": "code",
      "metadata": {
        "id": "VBOLreJXkXYs",
        "colab": {
          "base_uri": "https://localhost:8080/"
        },
        "outputId": "dc0c1b02-2d18-4c24-f3f7-91e456380bbd"
      },
      "source": [
        "#@title  Evaluate your model via the evaluate function of a tf model\n",
        "_, acc = model.evaluate(test_images, test_labels_encoded, verbose=1)\n",
        "print('> %.3f' % (acc * 100.0))\n"
      ],
      "execution_count": null,
      "outputs": [
        {
          "output_type": "stream",
          "text": [
            "313/313 [==============================] - 1s 3ms/step - loss: 0.5429 - accuracy: 0.8385\n",
            "> 83.850\n"
          ],
          "name": "stdout"
        }
      ]
    },
    {
      "cell_type": "code",
      "metadata": {
        "id": "LlKhI3S_ljT0",
        "colab": {
          "base_uri": "https://localhost:8080/",
          "height": 499
        },
        "outputId": "f9eaabdd-a2d0-417a-9053-ad0a52e617e9"
      },
      "source": [
        "#@title  Display the loss and metric curves  \n",
        "def accuracy_lost_curves(history):\n",
        "  # plot loss\n",
        "  fig = plt.figure(figsize=(8,8))\n",
        "  ax1 = fig.add_subplot(2,1,1)\n",
        "  ax1.plot(history.history['loss'], color='blue', label='train')\n",
        "  ax1.plot(history.history['val_loss'], color='orange', label='test')\n",
        "  ax1.set_title('Cross Entropy Loss')\n",
        "  ax1.legend(['Training Loss', 'Validation Loss'])\n",
        "\t# plot accuracy\n",
        "  ax2 = fig.add_subplot(2,1,2)\n",
        "  ax2.plot(history.history['accuracy'], color='blue', label='train')\n",
        "  ax2.plot(history.history['val_accuracy'], color='orange', label='test')\n",
        "  ax2.set_title('Classification Accuracy')\n",
        "  ax2.legend(['Training Acc', 'Validation Acc'])\n",
        "  \n",
        "# Learning curves\n",
        "accuracy_lost_curves(history)"
      ],
      "execution_count": null,
      "outputs": [
        {
          "output_type": "display_data",
          "data": {
            "image/png": "[encoded data removed]",
            "text/plain": [
              "<Figure size 576x576 with 2 Axes>"
            ]
          },
          "metadata": {
            "tags": [],
            "needs_background": "light"
          }
        }
      ]
    },
    {
      "cell_type": "markdown",
      "metadata": {
        "id": "lbOoLyjglOA2"
      },
      "source": [
        "##With Data Augmentation"
      ]
    },
    {
      "cell_type": "code",
      "metadata": {
        "id": "3mcRzZtMsaBY",
        "cellView": "form"
      },
      "source": [
        "# create the convNet\n",
        "# create top layers and sequential model with base_model\n",
        "# \n",
        "#@title create top layers and sequential model with base_model\n",
        "top_layers = tf.keras.Sequential()\n",
        "top_layers.add(tf.keras.layers.Flatten())\n",
        "top_layers.add(tf.keras.layers.Dense(512, activation='relu'))\n",
        "top_layers.add(tf.keras.layers.Dense(32, activation='relu'))\n",
        "top_layers.add(tf.keras.layers.Dense(category_size,activation='softmax'))\n",
        "model= tf.keras.Sequential([\n",
        "    base_model, \n",
        "    top_layers\n",
        "])"
      ],
      "execution_count": null,
      "outputs": []
    },
    {
      "cell_type": "code",
      "metadata": {
        "id": "FDxgZoPilarB"
      },
      "source": [
        "#@title with Data Augmentation\n",
        "augment_data=True #OK\n",
        "if augment_data:\n",
        "  datagen = tf.keras.preprocessing.image.ImageDataGenerator(width_shift_range=0.1, height_shift_range=0.1, horizontal_flip=True)\n",
        "  it_train = datagen.flow(train_images, train_labels_encoded, batch_size=64)"
      ],
      "execution_count": null,
      "outputs": []
    },
    {
      "cell_type": "code",
      "metadata": {
        "id": "t2a20kLCleTX",
        "colab": {
          "base_uri": "https://localhost:8080/",
          "height": 1000
        },
        "outputId": "082be4b2-7931-4075-e0a4-5a95bcd34b09"
      },
      "source": [
        "#### Fit your model (you can use the test set as your validation data)\n",
        "#@title  Compile your model (use SGD optimizer and choose a relevant loss and metric)\n",
        "opt2 = tf.keras.optimizers.SGD(lr=0.0005, momentum=0.9)\n",
        "model.compile(optimizer=opt2, loss='categorical_crossentropy', metrics=['accuracy'])\n",
        "epochs = 100\n",
        "print(test_labels_encoded.shape)\n",
        "if augment_data:\n",
        "  print(\"Training with Augmented Data\")\n",
        "  steps = int(train_images.shape[0] / 64)\n",
        "  history = model.fit(it_train, steps_per_epoch=steps, epochs=epochs, validation_data=(test_images, test_labels_encoded), verbose=1)\n",
        "else: \n",
        "  print(\"Training withOUT Augmented Data\")\n",
        "  history = model.fit(train_images, train_labels_encoded, epochs=epochs, batch_size=64, \n",
        "                    validation_data=(test_images, test_labels_encoded))\n",
        "\n"
      ],
      "execution_count": null,
      "outputs": [
        {
          "output_type": "stream",
          "text": [
            "(10000, 10)\n",
            "Training with Augmented Data\n",
            "Epoch 1/100\n",
            "781/781 [==============================] - 30s 37ms/step - loss: 1.4563 - accuracy: 0.5035 - val_loss: 0.6737 - val_accuracy: 0.7748\n",
            "Epoch 2/100\n",
            "781/781 [==============================] - 29s 37ms/step - loss: 0.7473 - accuracy: 0.7424 - val_loss: 0.6785 - val_accuracy: 0.7765\n",
            "Epoch 3/100\n",
            "781/781 [==============================] - 29s 37ms/step - loss: 0.6917 - accuracy: 0.7606 - val_loss: 0.7061 - val_accuracy: 0.7744\n",
            "Epoch 4/100\n",
            "781/781 [==============================] - 29s 37ms/step - loss: 0.6496 - accuracy: 0.7780 - val_loss: 0.6605 - val_accuracy: 0.7725\n",
            "Epoch 5/100\n",
            "781/781 [==============================] - 29s 37ms/step - loss: 0.6222 - accuracy: 0.7869 - val_loss: 0.6830 - val_accuracy: 0.7804\n",
            "Epoch 6/100\n",
            "781/781 [==============================] - 29s 37ms/step - loss: 0.6056 - accuracy: 0.7911 - val_loss: 0.6482 - val_accuracy: 0.7846\n",
            "Epoch 7/100\n",
            "781/781 [==============================] - 29s 37ms/step - loss: 0.5801 - accuracy: 0.8011 - val_loss: 0.6611 - val_accuracy: 0.7822\n",
            "Epoch 8/100\n",
            "781/781 [==============================] - 29s 37ms/step - loss: 0.5769 - accuracy: 0.8005 - val_loss: 0.5726 - val_accuracy: 0.8084\n",
            "Epoch 9/100\n",
            "781/781 [==============================] - 29s 37ms/step - loss: 0.5652 - accuracy: 0.8032 - val_loss: 0.5147 - val_accuracy: 0.8216\n",
            "Epoch 10/100\n",
            "781/781 [==============================] - 29s 37ms/step - loss: 0.5457 - accuracy: 0.8099 - val_loss: 0.5536 - val_accuracy: 0.8159\n",
            "Epoch 11/100\n",
            "781/781 [==============================] - 29s 37ms/step - loss: 0.5475 - accuracy: 0.8075 - val_loss: 0.5618 - val_accuracy: 0.8145\n",
            "Epoch 12/100\n",
            "781/781 [==============================] - 29s 37ms/step - loss: 0.5414 - accuracy: 0.8132 - val_loss: 0.5287 - val_accuracy: 0.8246\n",
            "Epoch 13/100\n",
            "781/781 [==============================] - 29s 37ms/step - loss: 0.5291 - accuracy: 0.8148 - val_loss: 0.5367 - val_accuracy: 0.8191\n",
            "Epoch 14/100\n",
            "781/781 [==============================] - 29s 37ms/step - loss: 0.5202 - accuracy: 0.8192 - val_loss: 0.5420 - val_accuracy: 0.8188\n",
            "Epoch 15/100\n",
            "781/781 [==============================] - 29s 37ms/step - loss: 0.5072 - accuracy: 0.8230 - val_loss: 0.5575 - val_accuracy: 0.8187\n",
            "Epoch 16/100\n",
            "781/781 [==============================] - 29s 37ms/step - loss: 0.5106 - accuracy: 0.8255 - val_loss: 0.5286 - val_accuracy: 0.8211\n",
            "Epoch 17/100\n",
            "781/781 [==============================] - 29s 37ms/step - loss: 0.5063 - accuracy: 0.8225 - val_loss: 0.5535 - val_accuracy: 0.8168\n",
            "Epoch 18/100\n",
            "781/781 [==============================] - 29s 37ms/step - loss: 0.5037 - accuracy: 0.8251 - val_loss: 0.5672 - val_accuracy: 0.8098\n",
            "Epoch 19/100\n",
            "781/781 [==============================] - 29s 37ms/step - loss: 0.4963 - accuracy: 0.8294 - val_loss: 0.5170 - val_accuracy: 0.8279\n",
            "Epoch 20/100\n",
            "781/781 [==============================] - 29s 37ms/step - loss: 0.4996 - accuracy: 0.8252 - val_loss: 0.4809 - val_accuracy: 0.8370\n",
            "Epoch 21/100\n",
            "781/781 [==============================] - 29s 37ms/step - loss: 0.4881 - accuracy: 0.8298 - val_loss: 0.5326 - val_accuracy: 0.8192\n",
            "Epoch 22/100\n",
            "781/781 [==============================] - 29s 37ms/step - loss: 0.4786 - accuracy: 0.8329 - val_loss: 0.4924 - val_accuracy: 0.8328\n",
            "Epoch 23/100\n",
            "781/781 [==============================] - 29s 37ms/step - loss: 0.4822 - accuracy: 0.8336 - val_loss: 0.5359 - val_accuracy: 0.8230\n",
            "Epoch 24/100\n",
            "781/781 [==============================] - 29s 37ms/step - loss: 0.4703 - accuracy: 0.8378 - val_loss: 0.4817 - val_accuracy: 0.8386\n",
            "Epoch 25/100\n",
            "781/781 [==============================] - 29s 37ms/step - loss: 0.4629 - accuracy: 0.8367 - val_loss: 0.5234 - val_accuracy: 0.8266\n",
            "Epoch 26/100\n",
            "781/781 [==============================] - 29s 38ms/step - loss: 0.4734 - accuracy: 0.8362 - val_loss: 0.4578 - val_accuracy: 0.8441\n",
            "Epoch 27/100\n",
            "781/781 [==============================] - 29s 38ms/step - loss: 0.4615 - accuracy: 0.8384 - val_loss: 0.5183 - val_accuracy: 0.8292\n",
            "Epoch 28/100\n",
            "277/781 [=========>....................] - ETA: 18s - loss: 0.4505 - accuracy: 0.8404"
          ],
          "name": "stdout"
        },
        {
          "output_type": "error",
          "ename": "KeyboardInterrupt",
          "evalue": "ignored",
          "traceback": [
            "\u001b[0;31m---------------------------------------------------------------------------\u001b[0m",
            "\u001b[0;31mKeyboardInterrupt\u001b[0m                         Traceback (most recent call last)",
            "\u001b[0;32m<ipython-input-68-4bd28a4a150a>\u001b[0m in \u001b[0;36m<module>\u001b[0;34m()\u001b[0m\n\u001b[1;32m      8\u001b[0m   \u001b[0mprint\u001b[0m\u001b[0;34m(\u001b[0m\u001b[0;34m\"Training with Augmented Data\"\u001b[0m\u001b[0;34m)\u001b[0m\u001b[0;34m\u001b[0m\u001b[0;34m\u001b[0m\u001b[0m\n\u001b[1;32m      9\u001b[0m   \u001b[0msteps\u001b[0m \u001b[0;34m=\u001b[0m \u001b[0mint\u001b[0m\u001b[0;34m(\u001b[0m\u001b[0mtrain_images\u001b[0m\u001b[0;34m.\u001b[0m\u001b[0mshape\u001b[0m\u001b[0;34m[\u001b[0m\u001b[0;36m0\u001b[0m\u001b[0;34m]\u001b[0m \u001b[0;34m/\u001b[0m \u001b[0;36m64\u001b[0m\u001b[0;34m)\u001b[0m\u001b[0;34m\u001b[0m\u001b[0;34m\u001b[0m\u001b[0m\n\u001b[0;32m---> 10\u001b[0;31m   \u001b[0mhistory\u001b[0m \u001b[0;34m=\u001b[0m \u001b[0mmodel\u001b[0m\u001b[0;34m.\u001b[0m\u001b[0mfit\u001b[0m\u001b[0;34m(\u001b[0m\u001b[0mit_train\u001b[0m\u001b[0;34m,\u001b[0m \u001b[0msteps_per_epoch\u001b[0m\u001b[0;34m=\u001b[0m\u001b[0msteps\u001b[0m\u001b[0;34m,\u001b[0m \u001b[0mepochs\u001b[0m\u001b[0;34m=\u001b[0m\u001b[0mepochs\u001b[0m\u001b[0;34m,\u001b[0m \u001b[0mvalidation_data\u001b[0m\u001b[0;34m=\u001b[0m\u001b[0;34m(\u001b[0m\u001b[0mtest_images\u001b[0m\u001b[0;34m,\u001b[0m \u001b[0mtest_labels_encoded\u001b[0m\u001b[0;34m)\u001b[0m\u001b[0;34m,\u001b[0m \u001b[0mverbose\u001b[0m\u001b[0;34m=\u001b[0m\u001b[0;36m1\u001b[0m\u001b[0;34m)\u001b[0m\u001b[0;34m\u001b[0m\u001b[0;34m\u001b[0m\u001b[0m\n\u001b[0m\u001b[1;32m     11\u001b[0m \u001b[0;32melse\u001b[0m\u001b[0;34m:\u001b[0m\u001b[0;34m\u001b[0m\u001b[0;34m\u001b[0m\u001b[0m\n\u001b[1;32m     12\u001b[0m   \u001b[0mprint\u001b[0m\u001b[0;34m(\u001b[0m\u001b[0;34m\"Training withOUT Augmented Data\"\u001b[0m\u001b[0;34m)\u001b[0m\u001b[0;34m\u001b[0m\u001b[0;34m\u001b[0m\u001b[0m\n",
            "\u001b[0;32m/usr/local/lib/python3.7/dist-packages/tensorflow/python/keras/engine/training.py\u001b[0m in \u001b[0;36mfit\u001b[0;34m(self, x, y, batch_size, epochs, verbose, callbacks, validation_split, validation_data, shuffle, class_weight, sample_weight, initial_epoch, steps_per_epoch, validation_steps, validation_batch_size, validation_freq, max_queue_size, workers, use_multiprocessing)\u001b[0m\n\u001b[1;32m   1098\u001b[0m                 _r=1):\n\u001b[1;32m   1099\u001b[0m               \u001b[0mcallbacks\u001b[0m\u001b[0;34m.\u001b[0m\u001b[0mon_train_batch_begin\u001b[0m\u001b[0;34m(\u001b[0m\u001b[0mstep\u001b[0m\u001b[0;34m)\u001b[0m\u001b[0;34m\u001b[0m\u001b[0;34m\u001b[0m\u001b[0m\n\u001b[0;32m-> 1100\u001b[0;31m               \u001b[0mtmp_logs\u001b[0m \u001b[0;34m=\u001b[0m \u001b[0mself\u001b[0m\u001b[0;34m.\u001b[0m\u001b[0mtrain_function\u001b[0m\u001b[0;34m(\u001b[0m\u001b[0miterator\u001b[0m\u001b[0;34m)\u001b[0m\u001b[0;34m\u001b[0m\u001b[0;34m\u001b[0m\u001b[0m\n\u001b[0m\u001b[1;32m   1101\u001b[0m               \u001b[0;32mif\u001b[0m \u001b[0mdata_handler\u001b[0m\u001b[0;34m.\u001b[0m\u001b[0mshould_sync\u001b[0m\u001b[0;34m:\u001b[0m\u001b[0;34m\u001b[0m\u001b[0;34m\u001b[0m\u001b[0m\n\u001b[1;32m   1102\u001b[0m                 \u001b[0mcontext\u001b[0m\u001b[0;34m.\u001b[0m\u001b[0masync_wait\u001b[0m\u001b[0;34m(\u001b[0m\u001b[0;34m)\u001b[0m\u001b[0;34m\u001b[0m\u001b[0;34m\u001b[0m\u001b[0m\n",
            "\u001b[0;32m/usr/local/lib/python3.7/dist-packages/tensorflow/python/eager/def_function.py\u001b[0m in \u001b[0;36m__call__\u001b[0;34m(self, *args, **kwds)\u001b[0m\n\u001b[1;32m    826\u001b[0m     \u001b[0mtracing_count\u001b[0m \u001b[0;34m=\u001b[0m \u001b[0mself\u001b[0m\u001b[0;34m.\u001b[0m\u001b[0mexperimental_get_tracing_count\u001b[0m\u001b[0;34m(\u001b[0m\u001b[0;34m)\u001b[0m\u001b[0;34m\u001b[0m\u001b[0;34m\u001b[0m\u001b[0m\n\u001b[1;32m    827\u001b[0m     \u001b[0;32mwith\u001b[0m \u001b[0mtrace\u001b[0m\u001b[0;34m.\u001b[0m\u001b[0mTrace\u001b[0m\u001b[0;34m(\u001b[0m\u001b[0mself\u001b[0m\u001b[0;34m.\u001b[0m\u001b[0m_name\u001b[0m\u001b[0;34m)\u001b[0m \u001b[0;32mas\u001b[0m \u001b[0mtm\u001b[0m\u001b[0;34m:\u001b[0m\u001b[0;34m\u001b[0m\u001b[0;34m\u001b[0m\u001b[0m\n\u001b[0;32m--> 828\u001b[0;31m       \u001b[0mresult\u001b[0m \u001b[0;34m=\u001b[0m \u001b[0mself\u001b[0m\u001b[0;34m.\u001b[0m\u001b[0m_call\u001b[0m\u001b[0;34m(\u001b[0m\u001b[0;34m*\u001b[0m\u001b[0margs\u001b[0m\u001b[0;34m,\u001b[0m \u001b[0;34m**\u001b[0m\u001b[0mkwds\u001b[0m\u001b[0;34m)\u001b[0m\u001b[0;34m\u001b[0m\u001b[0;34m\u001b[0m\u001b[0m\n\u001b[0m\u001b[1;32m    829\u001b[0m       \u001b[0mcompiler\u001b[0m \u001b[0;34m=\u001b[0m \u001b[0;34m\"xla\"\u001b[0m \u001b[0;32mif\u001b[0m \u001b[0mself\u001b[0m\u001b[0;34m.\u001b[0m\u001b[0m_experimental_compile\u001b[0m \u001b[0;32melse\u001b[0m \u001b[0;34m\"nonXla\"\u001b[0m\u001b[0;34m\u001b[0m\u001b[0;34m\u001b[0m\u001b[0m\n\u001b[1;32m    830\u001b[0m       \u001b[0mnew_tracing_count\u001b[0m \u001b[0;34m=\u001b[0m \u001b[0mself\u001b[0m\u001b[0;34m.\u001b[0m\u001b[0mexperimental_get_tracing_count\u001b[0m\u001b[0;34m(\u001b[0m\u001b[0;34m)\u001b[0m\u001b[0;34m\u001b[0m\u001b[0;34m\u001b[0m\u001b[0m\n",
            "\u001b[0;32m/usr/local/lib/python3.7/dist-packages/tensorflow/python/eager/def_function.py\u001b[0m in \u001b[0;36m_call\u001b[0;34m(self, *args, **kwds)\u001b[0m\n\u001b[1;32m    853\u001b[0m       \u001b[0;31m# In this case we have created variables on the first call, so we run the\u001b[0m\u001b[0;34m\u001b[0m\u001b[0;34m\u001b[0m\u001b[0;34m\u001b[0m\u001b[0m\n\u001b[1;32m    854\u001b[0m       \u001b[0;31m# defunned version which is guaranteed to never create variables.\u001b[0m\u001b[0;34m\u001b[0m\u001b[0;34m\u001b[0m\u001b[0;34m\u001b[0m\u001b[0m\n\u001b[0;32m--> 855\u001b[0;31m       \u001b[0;32mreturn\u001b[0m \u001b[0mself\u001b[0m\u001b[0;34m.\u001b[0m\u001b[0m_stateless_fn\u001b[0m\u001b[0;34m(\u001b[0m\u001b[0;34m*\u001b[0m\u001b[0margs\u001b[0m\u001b[0;34m,\u001b[0m \u001b[0;34m**\u001b[0m\u001b[0mkwds\u001b[0m\u001b[0;34m)\u001b[0m  \u001b[0;31m# pylint: disable=not-callable\u001b[0m\u001b[0;34m\u001b[0m\u001b[0;34m\u001b[0m\u001b[0m\n\u001b[0m\u001b[1;32m    856\u001b[0m     \u001b[0;32melif\u001b[0m \u001b[0mself\u001b[0m\u001b[0;34m.\u001b[0m\u001b[0m_stateful_fn\u001b[0m \u001b[0;32mis\u001b[0m \u001b[0;32mnot\u001b[0m \u001b[0;32mNone\u001b[0m\u001b[0;34m:\u001b[0m\u001b[0;34m\u001b[0m\u001b[0;34m\u001b[0m\u001b[0m\n\u001b[1;32m    857\u001b[0m       \u001b[0;31m# Release the lock early so that multiple threads can perform the call\u001b[0m\u001b[0;34m\u001b[0m\u001b[0;34m\u001b[0m\u001b[0;34m\u001b[0m\u001b[0m\n",
            "\u001b[0;32m/usr/local/lib/python3.7/dist-packages/tensorflow/python/eager/function.py\u001b[0m in \u001b[0;36m__call__\u001b[0;34m(self, *args, **kwargs)\u001b[0m\n\u001b[1;32m   2941\u001b[0m        filtered_flat_args) = self._maybe_define_function(args, kwargs)\n\u001b[1;32m   2942\u001b[0m     return graph_function._call_flat(\n\u001b[0;32m-> 2943\u001b[0;31m         filtered_flat_args, captured_inputs=graph_function.captured_inputs)  # pylint: disable=protected-access\n\u001b[0m\u001b[1;32m   2944\u001b[0m \u001b[0;34m\u001b[0m\u001b[0m\n\u001b[1;32m   2945\u001b[0m   \u001b[0;34m@\u001b[0m\u001b[0mproperty\u001b[0m\u001b[0;34m\u001b[0m\u001b[0;34m\u001b[0m\u001b[0m\n",
            "\u001b[0;32m/usr/local/lib/python3.7/dist-packages/tensorflow/python/eager/function.py\u001b[0m in \u001b[0;36m_call_flat\u001b[0;34m(self, args, captured_inputs, cancellation_manager)\u001b[0m\n\u001b[1;32m   1917\u001b[0m       \u001b[0;31m# No tape is watching; skip to running the function.\u001b[0m\u001b[0;34m\u001b[0m\u001b[0;34m\u001b[0m\u001b[0;34m\u001b[0m\u001b[0m\n\u001b[1;32m   1918\u001b[0m       return self._build_call_outputs(self._inference_function.call(\n\u001b[0;32m-> 1919\u001b[0;31m           ctx, args, cancellation_manager=cancellation_manager))\n\u001b[0m\u001b[1;32m   1920\u001b[0m     forward_backward = self._select_forward_and_backward_functions(\n\u001b[1;32m   1921\u001b[0m         \u001b[0margs\u001b[0m\u001b[0;34m,\u001b[0m\u001b[0;34m\u001b[0m\u001b[0;34m\u001b[0m\u001b[0m\n",
            "\u001b[0;32m/usr/local/lib/python3.7/dist-packages/tensorflow/python/eager/function.py\u001b[0m in \u001b[0;36mcall\u001b[0;34m(self, ctx, args, cancellation_manager)\u001b[0m\n\u001b[1;32m    558\u001b[0m               \u001b[0minputs\u001b[0m\u001b[0;34m=\u001b[0m\u001b[0margs\u001b[0m\u001b[0;34m,\u001b[0m\u001b[0;34m\u001b[0m\u001b[0;34m\u001b[0m\u001b[0m\n\u001b[1;32m    559\u001b[0m               \u001b[0mattrs\u001b[0m\u001b[0;34m=\u001b[0m\u001b[0mattrs\u001b[0m\u001b[0;34m,\u001b[0m\u001b[0;34m\u001b[0m\u001b[0;34m\u001b[0m\u001b[0m\n\u001b[0;32m--> 560\u001b[0;31m               ctx=ctx)\n\u001b[0m\u001b[1;32m    561\u001b[0m         \u001b[0;32melse\u001b[0m\u001b[0;34m:\u001b[0m\u001b[0;34m\u001b[0m\u001b[0;34m\u001b[0m\u001b[0m\n\u001b[1;32m    562\u001b[0m           outputs = execute.execute_with_cancellation(\n",
            "\u001b[0;32m/usr/local/lib/python3.7/dist-packages/tensorflow/python/eager/execute.py\u001b[0m in \u001b[0;36mquick_execute\u001b[0;34m(op_name, num_outputs, inputs, attrs, ctx, name)\u001b[0m\n\u001b[1;32m     58\u001b[0m     \u001b[0mctx\u001b[0m\u001b[0;34m.\u001b[0m\u001b[0mensure_initialized\u001b[0m\u001b[0;34m(\u001b[0m\u001b[0;34m)\u001b[0m\u001b[0;34m\u001b[0m\u001b[0;34m\u001b[0m\u001b[0m\n\u001b[1;32m     59\u001b[0m     tensors = pywrap_tfe.TFE_Py_Execute(ctx._handle, device_name, op_name,\n\u001b[0;32m---> 60\u001b[0;31m                                         inputs, attrs, num_outputs)\n\u001b[0m\u001b[1;32m     61\u001b[0m   \u001b[0;32mexcept\u001b[0m \u001b[0mcore\u001b[0m\u001b[0;34m.\u001b[0m\u001b[0m_NotOkStatusException\u001b[0m \u001b[0;32mas\u001b[0m \u001b[0me\u001b[0m\u001b[0;34m:\u001b[0m\u001b[0;34m\u001b[0m\u001b[0;34m\u001b[0m\u001b[0m\n\u001b[1;32m     62\u001b[0m     \u001b[0;32mif\u001b[0m \u001b[0mname\u001b[0m \u001b[0;32mis\u001b[0m \u001b[0;32mnot\u001b[0m \u001b[0;32mNone\u001b[0m\u001b[0;34m:\u001b[0m\u001b[0;34m\u001b[0m\u001b[0;34m\u001b[0m\u001b[0m\n",
            "\u001b[0;31mKeyboardInterrupt\u001b[0m: "
          ]
        }
      ]
    },
    {
      "cell_type": "code",
      "metadata": {
        "id": "NAog9URkleaS",
        "colab": {
          "base_uri": "https://localhost:8080/"
        },
        "outputId": "8f85fd8d-348c-468d-9ab8-564a0f00b0fd"
      },
      "source": [
        "# Evaluate your model via the evaluate function of a tf model\n",
        "#@title  Evaluate your model via the evaluate function of a tf model\n",
        "_, acc = model.evaluate(test_images, test_labels_encoded, verbose=1)\n",
        "print('> %.3f' % (acc * 100.0))\n"
      ],
      "execution_count": null,
      "outputs": [
        {
          "output_type": "stream",
          "text": [
            "313/313 [==============================] - 1s 3ms/step - loss: 0.5886 - accuracy: 0.8081\n",
            "> 80.810\n"
          ],
          "name": "stdout"
        }
      ]
    },
    {
      "cell_type": "code",
      "metadata": {
        "id": "FEMY8LYvlhcX",
        "colab": {
          "base_uri": "https://localhost:8080/",
          "height": 499
        },
        "outputId": "2a85bd30-0198-4c97-9462-7ace565c9cf6"
      },
      "source": [
        "accuracy_lost_curves(history)\n",
        "\n",
        "# accuracy_loss_curves(history)"
      ],
      "execution_count": null,
      "outputs": [
        {
          "output_type": "display_data",
          "data": {
            "image/png": "[encoded data removed]",
            "text/plain": [
              "<Figure size 576x576 with 2 Axes>"
            ]
          },
          "metadata": {
            "tags": [],
            "needs_background": "light"
          }
        }
      ]
    },
    {
      "cell_type": "markdown",
      "metadata": {
        "id": "SzfnQQIyxSM3"
      },
      "source": [
        "##With Transfer Learning"
      ]
    },
    {
      "cell_type": "code",
      "metadata": {
        "id": "JYD_KvpallOC",
        "colab": {
          "base_uri": "https://localhost:8080/"
        },
        "outputId": "ed5fd402-0dcb-44a6-9813-5eb4a18c22e7"
      },
      "source": [
        "#@title see tf.keras.applications.VGG19\n",
        "base_model = tf.keras.applications.VGG19(weights = 'imagenet', include_top = False, input_shape=input_shape)\n",
        "base_model.trainable = True #OK"
      ],
      "execution_count": null,
      "outputs": [
        {
          "output_type": "stream",
          "text": [
            "Downloading data from https://storage.googleapis.com/tensorflow/keras-applications/vgg19/vgg19_weights_tf_dim_ordering_tf_kernels_notop.h5\n",
            "80142336/80134624 [==============================] - 0s 0us/step\n"
          ],
          "name": "stdout"
        }
      ]
    },
    {
      "cell_type": "code",
      "metadata": {
        "id": "9N1vNynT_u8c"
      },
      "source": [
        "#@title create top layers and sequential model with base_model\n",
        "top_layers = tf.keras.Sequential()\n",
        "top_layers.add(tf.keras.layers.Flatten())\n",
        "top_layers.add(tf.keras.layers.Dense(512, activation='relu'))\n",
        "top_layers.add(tf.keras.layers.Dense(32, activation='relu'))\n",
        "top_layers.add(tf.keras.layers.Dense(category_size,activation='softmax'))\n",
        "\n"
      ],
      "execution_count": null,
      "outputs": []
    },
    {
      "cell_type": "code",
      "metadata": {
        "id": "nqJz0BcoWnGn"
      },
      "source": [
        "model= tf.keras.Sequential([\n",
        "    base_model, \n",
        "    top_layers\n",
        "])# OK!"
      ],
      "execution_count": null,
      "outputs": []
    },
    {
      "cell_type": "code",
      "metadata": {
        "id": "P1JucQsJWSf2",
        "colab": {
          "base_uri": "https://localhost:8080/"
        },
        "outputId": "e40782fe-4f91-4daf-8e17-3b5b9e8c1f11"
      },
      "source": [
        "#### Fit your model (you can use the test set as your validation data)\n",
        "#@title  Compile your model (use SGD optimizer and choose a relevant loss and metric)\n",
        "opt2 = tf.keras.optimizers.SGD(lr=0.0005, momentum=0.9)\n",
        "model.compile(optimizer=opt2, loss='categorical_crossentropy', metrics=['accuracy'])\n",
        "epochs = 100\n",
        "augment_data=False\n",
        "if augment_data:\n",
        "  print(\"Training with Augmented Data\")\n",
        "  steps = int(train_images.shape[0] / 64)\n",
        "  history = model.fit(it_train, steps_per_epoch=steps, epochs=epochs, validation_data=(test_images, test_labels_encoded), verbose=1)\n",
        "else: \n",
        "  print(\"Training withOUT Augmented Data\")\n",
        "  history = model.fit(train_images, train_labels_encoded, epochs=epochs, batch_size=64, \n",
        "                    validation_data=(test_images, test_labels_encoded))\n",
        "\n"
      ],
      "execution_count": null,
      "outputs": [
        {
          "output_type": "stream",
          "text": [
            "Training withOUT Augmented Data\n",
            "Epoch 1/100\n",
            "782/782 [==============================] - 25s 30ms/step - loss: 0.6362 - accuracy: 0.7825 - val_loss: 0.6182 - val_accuracy: 0.7895\n",
            "Epoch 2/100\n",
            "782/782 [==============================] - 24s 30ms/step - loss: 0.5030 - accuracy: 0.8299 - val_loss: 0.6391 - val_accuracy: 0.7942\n",
            "Epoch 3/100\n",
            "782/782 [==============================] - 23s 30ms/step - loss: 0.4133 - accuracy: 0.8589 - val_loss: 0.5241 - val_accuracy: 0.8253\n",
            "Epoch 4/100\n",
            "782/782 [==============================] - 23s 30ms/step - loss: 0.3320 - accuracy: 0.8866 - val_loss: 0.5332 - val_accuracy: 0.8348\n",
            "Epoch 5/100\n",
            "782/782 [==============================] - 23s 30ms/step - loss: 0.2706 - accuracy: 0.9060 - val_loss: 0.5542 - val_accuracy: 0.8325\n",
            "Epoch 6/100\n",
            "782/782 [==============================] - 23s 30ms/step - loss: 0.2136 - accuracy: 0.9256 - val_loss: 0.5631 - val_accuracy: 0.8363\n",
            "Epoch 7/100\n",
            "782/782 [==============================] - 23s 30ms/step - loss: 0.1709 - accuracy: 0.9406 - val_loss: 0.5539 - val_accuracy: 0.8382\n",
            "Epoch 8/100\n",
            "782/782 [==============================] - 23s 30ms/step - loss: 0.1300 - accuracy: 0.9557 - val_loss: 0.6899 - val_accuracy: 0.8217\n",
            "Epoch 9/100\n",
            "782/782 [==============================] - 23s 30ms/step - loss: 0.1053 - accuracy: 0.9647 - val_loss: 0.6163 - val_accuracy: 0.8417\n",
            "Epoch 10/100\n",
            "782/782 [==============================] - 23s 30ms/step - loss: 0.0801 - accuracy: 0.9730 - val_loss: 0.7530 - val_accuracy: 0.8360\n",
            "Epoch 11/100\n",
            "782/782 [==============================] - 23s 30ms/step - loss: 0.0707 - accuracy: 0.9757 - val_loss: 0.7689 - val_accuracy: 0.8368\n",
            "Epoch 12/100\n",
            "782/782 [==============================] - 23s 30ms/step - loss: 0.0546 - accuracy: 0.9817 - val_loss: 0.9570 - val_accuracy: 0.8327\n",
            "Epoch 13/100\n",
            "782/782 [==============================] - 23s 30ms/step - loss: 0.0546 - accuracy: 0.9809 - val_loss: 0.7481 - val_accuracy: 0.8343\n",
            "Epoch 14/100\n",
            "782/782 [==============================] - 23s 30ms/step - loss: 0.0402 - accuracy: 0.9867 - val_loss: 0.8292 - val_accuracy: 0.8407\n",
            "Epoch 15/100\n",
            "782/782 [==============================] - 23s 30ms/step - loss: 0.0408 - accuracy: 0.9867 - val_loss: 0.8347 - val_accuracy: 0.8285\n",
            "Epoch 16/100\n",
            "782/782 [==============================] - 23s 30ms/step - loss: 0.0299 - accuracy: 0.9902 - val_loss: 0.9040 - val_accuracy: 0.8341\n",
            "Epoch 17/100\n",
            "782/782 [==============================] - 23s 30ms/step - loss: 0.0292 - accuracy: 0.9904 - val_loss: 0.8624 - val_accuracy: 0.8432\n",
            "Epoch 18/100\n",
            "782/782 [==============================] - 23s 30ms/step - loss: 0.0321 - accuracy: 0.9893 - val_loss: 0.8506 - val_accuracy: 0.8386\n",
            "Epoch 19/100\n",
            "782/782 [==============================] - 23s 30ms/step - loss: 0.0432 - accuracy: 0.9847 - val_loss: 0.8926 - val_accuracy: 0.8474\n",
            "Epoch 20/100\n",
            "782/782 [==============================] - 24s 30ms/step - loss: 0.0161 - accuracy: 0.9949 - val_loss: 0.9326 - val_accuracy: 0.8443\n",
            "Epoch 21/100\n",
            "782/782 [==============================] - 23s 30ms/step - loss: 0.0165 - accuracy: 0.9946 - val_loss: 1.0305 - val_accuracy: 0.8387\n",
            "Epoch 22/100\n",
            "782/782 [==============================] - 24s 30ms/step - loss: 0.0197 - accuracy: 0.9936 - val_loss: 0.9450 - val_accuracy: 0.8435\n",
            "Epoch 23/100\n",
            "782/782 [==============================] - 24s 30ms/step - loss: 0.0190 - accuracy: 0.9938 - val_loss: 1.1165 - val_accuracy: 0.8392\n",
            "Epoch 24/100\n",
            "782/782 [==============================] - 23s 30ms/step - loss: 0.0127 - accuracy: 0.9957 - val_loss: 1.0304 - val_accuracy: 0.8394\n",
            "Epoch 25/100\n",
            "782/782 [==============================] - 23s 30ms/step - loss: 0.0100 - accuracy: 0.9972 - val_loss: 0.9106 - val_accuracy: 0.8454\n",
            "Epoch 26/100\n",
            "782/782 [==============================] - 23s 30ms/step - loss: 0.0052 - accuracy: 0.9985 - val_loss: 1.0718 - val_accuracy: 0.8349\n",
            "Epoch 27/100\n",
            "782/782 [==============================] - 23s 30ms/step - loss: 0.0127 - accuracy: 0.9956 - val_loss: 1.0111 - val_accuracy: 0.8484\n",
            "Epoch 28/100\n",
            "782/782 [==============================] - 23s 30ms/step - loss: 0.0062 - accuracy: 0.9979 - val_loss: 0.9072 - val_accuracy: 0.8386\n",
            "Epoch 29/100\n",
            "782/782 [==============================] - 23s 30ms/step - loss: 0.0074 - accuracy: 0.9977 - val_loss: 0.9812 - val_accuracy: 0.8489\n",
            "Epoch 30/100\n",
            "782/782 [==============================] - 23s 30ms/step - loss: 0.0065 - accuracy: 0.9982 - val_loss: 1.0717 - val_accuracy: 0.8434\n",
            "Epoch 31/100\n",
            "782/782 [==============================] - 23s 30ms/step - loss: 0.0085 - accuracy: 0.9975 - val_loss: 0.9870 - val_accuracy: 0.8470\n",
            "Epoch 32/100\n",
            "782/782 [==============================] - 23s 30ms/step - loss: 0.0076 - accuracy: 0.9976 - val_loss: 1.0100 - val_accuracy: 0.8520\n",
            "Epoch 33/100\n",
            "782/782 [==============================] - 23s 30ms/step - loss: 0.0125 - accuracy: 0.9962 - val_loss: 1.0598 - val_accuracy: 0.8537\n",
            "Epoch 34/100\n",
            "782/782 [==============================] - 24s 30ms/step - loss: 0.0032 - accuracy: 0.9988 - val_loss: 1.1574 - val_accuracy: 0.8560\n",
            "Epoch 35/100\n",
            "782/782 [==============================] - 24s 30ms/step - loss: 0.0092 - accuracy: 0.9973 - val_loss: 1.0235 - val_accuracy: 0.8492\n",
            "Epoch 36/100\n",
            "782/782 [==============================] - 23s 30ms/step - loss: 0.0182 - accuracy: 0.9949 - val_loss: 0.9906 - val_accuracy: 0.8519\n",
            "Epoch 37/100\n",
            "782/782 [==============================] - 23s 30ms/step - loss: 0.0028 - accuracy: 0.9993 - val_loss: 1.0796 - val_accuracy: 0.8562\n",
            "Epoch 38/100\n",
            "782/782 [==============================] - 23s 30ms/step - loss: 1.6922e-04 - accuracy: 1.0000 - val_loss: 1.1131 - val_accuracy: 0.8592\n",
            "Epoch 39/100\n",
            "782/782 [==============================] - 23s 30ms/step - loss: 5.1699e-05 - accuracy: 1.0000 - val_loss: 1.1405 - val_accuracy: 0.8607\n",
            "Epoch 40/100\n",
            "782/782 [==============================] - 23s 30ms/step - loss: 3.9612e-05 - accuracy: 1.0000 - val_loss: 1.1636 - val_accuracy: 0.8607\n",
            "Epoch 41/100\n",
            "782/782 [==============================] - 23s 30ms/step - loss: 3.3567e-05 - accuracy: 1.0000 - val_loss: 1.1832 - val_accuracy: 0.8606\n",
            "Epoch 42/100\n",
            "782/782 [==============================] - 23s 30ms/step - loss: 2.8032e-05 - accuracy: 1.0000 - val_loss: 1.2000 - val_accuracy: 0.8608\n",
            "Epoch 43/100\n",
            "782/782 [==============================] - 23s 30ms/step - loss: 2.3877e-05 - accuracy: 1.0000 - val_loss: 1.2148 - val_accuracy: 0.8604\n",
            "Epoch 44/100\n",
            "782/782 [==============================] - 23s 30ms/step - loss: 2.1652e-05 - accuracy: 1.0000 - val_loss: 1.2278 - val_accuracy: 0.8606\n",
            "Epoch 45/100\n",
            "782/782 [==============================] - 23s 30ms/step - loss: 1.8033e-05 - accuracy: 1.0000 - val_loss: 1.2398 - val_accuracy: 0.8605\n",
            "Epoch 46/100\n",
            "782/782 [==============================] - 23s 30ms/step - loss: 1.6993e-05 - accuracy: 1.0000 - val_loss: 1.2507 - val_accuracy: 0.8601\n",
            "Epoch 47/100\n",
            "782/782 [==============================] - 23s 30ms/step - loss: 1.7753e-05 - accuracy: 1.0000 - val_loss: 1.2608 - val_accuracy: 0.8604\n",
            "Epoch 48/100\n",
            "782/782 [==============================] - 23s 30ms/step - loss: 1.5749e-05 - accuracy: 1.0000 - val_loss: 1.2700 - val_accuracy: 0.8606\n",
            "Epoch 49/100\n",
            "782/782 [==============================] - 23s 30ms/step - loss: 1.3124e-05 - accuracy: 1.0000 - val_loss: 1.2787 - val_accuracy: 0.8606\n",
            "Epoch 50/100\n",
            "782/782 [==============================] - 24s 30ms/step - loss: 1.1620e-05 - accuracy: 1.0000 - val_loss: 1.2869 - val_accuracy: 0.8606\n",
            "Epoch 51/100\n",
            "782/782 [==============================] - 23s 30ms/step - loss: 1.1963e-05 - accuracy: 1.0000 - val_loss: 1.2950 - val_accuracy: 0.8609\n",
            "Epoch 52/100\n",
            "782/782 [==============================] - 24s 30ms/step - loss: 1.0533e-05 - accuracy: 1.0000 - val_loss: 1.3022 - val_accuracy: 0.8610\n",
            "Epoch 53/100\n",
            "782/782 [==============================] - 23s 30ms/step - loss: 1.0027e-05 - accuracy: 1.0000 - val_loss: 1.3090 - val_accuracy: 0.8611\n",
            "Epoch 54/100\n",
            "782/782 [==============================] - 23s 30ms/step - loss: 9.8316e-06 - accuracy: 1.0000 - val_loss: 1.3156 - val_accuracy: 0.8610\n",
            "Epoch 55/100\n",
            "782/782 [==============================] - 23s 30ms/step - loss: 9.7954e-06 - accuracy: 1.0000 - val_loss: 1.3218 - val_accuracy: 0.8608\n",
            "Epoch 56/100\n",
            "782/782 [==============================] - 23s 30ms/step - loss: 8.5053e-06 - accuracy: 1.0000 - val_loss: 1.3278 - val_accuracy: 0.8606\n",
            "Epoch 57/100\n",
            "782/782 [==============================] - 23s 30ms/step - loss: 8.1251e-06 - accuracy: 1.0000 - val_loss: 1.3336 - val_accuracy: 0.8605\n",
            "Epoch 58/100\n",
            "782/782 [==============================] - 23s 30ms/step - loss: 8.4582e-06 - accuracy: 1.0000 - val_loss: 1.3391 - val_accuracy: 0.8606\n",
            "Epoch 59/100\n",
            "782/782 [==============================] - 23s 30ms/step - loss: 7.7489e-06 - accuracy: 1.0000 - val_loss: 1.3444 - val_accuracy: 0.8606\n",
            "Epoch 60/100\n",
            "782/782 [==============================] - 23s 30ms/step - loss: 7.6821e-06 - accuracy: 1.0000 - val_loss: 1.3497 - val_accuracy: 0.8607\n",
            "Epoch 61/100\n",
            "782/782 [==============================] - 23s 30ms/step - loss: 7.2557e-06 - accuracy: 1.0000 - val_loss: 1.3546 - val_accuracy: 0.8607\n",
            "Epoch 62/100\n",
            "782/782 [==============================] - 23s 30ms/step - loss: 6.5054e-06 - accuracy: 1.0000 - val_loss: 1.3593 - val_accuracy: 0.8606\n",
            "Epoch 63/100\n",
            "782/782 [==============================] - 23s 30ms/step - loss: 6.1954e-06 - accuracy: 1.0000 - val_loss: 1.3641 - val_accuracy: 0.8609\n",
            "Epoch 64/100\n",
            "782/782 [==============================] - 23s 30ms/step - loss: 5.9205e-06 - accuracy: 1.0000 - val_loss: 1.3685 - val_accuracy: 0.8608\n",
            "Epoch 65/100\n",
            "782/782 [==============================] - 23s 30ms/step - loss: 6.0118e-06 - accuracy: 1.0000 - val_loss: 1.3728 - val_accuracy: 0.8608\n",
            "Epoch 66/100\n",
            "782/782 [==============================] - 23s 30ms/step - loss: 5.4500e-06 - accuracy: 1.0000 - val_loss: 1.3770 - val_accuracy: 0.8609\n",
            "Epoch 67/100\n",
            "782/782 [==============================] - 23s 30ms/step - loss: 5.5181e-06 - accuracy: 1.0000 - val_loss: 1.3811 - val_accuracy: 0.8607\n",
            "Epoch 68/100\n",
            "782/782 [==============================] - 23s 30ms/step - loss: 5.5021e-06 - accuracy: 1.0000 - val_loss: 1.3850 - val_accuracy: 0.8607\n",
            "Epoch 69/100\n",
            "782/782 [==============================] - 23s 30ms/step - loss: 4.9377e-06 - accuracy: 1.0000 - val_loss: 1.3889 - val_accuracy: 0.8607\n",
            "Epoch 70/100\n",
            "782/782 [==============================] - 23s 30ms/step - loss: 5.2703e-06 - accuracy: 1.0000 - val_loss: 1.3925 - val_accuracy: 0.8607\n",
            "Epoch 71/100\n",
            "782/782 [==============================] - 24s 30ms/step - loss: 4.8790e-06 - accuracy: 1.0000 - val_loss: 1.3962 - val_accuracy: 0.8605\n",
            "Epoch 72/100\n",
            "782/782 [==============================] - 23s 30ms/step - loss: 4.4207e-06 - accuracy: 1.0000 - val_loss: 1.3997 - val_accuracy: 0.8603\n",
            "Epoch 73/100\n",
            "782/782 [==============================] - 24s 30ms/step - loss: 4.6792e-06 - accuracy: 1.0000 - val_loss: 1.4031 - val_accuracy: 0.8605\n",
            "Epoch 74/100\n",
            "782/782 [==============================] - 23s 30ms/step - loss: 4.6651e-06 - accuracy: 1.0000 - val_loss: 1.4064 - val_accuracy: 0.8605\n",
            "Epoch 75/100\n",
            "782/782 [==============================] - 24s 30ms/step - loss: 4.5250e-06 - accuracy: 1.0000 - val_loss: 1.4097 - val_accuracy: 0.8605\n",
            "Epoch 76/100\n",
            "782/782 [==============================] - 24s 30ms/step - loss: 4.4106e-06 - accuracy: 1.0000 - val_loss: 1.4128 - val_accuracy: 0.8605\n",
            "Epoch 77/100\n",
            "782/782 [==============================] - 24s 30ms/step - loss: 4.1216e-06 - accuracy: 1.0000 - val_loss: 1.4160 - val_accuracy: 0.8605\n",
            "Epoch 78/100\n",
            "782/782 [==============================] - 24s 30ms/step - loss: 4.0948e-06 - accuracy: 1.0000 - val_loss: 1.4191 - val_accuracy: 0.8605\n",
            "Epoch 79/100\n",
            "782/782 [==============================] - 23s 30ms/step - loss: 4.0756e-06 - accuracy: 1.0000 - val_loss: 1.4221 - val_accuracy: 0.8605\n",
            "Epoch 80/100\n",
            "782/782 [==============================] - 24s 30ms/step - loss: 3.6534e-06 - accuracy: 1.0000 - val_loss: 1.4251 - val_accuracy: 0.8605\n",
            "Epoch 81/100\n",
            "782/782 [==============================] - 24s 30ms/step - loss: 3.9517e-06 - accuracy: 1.0000 - val_loss: 1.4279 - val_accuracy: 0.8607\n",
            "Epoch 82/100\n",
            "782/782 [==============================] - 23s 30ms/step - loss: 3.7758e-06 - accuracy: 1.0000 - val_loss: 1.4307 - val_accuracy: 0.8607\n",
            "Epoch 83/100\n",
            "782/782 [==============================] - 23s 30ms/step - loss: 3.5431e-06 - accuracy: 1.0000 - val_loss: 1.4334 - val_accuracy: 0.8608\n",
            "Epoch 84/100\n",
            "782/782 [==============================] - 24s 30ms/step - loss: 3.3005e-06 - accuracy: 1.0000 - val_loss: 1.4361 - val_accuracy: 0.8608\n",
            "Epoch 85/100\n",
            "782/782 [==============================] - 24s 30ms/step - loss: 3.4409e-06 - accuracy: 1.0000 - val_loss: 1.4387 - val_accuracy: 0.8609\n",
            "Epoch 86/100\n",
            "782/782 [==============================] - 24s 30ms/step - loss: 3.2879e-06 - accuracy: 1.0000 - val_loss: 1.4413 - val_accuracy: 0.8608\n",
            "Epoch 87/100\n",
            "782/782 [==============================] - 23s 30ms/step - loss: 3.2467e-06 - accuracy: 1.0000 - val_loss: 1.4438 - val_accuracy: 0.8609\n",
            "Epoch 88/100\n",
            "782/782 [==============================] - 24s 30ms/step - loss: 3.3433e-06 - accuracy: 1.0000 - val_loss: 1.4463 - val_accuracy: 0.8609\n",
            "Epoch 89/100\n",
            "782/782 [==============================] - 23s 30ms/step - loss: 2.9564e-06 - accuracy: 1.0000 - val_loss: 1.4487 - val_accuracy: 0.8609\n",
            "Epoch 90/100\n",
            "782/782 [==============================] - 23s 30ms/step - loss: 3.2988e-06 - accuracy: 1.0000 - val_loss: 1.4510 - val_accuracy: 0.8609\n",
            "Epoch 91/100\n",
            "782/782 [==============================] - 23s 30ms/step - loss: 3.1123e-06 - accuracy: 1.0000 - val_loss: 1.4534 - val_accuracy: 0.8609\n",
            "Epoch 92/100\n",
            "782/782 [==============================] - 24s 30ms/step - loss: 3.1215e-06 - accuracy: 1.0000 - val_loss: 1.4557 - val_accuracy: 0.8609\n",
            "Epoch 93/100\n",
            "782/782 [==============================] - 23s 30ms/step - loss: 2.9918e-06 - accuracy: 1.0000 - val_loss: 1.4580 - val_accuracy: 0.8610\n",
            "Epoch 94/100\n",
            "782/782 [==============================] - 23s 30ms/step - loss: 2.8428e-06 - accuracy: 1.0000 - val_loss: 1.4602 - val_accuracy: 0.8610\n",
            "Epoch 95/100\n",
            "782/782 [==============================] - 23s 30ms/step - loss: 2.8737e-06 - accuracy: 1.0000 - val_loss: 1.4624 - val_accuracy: 0.8609\n",
            "Epoch 96/100\n",
            "782/782 [==============================] - 24s 30ms/step - loss: 2.9530e-06 - accuracy: 1.0000 - val_loss: 1.4645 - val_accuracy: 0.8610\n",
            "Epoch 97/100\n",
            "782/782 [==============================] - 23s 30ms/step - loss: 2.7849e-06 - accuracy: 1.0000 - val_loss: 1.4666 - val_accuracy: 0.8609\n",
            "Epoch 98/100\n",
            "782/782 [==============================] - 23s 30ms/step - loss: 2.9189e-06 - accuracy: 1.0000 - val_loss: 1.4687 - val_accuracy: 0.8609\n",
            "Epoch 99/100\n",
            "782/782 [==============================] - 23s 30ms/step - loss: 2.7140e-06 - accuracy: 1.0000 - val_loss: 1.4707 - val_accuracy: 0.8609\n",
            "Epoch 100/100\n",
            "782/782 [==============================] - 23s 30ms/step - loss: 2.7221e-06 - accuracy: 1.0000 - val_loss: 1.4728 - val_accuracy: 0.8610\n"
          ],
          "name": "stdout"
        }
      ]
    },
    {
      "cell_type": "code",
      "metadata": {
        "id": "ZYgvNWcH0s3Q",
        "colab": {
          "base_uri": "https://localhost:8080/"
        },
        "outputId": "fa40dd7c-fe7b-421d-9e1f-e831f8719b2d"
      },
      "source": [
        "model.summary()"
      ],
      "execution_count": null,
      "outputs": [
        {
          "output_type": "stream",
          "text": [
            "Model: \"sequential_12\"\n",
            "_________________________________________________________________\n",
            "Layer (type)                 Output Shape              Param #   \n",
            "=================================================================\n",
            "vgg19 (Functional)           (None, 1, 1, 512)         20024384  \n",
            "_________________________________________________________________\n",
            "sequential_10 (Sequential)   (None, 10)                279402    \n",
            "=================================================================\n",
            "Total params: 20,303,786\n",
            "Trainable params: 20,303,786\n",
            "Non-trainable params: 0\n",
            "_________________________________________________________________\n"
          ],
          "name": "stdout"
        }
      ]
    },
    {
      "cell_type": "code",
      "metadata": {
        "id": "sW3vbMGpllL3"
      },
      "source": [
        "# tf.keras.optimizers.SGD"
      ],
      "execution_count": null,
      "outputs": []
    },
    {
      "cell_type": "code",
      "metadata": {
        "id": "cyMod8exxdiS"
      },
      "source": [
        "# data augmentation"
      ],
      "execution_count": null,
      "outputs": []
    },
    {
      "cell_type": "code",
      "metadata": {
        "id": "5Xb1AObzxeIQ"
      },
      "source": [
        "#### Fit your model (you can use the test set as your validation data)\n"
      ],
      "execution_count": null,
      "outputs": []
    },
    {
      "cell_type": "code",
      "metadata": {
        "id": "8kBnUE1qxiJl",
        "colab": {
          "base_uri": "https://localhost:8080/",
          "height": 499
        },
        "outputId": "3fde50cd-6ec7-4ac1-d84f-c3ad6168007e"
      },
      "source": [
        "accuracy_lost_curves(history)"
      ],
      "execution_count": null,
      "outputs": [
        {
          "output_type": "display_data",
          "data": {
            "image/png": "[encoded data removed]",
            "text/plain": [
              "<Figure size 576x576 with 2 Axes>"
            ]
          },
          "metadata": {
            "tags": [],
            "needs_background": "light"
          }
        }
      ]
    },
    {
      "cell_type": "markdown",
      "metadata": {
        "id": "mUIodhzHcHnU"
      },
      "source": [
        "## Transfer Learning v2 transfer learning and data augmentation"
      ]
    },
    {
      "cell_type": "code",
      "metadata": {
        "id": "SG1bt-g_xiM_"
      },
      "source": [
        "# let's put it all in one\n",
        "#### Fit your model (you can use the test set as your validation data)\n",
        "#@title  Compile your model (use SGD optimizer and choose a relevant loss and metric)\n",
        "opt2 = tf.keras.optimizers.SGD(lr=0.0005, momentum=0.9)\n",
        "model.compile(optimizer=opt2, loss='categorical_crossentropy', metrics=['accuracy'])\n",
        "epochs = 100validation_data\n",
        "augment_data=True\n",
        "if augment_data:\n",
        "  print(\"Training with Augmented Data\")\n",
        "  steps = int(train_images.shape[0] / 64)\n",
        "  history = model.fit(it_train, steps_per_epoch=steps, epochs=epochs, =(test_images, test_labels_encoded), verbose=1)\n",
        "else: \n",
        "  print(\"Training withOUT Augmented Data\")\n",
        "  history = model.fit(train_images, train_labels_encoded, epochs=epochs, batch_size=64, \n",
        "                    validation_data=(test_images, test_labels_encoded))\n",
        "\n",
        "\n",
        "\n"
      ],
      "execution_count": null,
      "outputs": []
    },
    {
      "cell_type": "code",
      "metadata": {
        "id": "w_gaXqbecgpX"
      },
      "source": [
        ""
      ],
      "execution_count": null,
      "outputs": []
    }
  ]
}