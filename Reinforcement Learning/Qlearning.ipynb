{
  "nbformat": 4,
  "nbformat_minor": 0,
  "metadata": {
    "colab": {
      "name": "Copie de Qlearning.ipynb",
      "provenance": [],
      "collapsed_sections": []
    },
    "kernelspec": {
      "name": "python3",
      "display_name": "Python 3"
    },
    "accelerator": "GPU"
  },
  "cells": [
    {
      "cell_type": "code",
      "metadata": {
        "id": "Ji9SvkkE4dLL"
      },
      "source": [
        "#On  va reprendre l'exemple du Golois\r\n",
        "\r\n",
        "import gym\r\n",
        "import numpy as np\r\n",
        "env = gym.make('MountainCar-v0')\r\n",
        "import matplotlib.pyplot as plt\r\n",
        "## evaluate a random (uniform) policfy\r\n",
        "lr=[]#liste des récompenses\r\n",
        "ll=[]#liste des steps \r\n",
        "for i in range(100):#on lance 100 épisodes \r\n",
        "  env.reset()\r\n",
        "  done=False\r\n",
        "  rt=0#reward\r\n",
        "  el=0#combien de mouvement, de steps?\r\n",
        "  while not done:\r\n",
        "    s,r,done,_ = env.step(env.action_space.sample())#r=-1 tant qu'on a pas touché le but \r\n",
        "    print(s,r)\r\n",
        "    rt +=r#r=reward at this step, rt:accumulated reward \r\n",
        "    el +=1\r\n",
        "  lr.append(rt)\r\n",
        "  ll.append(el)\r\n",
        "print('average length of episodes %.2f (%.2f)'%(np.mean(ll), np.std(ll)))#pour calculer les moyennes \r\n",
        "print('average rewards of episodes %.2f (%.2f)'%(np.mean(lr), np.std(lr)))"
      ],
      "execution_count": null,
      "outputs": []
    },
    {
      "cell_type": "code",
      "metadata": {
        "id": "1sUtQ-Kv8Hxv"
      },
      "source": [
        "# • domains: list of domains of the attributes\r\n",
        "#   ex: [[-1,1],[0,5]] two attributes: first has values in [-1,1], the second in [0,5]\r\n",
        "#Omar: first for abscisse and second for velocity\r\n",
        "#1tilling=1domain?\r\n",
        "# • nbBins: the number of bins of each tiling (here we assume the same number...)\r\n",
        "# • nbTiling: the number of tilings used (overlays of tilings)\r\n",
        "# • offsets: the offset of each tiling\r\n",
        "#   ex: [[0,0], [0.2, 0.4]] example for two attribute: no offset for the first tiling, second is offset by (0.2, 0.4)\r\n",
        "\r\n",
        "\r\n",
        "'''\r\n",
        "Tile coding is a way of representing the values of a vector of continuous variables as a large binary vector with few 1s and many 0s.\r\n",
        "The binary vector is not represented explicitly of course, but as a list of the components that are 1s. \r\n",
        "The main step is to partition, or tile, the continuous space multiple times and select one tile from each tiling, \r\n",
        "that corresponding the the vector's value. Each tile is converted (hashed down to) an element in the big binary vector, \r\n",
        "and the list of the tile (element) numbers is returned as the representation of the vector's value. \r\n",
        "It is recommended as a first way of applying online reinforcement learning methods to domains with continuous state or action variables.\r\n",
        "\r\n",
        "\r\n",
        "'''\r\n",
        "def genTilings(domains, nbBins, nbTilings, offsets):\r\n",
        "  tilings = []\r\n",
        "  for i in range(nbTilings):#here 2\r\n",
        "    t = []\r\n",
        "    #for each attribute\r\n",
        "    for a in range(len(domains)):#we have 2 domains as well\r\n",
        "      t.append(genTiling(domains[a], nbBins, offsets[i][a]))#1 TILLING=1LINSPACE=ENSEMBLE DE VALEURS ESPACE du nombre de bins=1 attribut\r\n",
        "    tilings.append(t)\r\n",
        "    #print(\"tilings=\",tilings)\r\n",
        "  return tilings\r\n",
        "\r\n",
        "# generate one tiling\r\n",
        "def genTiling(domain, nbBins, offset):\r\n",
        "  return np.linspace(start=domain[0], stop=domain[1], num=nbBins, endpoint=True)+offset\r\n",
        "\r\n",
        "# Given the observation, provides the tiles that are active\r\n",
        "def encode(observation, tilings):\r\n",
        "  code=[]\r\n",
        "  # for each tiling\r\n",
        "  for i in range(len(tilings)):\r\n",
        "    c=[];\r\n",
        "    # for each attribute #vitesse- position\r\n",
        "    for j in range(len(observation)):\r\n",
        "      val = np.digitize(observation[j],tilings[i][j])#np.digitize returns the number of the bins to which the value belongs to \r\n",
        "      c.append(val)\r\n",
        "    code.append(c)\r\n",
        "    #print(\"Code =\",code)\r\n",
        "  return code"
      ],
      "execution_count": null,
      "outputs": []
    },
    {
      "cell_type": "code",
      "metadata": {
        "colab": {
          "base_uri": "https://localhost:8080/",
          "height": 722
        },
        "id": "rNPE86wt82Vv",
        "outputId": "03b07f97-0f85-4e0b-846a-aaf1b14582a3"
      },
      "source": [
        "box = env.observation_space\r\n",
        "xmax = box.high[0]\r\n",
        "vmax = box.high[1]\r\n",
        "xmin = box.low[0]\r\n",
        "vmin = box.low[1]\r\n",
        "domainX = [xmin, xmax]\r\n",
        "domainY = [vmin, vmax]\r\n",
        "print(\"domaine des positions: \", domainX)\r\n",
        "print(\"domaine des vitesses:  \", domainY)\r\n",
        "#tilings\r\n",
        "nbBins = 8\r\n",
        "offsets=[]\r\n",
        "x=0\r\n",
        "y=0\r\n",
        "dx=(xmax-xmin)/(nbBins)**2\r\n",
        "dy=(vmax-vmin)/(nbBins)**2\r\n",
        "for t in range(nbBins):\r\n",
        "  x = (x+3)%nbBins\r\n",
        "  y = (y+1)%nbBins\r\n",
        "  offsets.append([x*dx,y*dy])\r\n",
        "tilings = genTilings([domainX,domainY], 8, 8, offsets)\r\n",
        "for i in range(nbBins):\r\n",
        "  print(\"tiling \", i , \": \")\r\n",
        "  for j in range(nbBins):\r\n",
        "    print('%.2f '% tilings[i][0][j],end='')\r\n",
        "  print()\r\n",
        "  for j in range(nbBins):\r\n",
        "    print('%.2f ' % tilings[i][1][j],end='')\r\n",
        "  print()\r\n",
        "\r\n",
        "Dx=(xmax-xmin)/nbBins\r\n",
        "Dy=(vmax-vmin)/nbBins\r\n",
        "for i in range(nbBins):\r\n",
        "  #plt.fill(X,Y,color=\"grey\")\r\n",
        "  #chaque surface rectangulaire grise correspond à un appel de fill\r\n",
        "  #on peut considérer ce plot comme un zoom sur la première portion des tuiles\r\n",
        "  plt.fill([offsets[i][0], offsets[i][0]+Dx, offsets[i][0]+Dx, offsets[i][0], offsets[i][0]], [offsets[i][1], offsets[i][1], offsets[i][1]+Dy, offsets[i][1]+Dy,offsets[i][1]],'green',alpha=0.1)\r\n"
      ],
      "execution_count": null,
      "outputs": [
        {
          "output_type": "stream",
          "text": [
            "domaine des positions:  [-1.2, 0.6]\n",
            "domaine des vitesses:   [-0.07, 0.07]\n",
            "tiling  0 : \n",
            "-1.12 -0.86 -0.60 -0.34 -0.09 0.17 0.43 0.68 \n",
            "-0.07 -0.05 -0.03 -0.01 0.01 0.03 0.05 0.07 \n",
            "tiling  1 : \n",
            "-1.03 -0.77 -0.52 -0.26 -0.00 0.25 0.51 0.77 \n",
            "-0.07 -0.05 -0.03 -0.01 0.01 0.03 0.05 0.07 \n",
            "tiling  2 : \n",
            "-1.17 -0.91 -0.66 -0.40 -0.14 0.11 0.37 0.63 \n",
            "-0.06 -0.04 -0.02 -0.00 0.02 0.04 0.06 0.08 \n",
            "tiling  3 : \n",
            "-1.09 -0.83 -0.57 -0.32 -0.06 0.20 0.46 0.71 \n",
            "-0.06 -0.04 -0.02 -0.00 0.02 0.04 0.06 0.08 \n",
            "tiling  4 : \n",
            "-1.00 -0.75 -0.49 -0.23 0.03 0.28 0.54 0.80 \n",
            "-0.06 -0.04 -0.02 0.00 0.02 0.04 0.06 0.08 \n",
            "tiling  5 : \n",
            "-1.14 -0.89 -0.63 -0.37 -0.12 0.14 0.40 0.66 \n",
            "-0.06 -0.04 -0.02 0.00 0.02 0.04 0.06 0.08 \n",
            "tiling  6 : \n",
            "-1.06 -0.80 -0.55 -0.29 -0.03 0.23 0.48 0.74 \n",
            "-0.05 -0.03 -0.01 0.01 0.03 0.05 0.07 0.09 \n",
            "tiling  7 : \n",
            "-1.20 -0.94 -0.69 -0.43 -0.17 0.09 0.34 0.60 \n",
            "-0.07 -0.05 -0.03 -0.01 0.01 0.03 0.05 0.07 \n"
          ],
          "name": "stdout"
        },
        {
          "output_type": "display_data",
          "data": {
            "image/png": "[encoded data removed]",
            "text/plain": [
              "<Figure size 432x288 with 1 Axes>"
            ]
          },
          "metadata": {
            "tags": [],
            "needs_background": "light"
          }
        }
      ]
    },
    {
      "cell_type": "markdown",
      "metadata": {
        "id": "2wTkv82-89Zs"
      },
      "source": [
        ""
      ]
    },
    {
      "cell_type": "code",
      "metadata": {
        "colab": {
          "base_uri": "https://localhost:8080/",
          "height": 265
        },
        "id": "wFHQMBNB89tF",
        "outputId": "14c11d4c-75d8-4829-c597-a7ee36378a5d"
      },
      "source": [
        "# assumes D only\r\n",
        "def plot2DTiling(t, color):\r\n",
        "  n = len(t[0])-1\r\n",
        "  for i in range(n):\r\n",
        "    x=[t[0][i],t[0][i]]\r\n",
        "    y=[t[1][0],t[1][n]]\r\n",
        "    plt.plot(x,y,c=color,linewidth=1)\r\n",
        "    x=[t[0][0],t[0][n]]\r\n",
        "    y=[t[1][i],t[1][i]]\r\n",
        "    plt.plot(x,y,c=color,linewidth=1)\r\n",
        "    \r\n",
        "def plot2DTilings(tilings):\r\n",
        "  lc = ['blue', 'red', 'green', 'orange', 'purple', 'brown', 'pink', 'olive','cyan']\r\n",
        "  for i in range(len(tilings)):\r\n",
        "    plot2DTiling(tilings[i], lc[i])\r\n",
        "    \r\n",
        "plot2DTilings(tilings)\r\n",
        "    \r\n"
      ],
      "execution_count": null,
      "outputs": [
        {
          "output_type": "display_data",
          "data": {
            "image/png": "[encoded data removed]",
            "text/plain": [
              "<Figure size 432x288 with 1 Axes>"
            ]
          },
          "metadata": {
            "tags": [],
            "needs_background": "light"
          }
        }
      ]
    },
    {
      "cell_type": "code",
      "metadata": {
        "id": "d3qNEy8e7k-T"
      },
      "source": [
        "def epsGreedy(tilings, w, state, epsilon):\r\n",
        "  nbActions = env.action_space.n\r\n",
        "  if np.random.rand() < epsilon:\r\n",
        "    # explore\r\n",
        "    return np.random.randint(0,high=nbActions)\r\n",
        "  else:\r\n",
        "    #exploit\r\n",
        "    #compute the Q values for each action\r\n",
        "    nbTilings = len(tilings)\r\n",
        "    q=[]\r\n",
        "    for a in range(nbActions):#on itére sur nbActions\r\n",
        "      val = 0\r\n",
        "      for t in range(nbTilings):#ensuite sur le nombre de tilings\r\n",
        "          val += w[t][state[t][0],state[t][1],a]#w représente les poids w\r\n",
        "          #on somme toutes les récompense pour un épisode\r\n",
        "      q.append(val)\r\n",
        "    return np.argmax(q)#on renvoie l'indice de l'action correspondant au maximum de la valeur"
      ],
      "execution_count": null,
      "outputs": []
    },
    {
      "cell_type": "code",
      "metadata": {
        "id": "BUAgNi9L7tn-"
      },
      "source": [
        "def Memory_filling(tilings,nbr_episodes,alpha,epsilon,gamma):\r\n",
        "  nbActions = env.action_space.n\r\n",
        "  nbTilings = len(tilings)\r\n",
        "  nbAttributes = len(tilings[0])\r\n",
        "  nbBins = len(tilings[0][0])\r\n",
        "  numActions = env.action_space\r\n",
        "  print('space with ', nbAttributes, ' attributes and ', nbActions, ' actions')\r\n",
        "  print('encoded with ', nbTilings, ' tilings with ', nbBins, ' each')\r\n",
        "  episodeLength=[]\r\n",
        "  episodeReward=[]\r\n",
        "  D=[]#Memory\r\n",
        "  V_t=[]\r\n",
        "  A_t=[]\r\n",
        "  A_t_p=[]\r\n",
        "  D_t_p=[]\r\n",
        "  # initialise Q tables\r\n",
        "  w=[]\r\n",
        "  for i in range(nbTilings):\r\n",
        "    w.append(np.zeros((nbBins, nbBins, nbActions)))\r\n",
        "\r\n",
        "  #let's learn\r\n",
        "  for it in range(nbr_episodes):#Répéter éternellement pour chaque épisode\r\n",
        "    obs = env.reset()\r\n",
        "    s1 = encode(obs, tilings)\r\n",
        "    a1 = epsGreedy(tilings, w, s1, epsilon)#on choisit une action avec epsilon-greedy\r\n",
        "    done=False\r\n",
        "    rt=0\r\n",
        "    el=0\r\n",
        "    while (not done):#Répète pour chaque étape de l'épisode\r\n",
        "      obs, r, done, info = env.step(a1)\r\n",
        "      s2 = encode(obs, tilings)\r\n",
        "      a2 = epsGreedy(tilings, w, s2, epsilon)\r\n",
        "      # q updates\r\n",
        "      q1 = 0\r\n",
        "      q2 = 0\r\n",
        "      # compute estimates Q(s1,a1) and Q(s2,a2)\r\n",
        "      # q(s,a) = sum the weights of the active cells.\r\n",
        "      for t in range(nbTilings):\r\n",
        "        q1 += w[t][s1[t][0],s1[t][1],a1]#a1 est l'ancienne action\r\n",
        "        q2 += w[t][s2[t][0],s2[t][1],a2]#a2 est la nouvelle action\r\n",
        "      # weight update\r\n",
        "      for t in range(nbTilings):\r\n",
        "        w[t][s1[t][0],s1[t][1],a1] = w[t][s1[t][0],s1[t][1],a1] + alpha*(r + gamma * q2 - q1)#q2 is equivalent to v and q1 to v chapeau\r\n",
        "      # update states and actions\r\n",
        "      s1_temp=s1\r\n",
        "      a1_temp=a1\r\n",
        "      s1 = s2\r\n",
        "      a1 = a2#la nouvelle action devient l'ancienne \r\n",
        "      el += 1\r\n",
        "      rt += r\r\n",
        "      transition=[np.array(s1_temp),a1_temp,rt,np.array(s2)]\r\n",
        "      D.append(np.array(s1_temp))\r\n",
        "      A_t.append(a1_temp)\r\n",
        "      A_t_p.append(a1)\r\n",
        "      D_t_p.append(np.array(s1))\r\n",
        "      V_t.append(-r)\r\n",
        "      \r\n",
        "    episodeLength.append(el)\r\n",
        "    episodeReward.append(rt)\r\n",
        "  return w, episodeLength, episodeReward,np.array(D),np.array(A_t),np.array(V_t),np.array(D_t_p),np.array(A_t_p)\r\n"
      ],
      "execution_count": null,
      "outputs": []
    },
    {
      "cell_type": "code",
      "metadata": {
        "id": "6sU-WJCJdIUH"
      },
      "source": [
        ""
      ],
      "execution_count": null,
      "outputs": []
    },
    {
      "cell_type": "code",
      "metadata": {
        "colab": {
          "base_uri": "https://localhost:8080/"
        },
        "id": "Lq5qrTI7R4tR",
        "outputId": "0206c103-5ccf-47e2-e6a3-ef2779fb338d"
      },
      "source": [
        "w,episodeLength,episodeReward,my_memory,policies,values,my_memory_p,policies_p=Memory_filling(tilings,100,0.01,0.1,0.99)\r\n"
      ],
      "execution_count": null,
      "outputs": [
        {
          "output_type": "stream",
          "text": [
            "space with  2  attributes and  3  actions\n",
            "encoded with  8  tilings with  8  each\n"
          ],
          "name": "stdout"
        }
      ]
    },
    {
      "cell_type": "code",
      "metadata": {
        "colab": {
          "base_uri": "https://localhost:8080/"
        },
        "id": "UNPhrXwSmvBN",
        "outputId": "bae6d0eb-41cc-44e6-8612-a96e2e2ca8b0"
      },
      "source": [
        "print(values)\r\n",
        "print(policies)"
      ],
      "execution_count": null,
      "outputs": [
        {
          "output_type": "stream",
          "text": [
            "[1. 1. 1. ... 1. 1. 1.]\n",
            "[2 0 2 ... 1 2 2]\n"
          ],
          "name": "stdout"
        }
      ]
    },
    {
      "cell_type": "code",
      "metadata": {
        "colab": {
          "base_uri": "https://localhost:8080/"
        },
        "id": "096eNVAKX6F4",
        "outputId": "7049cb53-e640-4bba-98da-2e4bae901b3b"
      },
      "source": [
        "my_memory=np.array(my_memory)\r\n",
        "print(my_memory.shape)\r\n"
      ],
      "execution_count": null,
      "outputs": [
        {
          "output_type": "stream",
          "text": [
            "(19977, 8, 2)\n"
          ],
          "name": "stdout"
        }
      ]
    },
    {
      "cell_type": "code",
      "metadata": {
        "id": "94f80XrcM1q7"
      },
      "source": [
        "def pick_random_transition(batch_size):\r\n",
        "  w_test,episodeLength_test,episodeReward_test,my_memory_test,policies_test,values_test,my_memory_test_p,policies_test_p=Memory_filling(tilings,1000,0.01,0.1,0.99)\r\n",
        "\r\n",
        "  indice = np.random.choice(len(my_memory_test), batch_size, replace=False) \r\n",
        "  transition_aleatoire=[]\r\n",
        "  policies=[]\r\n",
        "  values=[]\r\n",
        "  policies_p=[]\r\n",
        "  transition_aleatoire_p=[]\r\n",
        "\r\n",
        "  print(len(indice))\r\n",
        "  for idx in range(len(indice)):\r\n",
        "    transition_aleatoire.append(my_memory_test[indice[idx]])\r\n",
        "    policies.append(policies_test[indice[idx]])\r\n",
        "    values.append(values_test[indice[idx]])\r\n",
        "    #policies_p.append(policies_test_p[indice[idx]])\r\n",
        "    transition_aleatoire_p.append(my_memory_test_p[indice[idx]])\r\n",
        "\r\n",
        "\r\n",
        "  return np.array(transition_aleatoire),np.array(policies),np.array(values),np.array(transition_aleatoire_p)\r\n"
      ],
      "execution_count": null,
      "outputs": []
    },
    {
      "cell_type": "code",
      "metadata": {
        "id": "_bhWUotxiV9i"
      },
      "source": [
        "import tensorflow as tf\r\n",
        "import tensorflow.keras as keras\r\n",
        "import numpy as np\r\n",
        "from tensorflow.keras import layers \r\n",
        "from tensorflow.keras import regularizers\r\n",
        "\r\n",
        "nb_actions = env.action_space.n\r\n",
        "epochs = 200\r\n",
        "batch = 60\r\n",
        "#*****\r\n",
        "alpha=0.01\r\n",
        "epsilon=0.1\r\n",
        "gamma=0.99\r\n",
        "filters=3\r\n",
        "\r\n",
        "def NN_qlearning(input_data):\r\n",
        "  N =input_data.shape[0]\r\n",
        "  input_data = input_data.astype ('float32')\r\n",
        "  print(input_data.shape)#add\r\n",
        "  policy = np.random.randint(nb_actions, size=(batch,))#choisi une politique aléatoire entre 1 et 3\r\n",
        "  policy = keras.utils.to_categorical (policy)\r\n",
        "  value = np.random.randint(2, size=(batch,))#gagné ou perdu\r\n",
        "  value = value.astype ('float32')\r\n",
        "  input = keras.Input(shape=input_data.reshape((input_data.shape[0],input_data.shape[1],input_data.shape[2],1)).shape[1:],batch_size=batch, name='data')\r\n",
        "  print(\"shape input=\",input.shape)\r\n",
        "  for i in range (4):#pour model résiduel\r\n",
        "      x = layers.ReLU()(input)\r\n",
        "      x=layers.Dropout(0.10)(x)\r\n",
        "      x = layers.BatchNormalization()(x)\r\n",
        "\r\n",
        "  \r\n",
        "  value_head = layers.Dense(30, activation='relu', kernel_regularizer=regularizers.l2(0.0001))(x)\r\n",
        "  value_head=layers.Dropout(0.10)(value_head)\r\n",
        "  value_head = layers.Flatten()(value_head)\r\n",
        "  value_head = layers.Dense(nb_actions, activation='linear', name='value', kernel_regularizer=regularizers.l2(0.0008))(value_head)\r\n",
        "\r\n",
        "  model = keras.Model(inputs=input, outputs= value_head)\r\n",
        "  model.summary ()\r\n",
        "  model.compile(optimizer=keras.optimizers.SGD(lr=0.012, momentum=0.95),\r\n",
        "                loss={ 'value': 'binary_crossentropy'},\r\n",
        "                loss_weights={ 'value' : 1.0},\r\n",
        "                metrics={ 'value': 'mse'})\r\n",
        "  \r\n",
        "  return model\r\n",
        "\r\n",
        "def train_and_test(model,my_target_model):\r\n",
        " \r\n",
        "  for i in range (1, epochs + 1):\r\n",
        "      print ('epoch ' + str (i))\r\n",
        "      input_data,policies,values,input_data_p=pick_random_transition(1)\r\n",
        "      value=values#valeur d'entraineemntzs\r\n",
        "      value = value.astype ('float32')\r\n",
        "      old_values=my_model(input_data)\r\n",
        "      a_p=tf.argmax(old_values[0]).numpy()\r\n",
        "      target_values=value+gamma*my_target_model(input_data_p)\r\n",
        "\r\n",
        "\r\n",
        "\r\n",
        "\r\n",
        "      #policy = tf.convert_to_tensor(policy)\r\n",
        "\r\n",
        "\r\n",
        "      target_value=tf.convert_to_tensor(target_values)\r\n",
        "      history = model.fit(input_data,\r\n",
        "                          { 'value': target_value}, \r\n",
        "                          epochs=1, batch_size=batch)\r\n",
        "      \r\n",
        "    \r\n",
        "     \r\n",
        "      '''\r\n",
        "      if (i % 10 == 0):\r\n",
        "          input_data,policies,values,input_data_p=pick_random_transition(batch)\r\n",
        "          #input data=St,policies=At,values=rt,policies_p=At+1,input_data_p=St+1\r\n",
        "          policy=keras.utils.to_categorical(policies)#valeurs d'entraiement\r\n",
        "          value=values#valeur d'entraineemntzs\r\n",
        "          value = value.astype ('float32')\r\n",
        "\r\n",
        "          policy = tf.convert_to_tensor(policy)\r\n",
        "          value=tf.convert_to_tensor(value)\r\n",
        "          val = model.evaluate (input_data,\r\n",
        "                                [policy, value], verbose = 0, batch_size=batch)#mse sur les données de validations (su rles données qui n'ont jamais été)\r\n",
        "          print (\"val =\", val)\r\n",
        "\r\n",
        "          model.save ('test.h5')\r\n",
        "          '''\r\n",
        "  return model\r\n",
        "\r\n"
      ],
      "execution_count": null,
      "outputs": []
    },
    {
      "cell_type": "code",
      "metadata": {
        "id": "0K6NUU2IehOT",
        "colab": {
          "base_uri": "https://localhost:8080/"
        },
        "outputId": "e136f8a1-a7fd-49f9-87f0-afffd428f22f"
      },
      "source": [
        "my_model= NN_qlearning(input_data)\r\n",
        "target_model=NN_qlearning(input_data)\r\n",
        "train_and_test(my_model,target_model)\r\n",
        "\r\n",
        "\r\n"
      ],
      "execution_count": null,
      "outputs": [
        {
          "output_type": "stream",
          "text": [
            "(1, 8, 2)\n",
            "shape input= (60, 8, 2, 1)\n",
            "Model: \"model_23\"\n",
            "_________________________________________________________________\n",
            "Layer (type)                 Output Shape              Param #   \n",
            "=================================================================\n",
            "data (InputLayer)            [(60, 8, 2, 1)]           0         \n",
            "_________________________________________________________________\n",
            "re_lu_99 (ReLU)              (60, 8, 2, 1)             0         \n",
            "_________________________________________________________________\n",
            "dropout_123 (Dropout)        (60, 8, 2, 1)             0         \n",
            "_________________________________________________________________\n",
            "batch_normalization_99 (Batc (60, 8, 2, 1)             4         \n",
            "_________________________________________________________________\n",
            "dense_24 (Dense)             (60, 8, 2, 30)            60        \n",
            "_________________________________________________________________\n",
            "dropout_124 (Dropout)        (60, 8, 2, 30)            0         \n",
            "_________________________________________________________________\n",
            "flatten_36 (Flatten)         (60, 480)                 0         \n",
            "_________________________________________________________________\n",
            "value (Dense)                (60, 3)                   1443      \n",
            "=================================================================\n",
            "Total params: 1,507\n",
            "Trainable params: 1,505\n",
            "Non-trainable params: 2\n",
            "_________________________________________________________________\n",
            "(1, 8, 2)\n",
            "shape input= (60, 8, 2, 1)\n",
            "Model: \"model_24\"\n",
            "_________________________________________________________________\n",
            "Layer (type)                 Output Shape              Param #   \n",
            "=================================================================\n",
            "data (InputLayer)            [(60, 8, 2, 1)]           0         \n",
            "_________________________________________________________________\n",
            "re_lu_103 (ReLU)             (60, 8, 2, 1)             0         \n",
            "_________________________________________________________________\n",
            "dropout_128 (Dropout)        (60, 8, 2, 1)             0         \n",
            "_________________________________________________________________\n",
            "batch_normalization_103 (Bat (60, 8, 2, 1)             4         \n",
            "_________________________________________________________________\n",
            "dense_25 (Dense)             (60, 8, 2, 30)            60        \n",
            "_________________________________________________________________\n",
            "dropout_129 (Dropout)        (60, 8, 2, 30)            0         \n",
            "_________________________________________________________________\n",
            "flatten_37 (Flatten)         (60, 480)                 0         \n",
            "_________________________________________________________________\n",
            "value (Dense)                (60, 3)                   1443      \n",
            "=================================================================\n",
            "Total params: 1,507\n",
            "Trainable params: 1,505\n",
            "Non-trainable params: 2\n",
            "_________________________________________________________________\n",
            "epoch 1\n",
            "space with  2  attributes and  3  actions\n",
            "encoded with  8  tilings with  8  each\n",
            "1\n",
            "1/1 [==============================] - 0s 398ms/step - loss: 10.9807 - mse: 2.3378\n",
            "epoch 2\n",
            "space with  2  attributes and  3  actions\n",
            "encoded with  8  tilings with  8  each\n",
            "1\n",
            "1/1 [==============================] - 0s 4ms/step - loss: 3.8786 - mse: 2.0233\n",
            "epoch 3\n",
            "space with  2  attributes and  3  actions\n",
            "encoded with  8  tilings with  8  each\n",
            "1\n",
            "1/1 [==============================] - 0s 4ms/step - loss: -4.0472 - mse: 1.4308\n",
            "epoch 4\n",
            "space with  2  attributes and  3  actions\n",
            "encoded with  8  tilings with  8  each\n",
            "1\n",
            "1/1 [==============================] - 0s 4ms/step - loss: -9.0354 - mse: 0.6215\n",
            "epoch 5\n",
            "space with  2  attributes and  3  actions\n",
            "encoded with  8  tilings with  8  each\n",
            "1\n",
            "1/1 [==============================] - 0s 4ms/step - loss: -13.8381 - mse: 1.0561\n",
            "epoch 6\n",
            "space with  2  attributes and  3  actions\n",
            "encoded with  8  tilings with  8  each\n",
            "1\n",
            "1/1 [==============================] - 0s 4ms/step - loss: -13.5338 - mse: 2.3838\n",
            "epoch 7\n",
            "space with  2  attributes and  3  actions\n",
            "encoded with  8  tilings with  8  each\n",
            "1\n",
            "1/1 [==============================] - 0s 4ms/step - loss: -10.4168 - mse: 12.4934\n",
            "epoch 8\n",
            "space with  2  attributes and  3  actions\n",
            "encoded with  8  tilings with  8  each\n",
            "1\n",
            "1/1 [==============================] - 0s 4ms/step - loss: 0.4557 - mse: 26.7699\n",
            "epoch 9\n",
            "space with  2  attributes and  3  actions\n",
            "encoded with  8  tilings with  8  each\n",
            "1\n",
            "1/1 [==============================] - 0s 4ms/step - loss: 0.4576 - mse: 36.5586\n",
            "epoch 10\n",
            "space with  2  attributes and  3  actions\n",
            "encoded with  8  tilings with  8  each\n",
            "1\n",
            "1/1 [==============================] - 0s 4ms/step - loss: -4.9794 - mse: 35.6870\n",
            "epoch 11\n",
            "space with  2  attributes and  3  actions\n",
            "encoded with  8  tilings with  8  each\n",
            "1\n",
            "1/1 [==============================] - 0s 4ms/step - loss: -7.2316 - mse: 67.6270\n",
            "epoch 12\n",
            "space with  2  attributes and  3  actions\n",
            "encoded with  8  tilings with  8  each\n",
            "1\n",
            "1/1 [==============================] - 0s 4ms/step - loss: -14.4337 - mse: 53.6698\n",
            "epoch 13\n",
            "space with  2  attributes and  3  actions\n",
            "encoded with  8  tilings with  8  each\n",
            "1\n",
            "1/1 [==============================] - 0s 4ms/step - loss: -4.3827 - mse: 98.4556\n",
            "epoch 14\n",
            "space with  2  attributes and  3  actions\n",
            "encoded with  8  tilings with  8  each\n",
            "1\n",
            "1/1 [==============================] - 0s 4ms/step - loss: -8.6334 - mse: 122.0901\n",
            "epoch 15\n",
            "space with  2  attributes and  3  actions\n",
            "encoded with  8  tilings with  8  each\n",
            "1\n",
            "1/1 [==============================] - 0s 4ms/step - loss: -16.9734 - mse: 83.8029\n",
            "epoch 16\n",
            "space with  2  attributes and  3  actions\n",
            "encoded with  8  tilings with  8  each\n",
            "1\n",
            "1/1 [==============================] - 0s 4ms/step - loss: -13.3039 - mse: 158.3476\n",
            "epoch 17\n",
            "space with  2  attributes and  3  actions\n",
            "encoded with  8  tilings with  8  each\n"
          ],
          "name": "stdout"
        }
      ]
    },
    {
      "cell_type": "code",
      "metadata": {
        "colab": {
          "base_uri": "https://localhost:8080/"
        },
        "id": "dJ-lrN3AKdt6",
        "outputId": "1d802264-1ecd-4e75-eb40-b8fc4bfd904a"
      },
      "source": [
        ""
      ],
      "execution_count": null,
      "outputs": [
        {
          "output_type": "stream",
          "text": [
            "(19977, 8, 2)\n",
            "shape input= (60, 8, 2, 1)\n",
            "Model: \"model_16\"\n",
            "_________________________________________________________________\n",
            "Layer (type)                 Output Shape              Param #   \n",
            "=================================================================\n",
            "data (InputLayer)            [(60, 8, 2, 1)]           0         \n",
            "_________________________________________________________________\n",
            "re_lu_71 (ReLU)              (60, 8, 2, 1)             0         \n",
            "_________________________________________________________________\n",
            "dropout_88 (Dropout)         (60, 8, 2, 1)             0         \n",
            "_________________________________________________________________\n",
            "batch_normalization_71 (Batc (60, 8, 2, 1)             4         \n",
            "_________________________________________________________________\n",
            "dense_17 (Dense)             (60, 8, 2, 30)            60        \n",
            "_________________________________________________________________\n",
            "dropout_89 (Dropout)         (60, 8, 2, 30)            0         \n",
            "_________________________________________________________________\n",
            "flatten_29 (Flatten)         (60, 480)                 0         \n",
            "_________________________________________________________________\n",
            "value (Dense)                (60, 3)                   1443      \n",
            "=================================================================\n",
            "Total params: 1,507\n",
            "Trainable params: 1,505\n",
            "Non-trainable params: 2\n",
            "_________________________________________________________________\n"
          ],
          "name": "stdout"
        }
      ]
    }
  ]
}