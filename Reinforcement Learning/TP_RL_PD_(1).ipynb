{
  "nbformat": 4,
  "nbformat_minor": 0,
  "metadata": {
    "colab": {
      "name": "TP_RL_PD (1).ipynb",
      "provenance": [],
      "collapsed_sections": []
    },
    "kernelspec": {
      "name": "python3",
      "display_name": "Python 3"
    }
  },
  "cells": [
    {
      "cell_type": "markdown",
      "metadata": {
        "id": "GqDAHSx_XFh9"
      },
      "source": [
        "# Value Iteration & Policy Iteration"
      ]
    },
    {
      "cell_type": "markdown",
      "metadata": {
        "id": "BeCbCndGXPr_"
      },
      "source": [
        "On va utiliser l'exemple du monde grille simple. \n",
        "\n",
        "![Grid World](https://www.lamsade.dauphine.fr/~airiau/Teaching/M2-IASDapp-RL/gridworld.png)\n",
        "\n",
        "\n",
        "\n",
        "On va numéroter les états comme suit:\n",
        "\n",
        "| 7 | 8 | 9 | 10 |\n",
        "|---|---|----|---|\n",
        "| **4** |  - | **5** | **6**  |\n",
        "| **0** | **1** | **2** | **3**  |\n",
        "\n",
        "Les états finaux sont donc les états 6 et 10.\n",
        "\n",
        "On a 4 actions disponibles, on les encode de la façon suivante:\n",
        "* $\\uparrow$: 0 \n",
        "* $\\leftarrow$ : 1\n",
        "* $\\downarrow$: 2\n",
        "* $\\rightarrow$ : 3\n",
        "\n",
        "Ci-dessous, on a entré pour vous la matrice de transition $T$ et la matrice de récompense $R$. Ainsi $T[s_1,a,s_2]$ donne la probabilité d'atteindre l'état $s_2$ en ayant pris l'action $a$ dans l'état $s_1$ et $R[s,a]$ donne la récompense immédiate reçue après avoir pris l'action $a$ dans l'état $s$.\n",
        "\n",
        "Vous pouvez facilement changer la pénalité pour avancer d'une case en changeant la valeur de la variable `penalty` ci-dessous.\n",
        "\n",
        "Ce n'est peut-être pas la manière la plus élégante, mais cela suffira pour l'exercice!\n",
        "\n"
      ]
    },
    {
      "cell_type": "code",
      "metadata": {
        "id": "AGGujRrVXEe3"
      },
      "source": [
        "import numpy as np\n",
        "import matplotlib.pyplot as plt\n",
        "\n",
        "\n",
        "l=0.8\n",
        "s = 0.1\n",
        "v_win = 1\n",
        "v_lose = -1\n",
        "\n",
        "T = np.zeros((11, 4, 11))\n",
        "#UP\n",
        "T[0,0,:]=[s, s, 0, 0, l, 0, 0, 0, 0, 0, 0 ] \n",
        "T[1,0,:]=[s, l, s, 0, 0, 0, 0, 0, 0, 0, 0 ]\n",
        "T[2,0,:]=[0, s, 0, s, 0, l, 0, 0, 0, 0, 0 ]\n",
        "T[3,0,:]=[0, 0, s, s, 0, 0, l, 0, 0, 0, 0 ]\n",
        "T[4,0,:]=[0, 0, 0, 0, 2*s, 0, 0, l, 0, 0, 0 ]\n",
        "T[5,0,:]=[0, 0, 0, 0, 0, s, s, 0, 0, l, 0 ]\n",
        "T[6,0,:]=[0, 0, 0, 0, 0, 0, 0, 0, 0, 0, 0 ]\n",
        "T[7,0,:]=[0, 0, 0, 0, 0, 0, 0, s+l, s, 0, 0 ]\n",
        "T[8,0,:]=[0, 0, 0, 0, 0, 0, 0, s, l, s, 0 ]\n",
        "T[9,0,:]=[0, 0, 0, 0, 0, 0, 0, 0, s, l, s ]\n",
        "T[10,0,:]=[0, 0, 0, 0, 0, 0, 0, 0, 0, 0,0 ]\n",
        "#LEFT\n",
        "T[0,1,:]=[s+l, 0, 0, 0, s, 0, 0, 0, 0, 0, 0 ] \n",
        "T[1,1,:]=[l, 2*s, 0, 0, 0, 0, 0, 0, 0, 0, 0 ]\n",
        "T[2,1,:]=[0, l, s, 0, 0, s, 0, 0, 0, 0, 0 ]\n",
        "T[3,1,:]=[0, 0, l, s, 0, 0, s, 0, 0, 0, 0 ]\n",
        "T[4,1,:]=[s, 0, 0, 0, l, 0, 0, s, 0, 0, 0 ]\n",
        "T[5,1,:]=[0, 0, s, 0, 0, l, 0, 0, 0, s, 0 ]\n",
        "T[6,1,:]=[0, 0, 0, 0, 0, 0, 0, 0, 0, 0, 0 ]\n",
        "T[7,1,:]=[0, 0, 0, 0, s, 0, 0, s+l, 0, 0, 0 ]\n",
        "T[8,1,:]=[0, 0, 0, 0, 0, 0, 0, l, 2*s, 0, 0 ]\n",
        "T[9,1,:]=[0, 0, 0, 0, 0, s, 0, 0, l, s, 0 ]\n",
        "T[10,1,:]=[0, 0, 0, 0, 0, 0, 0, 0, 0, 0,0 ]\n",
        "# DOWN\n",
        "T[0,2,:]=[s+l, s, 0, 0, 0, 0, 0, 0, 0, 0, 0 ] \n",
        "T[1,2,:]=[s, l, s, 0, 0, 0, 0, 0, 0, 0, 0 ]\n",
        "T[2,2,:]=[0, s, l, s, 0, 0, 0, 0, 0, 0, 0 ]\n",
        "T[3,2,:]=[0, 0, s, l+s, 0, 0, 0, 0, 0, 0, 0 ]\n",
        "T[4,2,:]=[l, 0, 0, 0, 2*s, 0, 0, 0, 0, 0, 0 ]\n",
        "T[5,2,:]=[0, 0, l, 0, 0, s, s, 0, 0, 0, 0 ]\n",
        "T[6,2,:]=[0, 0, 0, 0, 0, 0, 0, 0, 0, 0, 0 ]\n",
        "T[7,2,:]=[0, 0, 0, 0, l, 0, 0, s, s, 0, 0 ]\n",
        "T[8,2,:]=[0, 0, 0, 0, 0, 0, 0, s, l, s, 0 ]\n",
        "T[9,2,:]=[0, 0, 0, 0, 0, 0, 0, 0, s, l, s ]\n",
        "T[10,2,:]=[0, 0, 0, 0, 0, 0, 0, 0, 0, 0,0 ]\n",
        "#RIGHT\n",
        "T[0,3,:]=[s, l, 0, 0, s, 0, 0, 0, 0, 0, 0 ] \n",
        "T[1,3,:]=[0, 2*s, l, 0, 0, 0, 0, 0, 0, 0, 0 ]\n",
        "T[2,3,:]=[0, 0, s, l, 0, s, 0, 0, 0, 0, 0 ]\n",
        "T[3,3,:]=[0, 0, 0, s+l, 0, 0, s, 0, 0, 0, 0 ]\n",
        "T[4,3,:]=[s, 0, 0, 0, l, 0, 0, s, 0, 0, 0 ]\n",
        "T[5,3,:]=[0, 0, s, 0, 0, 0, l, 0, 0, s, 0 ]\n",
        "T[6,3,:]=[0, 0, 0, 0, 0, 0, 0, 0, 0, 0, 0 ]\n",
        "T[7,3,:]=[0, 0, 0, 0, s, 0, 0, s, l, 0, 0 ]\n",
        "T[8,3,:]=[0, 0, 0, 0, 0, 0, 0, 0, 2*s, l, 0 ]\n",
        "T[9,3,:]=[0, 0, 0, 0, 0, s, 0, 0, 0, s, l ]\n",
        "T[10,3,:]=[0, 0, 0, 0, 0, 0, 0, 0, 0, 0,0 ]\n",
        "\n",
        "penalty= 0.00;\n",
        "R = penalty*np.ones((11,4))\n",
        "R[10,:]= np.ones(4)*v_win\n",
        "R[6,:]= np.ones(4)*v_lose\n"
      ],
      "execution_count": null,
      "outputs": []
    },
    {
      "cell_type": "markdown",
      "metadata": {
        "id": "10zkeVqGtFpO"
      },
      "source": [
        "## Value Iteration\n",
        "Implémentez l'algorithme d'itération sur les valeurs. Pour ce faire, implémentez une fonction qui prend en paramètre:\n",
        "* $\\epsilon$ le paramètre pour le test d'arrêt (dans un premier temps, vous pouvez remplacer ce paramètre par un nombre d'itération maximal, comme dans l'appel ci-dessou)\n",
        "* $\\gamma$ le taux d'escompte (i.e. un facteur qui dévalue une récomponse obtenue dans le future)\n",
        "* $T$ la matrice de transition\n",
        "* $R$ la matrice de récompense\n",
        "\n",
        "La méthode retourne le vecteur $v: S \\rightarrow {\\mathbb R}$ qui associe à chaque état la valeur optimale de cet état.\n",
        "\n",
        "La fonction $printV$ ci-dessous affichera les valeurs de $v$ pour le problème du gridworld.\n",
        "\n",
        "Vous pourrez ainsi tester si vous retrouvez les valeurs de l'exemple montré en cours. "
      ]
    },
    {
      "cell_type": "code",
      "metadata": {
        "id": "z7vc1R3DcODC"
      },
      "source": [
        "#Value Iteration algorithm\r\n",
        "#initialisation des matrices des états\r\n",
        "\r\n",
        "def valueIteration(nbr_iterations,gamma, T,R):\r\n",
        "  S=[0,1,2,3,4,5,6,7,8,9,10]\r\n",
        "  S=np.array(S)\r\n",
        "  S=S.reshape((1,11))\r\n",
        "  V=np.zeros(S.shape)\r\n",
        "  print(V.shape)\r\n",
        "  gamma=0.9\r\n",
        "  epsilon=0.0001\r\n",
        "  delta=2#init\r\n",
        "  while delta>=epsilon:\r\n",
        "    delta=0\r\n",
        "    for state in S:\r\n",
        "      v=V[0][state]\r\n",
        "      print(\"v shape is\",v.shape)\r\n",
        "      a_max=np.argmax(R,axis=1)\r\n",
        "      V[0][state]=np.amax(R,axis=1)+gamma*np.sum(T[state,a_max,:],axis=0)\r\n",
        "      delta=max(delta,abs(v-V[0][state])[0])\r\n",
        "\r\n",
        "    return V[0].tolist()\r\n",
        "\r\n",
        "    \r\n"
      ],
      "execution_count": null,
      "outputs": []
    },
    {
      "cell_type": "code",
      "metadata": {
        "id": "y2iqnIKhlg2k"
      },
      "source": [
        "def printV(v):\n",
        "  print('| {:03.2f} | {:03.2f} | {:03.2f} | {:03.2f} |'.format(v[7], v[8], v[9], v[10]))\n",
        "  print('| {:03.2f} | ---- | {:03.2f} | {:03.1f} |'.format(v[4], v[5], v[6]))\n",
        "  print('| {:03.2f} | {:03.2f} | {:03.2f} | {:03.2f} |'.format(v[0], v[1], v[2], v[3]))\n",
        "  "
      ],
      "execution_count": null,
      "outputs": []
    },
    {
      "cell_type": "code",
      "metadata": {
        "id": "ai_RjaGylVnM",
        "colab": {
          "base_uri": "https://localhost:8080/"
        },
        "outputId": "54d4207d-4536-4037-ca58-82c2bea9a05f"
      },
      "source": [
        "w = valueIteration(100, 0.9, T, R)\n",
        "printV(w)"
      ],
      "execution_count": null,
      "outputs": [
        {
          "output_type": "stream",
          "text": [
            "(1, 11)\n",
            "v shape is (11,)\n",
            "| 1.62 | 0.90 | 1.53 | 1.09 |\n",
            "| 0.90 | ---- | 0.81 | -0.2 |\n",
            "| 0.18 | 0.90 | 0.18 | 0.18 |\n"
          ],
          "name": "stdout"
        }
      ]
    },
    {
      "cell_type": "code",
      "metadata": {
        "id": "jvibNWnFzAQO"
      },
      "source": [
        "# plot the best policy given the value function v:\n",
        "# i.e. plot the best action for each state given the value function v.\n",
        "\n",
        "def plotBestPolicy(v, gamma):\n",
        "  bestV=np.zeros(11)\n",
        "  bestA=np.zeros(11)\n",
        "  fig, ax = plt.subplots()\n",
        "  # policy extraction\n",
        "  for s1 in range(11):\n",
        "    val=[]\n",
        "    for a in range(4):\n",
        "      va=0\n",
        "      for s2 in range(11):\n",
        "        va += T[s1,a,s2]*v[s2]\n",
        "      val= val+[ R[s1,a]+gamma*va ]\n",
        "    bestV[s1]=np.max(val)\n",
        "    bestA[s1]=np.argmax(val)\n",
        "\n",
        "    matV= np.array( [[bestV[7], bestV[8], bestV[9], bestV[10]],\n",
        "                    [bestV[4],   -1 , bestV[5], bestV[6]],\n",
        "                    [bestV[0], bestV[1], bestV[2], bestV[3]]]\n",
        "                    )\n",
        "    matA = np.array([\n",
        "                    [bestA[7], bestA[8], bestA[9], -1],\n",
        "                    [bestA[4],   -1 , bestA[5], -1],\n",
        "                    [bestA[0], bestA[1], bestA[2], bestA[3]]])\n",
        "\n",
        "    im = ax.imshow(matV)\n",
        "\n",
        "\n",
        "  for i in range(matV.shape[0]):\n",
        "      for j in range(matV.shape[1]):\n",
        "          if matA[i][j]==-1:\n",
        "              arrow = ''\n",
        "          elif matA[i, j] == 0:\n",
        "              arrow = '^'\n",
        "          elif matA[i, j] == 1:\n",
        "              arrow = '<'\n",
        "          elif matA[i, j] == 2:\n",
        "              arrow = 'v'\n",
        "          elif matA[i, j] == 3:\n",
        "              arrow = '>'\n",
        "          text = ax.text(j, i, arrow, ha = \"center\", va = \"center\",\n",
        "                         color = \"black\")\n",
        "            \n",
        "  cbar = ax.figure.colorbar(im, ax = ax)\n",
        "    \n",
        "  fig.tight_layout()\n",
        "  plt.show() "
      ],
      "execution_count": null,
      "outputs": []
    },
    {
      "cell_type": "code",
      "metadata": {
        "id": "4AMDenr44UCt",
        "colab": {
          "base_uri": "https://localhost:8080/",
          "height": 295
        },
        "outputId": "1ec41579-755f-4f8f-bcdd-c1f07fd5e5ee"
      },
      "source": [
        "plotBestPolicy(V, 0.9)"
      ],
      "execution_count": null,
      "outputs": [
        {
          "output_type": "display_data",
          "data": {
            "image/png": "[encoded data removed]",
            "text/plain": [
              "<Figure size 432x288 with 2 Axes>"
            ]
          },
          "metadata": {
            "tags": [],
            "needs_background": "light"
          }
        }
      ]
    },
    {
      "cell_type": "markdown",
      "metadata": {
        "id": "iOUAug-46kNB"
      },
      "source": [
        "Vous pouvez modifier la matrice de récompense pour observer les différentes politiques optimales vues en cours. Peut-être en avons nous oublié?\n"
      ]
    },
    {
      "cell_type": "markdown",
      "metadata": {
        "id": "j6Gh1rWu6SLI"
      },
      "source": [
        "## Policy Iteration\n",
        "\n",
        "Implémentez l'algorithme d'itération sur les politiques. Pour débuger, vous pouvez regarder dessiner la politique avec les fonctions ci-dessus (pour voir la fonction de valeur et/ou la politique associée).\n"
      ]
    },
    {
      "cell_type": "code",
      "metadata": {
        "id": "iWL-jnqxCUIP"
      },
      "source": [
        ""
      ],
      "execution_count": null,
      "outputs": []
    }
  ]
}