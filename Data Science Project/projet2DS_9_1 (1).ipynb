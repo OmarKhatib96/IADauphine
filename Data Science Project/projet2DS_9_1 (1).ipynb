{
  "nbformat": 4,
  "nbformat_minor": 0,
  "metadata": {
    "colab": {
      "name": "projet2DS_9-1.ipynb",
      "provenance": [],
      "collapsed_sections": []
    },
    "kernelspec": {
      "display_name": "Python 3",
      "name": "python3"
    },
    "accelerator": "GPU"
  },
  "cells": [
    {
      "cell_type": "code",
      "metadata": {
        "id": "FEgKNqLYhO_A",
        "outputId": "b5c559ed-e61d-4b5e-e03d-ce4446a2fbf4",
        "colab": {
          "base_uri": "https://localhost:8080/"
        }
      },
      "source": [
        "\n",
        "#I-Data preprocessing\n",
        "\n",
        "from keras.datasets import mnist\n",
        "from keras.layers import Dense, Flatten\n",
        "from keras.layers import Conv2D\n",
        "import keras\n",
        "# the data, shuffled and split between train and test sets\n",
        "(x_train, y_train), (x_test, y_test) = mnist.load_data()\n",
        "x_train=x_train.reshape(x_train.shape[0],28,28,1)\n",
        "x_test=x_test.reshape(x_test.shape[0],28,28,1)\n",
        "input_shape=(28,28,1)\n",
        "\n",
        "#normalisation\n",
        "x_train=x_train.astype('float32')\n",
        "x_test=x_test.astype('float32')\n",
        "print(type(x_train))\n",
        "x_train/=255\n",
        "x_test/=255\n",
        "\n",
        "\n",
        "#convet class vectors to binary class matrices: 3 becomes [0,0,0,1,0,0,0,0,0,0]\n",
        "y_train=keras.utils.to_categorical(y_train,10)\n",
        "y_test=keras.utils.to_categorical(y_test,10)\n",
        "\n"
      ],
      "execution_count": null,
      "outputs": [
        {
          "output_type": "stream",
          "text": [
            "Downloading data from https://storage.googleapis.com/tensorflow/tf-keras-datasets/mnist.npz\n",
            "11493376/11490434 [==============================] - 0s 0us/step\n",
            "<class 'numpy.ndarray'>\n"
          ],
          "name": "stdout"
        }
      ]
    },
    {
      "cell_type": "code",
      "metadata": {
        "id": "K9vlivOkY9SL"
      },
      "source": [
        "# II-Our model\n",
        "\n",
        "from tensorflow.keras import Sequential\n",
        "from keras.layers.convolutional import Convolution2D\n",
        "\n",
        "classes=[0,1,2,3,4,5,6,7,8,9]\n",
        "nbr_classes=len(classes)\n",
        "\n",
        "def model_cnn():\n",
        "  model = Sequential()\n",
        "  model.add(Convolution2D(64,3,1,padding='valid'))\n",
        "  model.add(Flatten())\n",
        "  model.add(Dense(32,activation='relu'))\n",
        "  model.add(Dense(nbr_classes,activation='softmax'))\n",
        "  return model\n",
        "\n"
      ],
      "execution_count": null,
      "outputs": []
    },
    {
      "cell_type": "code",
      "metadata": {
        "id": "9G_lQSviY_dF"
      },
      "source": [
        "#III-Model Instanciation\n",
        "my_model=model_cnn()\n",
        "my_model.compile(optimizer='adam', loss='categorical_crossentropy', metrics=['accuracy'])\n"
      ],
      "execution_count": null,
      "outputs": []
    },
    {
      "cell_type": "code",
      "metadata": {
        "id": "wdsL-UWmkokn"
      },
      "source": [
        "\n",
        "from tensorflow.keras import Sequential\n",
        "from keras.layers.convolutional import Convolution2D\n",
        "from keras.layers import Dense, Flatten\n",
        "from keras.layers import Conv2D\n"
      ],
      "execution_count": null,
      "outputs": []
    },
    {
      "cell_type": "code",
      "metadata": {
        "id": "cD4BEiBqlF-Y"
      },
      "source": [
        "#IV Fonctions nécessaires pour l'attaque \n",
        "\n",
        "\n",
        "from math import tanh\n",
        "import numpy as np\n",
        "from numpy import array\n",
        "from scipy import optimize\n",
        "import torch\n",
        "#Box constraints in 3 methods : 1- projected gradient descent(clipps the coordinates to be inside the box)\n",
        "                               #2- the xi are not clipped , but instead we clipp the gradient: we replace f(x+delta) by f(min(max(x+delta,0),1))\n",
        "                               #3-but the best is the one below with the variable_change tanh\n",
        "\n",
        "import tensorflow as tf\n",
        "\n",
        "if torch.cuda.is_available():\n",
        "    device = torch.device(\"cuda\")          \n",
        "    # a CUDA device object\n",
        "\n",
        "\n",
        "import numpy as np\n",
        "\n",
        "k=0.09\n",
        "\n",
        "\n",
        "def norm_p(delta, p):\n",
        "  delta_1=delta\n",
        "  from scipy.spatial import distance\n",
        "  result=distance.minkowski(delta.flatten(),p)\n",
        "  delta=delta_1\n",
        "  return result\n",
        "\n",
        "\n",
        "def func_map(x,y):\n",
        "  return 0.5*(tanh(y)+1)-x\n",
        "\n",
        "def variable_change(w,x):#ensures that x+delta belongs to [0,1]\n",
        "  w=np.array(w).flatten()\n",
        "  x=np.array(x).flatten()\n",
        "  my_list=[]\n",
        "  for w_i,x_i in zip(w,x):\n",
        "    my_list.append(func_map(w_i,x_i))\n",
        "\n",
        "  return np.array(my_list)  \n",
        "\n",
        "  #since -1<=tanh(w)<=1, it follows 0<=x_i+delta_i<=1, so this solution will automatically be valid, we can think of this method as,a clipped descent gradient that eliminates \n",
        "  #problem of getting stuck in extreme regions\n",
        "\n",
        "\n",
        "\n",
        "def objectif_function(my_array,t):  #this is f\n",
        "  my_array=np.array([[my_array]])\n",
        "  my_array=my_array.reshape(1,28,28,1)\n",
        "  nn_output=my_model(my_array).numpy()\n",
        "  index_max=np.argmax(nn_output)\n",
        "  result=max(nn_output[0][index_max]-nn_output[0][t],0)\n",
        "\n",
        "  return result\n",
        "\n",
        "  \n",
        "#what we're trying to do is to minimize D(x,x+delta)\n",
        "  #such that f(x+delta)<=0 and x+delta belongs to [0,1]\n",
        "\n",
        "def function_to_minimize(delta,p,x,c,t):\n",
        "  my_norm=norm_p(delta,p)\n",
        "  second_member=c*objectif_function(x+delta,t)\n",
        "  return my_norm+second_member\n",
        "\n",
        "\n",
        "def attack_l2(x,w,c,t):\n",
        "    return function_to_minimize(variable_change(w,x),2,x,c,t)\n",
        "\n",
        "\n",
        "def attack(x,net,n_attack,labels,device,w):\n",
        "\n",
        "\n",
        "  \n",
        "  result = optimize.minimize(attack_l2,x0=x,args=(w,1.8,7),method='SLSQP',\n",
        "                           options={'maxiter':70})\n",
        "  \n",
        "  return result.x #contains the optimal solution\n",
        "\n",
        "\n",
        "    \n",
        "\n",
        "\n",
        "\n"
      ],
      "execution_count": null,
      "outputs": []
    },
    {
      "cell_type": "code",
      "metadata": {
        "id": "DF9J_8OEjAfO"
      },
      "source": [
        ""
      ],
      "execution_count": null,
      "outputs": []
    },
    {
      "cell_type": "code",
      "metadata": {
        "id": "YBi2RTV3jBjD"
      },
      "source": [
        ""
      ],
      "execution_count": null,
      "outputs": []
    },
    {
      "cell_type": "code",
      "metadata": {
        "id": "J8gFzL31XC3l"
      },
      "source": [
        "new_set_after_attack=[]\n",
        "#V Entraineemnt avec l'attaque\n",
        "def train_with_attack(nbr,net,device):\n",
        "  iteration=0\n",
        "\n",
        "  #Train the network with PGD on attacked samples\n",
        "  inputs=0#init\n",
        "  for (data,label) in zip(x_train[0:2000],y_train[0:2000]): \n",
        "        w=np.zeros(data.shape)#initialization\n",
        "        print('data_shape=',data.shape)\n",
        "        inputs_after_attack = attack(data,my_model,1,y_train,device,[w]) \n",
        "        inputs_after_attack=inputs_after_attack.reshape((28, 28,1))\n",
        "        new_set_after_attack.append(inputs_after_attack)\n",
        "        iteration=iteration+1\n",
        "        print(\"iteration number:\",iteration)\n",
        "  \n",
        "  print('Finished Training')\n",
        "\n",
        "\n",
        "\n"
      ],
      "execution_count": null,
      "outputs": []
    },
    {
      "cell_type": "code",
      "metadata": {
        "id": "diCsTLKYbmYU",
        "outputId": "1f5fef32-e805-4124-ec0d-570f8f8161ba",
        "colab": {
          "base_uri": "https://localhost:8080/"
        }
      },
      "source": [
        "\n",
        "device = torch.device(\"cuda:0\" if torch.cuda.is_available() else \"cpu\")\n",
        "\n",
        "new_set_after_attack\n",
        "train_with_attack(1,my_model,device)\n",
        "\n"
      ],
      "execution_count": null,
      "outputs": [
        {
          "output_type": "stream",
          "text": [
            "data_shape= (28, 28, 1)\n",
            "WARNING:tensorflow:Layer conv2d is casting an input tensor from dtype float64 to the layer's dtype of float32, which is new behavior in TensorFlow 2.  The layer has dtype float32 because its dtype defaults to floatx.\n",
            "\n",
            "If you intended to run this layer in float32, you can safely ignore this warning. If in doubt, this warning is likely only an issue if you are porting a TensorFlow 1.X model to TensorFlow 2.\n",
            "\n",
            "To change all layers to have dtype float64 by default, call `tf.keras.backend.set_floatx('float64')`. To change just this layer, pass dtype='float64' to the layer constructor. If you are the author of this layer, you can disable autocasting by passing autocast=False to the base Layer constructor.\n",
            "\n",
            "iteration number: 1\n",
            "data_shape= (28, 28, 1)\n",
            "iteration number: 2\n",
            "data_shape= (28, 28, 1)\n",
            "iteration number: 3\n",
            "data_shape= (28, 28, 1)\n",
            "iteration number: 4\n",
            "data_shape= (28, 28, 1)\n",
            "iteration number: 5\n",
            "data_shape= (28, 28, 1)\n",
            "iteration number: 6\n",
            "data_shape= (28, 28, 1)\n",
            "iteration number: 7\n",
            "data_shape= (28, 28, 1)\n",
            "iteration number: 8\n",
            "data_shape= (28, 28, 1)\n",
            "iteration number: 9\n",
            "data_shape= (28, 28, 1)\n",
            "iteration number: 10\n",
            "data_shape= (28, 28, 1)\n",
            "iteration number: 11\n",
            "data_shape= (28, 28, 1)\n",
            "iteration number: 12\n",
            "data_shape= (28, 28, 1)\n",
            "iteration number: 13\n",
            "data_shape= (28, 28, 1)\n",
            "iteration number: 14\n",
            "data_shape= (28, 28, 1)\n",
            "iteration number: 15\n",
            "data_shape= (28, 28, 1)\n",
            "iteration number: 16\n",
            "data_shape= (28, 28, 1)\n",
            "iteration number: 17\n",
            "data_shape= (28, 28, 1)\n",
            "iteration number: 18\n",
            "data_shape= (28, 28, 1)\n",
            "iteration number: 19\n",
            "data_shape= (28, 28, 1)\n",
            "iteration number: 20\n",
            "data_shape= (28, 28, 1)\n",
            "iteration number: 21\n",
            "data_shape= (28, 28, 1)\n",
            "iteration number: 22\n",
            "data_shape= (28, 28, 1)\n",
            "iteration number: 23\n",
            "data_shape= (28, 28, 1)\n",
            "iteration number: 24\n",
            "data_shape= (28, 28, 1)\n",
            "iteration number: 25\n",
            "data_shape= (28, 28, 1)\n",
            "iteration number: 26\n",
            "data_shape= (28, 28, 1)\n",
            "iteration number: 27\n",
            "data_shape= (28, 28, 1)\n",
            "iteration number: 28\n",
            "data_shape= (28, 28, 1)\n",
            "iteration number: 29\n",
            "data_shape= (28, 28, 1)\n",
            "iteration number: 30\n",
            "data_shape= (28, 28, 1)\n",
            "iteration number: 31\n",
            "data_shape= (28, 28, 1)\n",
            "iteration number: 32\n",
            "data_shape= (28, 28, 1)\n",
            "iteration number: 33\n",
            "data_shape= (28, 28, 1)\n",
            "iteration number: 34\n",
            "data_shape= (28, 28, 1)\n",
            "iteration number: 35\n",
            "data_shape= (28, 28, 1)\n",
            "iteration number: 36\n",
            "data_shape= (28, 28, 1)\n",
            "iteration number: 37\n",
            "data_shape= (28, 28, 1)\n",
            "iteration number: 38\n",
            "data_shape= (28, 28, 1)\n",
            "iteration number: 39\n",
            "data_shape= (28, 28, 1)\n",
            "iteration number: 40\n",
            "data_shape= (28, 28, 1)\n",
            "iteration number: 41\n",
            "data_shape= (28, 28, 1)\n",
            "iteration number: 42\n",
            "data_shape= (28, 28, 1)\n",
            "iteration number: 43\n",
            "data_shape= (28, 28, 1)\n",
            "iteration number: 44\n",
            "data_shape= (28, 28, 1)\n",
            "iteration number: 45\n",
            "data_shape= (28, 28, 1)\n",
            "iteration number: 46\n",
            "data_shape= (28, 28, 1)\n",
            "iteration number: 47\n",
            "data_shape= (28, 28, 1)\n",
            "iteration number: 48\n",
            "data_shape= (28, 28, 1)\n",
            "iteration number: 49\n",
            "data_shape= (28, 28, 1)\n",
            "iteration number: 50\n",
            "data_shape= (28, 28, 1)\n",
            "iteration number: 51\n",
            "data_shape= (28, 28, 1)\n",
            "iteration number: 52\n",
            "data_shape= (28, 28, 1)\n",
            "iteration number: 53\n",
            "data_shape= (28, 28, 1)\n",
            "iteration number: 54\n",
            "data_shape= (28, 28, 1)\n",
            "iteration number: 55\n",
            "data_shape= (28, 28, 1)\n",
            "iteration number: 56\n",
            "data_shape= (28, 28, 1)\n",
            "iteration number: 57\n",
            "data_shape= (28, 28, 1)\n",
            "iteration number: 58\n",
            "data_shape= (28, 28, 1)\n",
            "iteration number: 59\n",
            "data_shape= (28, 28, 1)\n",
            "iteration number: 60\n",
            "data_shape= (28, 28, 1)\n",
            "iteration number: 61\n",
            "data_shape= (28, 28, 1)\n",
            "iteration number: 62\n",
            "data_shape= (28, 28, 1)\n",
            "iteration number: 63\n",
            "data_shape= (28, 28, 1)\n",
            "iteration number: 64\n",
            "data_shape= (28, 28, 1)\n",
            "iteration number: 65\n",
            "data_shape= (28, 28, 1)\n",
            "iteration number: 66\n",
            "data_shape= (28, 28, 1)\n",
            "iteration number: 67\n",
            "data_shape= (28, 28, 1)\n",
            "iteration number: 68\n",
            "data_shape= (28, 28, 1)\n",
            "iteration number: 69\n",
            "data_shape= (28, 28, 1)\n",
            "iteration number: 70\n",
            "data_shape= (28, 28, 1)\n",
            "iteration number: 71\n",
            "data_shape= (28, 28, 1)\n",
            "iteration number: 72\n",
            "data_shape= (28, 28, 1)\n",
            "iteration number: 73\n",
            "data_shape= (28, 28, 1)\n",
            "iteration number: 74\n",
            "data_shape= (28, 28, 1)\n",
            "iteration number: 75\n",
            "data_shape= (28, 28, 1)\n",
            "iteration number: 76\n",
            "data_shape= (28, 28, 1)\n",
            "iteration number: 77\n",
            "data_shape= (28, 28, 1)\n",
            "iteration number: 78\n",
            "data_shape= (28, 28, 1)\n",
            "iteration number: 79\n",
            "data_shape= (28, 28, 1)\n",
            "iteration number: 80\n",
            "data_shape= (28, 28, 1)\n",
            "iteration number: 81\n",
            "data_shape= (28, 28, 1)\n",
            "iteration number: 82\n",
            "data_shape= (28, 28, 1)\n",
            "iteration number: 83\n",
            "data_shape= (28, 28, 1)\n",
            "iteration number: 84\n",
            "data_shape= (28, 28, 1)\n",
            "iteration number: 85\n",
            "data_shape= (28, 28, 1)\n",
            "iteration number: 86\n",
            "data_shape= (28, 28, 1)\n",
            "iteration number: 87\n",
            "data_shape= (28, 28, 1)\n",
            "iteration number: 88\n",
            "data_shape= (28, 28, 1)\n",
            "iteration number: 89\n",
            "data_shape= (28, 28, 1)\n",
            "iteration number: 90\n",
            "data_shape= (28, 28, 1)\n",
            "iteration number: 91\n",
            "data_shape= (28, 28, 1)\n",
            "iteration number: 92\n",
            "data_shape= (28, 28, 1)\n",
            "iteration number: 93\n",
            "data_shape= (28, 28, 1)\n",
            "iteration number: 94\n",
            "data_shape= (28, 28, 1)\n",
            "iteration number: 95\n",
            "data_shape= (28, 28, 1)\n",
            "iteration number: 96\n",
            "data_shape= (28, 28, 1)\n",
            "iteration number: 97\n",
            "data_shape= (28, 28, 1)\n",
            "iteration number: 98\n",
            "data_shape= (28, 28, 1)\n",
            "iteration number: 99\n",
            "data_shape= (28, 28, 1)\n",
            "iteration number: 100\n",
            "data_shape= (28, 28, 1)\n",
            "iteration number: 101\n",
            "data_shape= (28, 28, 1)\n",
            "iteration number: 102\n",
            "data_shape= (28, 28, 1)\n",
            "iteration number: 103\n",
            "data_shape= (28, 28, 1)\n",
            "iteration number: 104\n",
            "data_shape= (28, 28, 1)\n",
            "iteration number: 105\n",
            "data_shape= (28, 28, 1)\n",
            "iteration number: 106\n",
            "data_shape= (28, 28, 1)\n",
            "iteration number: 107\n",
            "data_shape= (28, 28, 1)\n",
            "iteration number: 108\n",
            "data_shape= (28, 28, 1)\n",
            "iteration number: 109\n",
            "data_shape= (28, 28, 1)\n",
            "iteration number: 110\n",
            "data_shape= (28, 28, 1)\n",
            "iteration number: 111\n",
            "data_shape= (28, 28, 1)\n",
            "iteration number: 112\n",
            "data_shape= (28, 28, 1)\n",
            "iteration number: 113\n",
            "data_shape= (28, 28, 1)\n",
            "iteration number: 114\n",
            "data_shape= (28, 28, 1)\n",
            "iteration number: 115\n",
            "data_shape= (28, 28, 1)\n",
            "iteration number: 116\n",
            "data_shape= (28, 28, 1)\n",
            "iteration number: 117\n",
            "data_shape= (28, 28, 1)\n",
            "iteration number: 118\n",
            "data_shape= (28, 28, 1)\n",
            "iteration number: 119\n",
            "data_shape= (28, 28, 1)\n",
            "iteration number: 120\n",
            "data_shape= (28, 28, 1)\n",
            "iteration number: 121\n",
            "data_shape= (28, 28, 1)\n",
            "iteration number: 122\n",
            "data_shape= (28, 28, 1)\n",
            "iteration number: 123\n",
            "data_shape= (28, 28, 1)\n",
            "iteration number: 124\n",
            "data_shape= (28, 28, 1)\n",
            "iteration number: 125\n",
            "data_shape= (28, 28, 1)\n",
            "iteration number: 126\n",
            "data_shape= (28, 28, 1)\n",
            "iteration number: 127\n",
            "data_shape= (28, 28, 1)\n",
            "iteration number: 128\n",
            "data_shape= (28, 28, 1)\n",
            "iteration number: 129\n",
            "data_shape= (28, 28, 1)\n",
            "iteration number: 130\n",
            "data_shape= (28, 28, 1)\n",
            "iteration number: 131\n",
            "data_shape= (28, 28, 1)\n",
            "iteration number: 132\n",
            "data_shape= (28, 28, 1)\n",
            "iteration number: 133\n",
            "data_shape= (28, 28, 1)\n",
            "iteration number: 134\n",
            "data_shape= (28, 28, 1)\n",
            "iteration number: 135\n",
            "data_shape= (28, 28, 1)\n",
            "iteration number: 136\n",
            "data_shape= (28, 28, 1)\n",
            "iteration number: 137\n",
            "data_shape= (28, 28, 1)\n",
            "iteration number: 138\n",
            "data_shape= (28, 28, 1)\n",
            "iteration number: 139\n",
            "data_shape= (28, 28, 1)\n",
            "iteration number: 140\n",
            "data_shape= (28, 28, 1)\n",
            "iteration number: 141\n",
            "data_shape= (28, 28, 1)\n",
            "iteration number: 142\n",
            "data_shape= (28, 28, 1)\n",
            "iteration number: 143\n",
            "data_shape= (28, 28, 1)\n",
            "iteration number: 144\n",
            "data_shape= (28, 28, 1)\n",
            "iteration number: 145\n",
            "data_shape= (28, 28, 1)\n",
            "iteration number: 146\n",
            "data_shape= (28, 28, 1)\n",
            "iteration number: 147\n",
            "data_shape= (28, 28, 1)\n",
            "iteration number: 148\n",
            "data_shape= (28, 28, 1)\n",
            "iteration number: 149\n",
            "data_shape= (28, 28, 1)\n",
            "iteration number: 150\n",
            "data_shape= (28, 28, 1)\n",
            "iteration number: 151\n",
            "data_shape= (28, 28, 1)\n",
            "iteration number: 152\n",
            "data_shape= (28, 28, 1)\n",
            "iteration number: 153\n",
            "data_shape= (28, 28, 1)\n",
            "iteration number: 154\n",
            "data_shape= (28, 28, 1)\n",
            "iteration number: 155\n",
            "data_shape= (28, 28, 1)\n",
            "iteration number: 156\n",
            "data_shape= (28, 28, 1)\n",
            "iteration number: 157\n",
            "data_shape= (28, 28, 1)\n",
            "iteration number: 158\n",
            "data_shape= (28, 28, 1)\n",
            "iteration number: 159\n",
            "data_shape= (28, 28, 1)\n",
            "iteration number: 160\n",
            "data_shape= (28, 28, 1)\n",
            "iteration number: 161\n",
            "data_shape= (28, 28, 1)\n",
            "iteration number: 162\n",
            "data_shape= (28, 28, 1)\n",
            "iteration number: 163\n",
            "data_shape= (28, 28, 1)\n",
            "iteration number: 164\n",
            "data_shape= (28, 28, 1)\n",
            "iteration number: 165\n",
            "data_shape= (28, 28, 1)\n",
            "iteration number: 166\n",
            "data_shape= (28, 28, 1)\n",
            "iteration number: 167\n",
            "data_shape= (28, 28, 1)\n",
            "iteration number: 168\n",
            "data_shape= (28, 28, 1)\n",
            "iteration number: 169\n",
            "data_shape= (28, 28, 1)\n",
            "iteration number: 170\n",
            "data_shape= (28, 28, 1)\n",
            "iteration number: 171\n",
            "data_shape= (28, 28, 1)\n",
            "iteration number: 172\n",
            "data_shape= (28, 28, 1)\n",
            "iteration number: 173\n",
            "data_shape= (28, 28, 1)\n",
            "iteration number: 174\n",
            "data_shape= (28, 28, 1)\n",
            "iteration number: 175\n",
            "data_shape= (28, 28, 1)\n",
            "iteration number: 176\n",
            "data_shape= (28, 28, 1)\n",
            "iteration number: 177\n",
            "data_shape= (28, 28, 1)\n",
            "iteration number: 178\n",
            "data_shape= (28, 28, 1)\n",
            "iteration number: 179\n",
            "data_shape= (28, 28, 1)\n"
          ],
          "name": "stdout"
        }
      ]
    },
    {
      "cell_type": "code",
      "metadata": {
        "id": "hJjvv5sVclSm"
      },
      "source": [
        "import numpy as np\n",
        "new_set_after_attack=np.array(new_set_after_attack)\n",
        "my_model.fit(new_set_after_attack, y_train, validation_data=(x_test, y_test), epochs=200)"
      ],
      "execution_count": null,
      "outputs": []
    },
    {
      "cell_type": "code",
      "metadata": {
        "id": "dhjOJK5wOXki",
        "outputId": "31b42d90-d48c-4809-e553-55a410e9d0bb",
        "colab": {
          "base_uri": "https://localhost:8080/"
        }
      },
      "source": [
        "\n",
        "score = my_model.evaluate(x_test, y_test, verbose=0)\n",
        "print('Test loss:', score[0])\n",
        "print('Test accuracy:', score[1])\n",
        "from sklearn.metrics import classification_report\n",
        "import numpy as np\n",
        "Y_test = np.argmax(y_test, axis=-1) # Convert one-hot to index\n",
        "y_pred = my_model.predict_classes(x_test)\n",
        "print(classification_report(Y_test, y_pred))"
      ],
      "execution_count": null,
      "outputs": [
        {
          "output_type": "stream",
          "text": [
            "Test loss: 45.013710021972656\n",
            "Test accuracy: 0.10279999673366547\n",
            "              precision    recall  f1-score   support\n",
            "\n",
            "           0       0.00      0.00      0.00       980\n",
            "           1       0.00      0.00      0.00      1135\n",
            "           2       0.00      0.00      0.00      1032\n",
            "           3       0.00      0.00      0.00      1010\n",
            "           4       0.00      0.00      0.00       982\n",
            "           5       0.00      0.00      0.00       892\n",
            "           6       0.00      0.00      0.00       958\n",
            "           7       0.10      1.00      0.19      1028\n",
            "           8       0.00      0.00      0.00       974\n",
            "           9       0.00      0.00      0.00      1009\n",
            "\n",
            "    accuracy                           0.10     10000\n",
            "   macro avg       0.01      0.10      0.02     10000\n",
            "weighted avg       0.01      0.10      0.02     10000\n",
            "\n"
          ],
          "name": "stdout"
        },
        {
          "output_type": "stream",
          "text": [
            "/usr/local/lib/python3.6/dist-packages/sklearn/metrics/_classification.py:1272: UndefinedMetricWarning: Precision and F-score are ill-defined and being set to 0.0 in labels with no predicted samples. Use `zero_division` parameter to control this behavior.\n",
            "  _warn_prf(average, modifier, msg_start, len(result))\n"
          ],
          "name": "stderr"
        }
      ]
    },
    {
      "cell_type": "code",
      "metadata": {
        "id": "ai06cpF3kt7O"
      },
      "source": [
        ""
      ],
      "execution_count": null,
      "outputs": []
    },
    {
      "cell_type": "code",
      "metadata": {
        "id": "D_lc2sC8jC3v",
        "outputId": "3e3ca0d0-7be8-4319-f233-62e43f4fcf88",
        "colab": {
          "base_uri": "https://localhost:8080/"
        }
      },
      "source": [
        " import collections, numpy\n",
        "print(y_pred)\n",
        "collections.Counter(y_pred)\n"
      ],
      "execution_count": null,
      "outputs": [
        {
          "output_type": "stream",
          "text": [
            "[7 7 7 ... 7 7 7]\n"
          ],
          "name": "stdout"
        },
        {
          "output_type": "execute_result",
          "data": {
            "text/plain": [
              "Counter({7: 10000})"
            ]
          },
          "metadata": {
            "tags": []
          },
          "execution_count": 59
        }
      ]
    },
    {
      "cell_type": "code",
      "metadata": {
        "id": "e_BvdjrTku1U",
        "outputId": "0eca03d8-58de-4f2b-ebc6-42ab24fdeb2f",
        "colab": {
          "base_uri": "https://localhost:8080/",
          "height": 290
        }
      },
      "source": [
        ""
      ],
      "execution_count": null,
      "outputs": [
        {
          "output_type": "display_data",
          "data": {
            "image/png": "[encoded data removed]",
            "text/plain": [
              "<Figure size 432x288 with 2 Axes>"
            ]
          },
          "metadata": {
            "tags": []
          }
        }
      ]
    },
    {
      "cell_type": "code",
      "metadata": {
        "id": "BwC5Fr8snB3C",
        "outputId": "4c8a4c93-4004-4148-c1b9-a93b3634a7ca",
        "colab": {
          "base_uri": "https://localhost:8080/"
        }
      },
      "source": [
        "import collections\n",
        "print(y_pred[0:500])\n",
        "collections.Counter(y_pred)"
      ],
      "execution_count": null,
      "outputs": [
        {
          "output_type": "stream",
          "text": [
            "[7 7 7 7 7 7 7 7 7 7 7 7 7 7 7 7 7 7 7 7 7 7 7 7 7 7 7 7 7 7 7 7 7 7 7 7 7\n",
            " 7 7 7 7 7 7 7 7 7 7 7 7 7 7 7 7 7 7 7 7 7 7 7 7 7 7 7 7 7 7 7 7 7 7 7 7 7\n",
            " 7 7 7 7 7 7 7 7 7 7 7 7 7 7 7 7 7 7 7 7 7 7 7 7 7 7 7 7 7 7 7 7 7 7 7 7 7\n",
            " 7 7 7 7 7 7 7 7 7 7 7 7 7 7 7 7 7 7 7 7 7 7 7 7 7 7 7 7 7 7 7 7 7 7 7 7 7\n",
            " 7 7 7 7 7 7 7 7 7 7 7 7 7 7 7 7 7 7 7 7 7 7 7 7 7 7 7 7 7 7 7 7 7 7 7 7 7\n",
            " 7 7 7 7 7 7 7 7 7 7 7 7 7 7 7 7 7 7 7 7 7 7 7 7 7 7 7 7 7 7 7 7 7 7 7 7 7\n",
            " 7 7 7 7 7 7 7 7 7 7 7 7 7 7 7 7 7 7 7 7 7 7 7 7 7 7 7 7 7 7 7 7 7 7 7 7 7\n",
            " 7 7 7 7 7 7 7 7 7 7 7 7 7 7 7 7 7 7 7 7 7 7 7 7 7 7 7 7 7 7 7 7 7 7 7 7 7\n",
            " 7 7 7 7 7 7 7 7 7 7 7 7 7 7 7 7 7 7 7 7 7 7 7 7 7 7 7 7 7 7 7 7 7 7 7 7 7\n",
            " 7 7 7 7 7 7 7 7 7 7 7 7 7 7 7 7 7 7 7 7 7 7 7 7 7 7 7 7 7 7 7 7 7 7 7 7 7\n",
            " 7 7 7 7 7 7 7 7 7 7 7 7 7 7 7 7 7 7 7 7 7 7 7 7 7 7 7 7 7 7 7 7 7 7 7 7 7\n",
            " 7 7 7 7 7 7 7 7 7 7 7 7 7 7 7 7 7 7 7 7 7 7 7 7 7 7 7 7 7 7 7 7 7 7 7 7 7\n",
            " 7 7 7 7 7 7 7 7 7 7 7 7 7 7 7 7 7 7 7 7 7 7 7 7 7 7 7 7 7 7 7 7 7 7 7 7 7\n",
            " 7 7 7 7 7 7 7 7 7 7 7 7 7 7 7 7 7 7 7]\n"
          ],
          "name": "stdout"
        },
        {
          "output_type": "execute_result",
          "data": {
            "text/plain": [
              "Counter({7: 10000})"
            ]
          },
          "metadata": {
            "tags": []
          },
          "execution_count": 60
        }
      ]
    }
  ]
}