{
  "nbformat": 4,
  "nbformat_minor": 0,
  "metadata": {
    "colab": {
      "name": "TP_NN .ipynb",
      "provenance": [],
      "collapsed_sections": []
    },
    "kernelspec": {
      "name": "python3",
      "display_name": "Python 3"
    },
    "accelerator": "GPU"
  },
  "cells": [
    {
      "cell_type": "markdown",
      "metadata": {
        "id": "hpMoHIL9buxC"
      },
      "source": [
        "## Introduction aux réseaux de neurones et à PyTorch\n",
        "\n",
        "\n",
        "\n",
        "\n"
      ]
    },
    {
      "cell_type": "markdown",
      "metadata": {
        "id": "Yan0U4btlY0T"
      },
      "source": [
        "Le but de ce tp est de vous guider dans la mise en œuvre d'un perceptron multicouche à l'aide de numpy et vous familiariser avec les concepts de base de PyTorch. Si vous connaissez bien ces sujets, n'hésitez pas à passer à la section des exercices à la fin ou à d'autres modules. Nous nous appuyerons sur des ressources de l'école [Brains, Minds and Machines summer course 2018.](http://cbmm.mit.edu/summer-school/2018)\n",
        "\n",
        "*  [PyTorch](https://pytorch.org/)"
      ]
    },
    {
      "cell_type": "markdown",
      "metadata": {
        "id": "5U8QQzBMbNyW"
      },
      "source": [
        "### Implémenter un Perceptron Multi-Couches"
      ]
    },
    {
      "cell_type": "markdown",
      "metadata": {
        "id": "2vgQcVI_TFCm"
      },
      "source": [
        "### XOr \n",
        "\n",
        "Comme vu en cours, le problème du Ou exclusif est iportant pour comprendre la nécessité des couches intermédiaires (cachées). Le but est d'utiliser un réseau de neurones pour prédire la sortie d'une porte logique XOr à partir de deux entrées binaires.\n",
        "\n",
        "Dans cet exercice, nous relâchons un peu le problème XOr. Au lieu d'entrées binaires, nous considérons des entrées en valeurs réelles. Lorsque les deux valeurs d’entrée ont le même signe, le réseau doit fournir 1; sinon, le réseau devrait afficher 0.\n",
        "\n",
        "Ci-après à quoi ressemblent les données d'apprentissage dans un tracé 2D. Le point rouge signifie que l'étiquette de sortie est 0, le point bleu signifie que l'étiquette de sortie est 1."
      ]
    },
    {
      "cell_type": "code",
      "metadata": {
        "id": "QdWhnDtxaWmf",
        "colab": {
          "base_uri": "https://localhost:8080/",
          "height": 282
        },
        "outputId": "5622dfd7-1f6f-425b-a32c-0aa2db9bbc36"
      },
      "source": [
        "import numpy as np\n",
        "\n",
        "%matplotlib inline\n",
        "import matplotlib.pyplot as plt\n",
        "\n",
        "# input of the MLP\n",
        "X = np.array([[1,1], [1,-1], [-1,-1], [-1,1]])\n",
        "# output of the MLP\n",
        "y = np.array([[0], [1], [0], [1]])\n",
        "\n",
        "# plot the training data\n",
        "fig, ax = plt.subplots()\n",
        "for i in range(y.shape[0]):\n",
        "  if y[i][0] == 0:\n",
        "    marker = 'ro'\n",
        "  else:\n",
        "    marker = 'bo'\n",
        "  ax.plot(X[i][0], X[i][1], marker)\n",
        "ax.axhline(y=0, color='k')\n",
        "ax.axvline(x=0, color='k')"
      ],
      "execution_count": 206,
      "outputs": [
        {
          "output_type": "execute_result",
          "data": {
            "text/plain": [
              "<matplotlib.lines.Line2D at 0x7f4242f51da0>"
            ]
          },
          "metadata": {
            "tags": []
          },
          "execution_count": 206
        },
        {
          "output_type": "display_data",
          "data": {
            "image/png": "[encoded data removed]",
            "text/plain": [
              "<Figure size 432x288 with 1 Axes>"
            ]
          },
          "metadata": {
            "tags": [],
            "needs_background": "light"
          }
        }
      ]
    },
    {
      "cell_type": "markdown",
      "metadata": {
        "id": "f-ZLpixBrNsT"
      },
      "source": [
        "Comme discuté dans le cours, les données ne sont pas séparables linéairement, d'où l'intérêt des couches intérmédiaires et des non-linéarités. "
      ]
    },
    {
      "cell_type": "markdown",
      "metadata": {
        "id": "E7KhqYuNsO81"
      },
      "source": [
        "### Implémenter les fonctions d'activation\n",
        "\n",
        "Plusieurs choix de fonctoins d'activation sont possibles :  sigmoïde, tanh, relu, etc. A titre d'illustratin, nous implémentons dans ce qui suit la  fonction sigmoïde à titre d'exemple. Nous avons aussi besoin de la dérivée de la sigmoïde pour la rétroprogataion."
      ]
    },
    {
      "cell_type": "code",
      "metadata": {
        "id": "KU2KeWZqwU7I"
      },
      "source": [
        "# Sigmoid Function\n",
        "def sigmoid(x):\n",
        "    return 1 / (1 + np.exp(-x))\n",
        "\n",
        "# Derivative of Sigmoid Function\n",
        "def derivative_sigmoid(x):\n",
        "    return x * (1 - x)"
      ],
      "execution_count": 207,
      "outputs": []
    },
    {
      "cell_type": "markdown",
      "metadata": {
        "id": "u_b3BojzuPdq"
      },
      "source": [
        "### Une architecture PMC simple\n",
        "\n",
        "Nous concevons un PMC (MLP) simple pour résoudre ce problème. Le PMC comprend une couche cachée et une couche en sortie qui mappe les valeurs en sortie de la couche cachée aux valeurs en sortie.\n",
        "\n",
        "Nous commençons par initialiser le poids et le biais de chaque couche, ainsi que le nombre d’époques et le taux d’apprentissage (learning rate, step size)."
      ]
    },
    {
      "cell_type": "code",
      "metadata": {
        "id": "cQkt7V2pwYW-"
      },
      "source": [
        "epoch = 5000 # number of training iterations\n",
        "learning_rate = 0.1\n",
        "\n",
        "# dimension of each layer\n",
        "d_in = X.shape[1] # number of features in the input dataset\n",
        "d_h = 3   # hidden layer\n",
        "d_out = 1 # output layer\n",
        "\n",
        "# weight and bias initialization\n",
        "wh = np.random.uniform(size=(d_in, d_h))\n",
        "bh = np.random.uniform(size=(1, d_h))\n",
        "wout = np.random.uniform(size=(d_h, d_out))\n",
        "bout = np.random.uniform(size=(1, d_out))"
      ],
      "execution_count": 208,
      "outputs": []
    },
    {
      "cell_type": "markdown",
      "metadata": {
        "id": "dZ44Oe5hkjda"
      },
      "source": [
        "Pour chaque itération, nous exécutons un passage avant (forward pass) pour obtenir la valeur prédite et calculer la perte entre la prédiction et la valeur réelle. Pour simplifier, nous utilisons les différences entre les deux valeurs comme fonction de perte. Ensuite, nous on calcule les gradients et on met à jour les poids et les biais (passe arrière, backpropagation du gradient)."
      ]
    },
    {
      "cell_type": "code",
      "metadata": {
        "id": "J7yugsy3wgU5",
        "colab": {
          "base_uri": "https://localhost:8080/"
        },
        "outputId": "013ffe4a-47fb-4084-c0c7-521e1c5dfa7c"
      },
      "source": [
        "for i in range(epoch):\n",
        "    # Forward pass\n",
        "    h = sigmoid(X.dot(wh) + bh)\n",
        "    y_pred = sigmoid(h.dot(wout) + bout)#on applique la fonction sigmoides 2 fois\n",
        "    # Compute and print loss\n",
        "    loss = (y_pred - y).sum()\n",
        "    if i % 500 == 0:\n",
        "        print('Epoch', i, ':', loss)\n",
        "\n",
        "    # Backpropagation to compute gradients\n",
        "    #dérivée de loss par rapport à wout=dérivée de y_pred par rapport à wout=derivative_sigmoid(w_out)\n",
        "    grad_wout=np.transpose(h).dot(derivative_sigmoid(h.dot(wout)+bout))#OK\n",
        "    #print(grad_wout)\n",
        "    grad_bout=np.eye(1,4).dot(derivative_sigmoid(h.dot(wout)+bout))\n",
        "    #ici on va utiliser la règle de la chaîne\n",
        "    grad_wh_1=derivative_sigmoid(h.dot(wout) + bout).dot(np.transpose(wout))\n",
        "    grad_wh_2=np.transpose(X).dot(derivative_sigmoid(X.dot(wh) + bh))\n",
        "    #grad_wh=grad_wh_1.dot(np.transpose(grad_wh_2))\n",
        "    grad_wh=grad_wh_2\n",
        "    #grad_bh=derivative_sigmoid(h.dot(wout) + bout).dot(np.transpose(wout))*derivative_sigmoid(X.dot(wh) + bh)\n",
        "    eye_3=np.eye(3,1)\n",
        "    interm=derivative_sigmoid(X.dot(wh) + bh).dot(eye_3)\n",
        "    grad_bh=np.transpose(interm).dot(grad_wh_1)\n",
        "    # Update weights and biases\n",
        "    wout += grad_wout * learning_rate\n",
        "    bout += grad_bout * learning_rate\n",
        "    wh += grad_wh * learning_rate\n",
        "    bh += grad_bh * learning_rate\n",
        "    \n",
        "print('Prediction of training data:')\n",
        "print(y_pred)"
      ],
      "execution_count": 209,
      "outputs": [
        {
          "output_type": "stream",
          "text": [
            "Epoch 0 : 0.8815427786836181\n",
            "Epoch 500 : 0.9242343145200183\n",
            "Epoch 1000 : 0.9242343145200197\n",
            "Epoch 1500 : 0.9242343145200197\n",
            "Epoch 2000 : 0.9242343145200197\n"
          ],
          "name": "stdout"
        },
        {
          "output_type": "stream",
          "text": [
            "/usr/local/lib/python3.6/dist-packages/ipykernel_launcher.py:3: RuntimeWarning: overflow encountered in exp\n",
            "  This is separate from the ipykernel package so we can avoid doing imports until\n"
          ],
          "name": "stderr"
        },
        {
          "output_type": "stream",
          "text": [
            "Epoch 2500 : 0.9242343145200197\n",
            "Epoch 3000 : 0.9242343145200197\n",
            "Epoch 3500 : 0.9242343145200197\n",
            "Epoch 4000 : 0.9242343145200197\n",
            "Epoch 4500 : 0.9242343145200197\n",
            "Prediction of training data:\n",
            "[[0.73105858]\n",
            " [0.73105858]\n",
            " [0.73105858]\n",
            " [0.73105858]]\n"
          ],
          "name": "stdout"
        }
      ]
    },
    {
      "cell_type": "markdown",
      "metadata": {
        "id": "D75MnhxpmLg-"
      },
      "source": [
        "Les valeurs prédites sont très proches des vraies étiquettes . Pour obtenir une sortie binaire, il suffit de définir un seuil sur la sortie pour décider quelle étiquette attribuer."
      ]
    },
    {
      "cell_type": "markdown",
      "metadata": {
        "id": "PSTz3Y8vo5zb"
      },
      "source": [
        "Numpy offre toutes le fonctions pour implémenter tout type de réseaux de \r\n",
        "\r\n",
        "*   Élément de liste\r\n",
        "*   Élément de liste\r\n",
        "\r\n",
        "neurones. Cela demande toutefois un certain investissement. Des librairies implémentant des fonctions de haut niveau ont été développées pour faciliter l'implémentatin des réseaux de neurones, dont TensorFlow, PyTorch, Keras, MxNet, Caffe, Theano  qui sont très populaires dans la communauté du Deep Learning. Nous allons nous concentrer ici sur PyTorch."
      ]
    },
    {
      "cell_type": "markdown",
      "metadata": {
        "id": "8-_pfRvycFiH"
      },
      "source": [
        "## Introduction à PyTorch\n",
        "\n",
        "PyTorch est une bibliothèque open source dédiée au calcul scientifique utilisant des graphes de calcul. Les nœuds dans le graphe représentent des opérations mathématiques, tandis que les arêtes représentent les tableaux de données multidimensionnels (tenseurs).\n",
        "\n",
        "\n",
        "A l'instar du principe de programmation sous python, il est possible d'ajouter et d'exécuter immédiatement un nœud dans le graphe de calcul. Cette propriété facilite le débogage du code et l'inspection des valeurs dans le réseau.\n",
        "\n"
      ]
    },
    {
      "cell_type": "code",
      "metadata": {
        "id": "Yuz0npgvorCH",
        "colab": {
          "base_uri": "https://localhost:8080/"
        },
        "outputId": "9e764eeb-4591-4f67-cd9d-feaced6f6deb"
      },
      "source": [
        "!pip3 install torch"
      ],
      "execution_count": 210,
      "outputs": [
        {
          "output_type": "stream",
          "text": [
            "Requirement already satisfied: torch in /usr/local/lib/python3.6/dist-packages (1.7.0+cu101)\n",
            "Requirement already satisfied: numpy in /usr/local/lib/python3.6/dist-packages (from torch) (1.19.4)\n",
            "Requirement already satisfied: future in /usr/local/lib/python3.6/dist-packages (from torch) (0.16.0)\n",
            "Requirement already satisfied: dataclasses in /usr/local/lib/python3.6/dist-packages (from torch) (0.8)\n",
            "Requirement already satisfied: typing-extensions in /usr/local/lib/python3.6/dist-packages (from torch) (3.7.4.3)\n"
          ],
          "name": "stdout"
        }
      ]
    },
    {
      "cell_type": "markdown",
      "metadata": {
        "id": "yLD-V2P7vsol"
      },
      "source": [
        "PyTorch fournit différents modules qui nous intéresent :\n",
        "\n",
        "*  [ ```torch.nn```](https://pytorch.org/docs/stable/nn.html): Ce module fournit les éléments de base pour la création des réseaux, y compris l'implémentation de différents types de layers. \n",
        "*  [```torch.optim```](https://pytorch.org/docs/stable/optim.html): Ce module fournit différents méthodes d'optimisation."
      ]
    },
    {
      "cell_type": "code",
      "metadata": {
        "id": "sxXmnREVnxYw"
      },
      "source": [
        "import torch\n",
        "import torch.nn as nn"
      ],
      "execution_count": 211,
      "outputs": []
    },
    {
      "cell_type": "markdown",
      "metadata": {
        "id": "n5V07-rzkKZc"
      },
      "source": [
        "### Tenseurs\n",
        "\n",
        "Les tenseurs sont les feuilles du cgraphe du calcul. Par défaut, un tenseur est initialisé par des valeurs aléatoires. \n",
        "\n",
        "On peut appliquer des opérations définies dans   [```torch.Tensor```](https://pytorch.org/docs/stable/tensors.html) sur les tenseurs."
      ]
    },
    {
      "cell_type": "code",
      "metadata": {
        "id": "ksDjUZ9V7AC3",
        "colab": {
          "base_uri": "https://localhost:8080/"
        },
        "outputId": "dd2b81e3-7e5a-4fab-f0d0-8108b09d25b5"
      },
      "source": [
        "A = torch.Tensor(5, 3)#initialisé aléatoirement \n",
        "B = torch.rand(5, 3)#initialisé aléatoirement \n",
        "\n",
        "print(A)\n",
        "print(B)\n",
        "print(A + B)\n",
        "print(torch.add(A, B))"
      ],
      "execution_count": 212,
      "outputs": [
        {
          "output_type": "stream",
          "text": [
            "tensor([[ -9.9527,   0.0000, -38.7177],\n",
            "        [  0.0000, -38.7209,   0.0000],\n",
            "        [-38.7208,   0.0000, -38.7368],\n",
            "        [  0.0000, -38.7367,   0.0000],\n",
            "        [-38.7320,   0.0000, -38.7319]])\n",
            "tensor([[0.9493, 0.8031, 0.8927],\n",
            "        [0.7350, 0.4838, 0.4441],\n",
            "        [0.3407, 0.5615, 0.3791],\n",
            "        [0.7493, 0.6897, 0.8211],\n",
            "        [0.8585, 0.9322, 0.7252]])\n",
            "tensor([[ -9.0034,   0.8031, -37.8249],\n",
            "        [  0.7350, -38.2371,   0.4441],\n",
            "        [-38.3801,   0.5615, -38.3577],\n",
            "        [  0.7493, -38.0470,   0.8211],\n",
            "        [-37.8735,   0.9322, -38.0068]])\n",
            "tensor([[ -9.0034,   0.8031, -37.8249],\n",
            "        [  0.7350, -38.2371,   0.4441],\n",
            "        [-38.3801,   0.5615, -38.3577],\n",
            "        [  0.7493, -38.0470,   0.8211],\n",
            "        [-37.8735,   0.9322, -38.0068]])\n"
          ],
          "name": "stdout"
        }
      ]
    },
    {
      "cell_type": "markdown",
      "metadata": {
        "id": "psFIDzYG9N3N"
      },
      "source": [
        "### Numpy Bridge\n",
        "\n",
        "Vous pouvez facilement convertir un tenseur en tableau numpy et inversement. La variable  tenseur définie par Torch et le tableau numpy partageront le même emplacement mémoire. La modification de l'un entraînera la modification de l'autre."
      ]
    },
    {
      "cell_type": "code",
      "metadata": {
        "id": "SaTw_NLC8j43",
        "colab": {
          "base_uri": "https://localhost:8080/"
        },
        "outputId": "1e0675aa-bc16-44e5-c368-7bba23754ee7"
      },
      "source": [
        "\n",
        "import numpy as np\n",
        "\n",
        "# convert pytorch tensor to numpy\n",
        "a = torch.ones(5)\n",
        "print(a.numpy())\n",
        "\n",
        "a.numpy()[1] = 2\n",
        "print(a)\n",
        "# convert numpy to pytorch tensor\n",
        "b = np.ones(5)\n",
        "print(torch.from_numpy(b))"
      ],
      "execution_count": 213,
      "outputs": [
        {
          "output_type": "stream",
          "text": [
            "[1. 1. 1. 1. 1.]\n",
            "tensor([1., 2., 1., 1., 1.])\n",
            "tensor([1., 1., 1., 1., 1.], dtype=torch.float64)\n"
          ],
          "name": "stdout"
        }
      ]
    },
    {
      "cell_type": "markdown",
      "metadata": {
        "id": "ZdGO2GO5iBtd"
      },
      "source": [
        "### Calcul du Gradient par Autograd\n",
        "\n",
        "PyTorch utilise une technique appelée [différenciation automatique](https://en.wikipedia.org/wiki/Automatic_differentiation) Cette technique est particulièrement efficace lors de la construction de réseaux de neurones, puisqu'elle permet de gagner du temps en calculant le gradient lors de la passe forward.\n",
        "\n",
        "\n",
        "Une fois le calcul de la passe forward esteffectuée, on appelle la fonction  ```.backward()``` et l'on obtient les gradients automatiquement. On accède au gradient associé à un tenseur par  ```.grad```."
      ]
    },
    {
      "cell_type": "code",
      "metadata": {
        "id": "EEMqVESN7ZGc",
        "colab": {
          "base_uri": "https://localhost:8080/"
        },
        "outputId": "c94a27bd-e6d9-4d3e-eee5-a88a2565be4c"
      },
      "source": [
        "x = torch.randn(3, requires_grad=True)\n",
        "print(x)\n",
        "y = x * 2\n",
        "print(y)\n",
        "out = y.mean()\n",
        "\n",
        "# compute gradients\n",
        "out.backward()\n",
        "# print gradients d(out)/dx\n",
        "print(x.grad.data)#OK as x has 3 coordinates, we will get 3 variables\n"
      ],
      "execution_count": 214,
      "outputs": [
        {
          "output_type": "stream",
          "text": [
            "tensor([ 0.1649, -2.0351,  0.9498], requires_grad=True)\n",
            "tensor([ 0.3297, -4.0702,  1.8997], grad_fn=<MulBackward0>)\n",
            "tensor([0.6667, 0.6667, 0.6667])\n"
          ],
          "name": "stdout"
        }
      ]
    },
    {
      "cell_type": "markdown",
      "metadata": {
        "id": "bWptF0Jvsyy7"
      },
      "source": [
        "### Utilisation GPU (si vous en avez, et il enfaudra pour le Deep!)\n",
        "\n",
        "Pour exploiter les GPU, il faudrait déplacer les tenseurs et les couches du réseaux dans la mémoire du GPU. Pour ce faire appelez la fonction ```.cuda()``` ou créez un tenseur dans l'emplacement directement. Si vous avez plusieurs GPU, vous pouvez spécifier quel GPU utiliser  ```cuda:n``` avec n l'identifiant du GPU en question.  "
      ]
    },
    {
      "cell_type": "code",
      "metadata": {
        "id": "L83hXMOJ7Zqn",
        "colab": {
          "base_uri": "https://localhost:8080/"
        },
        "outputId": "5ebe4b24-17d6-4f44-baa9-06fa6f2477a4"
      },
      "source": [
        "# move tensor to GPU\n",
        "if torch.cuda.is_available():\n",
        "    a = a.cuda()\n",
        "    print(a)\n",
        "\n",
        "    # 2 façons pour le faire:créer un tenseur dans l'emplacement directement, ici on l'a mis sur la gpu 0\n",
        "    x = torch.randn(2, 3, device=torch.device(\"cuda:0\"))\n",
        "    print(x)\n",
        "\n",
        "# move back to CPU\n",
        "a = a.cpu()\n",
        "print(a)\n",
        "x = torch.randn(2, 3, device=torch.device(\"cpu\"))\n",
        "print(x)"
      ],
      "execution_count": 215,
      "outputs": [
        {
          "output_type": "stream",
          "text": [
            "tensor([1., 2., 1., 1., 1.], device='cuda:0')\n",
            "tensor([[ 0.2782, -1.4679,  0.6707],\n",
            "        [-0.2923,  0.9762, -0.3939]], device='cuda:0')\n",
            "tensor([1., 2., 1., 1., 1.])\n",
            "tensor([[ 0.3961,  0.3937,  0.4219],\n",
            "        [ 0.3688, -0.4312,  0.4981]])\n"
          ],
          "name": "stdout"
        }
      ]
    },
    {
      "cell_type": "markdown",
      "metadata": {
        "id": "mdBN-XDAiUaH"
      },
      "source": [
        "### Régression linéaire avec PyTorch"
      ]
    },
    {
      "cell_type": "markdown",
      "metadata": {
        "id": "Dst3kvAa4mzi"
      },
      "source": [
        "Maintenant que vous connaissez les rudiements de PyTorch, construisons un modèle de régression simple. \n",
        "\n",
        "On génére 100 x, y  points pour l'entrainement. Les données suivent la formule: $y = 3.0 x + 1.0$\n",
        "\n",
        "Le but est d'apprendre W et b à partir des données d'entrainement. "
      ]
    },
    {
      "cell_type": "code",
      "metadata": {
        "id": "WVmEBRDtnL_n",
        "colab": {
          "base_uri": "https://localhost:8080/",
          "height": 282
        },
        "outputId": "06296322-36d0-4769-feef-0096d3596666"
      },
      "source": [
        "x_train = np.random.rand(100).astype(np.float32).reshape(-1,1)\n",
        "y_correct = 3.0 * x_train + 1.0\n",
        "\n",
        "plt.plot(x_train, y_correct)"
      ],
      "execution_count": 216,
      "outputs": [
        {
          "output_type": "execute_result",
          "data": {
            "text/plain": [
              "[<matplotlib.lines.Line2D at 0x7f424255bdd8>]"
            ]
          },
          "metadata": {
            "tags": []
          },
          "execution_count": 216
        },
        {
          "output_type": "display_data",
          "data": {
            "image/png": "[encoded data removed]",
            "text/plain": [
              "<Figure size 432x288 with 1 Axes>"
            ]
          },
          "metadata": {
            "tags": [],
            "needs_background": "light"
          }
        }
      ]
    },
    {
      "cell_type": "markdown",
      "metadata": {
        "id": "v7sLgrdF55GE"
      },
      "source": [
        "Un modèle dans PyTorch est une subclass d ```nn.Module```. Il existe plusieurs \"layers\" prédéfinis and de conteneurs dans le module  [ ```torch.nn```](https://pytorch.org/docs/stable/nn.html). Ceux-ci peuvent être utilisés pour construire des architectures complexes. \n",
        "\n",
        "Les différents \"layers\" que nous utiliserons sont :\n",
        "\n",
        "*   [```nn.Linear```](https://pytorch.org/docs/stable/nn.html#torch.nn.Linear): fully connected layer\n",
        "*   [```nn.Conv2d```](https://pytorch.org/docs/stable/nn.html#torch.nn.Conv2d): convolution layer\n",
        "* [```nn.MaxPool2d```](https://pytorch.org/docs/stable/nn.html#torch.nn.MaxPool2d): pooling\n",
        "\n",
        "\n",
        "On peut en construire de nouveaux en combinat ces \"layers\" avec les classes  ```Sequential``` et ```Concat```. \n",
        "\n",
        "La méthode principale à implémenter dans  ```nn.Module``` est ```forward```. Elle calcule la sortie du modèle étant donnée une entrée Tensor. Le calcul que l'on utilise ici définit l'architecture  et comment les données transitent entre couches. "
      ]
    },
    {
      "cell_type": "markdown",
      "metadata": {
        "id": "UDCf-Bsbs1G9"
      },
      "source": [
        "Un modèle de regeression simple est basiquement un réseau à une seule couche!\n",
        "\n",
        "On commence par définir les couches dont on a besoin dans ```__init__``` puis nous specifions```forward```."
      ]
    },
    {
      "cell_type": "code",
      "metadata": {
        "id": "nhTUIFa1mBOv"
      },
      "source": [
        "class LinearRegressionModel(nn.Module):#on va hériter de la classe nn.Module\n",
        "\n",
        "    def __init__(self, input_dim, output_dim):\n",
        "\n",
        "        super(LinearRegressionModel, self).__init__() #on hériter de toutes les méthodes  de la classe  nn.Module\n",
        "        self.linear = nn.Linear(input_dim,output_dim)\n",
        "\n",
        "\n",
        "#A COMPLETER, UTILISER LA FONCTION nn.Linear de PyTorch\n",
        "\n",
        "\n",
        "    def forward(self, x):\n",
        "        out = self.linear(x)\n",
        "        return out\n",
        "\n",
        "    "
      ],
      "execution_count": 217,
      "outputs": []
    },
    {
      "cell_type": "markdown",
      "metadata": {
        "id": "qDcS92LctVbu"
      },
      "source": [
        "Nous instancions par la suite le modèle pour l'entrainement. Nous utiliserons l'eereur quadratique moyenne ([`nn.MSELoss`](https://pytorch.org/docs/stable/nn.html#torch.nn.MSELoss)) comme fonction de perte à optimiser par descente de gradient stochastique ([`torch.optim.SGD`](https://pytorch.org/docs/stable/optim.html#torch.optim.SGD)).\n",
        "\n",
        "Nous avons besoin de spécifier les paramètres à optimiser  dans les premiers arguments de la fonction d'optimisation choisie. On met souvent, tous les paramètres du modèle.  "
      ]
    },
    {
      "cell_type": "code",
      "metadata": {
        "id": "G_DRNqNWmJmw"
      },
      "source": [
        "model = LinearRegressionModel(1, 1)\n",
        "\n",
        "criterion = nn.MSELoss()#We will use the mean square error loss\n",
        "learing_rate = 0.01\n",
        "optimizer = torch.optim.SGD(model.parameters(), lr=learing_rate)\n",
        "\n",
        "epochs = 2000"
      ],
      "execution_count": 218,
      "outputs": []
    },
    {
      "cell_type": "markdown",
      "metadata": {
        "id": "6ApWdrpsuqkD"
      },
      "source": [
        "A l'instart de ce que nous avons fait dans l'exemple avec numpy, à chaque itératino de l'entrainement, nous effectons une passe avant, pour calculer la perte (erreur), on calcul les gradients  (avec ```.backward()```), et on met à jour les paramètres  ```.step()``` en utilisant la fonction d'optimization (optimizer).\n",
        "\n",
        "**Note** : il est nécessaire de supprimer les gradients qui ont été accumulés lors des itérations précédantes en appelant la fonction  ```optimizer.zero_grad()``` au début de chaque itération."
      ]
    },
    {
      "cell_type": "code",
      "metadata": {
        "id": "iWJJUZnjmVjs",
        "colab": {
          "base_uri": "https://localhost:8080/"
        },
        "outputId": "fa3ce1dd-753c-4e96-d9bd-8289752334d4"
      },
      "source": [
        "for epoch in range(epochs):\n",
        "    inputs = torch.from_numpy(x_train)\n",
        "    labels = torch.from_numpy(y_correct)\n",
        "\n",
        "    optimizer.zero_grad()\n",
        "    outputs = model.forward(inputs)\n",
        "    loss = criterion(outputs, labels)\n",
        "    loss.backward()#calcule les gradients\n",
        "    optimizer.step()\n",
        "    if epoch % 100 == 0:\n",
        "        print('epoch {}, loss {}'.format(epoch, loss.item()))"
      ],
      "execution_count": 219,
      "outputs": [
        {
          "output_type": "stream",
          "text": [
            "epoch 0, loss 8.058783531188965\n",
            "epoch 100, loss 0.10878722369670868\n",
            "epoch 200, loss 0.04092952609062195\n",
            "epoch 300, loss 0.030707137659192085\n",
            "epoch 400, loss 0.023250965401530266\n",
            "epoch 500, loss 0.01760667748749256\n",
            "epoch 600, loss 0.013332593254745007\n",
            "epoch 700, loss 0.010096084326505661\n",
            "epoch 800, loss 0.007645206525921822\n",
            "epoch 900, loss 0.005789300426840782\n",
            "epoch 1000, loss 0.0043839518912136555\n",
            "epoch 1100, loss 0.0033197226002812386\n",
            "epoch 1200, loss 0.0025138547644019127\n",
            "epoch 1300, loss 0.0019036004086956382\n",
            "epoch 1400, loss 0.0014415058540180326\n",
            "epoch 1500, loss 0.0010915130842477083\n",
            "epoch 1600, loss 0.0008265451178885996\n",
            "epoch 1700, loss 0.0006258951034396887\n",
            "epoch 1800, loss 0.00047395937144756317\n",
            "epoch 1900, loss 0.0003589050902519375\n"
          ],
          "name": "stdout"
        }
      ]
    },
    {
      "cell_type": "markdown",
      "metadata": {
        "id": "rkv5XxhTxf8Y"
      },
      "source": [
        "Une fois le modèle entrainé, on peut appeler la fonction  ```forward``` pour calculer la prédiction pour tout nouveau point.\n",
        "\n",
        "On peut aussi visualiser tout cela !"
      ]
    },
    {
      "cell_type": "code",
      "metadata": {
        "id": "dVv7qRWcmtLD",
        "colab": {
          "base_uri": "https://localhost:8080/",
          "height": 282
        },
        "outputId": "2923cba9-eab2-4d13-dd24-963e915f39e3"
      },
      "source": [
        "predicted = model.forward(torch.from_numpy(x_train)).data.numpy()#equivalent de keras.predict\n",
        "\n",
        "plt.plot(x_train, y_correct, 'go', label='from data', alpha=0.5)\n",
        "plt.plot(x_train, predicted, label='prediction', alpha=0.5)\n",
        "plt.legend()"
      ],
      "execution_count": 220,
      "outputs": [
        {
          "output_type": "execute_result",
          "data": {
            "text/plain": [
              "<matplotlib.legend.Legend at 0x7f4242f98518>"
            ]
          },
          "metadata": {
            "tags": []
          },
          "execution_count": 220
        },
        {
          "output_type": "display_data",
          "data": {
            "image/png": "[encoded data removed]",
            "text/plain": [
              "<Figure size 432x288 with 1 Axes>"
            ]
          },
          "metadata": {
            "tags": [],
            "needs_background": "light"
          }
        }
      ]
    },
    {
      "cell_type": "markdown",
      "metadata": {
        "id": "TOvsDfZ3yCcC"
      },
      "source": [
        "Dans le cas où il u a eu un problème qte que vous souhaitez inspecter les paramètres appris, on peut utiliser les fonctions suivantes :"
      ]
    },
    {
      "cell_type": "code",
      "metadata": {
        "id": "7U1l_qu1UB_C",
        "colab": {
          "base_uri": "https://localhost:8080/"
        },
        "outputId": "1f8208df-1139-4b6e-e068-fb1202f72808"
      },
      "source": [
        "print(model.linear.weight)\n",
        "print(model.linear.bias)\n",
        "#y=weight*x+bias\n"
      ],
      "execution_count": 221,
      "outputs": [
        {
          "output_type": "stream",
          "text": [
            "Parameter containing:\n",
            "tensor([[2.9439]], requires_grad=True)\n",
            "Parameter containing:\n",
            "tensor([1.0278], requires_grad=True)\n"
          ],
          "name": "stdout"
        }
      ]
    },
    {
      "cell_type": "markdown",
      "metadata": {
        "id": "OZItfQbKkaOO"
      },
      "source": [
        "### Exercice: Revisiter l'example XOr en utilisant PyTorch"
      ]
    },
    {
      "cell_type": "markdown",
      "metadata": {
        "id": "lr3Rc0blycby"
      },
      "source": [
        "Nous considérons à présent des données entre -10 et 10 pour l'entrainement. \n"
      ]
    },
    {
      "cell_type": "code",
      "metadata": {
        "id": "D3OvIBzZzXKJ",
        "colab": {
          "base_uri": "https://localhost:8080/"
        },
        "outputId": "a42c7b53-1beb-4f44-ec79-f7f678157f1d"
      },
      "source": [
        "import random\n",
        "random.seed(1)\n",
        "\n",
        "x_train = []\n",
        "y_correct = []\n",
        "for i in range(100):\n",
        "    x0 = random.randint(-10, 10)\n",
        "    x1 = random.randint(-10, 10)\n",
        "    label = 0 if x0 * x1 > 0 else 1\n",
        "    x_train.append([x0, x1])\n",
        "    y_correct.append(label)\n",
        "x_train = np.asarray(x_train)\n",
        "print(x_train)\n",
        "y_correct = np.asarray(y_correct)\n",
        "print(y_correct)"
      ],
      "execution_count": 222,
      "outputs": [
        {
          "output_type": "stream",
          "text": [
            "[[ -6   8]\n",
            " [ -8  -2]\n",
            " [ -7   5]\n",
            " [  4   5]\n",
            " [ 10   2]\n",
            " [ -4  -7]\n",
            " [  5 -10]\n",
            " [  2   3]\n",
            " [  9 -10]\n",
            " [  4  -2]\n",
            " [ -3   8]\n",
            " [ -7   0]\n",
            " [-10 -10]\n",
            " [-10  10]\n",
            " [  7 -10]\n",
            " [  2  -4]\n",
            " [  3 -10]\n",
            " [  6  -3]\n",
            " [  4   5]\n",
            " [  7  -3]\n",
            " [  1  -3]\n",
            " [ -3   4]\n",
            " [ -1 -10]\n",
            " [  3   7]\n",
            " [ 10  -7]\n",
            " [ -5  10]\n",
            " [ -1  -7]\n",
            " [  0   6]\n",
            " [  3   6]\n",
            " [ -4  -1]\n",
            " [ -1   8]\n",
            " [  5   6]\n",
            " [  2   8]\n",
            " [ -9   5]\n",
            " [ -3   2]\n",
            " [  3  -5]\n",
            " [  1   7]\n",
            " [  1  -8]\n",
            " [  4   6]\n",
            " [ -7  -5]\n",
            " [  6   2]\n",
            " [  1   5]\n",
            " [-10   5]\n",
            " [ -9  -1]\n",
            " [  9   8]\n",
            " [  8   2]\n",
            " [ 10  -5]\n",
            " [ -5   6]\n",
            " [ -3 -10]\n",
            " [ -4   7]\n",
            " [  7  -3]\n",
            " [  2   6]\n",
            " [  1   8]\n",
            " [  1   4]\n",
            " [ -2   7]\n",
            " [  9 -10]\n",
            " [  2   6]\n",
            " [ -6   6]\n",
            " [  7  -4]\n",
            " [  3  -9]\n",
            " [  5   1]\n",
            " [  8   7]\n",
            " [ -4   6]\n",
            " [  3   5]\n",
            " [  1   3]\n",
            " [  1 -10]\n",
            " [  7   7]\n",
            " [  9   9]\n",
            " [  0   4]\n",
            " [  9 -10]\n",
            " [ -3  10]\n",
            " [ -5   7]\n",
            " [  8  -5]\n",
            " [ -8   7]\n",
            " [ -2  -9]\n",
            " [ -8  -8]\n",
            " [-10   4]\n",
            " [-10  -2]\n",
            " [ -3  -2]\n",
            " [ -7   9]\n",
            " [ -5   1]\n",
            " [ -1  -8]\n",
            " [ -5  -5]\n",
            " [ -2   6]\n",
            " [ -5  -2]\n",
            " [ 10  -1]\n",
            " [  4   0]\n",
            " [  5   5]\n",
            " [ -7 -10]\n",
            " [ -1   2]\n",
            " [  0   3]\n",
            " [ -4  -2]\n",
            " [ -7  -2]\n",
            " [  6  -4]\n",
            " [  9   3]\n",
            " [-10  -3]\n",
            " [-10   2]\n",
            " [ -6  -9]\n",
            " [ -5   4]\n",
            " [  6   3]]\n",
            "[1 0 1 0 0 0 1 0 1 1 1 1 0 1 1 1 1 1 0 1 1 1 0 0 1 1 0 1 0 0 1 0 0 1 1 1 0\n",
            " 1 0 0 0 0 1 0 0 0 1 1 0 1 1 0 0 0 1 1 0 1 1 1 0 0 1 0 0 1 0 0 1 1 1 1 1 1\n",
            " 0 0 1 0 0 1 1 0 0 1 0 1 1 0 0 1 1 0 0 1 0 0 1 0 1 0]\n"
          ],
          "name": "stdout"
        }
      ]
    },
    {
      "cell_type": "markdown",
      "metadata": {
        "id": "EWeHO8mgzHuV"
      },
      "source": [
        "Vous devez pour cet exercice implémenter pour modèle. Vous pouvez reprendre la même architecture que dans le début de ce TP qui consiste en un réseau avec une couche cachée. \n",
        "\n",
        "Pour appliquer la fonction sigmoid, vous pouvez utiliser [`torch.sigmoid`](https://pytorch.org/docs/stable/torch.html#torch.sigmoid)."
      ]
    },
    {
      "cell_type": "code",
      "metadata": {
        "id": "GEpZGXiCz9O3"
      },
      "source": [
        "class XorClassifier(nn.Module):\n",
        "\n",
        "    def __init__(self, input_dim, output_dim):#output_dim=2 classes (0 ou 1)\n",
        "\n",
        "        super(XorClassifier, self).__init__() \n",
        "        self.layer1=nn.Linear(input_dim,output_dim)\n",
        "        self.layer2 =nn.Linear(output_dim,output_dim)\n",
        "\n",
        "\n",
        "    def forward(self, x):\n",
        "        out = self.layer1(x)\n",
        "        out=torch.sigmoid(out)\n",
        "        out = self.layer2(out)\n",
        "        out=torch.sigmoid(out)\n",
        "        return out"
      ],
      "execution_count": 223,
      "outputs": []
    },
    {
      "cell_type": "markdown",
      "metadata": {
        "id": "ZkeRbaEa2xB1"
      },
      "source": [
        "Contrairement à ce que nous avions fait auparavant, nous souhaitons ici que la couche de sortie produise deux valeurs indiquant la distribution de probabilité sur les deux étiquettes possibles au lieu d'une valeur réelle par étiquette.\n",
        "\n",
        "Pour ce faire, nous fixons la dimension de sortie à 2, et utilisons la  cross entropy comme fonction de perte ([`nn.CrossEntropyLoss()`](https://pytorch.org/docs/stable/nn.html#torch.nn.CrossEntropyLoss)) qui est utile quand on fait de la classification à N classes. \n",
        "\n",
        "Nous allons aussi utiliser une autre méthode d'optimisation très populaire. [Adam](https://pytorch.org/docs/stable/optim.html#torch.optim.Adam). Vous pouvez comparer les résultats avec un SGD!"
      ]
    },
    {
      "cell_type": "code",
      "metadata": {
        "id": "4A207iKQ0V0E"
      },
      "source": [
        "model = XorClassifier(2, 2)\n",
        "\n",
        "criterion = nn.CrossEntropyLoss()\n",
        "learning_rate = 0.0005\n",
        "optimizer = torch.optim.Adam(model.parameters(), lr=learning_rate)\n",
        "\n",
        "epochs = 5000"
      ],
      "execution_count": 224,
      "outputs": []
    },
    {
      "cell_type": "markdown",
      "metadata": {
        "id": "nwlmcJ4B2cgJ"
      },
      "source": [
        "Compléter le code ci-après pour entraîner le modèle."
      ]
    },
    {
      "cell_type": "code",
      "metadata": {
        "id": "QvUkHJGA0qHZ",
        "colab": {
          "base_uri": "https://localhost:8080/"
        },
        "outputId": "37065867-f80c-4159-e244-9c697f575a2f"
      },
      "source": [
        "for epoch in range(epochs):\n",
        "    inputs = torch.from_numpy(x_train).type(torch.FloatTensor)\n",
        "    labels = torch.from_numpy(y_correct)\n",
        "    \n",
        "    # TODO: please complete the training script\n",
        "    loss = criterion(model(inputs), labels)\n",
        "    loss.backward()\n",
        "    optimizer.step()\n",
        "    if epoch % 500 == 0:\n",
        "        print('epoch {}, loss {}'.format(epoch, loss.item()))"
      ],
      "execution_count": 225,
      "outputs": [
        {
          "output_type": "stream",
          "text": [
            "epoch 0, loss 0.6957573890686035\n",
            "epoch 500, loss 0.6887770891189575\n",
            "epoch 1000, loss 0.6784027814865112\n",
            "epoch 1500, loss 0.6601521372795105\n",
            "epoch 2000, loss 0.6393208503723145\n",
            "epoch 2500, loss 0.6187580227851868\n",
            "epoch 3000, loss 0.6018044948577881\n",
            "epoch 3500, loss 0.5853590965270996\n",
            "epoch 4000, loss 0.5719413757324219\n",
            "epoch 4500, loss 0.5603333115577698\n"
          ],
          "name": "stdout"
        }
      ]
    },
    {
      "cell_type": "markdown",
      "metadata": {
        "id": "tZcAm8Jx2tqj"
      },
      "source": [
        "Puisque nous prédisons la distribution sur les étiquettes, nous devons prendre l'indice de la valeur maximale comme étiquette prédite.\n",
        "\n",
        "Ensuite, nous pouvons visualiser les prédictions. Si votre modèle apprend bien, vous verrez que la plupart des points des premier et troisième quadrants sont rouges et que les points des deuxième et quatrième quadrants sont bleus."
      ]
    },
    {
      "cell_type": "code",
      "metadata": {
        "id": "_0BUGKtMRE3c",
        "colab": {
          "base_uri": "https://localhost:8080/",
          "height": 282
        },
        "outputId": "029f212c-488d-407d-d7bd-7809b8dd221c"
      },
      "source": [
        "outputs = model.forward(torch.from_numpy(x_train).type(torch.FloatTensor))\n",
        "_, predicted = torch.max(outputs, 1)\n",
        "\n",
        "fig, ax = plt.subplots()\n",
        "for i in range(y_correct.shape[0]):\n",
        "    if predicted[i] == 0:\n",
        "        marker = 'ro'\n",
        "    else:\n",
        "        marker = 'bo'\n",
        "    ax.plot(x_train[i][0], x_train[i][1], marker)\n",
        "ax.axhline(y=0, color='k')\n",
        "ax.axvline(x=0, color='k')"
      ],
      "execution_count": 226,
      "outputs": [
        {
          "output_type": "execute_result",
          "data": {
            "text/plain": [
              "<matplotlib.lines.Line2D at 0x7f424223de10>"
            ]
          },
          "metadata": {
            "tags": []
          },
          "execution_count": 226
        },
        {
          "output_type": "display_data",
          "data": {
            "image/png": "[encoded data removed]",
            "text/plain": [
              "<Figure size 432x288 with 1 Axes>"
            ]
          },
          "metadata": {
            "tags": [],
            "needs_background": "light"
          }
        }
      ]
    },
    {
      "cell_type": "markdown",
      "metadata": {
        "id": "0gtNP-lfY4KL"
      },
      "source": [
        "# La vraie vie ou preque : les CNN et la classificatoin d'images\n",
        "\n"
      ]
    },
    {
      "cell_type": "markdown",
      "metadata": {
        "id": "JYitUMzFTw2n"
      },
      "source": [
        "Ce tutoriel vous montrera comment\n",
        "* Construire, former et tester un réseau de neurones dans[PyTorch](https://pytorch.org/)\n",
        "* Travailler avec des convolutions\n",
        "* Visualiser les filtres et autres propriétés comme le réseau pendant l'apprentissage\n",
        "\n",
        "Pour ce faire, nous allons construire un réseau neuronal convolutionnel dans le but de classer les chiffres manuscrits de la base de données du MNIST."
      ]
    },
    {
      "cell_type": "code",
      "metadata": {
        "id": "PtUXQAZkTx7Z",
        "colab": {
          "base_uri": "https://localhost:8080/"
        },
        "outputId": "62c9ec37-5d56-45c5-ebf3-b118b8ef614d"
      },
      "source": [
        "# import modules we will use for the tutorial\n",
        "import numpy as np\n",
        "%matplotlib inline\n",
        "import matplotlib.pyplot as plt\n",
        "\n",
        "# install and import torch-related modules\n",
        "!pip3 install torch torchvision\n",
        "\n",
        "import torch\n",
        "import torch.nn as nn\n",
        "import torch.nn.functional as F\n",
        "import torch.optim as optim\n",
        "from torch.optim import lr_scheduler\n",
        "import torchvision\n",
        "\n",
        "# detect if a GPU is available\n",
        "device = torch.device(\"cuda:0\" if torch.cuda.is_available() else \"cpu\")\n",
        "print(\"Running on device: {}\".format(device))"
      ],
      "execution_count": 227,
      "outputs": [
        {
          "output_type": "stream",
          "text": [
            "Requirement already satisfied: torch in /usr/local/lib/python3.6/dist-packages (1.7.0+cu101)\n",
            "Requirement already satisfied: torchvision in /usr/local/lib/python3.6/dist-packages (0.8.1+cu101)\n",
            "Requirement already satisfied: dataclasses in /usr/local/lib/python3.6/dist-packages (from torch) (0.8)\n",
            "Requirement already satisfied: typing-extensions in /usr/local/lib/python3.6/dist-packages (from torch) (3.7.4.3)\n",
            "Requirement already satisfied: future in /usr/local/lib/python3.6/dist-packages (from torch) (0.16.0)\n",
            "Requirement already satisfied: numpy in /usr/local/lib/python3.6/dist-packages (from torch) (1.19.4)\n",
            "Requirement already satisfied: pillow>=4.1.1 in /usr/local/lib/python3.6/dist-packages (from torchvision) (7.0.0)\n",
            "Running on device: cuda:0\n"
          ],
          "name": "stdout"
        }
      ]
    },
    {
      "cell_type": "markdown",
      "metadata": {
        "id": "_OV68GROU-FR"
      },
      "source": [
        "## Configurer TensorBoard\n",
        "\n",
        "[Tensorboard](https://www.tensorflow.org/guide/summaries_and_tensorboard) est un utilitaire pour enregistrer et visualiser les activations, poids, pertes, etc de votre réseau, pendant et après l'apprentissage. Il simplifie grandement le débogage et le développement itératif de l'architecture du réseau. Il est fortement recommandé.\n",
        "\n",
        "Pour utiliser TensorBoard dans ce notebook, nous devons surmonter deux obstacles techniques :\n",
        " 1. nous utiliserons[PyTorch](https://pytorch.org/) pour travailler avec nos réseaux, mais comme son nom l'indique, TensorBoard est conçu pour fonctionner avec[TensorFlow](https://www.tensorflow.org/), un framework concurrent.\n",
        " 2. il est généralement plus facile d'utiliser TensorBoard lorsque vous travaillez sur votre ordinateur local ou sur un ordinateur sur votre réseau local, mais dans ce tutoriel nous allons exécuter ce notebook sur des machines virtuelles distantes via Colab.\n",
        "\n",
        "Il n'est pas important que vous compreniez exactement comment nous contournons ces problèmes (ce n'est pas le but du tutoriel !), mais le code est ci-dessous pour votre référence. Nous utiliserons un outil appelé[`tensorboardx`](https://github.com/lanpa/tensorboardX) ([documentation](https://tensorboardx.readthedocs.io/en/latest/?badge=latest)) pour résoudre le problème 1, et un outil appelé `ngrok' pour résoudre le problème 2.\n",
        "\n",
        "Après avoir lancé la cellule suivante, un lien devrait apparaître, que vous pouvez suivre pour voir votre interface TensorBoard nouvellement créée.\n"
      ]
    },
    {
      "cell_type": "code",
      "metadata": {
        "id": "pJO_Wo9OU-wW",
        "colab": {
          "base_uri": "https://localhost:8080/"
        },
        "outputId": "c279248d-e1b3-4b53-8eed-71845556a43a"
      },
      "source": [
        "# download and unzip 'ngrok', the tool we will use to set up the tunnel\n",
        "ngrok_filename = 'ngrok-stable-linux-amd64.zip'\n",
        "!if [ ! -f $ngrok_filename ]; then wget https://bin.equinox.io/c/4VmDzA7iaHb/$ngrok_filename && unzip $ngrok_filename; fi\n",
        "\n",
        "# specify where we will write the logging data files to be read by TensorBoard\n",
        "LOG_DIR = './runs'\n",
        "\n",
        "# ensure the selected directory exists\n",
        "!mkdir -p $LOG_DIR\n",
        "\n",
        "# start TensorBoard\n",
        "get_ipython().system_raw(\n",
        "    'tensorboard --logdir {} --host 0.0.0.0 --port 6006 &'\n",
        "    .format(LOG_DIR)\n",
        ")\n",
        "\n",
        "# open the tunnel with ngrok\n",
        "get_ipython().system_raw('./ngrok http 6006 &')\n",
        "\n",
        "# display a link to the TensorBoard URL\n",
        "! curl -s http://localhost:4040/api/tunnels | python3 -c \\\n",
        "    \"import sys, json; print('Public TensorBoard URL: {}'.format(json.load(sys.stdin)['tunnels'][0]['public_url']))\"\n",
        "    \n",
        "# set up tensorboardx, which we will use to log stuff from pytorch\n",
        "!pip3 install tensorboardX\n",
        "from tensorboardX import SummaryWriter"
      ],
      "execution_count": 228,
      "outputs": [
        {
          "output_type": "stream",
          "text": [
            "Public TensorBoard URL: https://a1d662571854.ngrok.io\n",
            "Requirement already satisfied: tensorboardX in /usr/local/lib/python3.6/dist-packages (2.1)\n",
            "Requirement already satisfied: protobuf>=3.8.0 in /usr/local/lib/python3.6/dist-packages (from tensorboardX) (3.12.4)\n",
            "Requirement already satisfied: numpy in /usr/local/lib/python3.6/dist-packages (from tensorboardX) (1.19.4)\n",
            "Requirement already satisfied: six in /usr/local/lib/python3.6/dist-packages (from tensorboardX) (1.15.0)\n",
            "Requirement already satisfied: setuptools in /usr/local/lib/python3.6/dist-packages (from protobuf>=3.8.0->tensorboardX) (51.0.0)\n"
          ],
          "name": "stdout"
        }
      ]
    },
    {
      "cell_type": "markdown",
      "metadata": {
        "id": "xmKSN_qcVH23"
      },
      "source": [
        "## La base de données MNIST\n",
        "\n",
        "La base de données MNIST] (https://en.wikipedia.org/wiki/MNIST_database) :\n",
        "- Elle se compose d'images de chiffres manuscrits de 0 à 9, et de leurs étiquettes ;\n",
        "- Chaque image est 28px * 28px ;\n",
        "- L'ensemble de données est divisé en deux sous-ensembles, un sous-ensemble d'\"apprentissage\" contenant 50000 échantillons et un sous-ensemble de \"test\" contenant 10000 échantillons.\n",
        "<p><img src=\"https://upload.wikimedia.org/wikipedia/commons/2/27/MnistExamples.png\" alt=\"MNIST sample images.\"><br>Sample MNIST images. Image by <a href=\"//commons.wikimedia.org/w/index.php?title=User:Jost_swd15&amp;action=edit&amp;redlink=1\" class=\"new\" title=\"User:Jost swd15 (page does not exist)\">Josef Steppan</a> </p>\n",
        "\n",
        "Comment charger les images et leurs étiquettes pour former et tester nos modèles ? Comme avec d'autres ensembles de données importants, PyTorch a[une interface pratique](https://pytorch.org/docs/stable/torchvision/datasets.html#) qui simplifie notre vie. Nous voulons utiliser cette interface pour créer des \"chargeurs de données\" qui nous permettront d'accéder aux données. Nous le ferons en fait deux fois pour l'ensemble de formation, car nous voulons nous assurer que toutes les données que nous utilisons pour apprendre et tester le réseau sont normalisées. Pour cette raison, nous chargerons d'abord les données d'apprentissage, calculerons la moyenne et l'écart-type de tous les pixels de l'ensemble de données et utiliserons ces chiffres pour définir de nouveaux chargeurs de données d'\"apprentissage\" et de \" test \" qui normaliseront automatiquement toutes les données à venir."
      ]
    },
    {
      "cell_type": "code",
      "metadata": {
        "id": "pYkhDORjVCjz"
      },
      "source": [
        "# note that PyTorch will automatically download the data from the internet the\n",
        "# first time we ask it to load it. Hence we have to specify where it should keep\n",
        "# the data\n",
        "data_folder = \"./data\"\n",
        "\n",
        "# define a data loader that we will only use to compute mean and standard\n",
        "# deviation on the training set, with the purpose of normalizing all data\n",
        "trainset_unnormalized = torchvision.datasets.MNIST(root=data_folder, train=True,\n",
        "                                                  download=True, transform=torchvision.transforms.ToTensor())\n",
        "unnormalized_loader = torch.utils.data.DataLoader(trainset_unnormalized,\n",
        "                                                  batch_size=1000)"
      ],
      "execution_count": 229,
      "outputs": []
    },
    {
      "cell_type": "markdown",
      "metadata": {
        "id": "TDULBSaXWwH_"
      },
      "source": [
        "Avant de continuer, jetons un coup d'oeil à nos données brutes pour voir si elles ressemblent vraiment à des chiffres manuscrits."
      ]
    },
    {
      "cell_type": "code",
      "metadata": {
        "id": "elha_DlGW0xo",
        "colab": {
          "base_uri": "https://localhost:8080/",
          "height": 154
        },
        "outputId": "ffe24cfd-b716-4df1-edeb-61d77c06a369"
      },
      "source": [
        "def imshow(img, ax=None):\n",
        "  \"\"\"Plot a PyTorch image using matplotlib\"\"\"\n",
        "  npimg = img.numpy()\n",
        "  if ax is None:\n",
        "    fig, ax = plt.subplots()\n",
        "  npimg = np.transpose(npimg, (1,2,0)) # this is needed as torch uses a (channel, height, width) representation while matplotlib usees (width, height, channel)\n",
        "  \n",
        "  npimg = (npimg - npimg.min(axis=(0,1)))/(npimg.max(axis=(0,1))-npimg.min(axis=(0,1))) # map the values to the interval [0,1] for each channel\n",
        "  ax.imshow(npimg)\n",
        "  ax.grid(False)\n",
        "\n",
        "# load one batch of images from the training set\n",
        "dataiter = iter(unnormalized_loader)\n",
        "images, labels = dataiter.next()\n",
        "\n",
        "# it will be useful, in the next cell, to be sure of the size of the images\n",
        "# (we know MNIST is 28x28 but it's better to make sure). In pytorch, batches of\n",
        "# data are organized as follows: (batch, channels, height, width), so if we want\n",
        "# the total number of pixels we have to multiply entries 2 and 3 of the size tuple #ok omar\n",
        "# (remember that python uses 0-indexing)\n",
        "n_pixels = images.size()[2]*images.size()[3]# size est l'équivalent de shape ici\n",
        "\n",
        "# only keep the first 16 items of the minibatch for ease of visualization\n",
        "images = images[:16]\n",
        "labels = labels[:16]\n",
        "\n",
        "# print labels\n",
        "print('True labels for the images below:', ' '.join(('{}'.format(j) for j in labels)))\n",
        "\n",
        "# show images\n",
        "imshow(torchvision.utils.make_grid(images))"
      ],
      "execution_count": 230,
      "outputs": [
        {
          "output_type": "stream",
          "text": [
            "True labels for the images below: 5 0 4 1 9 2 1 3 1 4 3 5 3 6 1 7\n"
          ],
          "name": "stdout"
        },
        {
          "output_type": "display_data",
          "data": {
            "image/png": "[encoded data removed]",
            "text/plain": [
              "<Figure size 432x288 with 1 Axes>"
            ]
          },
          "metadata": {
            "tags": [],
            "needs_background": "light"
          }
        }
      ]
    },
    {
      "cell_type": "code",
      "metadata": {
        "id": "fpz5IgECW8TV"
      },
      "source": [
        "# iterate over the training images, keeping a running average of the pixel value\n",
        "# and their second power. We are performing this iteration in batches of 1000\n",
        "# images at the time (controlled by the batch_size parameter in the line above).\n",
        "# Strictly speaking this is unnecessary as the whole dataset can easily fit into\n",
        "# memory, but we'll do it anyway to show how to iterate over a dataset in\n",
        "# batches using a data loader.\n",
        "n_total_images = len(trainset_unnormalized)\n",
        "train_mean = 0\n",
        "train_mean_squares = 0\n",
        "for i, data in enumerate(unnormalized_loader):\n",
        "  images, labels = data\n",
        "  train_mean += images.sum()/(n_total_images*n_pixels)\n",
        "  train_mean_squares += images.pow(2).sum()/(n_total_images*n_pixels)\n",
        "  \n",
        "train_std = (train_mean_squares-train_mean.pow(2)).sqrt()\n",
        "\n",
        "# now that we have the mean and the standard deviation, define the data loaders\n",
        "# we'll actually use such that the data will be automatically standardized at\n",
        "# load time.\n",
        "\n",
        "load_transform = torchvision.transforms.Compose([torchvision.transforms.ToTensor(),\n",
        "                                                 torchvision.transforms.Normalize((train_mean,), (train_std,))])\n",
        "\n",
        "trainset = torchvision.datasets.MNIST(root=data_folder, train=True,\n",
        "                                      download=True, transform=load_transform)\n",
        "testset =  torchvision.datasets.MNIST(root=data_folder, train=False,\n",
        "                                      download=True, transform=load_transform)\n",
        "\n",
        "trainloader = torch.utils.data.DataLoader(trainset, batch_size=100, shuffle=True)\n",
        "testloader = torch.utils.data.DataLoader(testset, batch_size=100, shuffle=False)"
      ],
      "execution_count": 231,
      "outputs": []
    },
    {
      "cell_type": "markdown",
      "metadata": {
        "id": "WewMtF41W4zL"
      },
      "source": [
        "## Définir et instancier le réseau"
      ]
    },
    {
      "cell_type": "code",
      "metadata": {
        "id": "XKUygemcXDXl"
      },
      "source": [
        "class Net(nn.Module):\n",
        "  def __init__(self):\n",
        "    super(Net, self).__init__()\n",
        "    # in PyTorch, we often specify all layers of the network that require hyperparameters\n",
        "    # by creating them here inside __init__. The connections between layers will\n",
        "    # be established below, inside the forward() method. Note that the order in\n",
        "    # which we create them here does not matter, as the connections between them\n",
        "    # will be specified by the forward() method below.\n",
        "    self.conv1 = nn.Conv2d(in_channels=1, padding=2, out_channels=32, kernel_size=5) # what is the output size?\n",
        "    self.pool1 = nn.MaxPool2d(kernel_size=2, stride=2) # what is the output size?\n",
        "    self.conv2 = nn.Conv2d(in_channels=32, padding=2, out_channels=64, kernel_size=5)# what is the output size?\n",
        "    self.pool2 = nn.MaxPool2d(kernel_size=2, stride=2) # what is the output size?\n",
        "    self.fc1 = nn.Linear(in_features=64*7*7, out_features=1024) # where is the value passed as the in_features argument coming from?\n",
        "    self.fc2 = nn.Linear(in_features=1024, out_features=10)\n",
        "    self.dropout = nn.Dropout(p=0.5)\n",
        "    \n",
        "  def forward(self, x):\n",
        "    # this method specifies how the network processes its inputs - in other words, it describes the network's connectivity.\n",
        "    \n",
        "    # first convolution, followed by ReLU nonlinearity and pooling\n",
        "    x = self.pool1(F.relu(self.conv1(x)))\n",
        "    \n",
        "    # second convolution, followed by ReLU nonlinearity and pooling    \n",
        "    x = self.pool2(F.relu(self.conv2(x)))\n",
        "    print(\"shape after pool\",x.shape)\n",
        "    # reshape layer (concatenate all features, removing their \"topographic\" arrangement)\n",
        "    x = x.view(-1, 64*7*7)\n",
        "    \n",
        "    # first fully connected layer (with ReLU nonlinearity)\n",
        "    x = F.relu(self.fc1(x))\n",
        "    \n",
        "    # dropout (regularization)\n",
        "    x = self.dropout(x)\n",
        "    \n",
        "    # second fully connected layer\n",
        "    x = self.fc2(x)\n",
        "    \n",
        "    # softmax (\"squashing nonlinearity\") operation. This maps all values to the \n",
        "    # [0,1] interval, so that the final output can be interpreted as the \n",
        "    # probability of belonging to each of the 10 classes. Note that here, for \n",
        "    # easier later processing, we're actually computing the log of the softmax,\n",
        "    # so the outputs can be interpreted as log-probabilities.\n",
        "    x = F.log_softmax(x, dim=1)\n",
        "    \n",
        "    return x"
      ],
      "execution_count": 241,
      "outputs": []
    },
    {
      "cell_type": "code",
      "metadata": {
        "id": "CERcjn2LXHTY",
        "colab": {
          "base_uri": "https://localhost:8080/"
        },
        "outputId": "c3796ba3-f888-4a73-e7c1-8fd3686bfe13"
      },
      "source": [
        "# instantiate network\n",
        "net = Net()\n",
        "\n",
        "# move network to GPU if available\n",
        "net.to(device)"
      ],
      "execution_count": 242,
      "outputs": [
        {
          "output_type": "execute_result",
          "data": {
            "text/plain": [
              "Net(\n",
              "  (conv1): Conv2d(1, 32, kernel_size=(5, 5), stride=(1, 1), padding=(2, 2))\n",
              "  (pool1): MaxPool2d(kernel_size=2, stride=2, padding=0, dilation=1, ceil_mode=False)\n",
              "  (conv2): Conv2d(32, 64, kernel_size=(5, 5), stride=(1, 1), padding=(2, 2))\n",
              "  (pool2): MaxPool2d(kernel_size=2, stride=2, padding=0, dilation=1, ceil_mode=False)\n",
              "  (fc1): Linear(in_features=3136, out_features=1024, bias=True)\n",
              "  (fc2): Linear(in_features=1024, out_features=10, bias=True)\n",
              "  (dropout): Dropout(p=0.5, inplace=False)\n",
              ")"
            ]
          },
          "metadata": {
            "tags": []
          },
          "execution_count": 242
        }
      ]
    },
    {
      "cell_type": "markdown",
      "metadata": {
        "id": "SkOrJuxaXJa_"
      },
      "source": [
        "## Définir les fonctions utiles pour la visualisation"
      ]
    },
    {
      "cell_type": "code",
      "metadata": {
        "id": "_6SA25HQXM-J"
      },
      "source": [
        "def make_filter_image(layer, use_color=True, scale_each=True):\n",
        "  \"\"\"Build an image of the weights of the filters in a given convolutional layer.\"\"\"\n",
        "  weights = layer.weight.data.to(\"cpu\")\n",
        "  if not use_color:\n",
        "    n_input_channels = weights.size()[1]\n",
        "    weights = weights.view([weights.size()[0], 1, weights.size()[1]*weights.size()[2], weights.size()[3]])\n",
        "  img = torchvision.utils.make_grid(weights, normalize=True, scale_each=scale_each)\n",
        "  return img\n",
        "  \n",
        "def visualize_filters(layer, use_color=True, scale_each=True):\n",
        "  \"\"\"Plot the weights of the filters in a given convolutional layer.\n",
        "  \n",
        "    \n",
        "  If use_color is true (default), the input layer is expected to have either 1 (grayscale)\n",
        "  or 3(rgb) channels. This is useful for plotting the weights of the first hidden\n",
        "  layer of the network. If you want to plot the weights of later layer, where the\n",
        "  number of input channels is arbitrary set use_color to false.\n",
        "  \n",
        "  If scale_each is true (default), the values in each filter will be scaled\n",
        "  independently before plotting; this makes the features of each individual\n",
        "  filter stand out more. If it's false, the scaling will be done globally\n",
        "  across all filters; this allows one to compare the filters.\"\"\"\n",
        "  \n",
        "  img = make_filter_image(layer, use_color=use_color, scale_each=scale_each)\n",
        "  size = 4+max(img.size())/10\n",
        "  fig, ax = plt.subplots(figsize=(size,size))\n",
        "  imshow(img, ax)\n"
      ],
      "execution_count": 243,
      "outputs": []
    },
    {
      "cell_type": "markdown",
      "metadata": {
        "id": "IclR82hJXRCv"
      },
      "source": [
        "## Définir la fonction de coût\n",
        "Pour une fonction de coût, un choix standard pour un problème de classification est L'entropie croisée (Cross Entropy). L'entropie croisée entre deux distributions discrètes $p[i]$ et $q[i]$ est définie comme suit\n",
        "$$\n",
        "H(p,q) = -\\sum_i p[i]\\log(q[i])\n",
        "$$\n",
        "\n",
        "Dans un problème de classification, l'indice $i$ ci-dessus ferait référence aux différentes classes auxquelles nous essayons d'affecter nos données. Si nous avons un échantillon dont la vraie classe est la classe $c$, nous disons que la distribution de probabilité réelle sur les classes pour cet échantillon est $p[i]=\\delta_{i,c}$, soit $p[i]=1$ si $i=c$ et $p[i]=0$ sinon. La distribution $q$, en revanche, est ce qui provient de notre réseau neuronal : si la dernière couche cachée est $\\mathbf{h}$ et que les sorties sont calculées par le softmax,\n",
        "\n",
        "$$\n",
        "q[i] = \\frac{\\exp(h_i)}{\\sum_j\\exp{h_j}}\n",
        "$$\n",
        "\n",
        "Si on branche ces valeurs dans l'expression de l'entropie relative, on obtient\n",
        "$$\n",
        "H(p,q) = -\\sum_i \\delta_i{i,c}\\log\\left(\\frac{\\exp(h_i)}{\\sum_l\\exp(h_l)}\\right) = -\\log\\left(\\frac{\\exp(h_c)}{\\sum_l\\exp(h_l) }\\right)\n",
        "$$\n",
        "On note que la dernière expression correspond à la probabilité logarithmique négative des données sous le modèle défini par le réseau (c'est juste egale à moins le logarithme de la probabilité attribuée par le réseau à la classe correcte). Ainsi, dans PyTorch, pour calculer cette fonction, nous utilisons la classe[negative log likelihood loss] (https://pytorch.org/docs/stable/nn.html?highlight=crossentropy#nllloss). Notez que PyTorch a aussi une classe[CrossEntropyLoss](https://pytorch.org/docs/stable/nn.html?highlight=crossentropy#crossentropyloss) qui combine le softmax et la probabilité de log négatif si vous ne voulez pas les calculer en étapes séparées.\n",
        "\n",
        "Lors de l'optimisation de notre réseau, nous imposerons également la régularisation L2. Conceptuellement, cela devrait être un terme ajouté à la fonction de coût :\n",
        "$$\n",
        "\\mathcal{L} = \\tilde{\\mathcal{L}} + \\lambda\\frac{1}{2}\\|\\mathbf{w}\\|^2 \n",
        "$$\n",
        "où $\\tilde{\\mathcal{\\mathcal{L}}}$ est notre fonction de coût originale, $\\|\\mathbf{w}\\|^2$ est la norme carrée du vecteur poids, et $\\lambda$ un hyperparamètre contrôlant la force de la régularisation et devant être défini par validation croisée. Comme il s'agit d'une forme très courante de régularisation, PyTorch offre un raccourci pratique pour l'implémenter, en passant simplement $\\lambda$ comme paramètre `weight_decay' à l'optimiseur (voir la définition de l'optimiseur dans la cellule suivante). La raison du nom du paramètre est que, pour chaque poids $w$, le terme de régularisation L2 ajoute au gradient le terme suivant :\n",
        "$$\n",
        "-\\frac{\\partial}{\\partial w}\\left(\\frac{1}{2}\\lambda w^2\\right) = -\\lambda w\n",
        "$$\n",
        "ce qui a pour effet de décomposer le poids linéairement vers zéro.\n",
        "\n",
        "### A part : entropie croisée et divergence Kullback-Leibler\n",
        "Enfin, une autre observation sur la fonction de cout d'entropie croisée. Notez que l'entropie croisée peut aussi s'écrire comme suit\n",
        "$$\n",
        "H(p,q) = H(p) + D_{KL}(p,q) = -\\sum_i p[i]\\log(p[i]) + \\sum_i p_i \\log\\left(\\frac{p[i]}{q[i]} \\right)\n",
        "$$\n",
        "où $D_{KL}(p,q)$ est la[divergence de Kullback-Leibler](https://en.wikipedia.org/wiki/Kullback%E2%80%93Leibler_divergence) entre $p$ et $q$, et est une mesure de dissimilarité entre deux distributions de probabilités. En général, minimiser $H(p,q)$ par rapport à certains paramètres $\\Theta$ quand seulement $q$ dépend de $\\Theta$ (comme dans notre cas, puisque nous minimisons par rapport aux paramètres des réseaux, qui affectent seulement la sortie du réseau $q$) équivaut à minimiser $D_{KL}$, et dans ce sens utiliser la perte d'entropie croisée signifie reproduire la vraie distribution de probabilité. Notez que dans le cas particulier de la classification, avec le choix pour $p$ que nous avons fait ci-dessus ($p[i]=\\delta_{i,c}$), il est facile de voir que $H(p)=0$, et donc $H(p,q)=D_{KL}(p,q)$."
      ]
    },
    {
      "cell_type": "code",
      "metadata": {
        "id": "vrczvOqHZdL5"
      },
      "source": [
        "# negative log likelihood loss (same as cross entropy in our case)\n",
        "criterion = nn.NLLLoss()\n"
      ],
      "execution_count": 244,
      "outputs": []
    },
    {
      "cell_type": "markdown",
      "metadata": {
        "id": "aLi1XNO0aKTa"
      },
      "source": [
        "## Définir un optimiseur\n",
        "\n",
        "Pour cet exemple, nous utiliserons simplement la descente de gradient stochastique avec momentum. Étant donné une fonction de coût $\\mathcal{L}$, la règle de mise à jour pour le poids $w$ est la suivante\n",
        "$$\n",
        "\\Delta w := -\\eta\\frac{\\partial\\mathcal{L}}{\\partial w} + \\alpha \\Delta w\n",
        "$$\n",
        "où $\\eta$ est le taux d'apprentissage et $\\alpha$ est le paramètre momentum.\n",
        "\n",
        "Jetez un coup d'œil à la[documentation](https://pytorch.org/docs/stable/optim.html#algorithms) de PyTorch pour voir quels autres optimiseurs sont disponibles - n'hésitez pas à expérimenter et voir ce qui se passe !"
      ]
    },
    {
      "cell_type": "code",
      "metadata": {
        "id": "4V7qPnJwahPt"
      },
      "source": [
        "optimizer = optim.SGD(net.parameters(), lr=0.1, momentum=0.9) # for the weight_decay parameter, see explanation in the cell above (L2 regularization)"
      ],
      "execution_count": 245,
      "outputs": []
    },
    {
      "cell_type": "markdown",
      "metadata": {
        "id": "-xv1JYKtakq9"
      },
      "source": [
        "## Train the network"
      ]
    },
    {
      "cell_type": "code",
      "metadata": {
        "id": "zDBhpQDManNr",
        "colab": {
          "base_uri": "https://localhost:8080/",
          "height": 1000
        },
        "outputId": "1d5a05fd-2f62-41da-b9e4-d541539fecff"
      },
      "source": [
        "# number of epochs (iterations over the whole training dataset) we want to train\n",
        "# the model for. A very small number should be sufficient (1 or 2), but if you \n",
        "# are running this on a GPU you can also try increasing it, since it's much faster\n",
        "# that way.\n",
        "n_epochs = 2\n",
        "\n",
        "# set the network in \"training mode\". This affects the behaviour of the dropout \n",
        "# layer by \"activating\" it.\n",
        "net.train() \n",
        "\n",
        "# initialize logger\n",
        "writer = SummaryWriter()\n",
        "\n",
        "plot_iteration = 0\n",
        "for epoch in range(n_epochs):\n",
        "  \n",
        "  running_loss = 0 # we will update this value with a running average of the loss, computed by hand, to print during trainig. Note that the loss can also be seen on TensorBoard, and the plot has a smoothing option.\n",
        "  for i, data in enumerate(trainloader):\n",
        "    # get the next minibatch of data\n",
        "    inputs, labels = data\n",
        "    \n",
        "    # move data and labels to GPU if available\n",
        "    inputs = inputs.to(device)\n",
        "    labels = labels.to(device)\n",
        "    \n",
        "    # zero the gradients (this is needed because PyTorch accumulates gradients \n",
        "    # in all parameters every time we call loss.backward())\n",
        "    optimizer.zero_grad()\n",
        "    \n",
        "    # forward propagation of inputs: compute the activation of all units within the network\n",
        "    outputs = net(inputs)\n",
        "    print(outputs.shape)\n",
        "    \n",
        "    # compute the loss\n",
        "    loss = criterion(outputs, labels)\n",
        "    \n",
        "    # backpropagation: compute the numerical gradient of the loss with respect to\n",
        "    # all parameters, evaluated for the current values of the activations and the loss.\n",
        "    # As mentioned above, these values are stored locally within each parameter.\n",
        "    loss.backward()\n",
        "    \n",
        "    # take a step with the optimizer we have defined above. The optimizer will \n",
        "    # go through all the parameters it know about (which we have specified when\n",
        "    # we created it), and update them according to the gradients it will find there,\n",
        "    # which we have computed when we performed backpropagation.\n",
        "    optimizer.step()\n",
        "    \n",
        "    # print some statistics\n",
        "    running_loss += loss.item() # the .item() method casts a pytorch tensor of size 1 to a simple python scalar\n",
        "    if i % 10 == 0:\n",
        "      # every ten minibatches, send a picture of the 1st layer filters and the \n",
        "      # value of the loss to TensorBoard, which will automatically figure out how to plot them.\n",
        "      writer.add_image('Layer 1 filters', make_filter_image(net.conv1), plot_iteration)\n",
        "      writer.add_scalar('Loss', loss.item(), plot_iteration)\n",
        "      plot_iteration += 1\n",
        "    if i % 100 == 99:\n",
        "      # every 100 minibatches, print some information in the cell output.\n",
        "      print(\"[epoch {}, iter {}] loss: {:.3f}\".format(epoch+1, i+1, running_loss/100))\n",
        "      running_loss = 0\n",
        "\n",
        "# close the logger\n",
        "writer.close()\n",
        "\n",
        "print(\"Finished training\")"
      ],
      "execution_count": 246,
      "outputs": [
        {
          "output_type": "stream",
          "text": [
            "shape after pool torch.Size([100, 64, 7, 7])\n",
            "torch.Size([100, 10])\n",
            "shape after pool torch.Size([100, 64, 7, 7])\n",
            "torch.Size([100, 10])\n",
            "shape after pool torch.Size([100, 64, 7, 7])\n",
            "torch.Size([100, 10])\n",
            "shape after pool torch.Size([100, 64, 7, 7])\n",
            "torch.Size([100, 10])\n",
            "shape after pool torch.Size([100, 64, 7, 7])\n",
            "torch.Size([100, 10])\n",
            "shape after pool torch.Size([100, 64, 7, 7])\n",
            "torch.Size([100, 10])\n",
            "shape after pool torch.Size([100, 64, 7, 7])\n",
            "torch.Size([100, 10])\n",
            "shape after pool torch.Size([100, 64, 7, 7])\n",
            "torch.Size([100, 10])\n",
            "shape after pool torch.Size([100, 64, 7, 7])\n",
            "torch.Size([100, 10])\n",
            "shape after pool torch.Size([100, 64, 7, 7])\n",
            "torch.Size([100, 10])\n",
            "shape after pool torch.Size([100, 64, 7, 7])\n",
            "torch.Size([100, 10])\n",
            "shape after pool torch.Size([100, 64, 7, 7])\n",
            "torch.Size([100, 10])\n",
            "shape after pool torch.Size([100, 64, 7, 7])\n",
            "torch.Size([100, 10])\n",
            "shape after pool torch.Size([100, 64, 7, 7])\n",
            "torch.Size([100, 10])\n",
            "shape after pool torch.Size([100, 64, 7, 7])\n",
            "torch.Size([100, 10])\n",
            "shape after pool torch.Size([100, 64, 7, 7])\n",
            "torch.Size([100, 10])\n",
            "shape after pool torch.Size([100, 64, 7, 7])\n",
            "torch.Size([100, 10])\n",
            "shape after pool torch.Size([100, 64, 7, 7])\n",
            "torch.Size([100, 10])\n",
            "shape after pool torch.Size([100, 64, 7, 7])\n",
            "torch.Size([100, 10])\n",
            "shape after pool torch.Size([100, 64, 7, 7])\n",
            "torch.Size([100, 10])\n",
            "shape after pool torch.Size([100, 64, 7, 7])\n",
            "torch.Size([100, 10])\n",
            "shape after pool torch.Size([100, 64, 7, 7])\n",
            "torch.Size([100, 10])\n",
            "shape after pool torch.Size([100, 64, 7, 7])\n",
            "torch.Size([100, 10])\n",
            "shape after pool torch.Size([100, 64, 7, 7])\n",
            "torch.Size([100, 10])\n",
            "shape after pool torch.Size([100, 64, 7, 7])\n",
            "torch.Size([100, 10])\n",
            "shape after pool torch.Size([100, 64, 7, 7])\n",
            "torch.Size([100, 10])\n",
            "shape after pool torch.Size([100, 64, 7, 7])\n",
            "torch.Size([100, 10])\n",
            "shape after pool torch.Size([100, 64, 7, 7])\n",
            "torch.Size([100, 10])\n",
            "shape after pool torch.Size([100, 64, 7, 7])\n",
            "torch.Size([100, 10])\n",
            "shape after pool torch.Size([100, 64, 7, 7])\n",
            "torch.Size([100, 10])\n",
            "shape after pool torch.Size([100, 64, 7, 7])\n",
            "torch.Size([100, 10])\n",
            "shape after pool torch.Size([100, 64, 7, 7])\n",
            "torch.Size([100, 10])\n",
            "shape after pool torch.Size([100, 64, 7, 7])\n",
            "torch.Size([100, 10])\n",
            "shape after pool torch.Size([100, 64, 7, 7])\n",
            "torch.Size([100, 10])\n",
            "shape after pool torch.Size([100, 64, 7, 7])\n",
            "torch.Size([100, 10])\n",
            "shape after pool torch.Size([100, 64, 7, 7])\n",
            "torch.Size([100, 10])\n",
            "shape after pool torch.Size([100, 64, 7, 7])\n",
            "torch.Size([100, 10])\n",
            "shape after pool torch.Size([100, 64, 7, 7])\n",
            "torch.Size([100, 10])\n",
            "shape after pool torch.Size([100, 64, 7, 7])\n",
            "torch.Size([100, 10])\n",
            "shape after pool torch.Size([100, 64, 7, 7])\n",
            "torch.Size([100, 10])\n",
            "shape after pool torch.Size([100, 64, 7, 7])\n",
            "torch.Size([100, 10])\n",
            "shape after pool torch.Size([100, 64, 7, 7])\n",
            "torch.Size([100, 10])\n",
            "shape after pool torch.Size([100, 64, 7, 7])\n",
            "torch.Size([100, 10])\n",
            "shape after pool torch.Size([100, 64, 7, 7])\n",
            "torch.Size([100, 10])\n",
            "shape after pool torch.Size([100, 64, 7, 7])\n",
            "torch.Size([100, 10])\n",
            "shape after pool torch.Size([100, 64, 7, 7])\n",
            "torch.Size([100, 10])\n",
            "shape after pool torch.Size([100, 64, 7, 7])\n",
            "torch.Size([100, 10])\n",
            "shape after pool torch.Size([100, 64, 7, 7])\n",
            "torch.Size([100, 10])\n",
            "shape after pool torch.Size([100, 64, 7, 7])\n",
            "torch.Size([100, 10])\n",
            "shape after pool torch.Size([100, 64, 7, 7])\n",
            "torch.Size([100, 10])\n",
            "shape after pool torch.Size([100, 64, 7, 7])\n",
            "torch.Size([100, 10])\n",
            "shape after pool torch.Size([100, 64, 7, 7])\n",
            "torch.Size([100, 10])\n",
            "shape after pool torch.Size([100, 64, 7, 7])\n",
            "torch.Size([100, 10])\n",
            "shape after pool torch.Size([100, 64, 7, 7])\n",
            "torch.Size([100, 10])\n",
            "shape after pool torch.Size([100, 64, 7, 7])\n",
            "torch.Size([100, 10])\n",
            "shape after pool torch.Size([100, 64, 7, 7])\n",
            "torch.Size([100, 10])\n",
            "shape after pool torch.Size([100, 64, 7, 7])\n",
            "torch.Size([100, 10])\n",
            "shape after pool torch.Size([100, 64, 7, 7])\n",
            "torch.Size([100, 10])\n",
            "shape after pool torch.Size([100, 64, 7, 7])\n",
            "torch.Size([100, 10])\n",
            "shape after pool torch.Size([100, 64, 7, 7])\n",
            "torch.Size([100, 10])\n",
            "shape after pool torch.Size([100, 64, 7, 7])\n",
            "torch.Size([100, 10])\n",
            "shape after pool torch.Size([100, 64, 7, 7])\n",
            "torch.Size([100, 10])\n",
            "shape after pool torch.Size([100, 64, 7, 7])\n",
            "torch.Size([100, 10])\n",
            "shape after pool torch.Size([100, 64, 7, 7])\n",
            "torch.Size([100, 10])\n",
            "shape after pool torch.Size([100, 64, 7, 7])\n",
            "torch.Size([100, 10])\n",
            "shape after pool torch.Size([100, 64, 7, 7])\n",
            "torch.Size([100, 10])\n",
            "shape after pool torch.Size([100, 64, 7, 7])\n",
            "torch.Size([100, 10])\n",
            "shape after pool torch.Size([100, 64, 7, 7])\n",
            "torch.Size([100, 10])\n",
            "shape after pool torch.Size([100, 64, 7, 7])\n",
            "torch.Size([100, 10])\n",
            "shape after pool torch.Size([100, 64, 7, 7])\n",
            "torch.Size([100, 10])\n",
            "shape after pool torch.Size([100, 64, 7, 7])\n",
            "torch.Size([100, 10])\n",
            "shape after pool torch.Size([100, 64, 7, 7])\n",
            "torch.Size([100, 10])\n",
            "shape after pool torch.Size([100, 64, 7, 7])\n",
            "torch.Size([100, 10])\n",
            "shape after pool torch.Size([100, 64, 7, 7])\n",
            "torch.Size([100, 10])\n",
            "shape after pool torch.Size([100, 64, 7, 7])\n",
            "torch.Size([100, 10])\n",
            "shape after pool torch.Size([100, 64, 7, 7])\n",
            "torch.Size([100, 10])\n",
            "shape after pool torch.Size([100, 64, 7, 7])\n",
            "torch.Size([100, 10])\n",
            "shape after pool torch.Size([100, 64, 7, 7])\n",
            "torch.Size([100, 10])\n",
            "shape after pool torch.Size([100, 64, 7, 7])\n",
            "torch.Size([100, 10])\n",
            "shape after pool torch.Size([100, 64, 7, 7])\n",
            "torch.Size([100, 10])\n",
            "shape after pool torch.Size([100, 64, 7, 7])\n",
            "torch.Size([100, 10])\n",
            "shape after pool torch.Size([100, 64, 7, 7])\n",
            "torch.Size([100, 10])\n",
            "shape after pool torch.Size([100, 64, 7, 7])\n",
            "torch.Size([100, 10])\n",
            "shape after pool torch.Size([100, 64, 7, 7])\n",
            "torch.Size([100, 10])\n",
            "shape after pool torch.Size([100, 64, 7, 7])\n",
            "torch.Size([100, 10])\n",
            "shape after pool torch.Size([100, 64, 7, 7])\n",
            "torch.Size([100, 10])\n",
            "shape after pool torch.Size([100, 64, 7, 7])\n",
            "torch.Size([100, 10])\n",
            "shape after pool torch.Size([100, 64, 7, 7])\n",
            "torch.Size([100, 10])\n",
            "shape after pool torch.Size([100, 64, 7, 7])\n",
            "torch.Size([100, 10])\n",
            "shape after pool torch.Size([100, 64, 7, 7])\n",
            "torch.Size([100, 10])\n",
            "shape after pool torch.Size([100, 64, 7, 7])\n",
            "torch.Size([100, 10])\n",
            "shape after pool torch.Size([100, 64, 7, 7])\n",
            "torch.Size([100, 10])\n",
            "shape after pool torch.Size([100, 64, 7, 7])\n",
            "torch.Size([100, 10])\n",
            "shape after pool torch.Size([100, 64, 7, 7])\n",
            "torch.Size([100, 10])\n",
            "shape after pool torch.Size([100, 64, 7, 7])\n",
            "torch.Size([100, 10])\n",
            "shape after pool torch.Size([100, 64, 7, 7])\n",
            "torch.Size([100, 10])\n",
            "shape after pool torch.Size([100, 64, 7, 7])\n",
            "torch.Size([100, 10])\n",
            "shape after pool torch.Size([100, 64, 7, 7])\n",
            "torch.Size([100, 10])\n",
            "shape after pool torch.Size([100, 64, 7, 7])\n",
            "torch.Size([100, 10])\n",
            "shape after pool torch.Size([100, 64, 7, 7])\n",
            "torch.Size([100, 10])\n",
            "[epoch 1, iter 100] loss: 0.466\n",
            "shape after pool torch.Size([100, 64, 7, 7])\n",
            "torch.Size([100, 10])\n",
            "shape after pool torch.Size([100, 64, 7, 7])\n",
            "torch.Size([100, 10])\n",
            "shape after pool torch.Size([100, 64, 7, 7])\n",
            "torch.Size([100, 10])\n",
            "shape after pool torch.Size([100, 64, 7, 7])\n",
            "torch.Size([100, 10])\n",
            "shape after pool torch.Size([100, 64, 7, 7])\n",
            "torch.Size([100, 10])\n",
            "shape after pool torch.Size([100, 64, 7, 7])\n",
            "torch.Size([100, 10])\n",
            "shape after pool torch.Size([100, 64, 7, 7])\n",
            "torch.Size([100, 10])\n",
            "shape after pool torch.Size([100, 64, 7, 7])\n",
            "torch.Size([100, 10])\n",
            "shape after pool torch.Size([100, 64, 7, 7])\n",
            "torch.Size([100, 10])\n",
            "shape after pool torch.Size([100, 64, 7, 7])\n",
            "torch.Size([100, 10])\n",
            "shape after pool torch.Size([100, 64, 7, 7])\n",
            "torch.Size([100, 10])\n",
            "shape after pool torch.Size([100, 64, 7, 7])\n",
            "torch.Size([100, 10])\n",
            "shape after pool torch.Size([100, 64, 7, 7])\n",
            "torch.Size([100, 10])\n",
            "shape after pool torch.Size([100, 64, 7, 7])\n",
            "torch.Size([100, 10])\n",
            "shape after pool torch.Size([100, 64, 7, 7])\n",
            "torch.Size([100, 10])\n",
            "shape after pool torch.Size([100, 64, 7, 7])\n",
            "torch.Size([100, 10])\n",
            "shape after pool torch.Size([100, 64, 7, 7])\n",
            "torch.Size([100, 10])\n",
            "shape after pool torch.Size([100, 64, 7, 7])\n",
            "torch.Size([100, 10])\n",
            "shape after pool torch.Size([100, 64, 7, 7])\n",
            "torch.Size([100, 10])\n",
            "shape after pool torch.Size([100, 64, 7, 7])\n",
            "torch.Size([100, 10])\n",
            "shape after pool torch.Size([100, 64, 7, 7])\n",
            "torch.Size([100, 10])\n",
            "shape after pool torch.Size([100, 64, 7, 7])\n",
            "torch.Size([100, 10])\n",
            "shape after pool torch.Size([100, 64, 7, 7])\n",
            "torch.Size([100, 10])\n",
            "shape after pool torch.Size([100, 64, 7, 7])\n",
            "torch.Size([100, 10])\n",
            "shape after pool torch.Size([100, 64, 7, 7])\n",
            "torch.Size([100, 10])\n",
            "shape after pool torch.Size([100, 64, 7, 7])\n",
            "torch.Size([100, 10])\n",
            "shape after pool torch.Size([100, 64, 7, 7])\n",
            "torch.Size([100, 10])\n",
            "shape after pool torch.Size([100, 64, 7, 7])\n",
            "torch.Size([100, 10])\n",
            "shape after pool torch.Size([100, 64, 7, 7])\n",
            "torch.Size([100, 10])\n",
            "shape after pool torch.Size([100, 64, 7, 7])\n",
            "torch.Size([100, 10])\n",
            "shape after pool torch.Size([100, 64, 7, 7])\n",
            "torch.Size([100, 10])\n",
            "shape after pool torch.Size([100, 64, 7, 7])\n",
            "torch.Size([100, 10])\n",
            "shape after pool torch.Size([100, 64, 7, 7])\n",
            "torch.Size([100, 10])\n",
            "shape after pool torch.Size([100, 64, 7, 7])\n",
            "torch.Size([100, 10])\n",
            "shape after pool torch.Size([100, 64, 7, 7])\n",
            "torch.Size([100, 10])\n",
            "shape after pool torch.Size([100, 64, 7, 7])\n",
            "torch.Size([100, 10])\n",
            "shape after pool torch.Size([100, 64, 7, 7])\n",
            "torch.Size([100, 10])\n",
            "shape after pool torch.Size([100, 64, 7, 7])\n",
            "torch.Size([100, 10])\n",
            "shape after pool torch.Size([100, 64, 7, 7])\n",
            "torch.Size([100, 10])\n",
            "shape after pool torch.Size([100, 64, 7, 7])\n",
            "torch.Size([100, 10])\n",
            "shape after pool torch.Size([100, 64, 7, 7])\n",
            "torch.Size([100, 10])\n",
            "shape after pool torch.Size([100, 64, 7, 7])\n",
            "torch.Size([100, 10])\n",
            "shape after pool torch.Size([100, 64, 7, 7])\n",
            "torch.Size([100, 10])\n",
            "shape after pool torch.Size([100, 64, 7, 7])\n",
            "torch.Size([100, 10])\n",
            "shape after pool torch.Size([100, 64, 7, 7])\n",
            "torch.Size([100, 10])\n",
            "shape after pool torch.Size([100, 64, 7, 7])\n",
            "torch.Size([100, 10])\n",
            "shape after pool torch.Size([100, 64, 7, 7])\n",
            "torch.Size([100, 10])\n",
            "shape after pool torch.Size([100, 64, 7, 7])\n",
            "torch.Size([100, 10])\n",
            "shape after pool torch.Size([100, 64, 7, 7])\n",
            "torch.Size([100, 10])\n",
            "shape after pool torch.Size([100, 64, 7, 7])\n",
            "torch.Size([100, 10])\n",
            "shape after pool torch.Size([100, 64, 7, 7])\n",
            "torch.Size([100, 10])\n",
            "shape after pool torch.Size([100, 64, 7, 7])\n",
            "torch.Size([100, 10])\n",
            "shape after pool torch.Size([100, 64, 7, 7])\n",
            "torch.Size([100, 10])\n",
            "shape after pool torch.Size([100, 64, 7, 7])\n",
            "torch.Size([100, 10])\n",
            "shape after pool torch.Size([100, 64, 7, 7])\n",
            "torch.Size([100, 10])\n",
            "shape after pool torch.Size([100, 64, 7, 7])\n",
            "torch.Size([100, 10])\n",
            "shape after pool torch.Size([100, 64, 7, 7])\n",
            "torch.Size([100, 10])\n",
            "shape after pool torch.Size([100, 64, 7, 7])\n",
            "torch.Size([100, 10])\n",
            "shape after pool torch.Size([100, 64, 7, 7])\n",
            "torch.Size([100, 10])\n",
            "shape after pool torch.Size([100, 64, 7, 7])\n",
            "torch.Size([100, 10])\n",
            "shape after pool torch.Size([100, 64, 7, 7])\n",
            "torch.Size([100, 10])\n",
            "shape after pool torch.Size([100, 64, 7, 7])\n",
            "torch.Size([100, 10])\n",
            "shape after pool torch.Size([100, 64, 7, 7])\n",
            "torch.Size([100, 10])\n",
            "shape after pool torch.Size([100, 64, 7, 7])\n",
            "torch.Size([100, 10])\n",
            "shape after pool torch.Size([100, 64, 7, 7])\n",
            "torch.Size([100, 10])\n",
            "shape after pool torch.Size([100, 64, 7, 7])\n",
            "torch.Size([100, 10])\n",
            "shape after pool torch.Size([100, 64, 7, 7])\n",
            "torch.Size([100, 10])\n",
            "shape after pool torch.Size([100, 64, 7, 7])\n",
            "torch.Size([100, 10])\n",
            "shape after pool torch.Size([100, 64, 7, 7])\n",
            "torch.Size([100, 10])\n",
            "shape after pool torch.Size([100, 64, 7, 7])\n",
            "torch.Size([100, 10])\n",
            "shape after pool torch.Size([100, 64, 7, 7])\n",
            "torch.Size([100, 10])\n",
            "shape after pool torch.Size([100, 64, 7, 7])\n",
            "torch.Size([100, 10])\n",
            "shape after pool torch.Size([100, 64, 7, 7])\n",
            "torch.Size([100, 10])\n",
            "shape after pool torch.Size([100, 64, 7, 7])\n",
            "torch.Size([100, 10])\n",
            "shape after pool torch.Size([100, 64, 7, 7])\n",
            "torch.Size([100, 10])\n",
            "shape after pool torch.Size([100, 64, 7, 7])\n",
            "torch.Size([100, 10])\n",
            "shape after pool torch.Size([100, 64, 7, 7])\n",
            "torch.Size([100, 10])\n",
            "shape after pool torch.Size([100, 64, 7, 7])\n",
            "torch.Size([100, 10])\n",
            "shape after pool torch.Size([100, 64, 7, 7])\n",
            "torch.Size([100, 10])\n",
            "shape after pool torch.Size([100, 64, 7, 7])\n",
            "torch.Size([100, 10])\n",
            "shape after pool torch.Size([100, 64, 7, 7])\n",
            "torch.Size([100, 10])\n",
            "shape after pool torch.Size([100, 64, 7, 7])\n",
            "torch.Size([100, 10])\n",
            "shape after pool torch.Size([100, 64, 7, 7])\n",
            "torch.Size([100, 10])\n",
            "shape after pool torch.Size([100, 64, 7, 7])\n",
            "torch.Size([100, 10])\n",
            "shape after pool torch.Size([100, 64, 7, 7])\n",
            "torch.Size([100, 10])\n",
            "shape after pool torch.Size([100, 64, 7, 7])\n",
            "torch.Size([100, 10])\n",
            "shape after pool torch.Size([100, 64, 7, 7])\n",
            "torch.Size([100, 10])\n",
            "shape after pool torch.Size([100, 64, 7, 7])\n",
            "torch.Size([100, 10])\n",
            "shape after pool torch.Size([100, 64, 7, 7])\n",
            "torch.Size([100, 10])\n",
            "shape after pool torch.Size([100, 64, 7, 7])\n",
            "torch.Size([100, 10])\n",
            "shape after pool torch.Size([100, 64, 7, 7])\n",
            "torch.Size([100, 10])\n",
            "shape after pool torch.Size([100, 64, 7, 7])\n",
            "torch.Size([100, 10])\n",
            "shape after pool torch.Size([100, 64, 7, 7])\n",
            "torch.Size([100, 10])\n",
            "shape after pool torch.Size([100, 64, 7, 7])\n",
            "torch.Size([100, 10])\n",
            "shape after pool torch.Size([100, 64, 7, 7])\n",
            "torch.Size([100, 10])\n",
            "shape after pool torch.Size([100, 64, 7, 7])\n",
            "torch.Size([100, 10])\n",
            "shape after pool torch.Size([100, 64, 7, 7])\n",
            "torch.Size([100, 10])\n",
            "shape after pool torch.Size([100, 64, 7, 7])\n",
            "torch.Size([100, 10])\n",
            "shape after pool torch.Size([100, 64, 7, 7])\n",
            "torch.Size([100, 10])\n",
            "shape after pool torch.Size([100, 64, 7, 7])\n",
            "torch.Size([100, 10])\n",
            "[epoch 1, iter 200] loss: 0.230\n",
            "shape after pool torch.Size([100, 64, 7, 7])\n",
            "torch.Size([100, 10])\n",
            "shape after pool torch.Size([100, 64, 7, 7])\n",
            "torch.Size([100, 10])\n",
            "shape after pool torch.Size([100, 64, 7, 7])\n",
            "torch.Size([100, 10])\n",
            "shape after pool torch.Size([100, 64, 7, 7])\n",
            "torch.Size([100, 10])\n",
            "shape after pool torch.Size([100, 64, 7, 7])\n",
            "torch.Size([100, 10])\n",
            "shape after pool torch.Size([100, 64, 7, 7])\n",
            "torch.Size([100, 10])\n",
            "shape after pool torch.Size([100, 64, 7, 7])\n",
            "torch.Size([100, 10])\n",
            "shape after pool torch.Size([100, 64, 7, 7])\n",
            "torch.Size([100, 10])\n",
            "shape after pool torch.Size([100, 64, 7, 7])\n",
            "torch.Size([100, 10])\n",
            "shape after pool torch.Size([100, 64, 7, 7])\n",
            "torch.Size([100, 10])\n",
            "shape after pool torch.Size([100, 64, 7, 7])\n",
            "torch.Size([100, 10])\n",
            "shape after pool torch.Size([100, 64, 7, 7])\n",
            "torch.Size([100, 10])\n",
            "shape after pool torch.Size([100, 64, 7, 7])\n",
            "torch.Size([100, 10])\n",
            "shape after pool torch.Size([100, 64, 7, 7])\n",
            "torch.Size([100, 10])\n",
            "shape after pool torch.Size([100, 64, 7, 7])\n",
            "torch.Size([100, 10])\n",
            "shape after pool torch.Size([100, 64, 7, 7])\n",
            "torch.Size([100, 10])\n",
            "shape after pool torch.Size([100, 64, 7, 7])\n",
            "torch.Size([100, 10])\n",
            "shape after pool torch.Size([100, 64, 7, 7])\n",
            "torch.Size([100, 10])\n",
            "shape after pool torch.Size([100, 64, 7, 7])\n",
            "torch.Size([100, 10])\n",
            "shape after pool torch.Size([100, 64, 7, 7])\n",
            "torch.Size([100, 10])\n",
            "shape after pool torch.Size([100, 64, 7, 7])\n",
            "torch.Size([100, 10])\n",
            "shape after pool torch.Size([100, 64, 7, 7])\n",
            "torch.Size([100, 10])\n",
            "shape after pool torch.Size([100, 64, 7, 7])\n",
            "torch.Size([100, 10])\n",
            "shape after pool torch.Size([100, 64, 7, 7])\n",
            "torch.Size([100, 10])\n",
            "shape after pool torch.Size([100, 64, 7, 7])\n",
            "torch.Size([100, 10])\n",
            "shape after pool torch.Size([100, 64, 7, 7])\n",
            "torch.Size([100, 10])\n",
            "shape after pool torch.Size([100, 64, 7, 7])\n",
            "torch.Size([100, 10])\n",
            "shape after pool torch.Size([100, 64, 7, 7])\n",
            "torch.Size([100, 10])\n",
            "shape after pool torch.Size([100, 64, 7, 7])\n",
            "torch.Size([100, 10])\n",
            "shape after pool torch.Size([100, 64, 7, 7])\n",
            "torch.Size([100, 10])\n",
            "shape after pool torch.Size([100, 64, 7, 7])\n",
            "torch.Size([100, 10])\n",
            "shape after pool torch.Size([100, 64, 7, 7])\n",
            "torch.Size([100, 10])\n",
            "shape after pool torch.Size([100, 64, 7, 7])\n",
            "torch.Size([100, 10])\n",
            "shape after pool torch.Size([100, 64, 7, 7])\n",
            "torch.Size([100, 10])\n",
            "shape after pool torch.Size([100, 64, 7, 7])\n",
            "torch.Size([100, 10])\n",
            "shape after pool torch.Size([100, 64, 7, 7])\n",
            "torch.Size([100, 10])\n",
            "shape after pool torch.Size([100, 64, 7, 7])\n",
            "torch.Size([100, 10])\n",
            "shape after pool torch.Size([100, 64, 7, 7])\n",
            "torch.Size([100, 10])\n",
            "shape after pool torch.Size([100, 64, 7, 7])\n",
            "torch.Size([100, 10])\n",
            "shape after pool torch.Size([100, 64, 7, 7])\n",
            "torch.Size([100, 10])\n",
            "shape after pool torch.Size([100, 64, 7, 7])\n",
            "torch.Size([100, 10])\n",
            "shape after pool torch.Size([100, 64, 7, 7])\n",
            "torch.Size([100, 10])\n",
            "shape after pool torch.Size([100, 64, 7, 7])\n",
            "torch.Size([100, 10])\n",
            "shape after pool torch.Size([100, 64, 7, 7])\n",
            "torch.Size([100, 10])\n",
            "shape after pool torch.Size([100, 64, 7, 7])\n",
            "torch.Size([100, 10])\n",
            "shape after pool torch.Size([100, 64, 7, 7])\n",
            "torch.Size([100, 10])\n",
            "shape after pool torch.Size([100, 64, 7, 7])\n",
            "torch.Size([100, 10])\n",
            "shape after pool torch.Size([100, 64, 7, 7])\n",
            "torch.Size([100, 10])\n",
            "shape after pool torch.Size([100, 64, 7, 7])\n",
            "torch.Size([100, 10])\n",
            "shape after pool torch.Size([100, 64, 7, 7])\n",
            "torch.Size([100, 10])\n",
            "shape after pool torch.Size([100, 64, 7, 7])\n",
            "torch.Size([100, 10])\n",
            "shape after pool torch.Size([100, 64, 7, 7])\n",
            "torch.Size([100, 10])\n",
            "shape after pool torch.Size([100, 64, 7, 7])\n",
            "torch.Size([100, 10])\n",
            "shape after pool torch.Size([100, 64, 7, 7])\n",
            "torch.Size([100, 10])\n",
            "shape after pool torch.Size([100, 64, 7, 7])\n",
            "torch.Size([100, 10])\n",
            "shape after pool torch.Size([100, 64, 7, 7])\n",
            "torch.Size([100, 10])\n",
            "shape after pool torch.Size([100, 64, 7, 7])\n",
            "torch.Size([100, 10])\n",
            "shape after pool torch.Size([100, 64, 7, 7])\n",
            "torch.Size([100, 10])\n",
            "shape after pool torch.Size([100, 64, 7, 7])\n",
            "torch.Size([100, 10])\n",
            "shape after pool torch.Size([100, 64, 7, 7])\n",
            "torch.Size([100, 10])\n",
            "shape after pool torch.Size([100, 64, 7, 7])\n",
            "torch.Size([100, 10])\n",
            "shape after pool torch.Size([100, 64, 7, 7])\n",
            "torch.Size([100, 10])\n",
            "shape after pool torch.Size([100, 64, 7, 7])\n",
            "torch.Size([100, 10])\n",
            "shape after pool torch.Size([100, 64, 7, 7])\n",
            "torch.Size([100, 10])\n",
            "shape after pool torch.Size([100, 64, 7, 7])\n",
            "torch.Size([100, 10])\n",
            "shape after pool torch.Size([100, 64, 7, 7])\n",
            "torch.Size([100, 10])\n",
            "shape after pool torch.Size([100, 64, 7, 7])\n",
            "torch.Size([100, 10])\n",
            "shape after pool torch.Size([100, 64, 7, 7])\n",
            "torch.Size([100, 10])\n",
            "shape after pool torch.Size([100, 64, 7, 7])\n",
            "torch.Size([100, 10])\n",
            "shape after pool torch.Size([100, 64, 7, 7])\n",
            "torch.Size([100, 10])\n",
            "shape after pool torch.Size([100, 64, 7, 7])\n",
            "torch.Size([100, 10])\n",
            "shape after pool torch.Size([100, 64, 7, 7])\n",
            "torch.Size([100, 10])\n",
            "shape after pool torch.Size([100, 64, 7, 7])\n",
            "torch.Size([100, 10])\n",
            "shape after pool torch.Size([100, 64, 7, 7])\n",
            "torch.Size([100, 10])\n",
            "shape after pool torch.Size([100, 64, 7, 7])\n",
            "torch.Size([100, 10])\n",
            "shape after pool torch.Size([100, 64, 7, 7])\n",
            "torch.Size([100, 10])\n",
            "shape after pool torch.Size([100, 64, 7, 7])\n",
            "torch.Size([100, 10])\n",
            "shape after pool torch.Size([100, 64, 7, 7])\n",
            "torch.Size([100, 10])\n",
            "shape after pool torch.Size([100, 64, 7, 7])\n",
            "torch.Size([100, 10])\n",
            "shape after pool torch.Size([100, 64, 7, 7])\n",
            "torch.Size([100, 10])\n",
            "shape after pool torch.Size([100, 64, 7, 7])\n",
            "torch.Size([100, 10])\n",
            "shape after pool torch.Size([100, 64, 7, 7])\n",
            "torch.Size([100, 10])\n",
            "shape after pool torch.Size([100, 64, 7, 7])\n",
            "torch.Size([100, 10])\n",
            "shape after pool torch.Size([100, 64, 7, 7])\n",
            "torch.Size([100, 10])\n",
            "shape after pool torch.Size([100, 64, 7, 7])\n",
            "torch.Size([100, 10])\n",
            "shape after pool torch.Size([100, 64, 7, 7])\n",
            "torch.Size([100, 10])\n",
            "shape after pool torch.Size([100, 64, 7, 7])\n",
            "torch.Size([100, 10])\n",
            "shape after pool torch.Size([100, 64, 7, 7])\n",
            "torch.Size([100, 10])\n",
            "shape after pool torch.Size([100, 64, 7, 7])\n",
            "torch.Size([100, 10])\n",
            "shape after pool torch.Size([100, 64, 7, 7])\n",
            "torch.Size([100, 10])\n",
            "shape after pool torch.Size([100, 64, 7, 7])\n",
            "torch.Size([100, 10])\n",
            "shape after pool torch.Size([100, 64, 7, 7])\n",
            "torch.Size([100, 10])\n",
            "shape after pool torch.Size([100, 64, 7, 7])\n",
            "torch.Size([100, 10])\n",
            "shape after pool torch.Size([100, 64, 7, 7])\n",
            "torch.Size([100, 10])\n",
            "shape after pool torch.Size([100, 64, 7, 7])\n",
            "torch.Size([100, 10])\n",
            "shape after pool torch.Size([100, 64, 7, 7])\n",
            "torch.Size([100, 10])\n",
            "shape after pool torch.Size([100, 64, 7, 7])\n",
            "torch.Size([100, 10])\n",
            "shape after pool torch.Size([100, 64, 7, 7])\n",
            "torch.Size([100, 10])\n",
            "shape after pool torch.Size([100, 64, 7, 7])\n",
            "torch.Size([100, 10])\n",
            "shape after pool torch.Size([100, 64, 7, 7])\n",
            "torch.Size([100, 10])\n",
            "[epoch 1, iter 300] loss: 0.208\n",
            "shape after pool torch.Size([100, 64, 7, 7])\n",
            "torch.Size([100, 10])\n",
            "shape after pool torch.Size([100, 64, 7, 7])\n",
            "torch.Size([100, 10])\n",
            "shape after pool torch.Size([100, 64, 7, 7])\n",
            "torch.Size([100, 10])\n",
            "shape after pool torch.Size([100, 64, 7, 7])\n",
            "torch.Size([100, 10])\n",
            "shape after pool torch.Size([100, 64, 7, 7])\n",
            "torch.Size([100, 10])\n",
            "shape after pool torch.Size([100, 64, 7, 7])\n",
            "torch.Size([100, 10])\n",
            "shape after pool torch.Size([100, 64, 7, 7])\n",
            "torch.Size([100, 10])\n",
            "shape after pool torch.Size([100, 64, 7, 7])\n",
            "torch.Size([100, 10])\n",
            "shape after pool torch.Size([100, 64, 7, 7])\n",
            "torch.Size([100, 10])\n",
            "shape after pool torch.Size([100, 64, 7, 7])\n",
            "torch.Size([100, 10])\n",
            "shape after pool torch.Size([100, 64, 7, 7])\n",
            "torch.Size([100, 10])\n",
            "shape after pool torch.Size([100, 64, 7, 7])\n",
            "torch.Size([100, 10])\n",
            "shape after pool torch.Size([100, 64, 7, 7])\n",
            "torch.Size([100, 10])\n",
            "shape after pool torch.Size([100, 64, 7, 7])\n",
            "torch.Size([100, 10])\n",
            "shape after pool torch.Size([100, 64, 7, 7])\n",
            "torch.Size([100, 10])\n",
            "shape after pool torch.Size([100, 64, 7, 7])\n",
            "torch.Size([100, 10])\n",
            "shape after pool torch.Size([100, 64, 7, 7])\n",
            "torch.Size([100, 10])\n",
            "shape after pool torch.Size([100, 64, 7, 7])\n",
            "torch.Size([100, 10])\n",
            "shape after pool torch.Size([100, 64, 7, 7])\n",
            "torch.Size([100, 10])\n",
            "shape after pool torch.Size([100, 64, 7, 7])\n",
            "torch.Size([100, 10])\n",
            "shape after pool torch.Size([100, 64, 7, 7])\n",
            "torch.Size([100, 10])\n",
            "shape after pool torch.Size([100, 64, 7, 7])\n",
            "torch.Size([100, 10])\n",
            "shape after pool torch.Size([100, 64, 7, 7])\n",
            "torch.Size([100, 10])\n",
            "shape after pool torch.Size([100, 64, 7, 7])\n",
            "torch.Size([100, 10])\n",
            "shape after pool torch.Size([100, 64, 7, 7])\n",
            "torch.Size([100, 10])\n",
            "shape after pool torch.Size([100, 64, 7, 7])\n",
            "torch.Size([100, 10])\n",
            "shape after pool torch.Size([100, 64, 7, 7])\n",
            "torch.Size([100, 10])\n",
            "shape after pool torch.Size([100, 64, 7, 7])\n",
            "torch.Size([100, 10])\n",
            "shape after pool torch.Size([100, 64, 7, 7])\n",
            "torch.Size([100, 10])\n",
            "shape after pool torch.Size([100, 64, 7, 7])\n",
            "torch.Size([100, 10])\n",
            "shape after pool torch.Size([100, 64, 7, 7])\n",
            "torch.Size([100, 10])\n",
            "shape after pool torch.Size([100, 64, 7, 7])\n",
            "torch.Size([100, 10])\n",
            "shape after pool torch.Size([100, 64, 7, 7])\n",
            "torch.Size([100, 10])\n",
            "shape after pool torch.Size([100, 64, 7, 7])\n",
            "torch.Size([100, 10])\n",
            "shape after pool torch.Size([100, 64, 7, 7])\n",
            "torch.Size([100, 10])\n",
            "shape after pool torch.Size([100, 64, 7, 7])\n",
            "torch.Size([100, 10])\n",
            "shape after pool torch.Size([100, 64, 7, 7])\n",
            "torch.Size([100, 10])\n",
            "shape after pool torch.Size([100, 64, 7, 7])\n",
            "torch.Size([100, 10])\n",
            "shape after pool torch.Size([100, 64, 7, 7])\n",
            "torch.Size([100, 10])\n",
            "shape after pool torch.Size([100, 64, 7, 7])\n",
            "torch.Size([100, 10])\n",
            "shape after pool torch.Size([100, 64, 7, 7])\n",
            "torch.Size([100, 10])\n",
            "shape after pool torch.Size([100, 64, 7, 7])\n",
            "torch.Size([100, 10])\n",
            "shape after pool torch.Size([100, 64, 7, 7])\n",
            "torch.Size([100, 10])\n",
            "shape after pool torch.Size([100, 64, 7, 7])\n",
            "torch.Size([100, 10])\n",
            "shape after pool torch.Size([100, 64, 7, 7])\n",
            "torch.Size([100, 10])\n",
            "shape after pool torch.Size([100, 64, 7, 7])\n",
            "torch.Size([100, 10])\n",
            "shape after pool torch.Size([100, 64, 7, 7])\n",
            "torch.Size([100, 10])\n",
            "shape after pool torch.Size([100, 64, 7, 7])\n",
            "torch.Size([100, 10])\n",
            "shape after pool torch.Size([100, 64, 7, 7])\n",
            "torch.Size([100, 10])\n",
            "shape after pool torch.Size([100, 64, 7, 7])\n",
            "torch.Size([100, 10])\n",
            "shape after pool torch.Size([100, 64, 7, 7])\n",
            "torch.Size([100, 10])\n",
            "shape after pool torch.Size([100, 64, 7, 7])\n",
            "torch.Size([100, 10])\n",
            "shape after pool torch.Size([100, 64, 7, 7])\n",
            "torch.Size([100, 10])\n",
            "shape after pool torch.Size([100, 64, 7, 7])\n",
            "torch.Size([100, 10])\n",
            "shape after pool torch.Size([100, 64, 7, 7])\n",
            "torch.Size([100, 10])\n",
            "shape after pool torch.Size([100, 64, 7, 7])\n",
            "torch.Size([100, 10])\n",
            "shape after pool torch.Size([100, 64, 7, 7])\n",
            "torch.Size([100, 10])\n",
            "shape after pool torch.Size([100, 64, 7, 7])\n",
            "torch.Size([100, 10])\n",
            "shape after pool torch.Size([100, 64, 7, 7])\n",
            "torch.Size([100, 10])\n",
            "shape after pool torch.Size([100, 64, 7, 7])\n",
            "torch.Size([100, 10])\n",
            "shape after pool torch.Size([100, 64, 7, 7])\n",
            "torch.Size([100, 10])\n",
            "shape after pool torch.Size([100, 64, 7, 7])\n",
            "torch.Size([100, 10])\n",
            "shape after pool torch.Size([100, 64, 7, 7])\n",
            "torch.Size([100, 10])\n",
            "shape after pool torch.Size([100, 64, 7, 7])\n",
            "torch.Size([100, 10])\n",
            "shape after pool torch.Size([100, 64, 7, 7])\n",
            "torch.Size([100, 10])\n",
            "shape after pool torch.Size([100, 64, 7, 7])\n",
            "torch.Size([100, 10])\n",
            "shape after pool torch.Size([100, 64, 7, 7])\n",
            "torch.Size([100, 10])\n",
            "shape after pool torch.Size([100, 64, 7, 7])\n",
            "torch.Size([100, 10])\n",
            "shape after pool torch.Size([100, 64, 7, 7])\n",
            "torch.Size([100, 10])\n",
            "shape after pool torch.Size([100, 64, 7, 7])\n",
            "torch.Size([100, 10])\n",
            "shape after pool torch.Size([100, 64, 7, 7])\n",
            "torch.Size([100, 10])\n",
            "shape after pool torch.Size([100, 64, 7, 7])\n",
            "torch.Size([100, 10])\n",
            "shape after pool torch.Size([100, 64, 7, 7])\n",
            "torch.Size([100, 10])\n",
            "shape after pool torch.Size([100, 64, 7, 7])\n",
            "torch.Size([100, 10])\n",
            "shape after pool torch.Size([100, 64, 7, 7])\n",
            "torch.Size([100, 10])\n",
            "shape after pool torch.Size([100, 64, 7, 7])\n",
            "torch.Size([100, 10])\n",
            "shape after pool torch.Size([100, 64, 7, 7])\n",
            "torch.Size([100, 10])\n",
            "shape after pool torch.Size([100, 64, 7, 7])\n",
            "torch.Size([100, 10])\n",
            "shape after pool torch.Size([100, 64, 7, 7])\n",
            "torch.Size([100, 10])\n",
            "shape after pool torch.Size([100, 64, 7, 7])\n",
            "torch.Size([100, 10])\n",
            "shape after pool torch.Size([100, 64, 7, 7])\n",
            "torch.Size([100, 10])\n",
            "shape after pool torch.Size([100, 64, 7, 7])\n",
            "torch.Size([100, 10])\n",
            "shape after pool torch.Size([100, 64, 7, 7])\n",
            "torch.Size([100, 10])\n",
            "shape after pool torch.Size([100, 64, 7, 7])\n",
            "torch.Size([100, 10])\n",
            "shape after pool torch.Size([100, 64, 7, 7])\n",
            "torch.Size([100, 10])\n",
            "shape after pool torch.Size([100, 64, 7, 7])\n",
            "torch.Size([100, 10])\n",
            "shape after pool torch.Size([100, 64, 7, 7])\n",
            "torch.Size([100, 10])\n",
            "shape after pool torch.Size([100, 64, 7, 7])\n",
            "torch.Size([100, 10])\n",
            "shape after pool torch.Size([100, 64, 7, 7])\n",
            "torch.Size([100, 10])\n",
            "shape after pool torch.Size([100, 64, 7, 7])\n",
            "torch.Size([100, 10])\n",
            "shape after pool torch.Size([100, 64, 7, 7])\n",
            "torch.Size([100, 10])\n",
            "shape after pool torch.Size([100, 64, 7, 7])\n",
            "torch.Size([100, 10])\n",
            "shape after pool torch.Size([100, 64, 7, 7])\n",
            "torch.Size([100, 10])\n",
            "shape after pool torch.Size([100, 64, 7, 7])\n",
            "torch.Size([100, 10])\n",
            "shape after pool torch.Size([100, 64, 7, 7])\n",
            "torch.Size([100, 10])\n",
            "shape after pool torch.Size([100, 64, 7, 7])\n",
            "torch.Size([100, 10])\n",
            "shape after pool torch.Size([100, 64, 7, 7])\n",
            "torch.Size([100, 10])\n",
            "shape after pool torch.Size([100, 64, 7, 7])\n",
            "torch.Size([100, 10])\n",
            "shape after pool torch.Size([100, 64, 7, 7])\n",
            "torch.Size([100, 10])\n",
            "shape after pool torch.Size([100, 64, 7, 7])\n",
            "torch.Size([100, 10])\n",
            "[epoch 1, iter 400] loss: 0.155\n",
            "shape after pool torch.Size([100, 64, 7, 7])\n",
            "torch.Size([100, 10])\n",
            "shape after pool torch.Size([100, 64, 7, 7])\n",
            "torch.Size([100, 10])\n",
            "shape after pool torch.Size([100, 64, 7, 7])\n",
            "torch.Size([100, 10])\n",
            "shape after pool torch.Size([100, 64, 7, 7])\n",
            "torch.Size([100, 10])\n",
            "shape after pool torch.Size([100, 64, 7, 7])\n",
            "torch.Size([100, 10])\n",
            "shape after pool torch.Size([100, 64, 7, 7])\n",
            "torch.Size([100, 10])\n",
            "shape after pool torch.Size([100, 64, 7, 7])\n",
            "torch.Size([100, 10])\n",
            "shape after pool torch.Size([100, 64, 7, 7])\n",
            "torch.Size([100, 10])\n",
            "shape after pool torch.Size([100, 64, 7, 7])\n",
            "torch.Size([100, 10])\n",
            "shape after pool torch.Size([100, 64, 7, 7])\n",
            "torch.Size([100, 10])\n",
            "shape after pool torch.Size([100, 64, 7, 7])\n",
            "torch.Size([100, 10])\n",
            "shape after pool torch.Size([100, 64, 7, 7])\n",
            "torch.Size([100, 10])\n",
            "shape after pool torch.Size([100, 64, 7, 7])\n",
            "torch.Size([100, 10])\n",
            "shape after pool torch.Size([100, 64, 7, 7])\n",
            "torch.Size([100, 10])\n",
            "shape after pool torch.Size([100, 64, 7, 7])\n",
            "torch.Size([100, 10])\n",
            "shape after pool torch.Size([100, 64, 7, 7])\n",
            "torch.Size([100, 10])\n",
            "shape after pool torch.Size([100, 64, 7, 7])\n",
            "torch.Size([100, 10])\n",
            "shape after pool torch.Size([100, 64, 7, 7])\n",
            "torch.Size([100, 10])\n",
            "shape after pool torch.Size([100, 64, 7, 7])\n",
            "torch.Size([100, 10])\n",
            "shape after pool torch.Size([100, 64, 7, 7])\n",
            "torch.Size([100, 10])\n",
            "shape after pool torch.Size([100, 64, 7, 7])\n",
            "torch.Size([100, 10])\n",
            "shape after pool torch.Size([100, 64, 7, 7])\n",
            "torch.Size([100, 10])\n",
            "shape after pool torch.Size([100, 64, 7, 7])\n",
            "torch.Size([100, 10])\n",
            "shape after pool torch.Size([100, 64, 7, 7])\n",
            "torch.Size([100, 10])\n",
            "shape after pool torch.Size([100, 64, 7, 7])\n",
            "torch.Size([100, 10])\n",
            "shape after pool torch.Size([100, 64, 7, 7])\n",
            "torch.Size([100, 10])\n",
            "shape after pool torch.Size([100, 64, 7, 7])\n",
            "torch.Size([100, 10])\n",
            "shape after pool torch.Size([100, 64, 7, 7])\n",
            "torch.Size([100, 10])\n",
            "shape after pool torch.Size([100, 64, 7, 7])\n",
            "torch.Size([100, 10])\n",
            "shape after pool torch.Size([100, 64, 7, 7])\n",
            "torch.Size([100, 10])\n",
            "shape after pool torch.Size([100, 64, 7, 7])\n",
            "torch.Size([100, 10])\n",
            "shape after pool torch.Size([100, 64, 7, 7])\n",
            "torch.Size([100, 10])\n",
            "shape after pool torch.Size([100, 64, 7, 7])\n",
            "torch.Size([100, 10])\n",
            "shape after pool torch.Size([100, 64, 7, 7])\n",
            "torch.Size([100, 10])\n",
            "shape after pool torch.Size([100, 64, 7, 7])\n",
            "torch.Size([100, 10])\n",
            "shape after pool torch.Size([100, 64, 7, 7])\n",
            "torch.Size([100, 10])\n",
            "shape after pool torch.Size([100, 64, 7, 7])\n",
            "torch.Size([100, 10])\n",
            "shape after pool torch.Size([100, 64, 7, 7])\n",
            "torch.Size([100, 10])\n",
            "shape after pool torch.Size([100, 64, 7, 7])\n",
            "torch.Size([100, 10])\n",
            "shape after pool torch.Size([100, 64, 7, 7])\n",
            "torch.Size([100, 10])\n",
            "shape after pool torch.Size([100, 64, 7, 7])\n",
            "torch.Size([100, 10])\n",
            "shape after pool torch.Size([100, 64, 7, 7])\n",
            "torch.Size([100, 10])\n",
            "shape after pool torch.Size([100, 64, 7, 7])\n",
            "torch.Size([100, 10])\n",
            "shape after pool torch.Size([100, 64, 7, 7])\n",
            "torch.Size([100, 10])\n",
            "shape after pool torch.Size([100, 64, 7, 7])\n",
            "torch.Size([100, 10])\n",
            "shape after pool torch.Size([100, 64, 7, 7])\n",
            "torch.Size([100, 10])\n",
            "shape after pool torch.Size([100, 64, 7, 7])\n",
            "torch.Size([100, 10])\n",
            "shape after pool torch.Size([100, 64, 7, 7])\n",
            "torch.Size([100, 10])\n",
            "shape after pool torch.Size([100, 64, 7, 7])\n",
            "torch.Size([100, 10])\n",
            "shape after pool torch.Size([100, 64, 7, 7])\n",
            "torch.Size([100, 10])\n",
            "shape after pool torch.Size([100, 64, 7, 7])\n",
            "torch.Size([100, 10])\n",
            "shape after pool torch.Size([100, 64, 7, 7])\n",
            "torch.Size([100, 10])\n",
            "shape after pool torch.Size([100, 64, 7, 7])\n",
            "torch.Size([100, 10])\n",
            "shape after pool torch.Size([100, 64, 7, 7])\n",
            "torch.Size([100, 10])\n",
            "shape after pool torch.Size([100, 64, 7, 7])\n",
            "torch.Size([100, 10])\n",
            "shape after pool torch.Size([100, 64, 7, 7])\n",
            "torch.Size([100, 10])\n",
            "shape after pool torch.Size([100, 64, 7, 7])\n",
            "torch.Size([100, 10])\n",
            "shape after pool torch.Size([100, 64, 7, 7])\n",
            "torch.Size([100, 10])\n",
            "shape after pool torch.Size([100, 64, 7, 7])\n",
            "torch.Size([100, 10])\n",
            "shape after pool torch.Size([100, 64, 7, 7])\n",
            "torch.Size([100, 10])\n",
            "shape after pool torch.Size([100, 64, 7, 7])\n",
            "torch.Size([100, 10])\n",
            "shape after pool torch.Size([100, 64, 7, 7])\n",
            "torch.Size([100, 10])\n",
            "shape after pool torch.Size([100, 64, 7, 7])\n",
            "torch.Size([100, 10])\n",
            "shape after pool torch.Size([100, 64, 7, 7])\n",
            "torch.Size([100, 10])\n",
            "shape after pool torch.Size([100, 64, 7, 7])\n",
            "torch.Size([100, 10])\n",
            "shape after pool torch.Size([100, 64, 7, 7])\n",
            "torch.Size([100, 10])\n",
            "shape after pool torch.Size([100, 64, 7, 7])\n",
            "torch.Size([100, 10])\n",
            "shape after pool torch.Size([100, 64, 7, 7])\n",
            "torch.Size([100, 10])\n",
            "shape after pool torch.Size([100, 64, 7, 7])\n",
            "torch.Size([100, 10])\n",
            "shape after pool torch.Size([100, 64, 7, 7])\n",
            "torch.Size([100, 10])\n",
            "shape after pool torch.Size([100, 64, 7, 7])\n",
            "torch.Size([100, 10])\n",
            "shape after pool torch.Size([100, 64, 7, 7])\n",
            "torch.Size([100, 10])\n",
            "shape after pool torch.Size([100, 64, 7, 7])\n",
            "torch.Size([100, 10])\n",
            "shape after pool torch.Size([100, 64, 7, 7])\n",
            "torch.Size([100, 10])\n",
            "shape after pool torch.Size([100, 64, 7, 7])\n",
            "torch.Size([100, 10])\n",
            "shape after pool torch.Size([100, 64, 7, 7])\n",
            "torch.Size([100, 10])\n",
            "shape after pool torch.Size([100, 64, 7, 7])\n",
            "torch.Size([100, 10])\n",
            "shape after pool torch.Size([100, 64, 7, 7])\n",
            "torch.Size([100, 10])\n",
            "shape after pool torch.Size([100, 64, 7, 7])\n",
            "torch.Size([100, 10])\n",
            "shape after pool torch.Size([100, 64, 7, 7])\n",
            "torch.Size([100, 10])\n",
            "shape after pool torch.Size([100, 64, 7, 7])\n",
            "torch.Size([100, 10])\n",
            "shape after pool torch.Size([100, 64, 7, 7])\n",
            "torch.Size([100, 10])\n",
            "shape after pool torch.Size([100, 64, 7, 7])\n",
            "torch.Size([100, 10])\n",
            "shape after pool torch.Size([100, 64, 7, 7])\n",
            "torch.Size([100, 10])\n",
            "shape after pool torch.Size([100, 64, 7, 7])\n",
            "torch.Size([100, 10])\n",
            "shape after pool torch.Size([100, 64, 7, 7])\n",
            "torch.Size([100, 10])\n",
            "shape after pool torch.Size([100, 64, 7, 7])\n",
            "torch.Size([100, 10])\n",
            "shape after pool torch.Size([100, 64, 7, 7])\n",
            "torch.Size([100, 10])\n",
            "shape after pool torch.Size([100, 64, 7, 7])\n",
            "torch.Size([100, 10])\n",
            "shape after pool torch.Size([100, 64, 7, 7])\n",
            "torch.Size([100, 10])\n",
            "shape after pool torch.Size([100, 64, 7, 7])\n",
            "torch.Size([100, 10])\n",
            "shape after pool torch.Size([100, 64, 7, 7])\n",
            "torch.Size([100, 10])\n",
            "shape after pool torch.Size([100, 64, 7, 7])\n",
            "torch.Size([100, 10])\n",
            "shape after pool torch.Size([100, 64, 7, 7])\n",
            "torch.Size([100, 10])\n",
            "shape after pool torch.Size([100, 64, 7, 7])\n",
            "torch.Size([100, 10])\n",
            "shape after pool torch.Size([100, 64, 7, 7])\n",
            "torch.Size([100, 10])\n",
            "shape after pool torch.Size([100, 64, 7, 7])\n",
            "torch.Size([100, 10])\n",
            "shape after pool torch.Size([100, 64, 7, 7])\n",
            "torch.Size([100, 10])\n",
            "shape after pool torch.Size([100, 64, 7, 7])\n",
            "torch.Size([100, 10])\n",
            "shape after pool torch.Size([100, 64, 7, 7])\n",
            "torch.Size([100, 10])\n",
            "[epoch 1, iter 500] loss: 0.142\n",
            "shape after pool torch.Size([100, 64, 7, 7])\n",
            "torch.Size([100, 10])\n",
            "shape after pool torch.Size([100, 64, 7, 7])\n",
            "torch.Size([100, 10])\n",
            "shape after pool torch.Size([100, 64, 7, 7])\n",
            "torch.Size([100, 10])\n",
            "shape after pool torch.Size([100, 64, 7, 7])\n",
            "torch.Size([100, 10])\n",
            "shape after pool torch.Size([100, 64, 7, 7])\n",
            "torch.Size([100, 10])\n",
            "shape after pool torch.Size([100, 64, 7, 7])\n",
            "torch.Size([100, 10])\n",
            "shape after pool torch.Size([100, 64, 7, 7])\n",
            "torch.Size([100, 10])\n",
            "shape after pool torch.Size([100, 64, 7, 7])\n",
            "torch.Size([100, 10])\n",
            "shape after pool torch.Size([100, 64, 7, 7])\n",
            "torch.Size([100, 10])\n",
            "shape after pool torch.Size([100, 64, 7, 7])\n",
            "torch.Size([100, 10])\n",
            "shape after pool torch.Size([100, 64, 7, 7])\n",
            "torch.Size([100, 10])\n",
            "shape after pool torch.Size([100, 64, 7, 7])\n",
            "torch.Size([100, 10])\n",
            "shape after pool torch.Size([100, 64, 7, 7])\n",
            "torch.Size([100, 10])\n",
            "shape after pool torch.Size([100, 64, 7, 7])\n",
            "torch.Size([100, 10])\n",
            "shape after pool torch.Size([100, 64, 7, 7])\n",
            "torch.Size([100, 10])\n",
            "shape after pool torch.Size([100, 64, 7, 7])\n",
            "torch.Size([100, 10])\n",
            "shape after pool torch.Size([100, 64, 7, 7])\n",
            "torch.Size([100, 10])\n",
            "shape after pool torch.Size([100, 64, 7, 7])\n",
            "torch.Size([100, 10])\n",
            "shape after pool torch.Size([100, 64, 7, 7])\n",
            "torch.Size([100, 10])\n",
            "shape after pool torch.Size([100, 64, 7, 7])\n",
            "torch.Size([100, 10])\n",
            "shape after pool torch.Size([100, 64, 7, 7])\n",
            "torch.Size([100, 10])\n",
            "shape after pool torch.Size([100, 64, 7, 7])\n",
            "torch.Size([100, 10])\n",
            "shape after pool torch.Size([100, 64, 7, 7])\n",
            "torch.Size([100, 10])\n",
            "shape after pool torch.Size([100, 64, 7, 7])\n",
            "torch.Size([100, 10])\n",
            "shape after pool torch.Size([100, 64, 7, 7])\n",
            "torch.Size([100, 10])\n",
            "shape after pool torch.Size([100, 64, 7, 7])\n",
            "torch.Size([100, 10])\n",
            "shape after pool torch.Size([100, 64, 7, 7])\n",
            "torch.Size([100, 10])\n",
            "shape after pool torch.Size([100, 64, 7, 7])\n",
            "torch.Size([100, 10])\n",
            "shape after pool torch.Size([100, 64, 7, 7])\n",
            "torch.Size([100, 10])\n",
            "shape after pool torch.Size([100, 64, 7, 7])\n",
            "torch.Size([100, 10])\n",
            "shape after pool torch.Size([100, 64, 7, 7])\n",
            "torch.Size([100, 10])\n",
            "shape after pool torch.Size([100, 64, 7, 7])\n",
            "torch.Size([100, 10])\n",
            "shape after pool torch.Size([100, 64, 7, 7])\n",
            "torch.Size([100, 10])\n",
            "shape after pool torch.Size([100, 64, 7, 7])\n",
            "torch.Size([100, 10])\n",
            "shape after pool torch.Size([100, 64, 7, 7])\n",
            "torch.Size([100, 10])\n",
            "shape after pool torch.Size([100, 64, 7, 7])\n",
            "torch.Size([100, 10])\n",
            "shape after pool torch.Size([100, 64, 7, 7])\n",
            "torch.Size([100, 10])\n",
            "shape after pool torch.Size([100, 64, 7, 7])\n",
            "torch.Size([100, 10])\n",
            "shape after pool torch.Size([100, 64, 7, 7])\n",
            "torch.Size([100, 10])\n",
            "shape after pool torch.Size([100, 64, 7, 7])\n",
            "torch.Size([100, 10])\n",
            "shape after pool torch.Size([100, 64, 7, 7])\n",
            "torch.Size([100, 10])\n",
            "shape after pool torch.Size([100, 64, 7, 7])\n",
            "torch.Size([100, 10])\n",
            "shape after pool torch.Size([100, 64, 7, 7])\n",
            "torch.Size([100, 10])\n",
            "shape after pool torch.Size([100, 64, 7, 7])\n",
            "torch.Size([100, 10])\n",
            "shape after pool torch.Size([100, 64, 7, 7])\n",
            "torch.Size([100, 10])\n",
            "shape after pool torch.Size([100, 64, 7, 7])\n",
            "torch.Size([100, 10])\n",
            "shape after pool torch.Size([100, 64, 7, 7])\n",
            "torch.Size([100, 10])\n",
            "shape after pool torch.Size([100, 64, 7, 7])\n",
            "torch.Size([100, 10])\n",
            "shape after pool torch.Size([100, 64, 7, 7])\n",
            "torch.Size([100, 10])\n",
            "shape after pool torch.Size([100, 64, 7, 7])\n",
            "torch.Size([100, 10])\n",
            "shape after pool torch.Size([100, 64, 7, 7])\n",
            "torch.Size([100, 10])\n",
            "shape after pool torch.Size([100, 64, 7, 7])\n",
            "torch.Size([100, 10])\n",
            "shape after pool torch.Size([100, 64, 7, 7])\n",
            "torch.Size([100, 10])\n",
            "shape after pool torch.Size([100, 64, 7, 7])\n",
            "torch.Size([100, 10])\n",
            "shape after pool torch.Size([100, 64, 7, 7])\n",
            "torch.Size([100, 10])\n",
            "shape after pool torch.Size([100, 64, 7, 7])\n",
            "torch.Size([100, 10])\n",
            "shape after pool torch.Size([100, 64, 7, 7])\n",
            "torch.Size([100, 10])\n",
            "shape after pool torch.Size([100, 64, 7, 7])\n",
            "torch.Size([100, 10])\n",
            "shape after pool torch.Size([100, 64, 7, 7])\n",
            "torch.Size([100, 10])\n",
            "shape after pool torch.Size([100, 64, 7, 7])\n",
            "torch.Size([100, 10])\n",
            "shape after pool torch.Size([100, 64, 7, 7])\n",
            "torch.Size([100, 10])\n",
            "shape after pool torch.Size([100, 64, 7, 7])\n",
            "torch.Size([100, 10])\n",
            "shape after pool torch.Size([100, 64, 7, 7])\n",
            "torch.Size([100, 10])\n",
            "shape after pool torch.Size([100, 64, 7, 7])\n",
            "torch.Size([100, 10])\n",
            "shape after pool torch.Size([100, 64, 7, 7])\n",
            "torch.Size([100, 10])\n",
            "shape after pool torch.Size([100, 64, 7, 7])\n",
            "torch.Size([100, 10])\n",
            "shape after pool torch.Size([100, 64, 7, 7])\n",
            "torch.Size([100, 10])\n",
            "shape after pool torch.Size([100, 64, 7, 7])\n",
            "torch.Size([100, 10])\n",
            "shape after pool torch.Size([100, 64, 7, 7])\n",
            "torch.Size([100, 10])\n",
            "shape after pool torch.Size([100, 64, 7, 7])\n",
            "torch.Size([100, 10])\n",
            "shape after pool torch.Size([100, 64, 7, 7])\n",
            "torch.Size([100, 10])\n",
            "shape after pool torch.Size([100, 64, 7, 7])\n",
            "torch.Size([100, 10])\n",
            "shape after pool torch.Size([100, 64, 7, 7])\n",
            "torch.Size([100, 10])\n",
            "shape after pool torch.Size([100, 64, 7, 7])\n",
            "torch.Size([100, 10])\n",
            "shape after pool torch.Size([100, 64, 7, 7])\n",
            "torch.Size([100, 10])\n"
          ],
          "name": "stdout"
        },
        {
          "output_type": "error",
          "ename": "KeyboardInterrupt",
          "evalue": "ignored",
          "traceback": [
            "\u001b[0;31m---------------------------------------------------------------------------\u001b[0m",
            "\u001b[0;31mKeyboardInterrupt\u001b[0m                         Traceback (most recent call last)",
            "\u001b[0;32m<ipython-input-246-777bfd093d7c>\u001b[0m in \u001b[0;36m<module>\u001b[0;34m()\u001b[0m\n\u001b[1;32m     16\u001b[0m \u001b[0;34m\u001b[0m\u001b[0m\n\u001b[1;32m     17\u001b[0m   \u001b[0mrunning_loss\u001b[0m \u001b[0;34m=\u001b[0m \u001b[0;36m0\u001b[0m \u001b[0;31m# we will update this value with a running average of the loss, computed by hand, to print during trainig. Note that the loss can also be seen on TensorBoard, and the plot has a smoothing option.\u001b[0m\u001b[0;34m\u001b[0m\u001b[0;34m\u001b[0m\u001b[0m\n\u001b[0;32m---> 18\u001b[0;31m   \u001b[0;32mfor\u001b[0m \u001b[0mi\u001b[0m\u001b[0;34m,\u001b[0m \u001b[0mdata\u001b[0m \u001b[0;32min\u001b[0m \u001b[0menumerate\u001b[0m\u001b[0;34m(\u001b[0m\u001b[0mtrainloader\u001b[0m\u001b[0;34m)\u001b[0m\u001b[0;34m:\u001b[0m\u001b[0;34m\u001b[0m\u001b[0;34m\u001b[0m\u001b[0m\n\u001b[0m\u001b[1;32m     19\u001b[0m     \u001b[0;31m# get the next minibatch of data\u001b[0m\u001b[0;34m\u001b[0m\u001b[0;34m\u001b[0m\u001b[0;34m\u001b[0m\u001b[0m\n\u001b[1;32m     20\u001b[0m     \u001b[0minputs\u001b[0m\u001b[0;34m,\u001b[0m \u001b[0mlabels\u001b[0m \u001b[0;34m=\u001b[0m \u001b[0mdata\u001b[0m\u001b[0;34m\u001b[0m\u001b[0;34m\u001b[0m\u001b[0m\n",
            "\u001b[0;32m/usr/local/lib/python3.6/dist-packages/torch/utils/data/dataloader.py\u001b[0m in \u001b[0;36m__next__\u001b[0;34m(self)\u001b[0m\n\u001b[1;32m    433\u001b[0m         \u001b[0;32mif\u001b[0m \u001b[0mself\u001b[0m\u001b[0;34m.\u001b[0m\u001b[0m_sampler_iter\u001b[0m \u001b[0;32mis\u001b[0m \u001b[0;32mNone\u001b[0m\u001b[0;34m:\u001b[0m\u001b[0;34m\u001b[0m\u001b[0;34m\u001b[0m\u001b[0m\n\u001b[1;32m    434\u001b[0m             \u001b[0mself\u001b[0m\u001b[0;34m.\u001b[0m\u001b[0m_reset\u001b[0m\u001b[0;34m(\u001b[0m\u001b[0;34m)\u001b[0m\u001b[0;34m\u001b[0m\u001b[0;34m\u001b[0m\u001b[0m\n\u001b[0;32m--> 435\u001b[0;31m         \u001b[0mdata\u001b[0m \u001b[0;34m=\u001b[0m \u001b[0mself\u001b[0m\u001b[0;34m.\u001b[0m\u001b[0m_next_data\u001b[0m\u001b[0;34m(\u001b[0m\u001b[0;34m)\u001b[0m\u001b[0;34m\u001b[0m\u001b[0;34m\u001b[0m\u001b[0m\n\u001b[0m\u001b[1;32m    436\u001b[0m         \u001b[0mself\u001b[0m\u001b[0;34m.\u001b[0m\u001b[0m_num_yielded\u001b[0m \u001b[0;34m+=\u001b[0m \u001b[0;36m1\u001b[0m\u001b[0;34m\u001b[0m\u001b[0;34m\u001b[0m\u001b[0m\n\u001b[1;32m    437\u001b[0m         \u001b[0;32mif\u001b[0m \u001b[0mself\u001b[0m\u001b[0;34m.\u001b[0m\u001b[0m_dataset_kind\u001b[0m \u001b[0;34m==\u001b[0m \u001b[0m_DatasetKind\u001b[0m\u001b[0;34m.\u001b[0m\u001b[0mIterable\u001b[0m \u001b[0;32mand\u001b[0m\u001b[0;31m \u001b[0m\u001b[0;31m\\\u001b[0m\u001b[0;34m\u001b[0m\u001b[0;34m\u001b[0m\u001b[0m\n",
            "\u001b[0;32m/usr/local/lib/python3.6/dist-packages/torch/utils/data/dataloader.py\u001b[0m in \u001b[0;36m_next_data\u001b[0;34m(self)\u001b[0m\n\u001b[1;32m    473\u001b[0m     \u001b[0;32mdef\u001b[0m \u001b[0m_next_data\u001b[0m\u001b[0;34m(\u001b[0m\u001b[0mself\u001b[0m\u001b[0;34m)\u001b[0m\u001b[0;34m:\u001b[0m\u001b[0;34m\u001b[0m\u001b[0;34m\u001b[0m\u001b[0m\n\u001b[1;32m    474\u001b[0m         \u001b[0mindex\u001b[0m \u001b[0;34m=\u001b[0m \u001b[0mself\u001b[0m\u001b[0;34m.\u001b[0m\u001b[0m_next_index\u001b[0m\u001b[0;34m(\u001b[0m\u001b[0;34m)\u001b[0m  \u001b[0;31m# may raise StopIteration\u001b[0m\u001b[0;34m\u001b[0m\u001b[0;34m\u001b[0m\u001b[0m\n\u001b[0;32m--> 475\u001b[0;31m         \u001b[0mdata\u001b[0m \u001b[0;34m=\u001b[0m \u001b[0mself\u001b[0m\u001b[0;34m.\u001b[0m\u001b[0m_dataset_fetcher\u001b[0m\u001b[0;34m.\u001b[0m\u001b[0mfetch\u001b[0m\u001b[0;34m(\u001b[0m\u001b[0mindex\u001b[0m\u001b[0;34m)\u001b[0m  \u001b[0;31m# may raise StopIteration\u001b[0m\u001b[0;34m\u001b[0m\u001b[0;34m\u001b[0m\u001b[0m\n\u001b[0m\u001b[1;32m    476\u001b[0m         \u001b[0;32mif\u001b[0m \u001b[0mself\u001b[0m\u001b[0;34m.\u001b[0m\u001b[0m_pin_memory\u001b[0m\u001b[0;34m:\u001b[0m\u001b[0;34m\u001b[0m\u001b[0;34m\u001b[0m\u001b[0m\n\u001b[1;32m    477\u001b[0m             \u001b[0mdata\u001b[0m \u001b[0;34m=\u001b[0m \u001b[0m_utils\u001b[0m\u001b[0;34m.\u001b[0m\u001b[0mpin_memory\u001b[0m\u001b[0;34m.\u001b[0m\u001b[0mpin_memory\u001b[0m\u001b[0;34m(\u001b[0m\u001b[0mdata\u001b[0m\u001b[0;34m)\u001b[0m\u001b[0;34m\u001b[0m\u001b[0;34m\u001b[0m\u001b[0m\n",
            "\u001b[0;32m/usr/local/lib/python3.6/dist-packages/torch/utils/data/_utils/fetch.py\u001b[0m in \u001b[0;36mfetch\u001b[0;34m(self, possibly_batched_index)\u001b[0m\n\u001b[1;32m     42\u001b[0m     \u001b[0;32mdef\u001b[0m \u001b[0mfetch\u001b[0m\u001b[0;34m(\u001b[0m\u001b[0mself\u001b[0m\u001b[0;34m,\u001b[0m \u001b[0mpossibly_batched_index\u001b[0m\u001b[0;34m)\u001b[0m\u001b[0;34m:\u001b[0m\u001b[0;34m\u001b[0m\u001b[0;34m\u001b[0m\u001b[0m\n\u001b[1;32m     43\u001b[0m         \u001b[0;32mif\u001b[0m \u001b[0mself\u001b[0m\u001b[0;34m.\u001b[0m\u001b[0mauto_collation\u001b[0m\u001b[0;34m:\u001b[0m\u001b[0;34m\u001b[0m\u001b[0;34m\u001b[0m\u001b[0m\n\u001b[0;32m---> 44\u001b[0;31m             \u001b[0mdata\u001b[0m \u001b[0;34m=\u001b[0m \u001b[0;34m[\u001b[0m\u001b[0mself\u001b[0m\u001b[0;34m.\u001b[0m\u001b[0mdataset\u001b[0m\u001b[0;34m[\u001b[0m\u001b[0midx\u001b[0m\u001b[0;34m]\u001b[0m \u001b[0;32mfor\u001b[0m \u001b[0midx\u001b[0m \u001b[0;32min\u001b[0m \u001b[0mpossibly_batched_index\u001b[0m\u001b[0;34m]\u001b[0m\u001b[0;34m\u001b[0m\u001b[0;34m\u001b[0m\u001b[0m\n\u001b[0m\u001b[1;32m     45\u001b[0m         \u001b[0;32melse\u001b[0m\u001b[0;34m:\u001b[0m\u001b[0;34m\u001b[0m\u001b[0;34m\u001b[0m\u001b[0m\n\u001b[1;32m     46\u001b[0m             \u001b[0mdata\u001b[0m \u001b[0;34m=\u001b[0m \u001b[0mself\u001b[0m\u001b[0;34m.\u001b[0m\u001b[0mdataset\u001b[0m\u001b[0;34m[\u001b[0m\u001b[0mpossibly_batched_index\u001b[0m\u001b[0;34m]\u001b[0m\u001b[0;34m\u001b[0m\u001b[0;34m\u001b[0m\u001b[0m\n",
            "\u001b[0;32m/usr/local/lib/python3.6/dist-packages/torch/utils/data/_utils/fetch.py\u001b[0m in \u001b[0;36m<listcomp>\u001b[0;34m(.0)\u001b[0m\n\u001b[1;32m     42\u001b[0m     \u001b[0;32mdef\u001b[0m \u001b[0mfetch\u001b[0m\u001b[0;34m(\u001b[0m\u001b[0mself\u001b[0m\u001b[0;34m,\u001b[0m \u001b[0mpossibly_batched_index\u001b[0m\u001b[0;34m)\u001b[0m\u001b[0;34m:\u001b[0m\u001b[0;34m\u001b[0m\u001b[0;34m\u001b[0m\u001b[0m\n\u001b[1;32m     43\u001b[0m         \u001b[0;32mif\u001b[0m \u001b[0mself\u001b[0m\u001b[0;34m.\u001b[0m\u001b[0mauto_collation\u001b[0m\u001b[0;34m:\u001b[0m\u001b[0;34m\u001b[0m\u001b[0;34m\u001b[0m\u001b[0m\n\u001b[0;32m---> 44\u001b[0;31m             \u001b[0mdata\u001b[0m \u001b[0;34m=\u001b[0m \u001b[0;34m[\u001b[0m\u001b[0mself\u001b[0m\u001b[0;34m.\u001b[0m\u001b[0mdataset\u001b[0m\u001b[0;34m[\u001b[0m\u001b[0midx\u001b[0m\u001b[0;34m]\u001b[0m \u001b[0;32mfor\u001b[0m \u001b[0midx\u001b[0m \u001b[0;32min\u001b[0m \u001b[0mpossibly_batched_index\u001b[0m\u001b[0;34m]\u001b[0m\u001b[0;34m\u001b[0m\u001b[0;34m\u001b[0m\u001b[0m\n\u001b[0m\u001b[1;32m     45\u001b[0m         \u001b[0;32melse\u001b[0m\u001b[0;34m:\u001b[0m\u001b[0;34m\u001b[0m\u001b[0;34m\u001b[0m\u001b[0m\n\u001b[1;32m     46\u001b[0m             \u001b[0mdata\u001b[0m \u001b[0;34m=\u001b[0m \u001b[0mself\u001b[0m\u001b[0;34m.\u001b[0m\u001b[0mdataset\u001b[0m\u001b[0;34m[\u001b[0m\u001b[0mpossibly_batched_index\u001b[0m\u001b[0;34m]\u001b[0m\u001b[0;34m\u001b[0m\u001b[0;34m\u001b[0m\u001b[0m\n",
            "\u001b[0;32m/usr/local/lib/python3.6/dist-packages/torchvision/datasets/mnist.py\u001b[0m in \u001b[0;36m__getitem__\u001b[0;34m(self, index)\u001b[0m\n\u001b[1;32m    104\u001b[0m \u001b[0;34m\u001b[0m\u001b[0m\n\u001b[1;32m    105\u001b[0m         \u001b[0;32mif\u001b[0m \u001b[0mself\u001b[0m\u001b[0;34m.\u001b[0m\u001b[0mtransform\u001b[0m \u001b[0;32mis\u001b[0m \u001b[0;32mnot\u001b[0m \u001b[0;32mNone\u001b[0m\u001b[0;34m:\u001b[0m\u001b[0;34m\u001b[0m\u001b[0;34m\u001b[0m\u001b[0m\n\u001b[0;32m--> 106\u001b[0;31m             \u001b[0mimg\u001b[0m \u001b[0;34m=\u001b[0m \u001b[0mself\u001b[0m\u001b[0;34m.\u001b[0m\u001b[0mtransform\u001b[0m\u001b[0;34m(\u001b[0m\u001b[0mimg\u001b[0m\u001b[0;34m)\u001b[0m\u001b[0;34m\u001b[0m\u001b[0;34m\u001b[0m\u001b[0m\n\u001b[0m\u001b[1;32m    107\u001b[0m \u001b[0;34m\u001b[0m\u001b[0m\n\u001b[1;32m    108\u001b[0m         \u001b[0;32mif\u001b[0m \u001b[0mself\u001b[0m\u001b[0;34m.\u001b[0m\u001b[0mtarget_transform\u001b[0m \u001b[0;32mis\u001b[0m \u001b[0;32mnot\u001b[0m \u001b[0;32mNone\u001b[0m\u001b[0;34m:\u001b[0m\u001b[0;34m\u001b[0m\u001b[0;34m\u001b[0m\u001b[0m\n",
            "\u001b[0;32m/usr/local/lib/python3.6/dist-packages/torchvision/transforms/transforms.py\u001b[0m in \u001b[0;36m__call__\u001b[0;34m(self, img)\u001b[0m\n\u001b[1;32m     65\u001b[0m     \u001b[0;32mdef\u001b[0m \u001b[0m__call__\u001b[0m\u001b[0;34m(\u001b[0m\u001b[0mself\u001b[0m\u001b[0;34m,\u001b[0m \u001b[0mimg\u001b[0m\u001b[0;34m)\u001b[0m\u001b[0;34m:\u001b[0m\u001b[0;34m\u001b[0m\u001b[0;34m\u001b[0m\u001b[0m\n\u001b[1;32m     66\u001b[0m         \u001b[0;32mfor\u001b[0m \u001b[0mt\u001b[0m \u001b[0;32min\u001b[0m \u001b[0mself\u001b[0m\u001b[0;34m.\u001b[0m\u001b[0mtransforms\u001b[0m\u001b[0;34m:\u001b[0m\u001b[0;34m\u001b[0m\u001b[0;34m\u001b[0m\u001b[0m\n\u001b[0;32m---> 67\u001b[0;31m             \u001b[0mimg\u001b[0m \u001b[0;34m=\u001b[0m \u001b[0mt\u001b[0m\u001b[0;34m(\u001b[0m\u001b[0mimg\u001b[0m\u001b[0;34m)\u001b[0m\u001b[0;34m\u001b[0m\u001b[0;34m\u001b[0m\u001b[0m\n\u001b[0m\u001b[1;32m     68\u001b[0m         \u001b[0;32mreturn\u001b[0m \u001b[0mimg\u001b[0m\u001b[0;34m\u001b[0m\u001b[0;34m\u001b[0m\u001b[0m\n\u001b[1;32m     69\u001b[0m \u001b[0;34m\u001b[0m\u001b[0m\n",
            "\u001b[0;32m/usr/local/lib/python3.6/dist-packages/torch/nn/modules/module.py\u001b[0m in \u001b[0;36m_call_impl\u001b[0;34m(self, *input, **kwargs)\u001b[0m\n\u001b[1;32m    725\u001b[0m             \u001b[0mresult\u001b[0m \u001b[0;34m=\u001b[0m \u001b[0mself\u001b[0m\u001b[0;34m.\u001b[0m\u001b[0m_slow_forward\u001b[0m\u001b[0;34m(\u001b[0m\u001b[0;34m*\u001b[0m\u001b[0minput\u001b[0m\u001b[0;34m,\u001b[0m \u001b[0;34m**\u001b[0m\u001b[0mkwargs\u001b[0m\u001b[0;34m)\u001b[0m\u001b[0;34m\u001b[0m\u001b[0;34m\u001b[0m\u001b[0m\n\u001b[1;32m    726\u001b[0m         \u001b[0;32melse\u001b[0m\u001b[0;34m:\u001b[0m\u001b[0;34m\u001b[0m\u001b[0;34m\u001b[0m\u001b[0m\n\u001b[0;32m--> 727\u001b[0;31m             \u001b[0mresult\u001b[0m \u001b[0;34m=\u001b[0m \u001b[0mself\u001b[0m\u001b[0;34m.\u001b[0m\u001b[0mforward\u001b[0m\u001b[0;34m(\u001b[0m\u001b[0;34m*\u001b[0m\u001b[0minput\u001b[0m\u001b[0;34m,\u001b[0m \u001b[0;34m**\u001b[0m\u001b[0mkwargs\u001b[0m\u001b[0;34m)\u001b[0m\u001b[0;34m\u001b[0m\u001b[0;34m\u001b[0m\u001b[0m\n\u001b[0m\u001b[1;32m    728\u001b[0m         for hook in itertools.chain(\n\u001b[1;32m    729\u001b[0m                 \u001b[0m_global_forward_hooks\u001b[0m\u001b[0;34m.\u001b[0m\u001b[0mvalues\u001b[0m\u001b[0;34m(\u001b[0m\u001b[0;34m)\u001b[0m\u001b[0;34m,\u001b[0m\u001b[0;34m\u001b[0m\u001b[0;34m\u001b[0m\u001b[0m\n",
            "\u001b[0;32m/usr/local/lib/python3.6/dist-packages/torchvision/transforms/transforms.py\u001b[0m in \u001b[0;36mforward\u001b[0;34m(self, tensor)\u001b[0m\n\u001b[1;32m    224\u001b[0m             \u001b[0mTensor\u001b[0m\u001b[0;34m:\u001b[0m \u001b[0mNormalized\u001b[0m \u001b[0mTensor\u001b[0m \u001b[0mimage\u001b[0m\u001b[0;34m.\u001b[0m\u001b[0;34m\u001b[0m\u001b[0;34m\u001b[0m\u001b[0m\n\u001b[1;32m    225\u001b[0m         \"\"\"\n\u001b[0;32m--> 226\u001b[0;31m         \u001b[0;32mreturn\u001b[0m \u001b[0mF\u001b[0m\u001b[0;34m.\u001b[0m\u001b[0mnormalize\u001b[0m\u001b[0;34m(\u001b[0m\u001b[0mtensor\u001b[0m\u001b[0;34m,\u001b[0m \u001b[0mself\u001b[0m\u001b[0;34m.\u001b[0m\u001b[0mmean\u001b[0m\u001b[0;34m,\u001b[0m \u001b[0mself\u001b[0m\u001b[0;34m.\u001b[0m\u001b[0mstd\u001b[0m\u001b[0;34m,\u001b[0m \u001b[0mself\u001b[0m\u001b[0;34m.\u001b[0m\u001b[0minplace\u001b[0m\u001b[0;34m)\u001b[0m\u001b[0;34m\u001b[0m\u001b[0;34m\u001b[0m\u001b[0m\n\u001b[0m\u001b[1;32m    227\u001b[0m \u001b[0;34m\u001b[0m\u001b[0m\n\u001b[1;32m    228\u001b[0m     \u001b[0;32mdef\u001b[0m \u001b[0m__repr__\u001b[0m\u001b[0;34m(\u001b[0m\u001b[0mself\u001b[0m\u001b[0;34m)\u001b[0m\u001b[0;34m:\u001b[0m\u001b[0;34m\u001b[0m\u001b[0;34m\u001b[0m\u001b[0m\n",
            "\u001b[0;32m/usr/local/lib/python3.6/dist-packages/torchvision/transforms/functional.py\u001b[0m in \u001b[0;36mnormalize\u001b[0;34m(tensor, mean, std, inplace)\u001b[0m\n\u001b[1;32m    276\u001b[0m     \u001b[0mmean\u001b[0m \u001b[0;34m=\u001b[0m \u001b[0mtorch\u001b[0m\u001b[0;34m.\u001b[0m\u001b[0mas_tensor\u001b[0m\u001b[0;34m(\u001b[0m\u001b[0mmean\u001b[0m\u001b[0;34m,\u001b[0m \u001b[0mdtype\u001b[0m\u001b[0;34m=\u001b[0m\u001b[0mdtype\u001b[0m\u001b[0;34m,\u001b[0m \u001b[0mdevice\u001b[0m\u001b[0;34m=\u001b[0m\u001b[0mtensor\u001b[0m\u001b[0;34m.\u001b[0m\u001b[0mdevice\u001b[0m\u001b[0;34m)\u001b[0m\u001b[0;34m\u001b[0m\u001b[0;34m\u001b[0m\u001b[0m\n\u001b[1;32m    277\u001b[0m     \u001b[0mstd\u001b[0m \u001b[0;34m=\u001b[0m \u001b[0mtorch\u001b[0m\u001b[0;34m.\u001b[0m\u001b[0mas_tensor\u001b[0m\u001b[0;34m(\u001b[0m\u001b[0mstd\u001b[0m\u001b[0;34m,\u001b[0m \u001b[0mdtype\u001b[0m\u001b[0;34m=\u001b[0m\u001b[0mdtype\u001b[0m\u001b[0;34m,\u001b[0m \u001b[0mdevice\u001b[0m\u001b[0;34m=\u001b[0m\u001b[0mtensor\u001b[0m\u001b[0;34m.\u001b[0m\u001b[0mdevice\u001b[0m\u001b[0;34m)\u001b[0m\u001b[0;34m\u001b[0m\u001b[0;34m\u001b[0m\u001b[0m\n\u001b[0;32m--> 278\u001b[0;31m     \u001b[0;32mif\u001b[0m \u001b[0;34m(\u001b[0m\u001b[0mstd\u001b[0m \u001b[0;34m==\u001b[0m \u001b[0;36m0\u001b[0m\u001b[0;34m)\u001b[0m\u001b[0;34m.\u001b[0m\u001b[0many\u001b[0m\u001b[0;34m(\u001b[0m\u001b[0;34m)\u001b[0m\u001b[0;34m:\u001b[0m\u001b[0;34m\u001b[0m\u001b[0;34m\u001b[0m\u001b[0m\n\u001b[0m\u001b[1;32m    279\u001b[0m         \u001b[0;32mraise\u001b[0m \u001b[0mValueError\u001b[0m\u001b[0;34m(\u001b[0m\u001b[0;34m'std evaluated to zero after conversion to {}, leading to division by zero.'\u001b[0m\u001b[0;34m.\u001b[0m\u001b[0mformat\u001b[0m\u001b[0;34m(\u001b[0m\u001b[0mdtype\u001b[0m\u001b[0;34m)\u001b[0m\u001b[0;34m)\u001b[0m\u001b[0;34m\u001b[0m\u001b[0;34m\u001b[0m\u001b[0m\n\u001b[1;32m    280\u001b[0m     \u001b[0;32mif\u001b[0m \u001b[0mmean\u001b[0m\u001b[0;34m.\u001b[0m\u001b[0mndim\u001b[0m \u001b[0;34m==\u001b[0m \u001b[0;36m1\u001b[0m\u001b[0;34m:\u001b[0m\u001b[0;34m\u001b[0m\u001b[0;34m\u001b[0m\u001b[0m\n",
            "\u001b[0;31mKeyboardInterrupt\u001b[0m: "
          ]
        }
      ]
    },
    {
      "cell_type": "markdown",
      "metadata": {
        "id": "yGnCDGiYapsU"
      },
      "source": [
        "## Tester sur les données de test"
      ]
    },
    {
      "cell_type": "code",
      "metadata": {
        "id": "CqKiwiqVa2au",
        "colab": {
          "base_uri": "https://localhost:8080/",
          "height": 342
        },
        "outputId": "ae1d9042-4785-4274-903d-4ab84f7a6916"
      },
      "source": [
        "net.eval() # set the network in evaluation mode (as opposed to training mode; see comment above when we called net.train())\n",
        "\n",
        "# load a set of example images from the testing set\n",
        "dataiter = iter(testloader)\n",
        "images, labels = dataiter.next()\n",
        "\n",
        "num_examples = images.size()[0]\n",
        "\n",
        "# plot the examples\n",
        "imshow(torchvision.utils.make_grid(images))\n",
        "\n",
        "# move the examples and the labels to the GPU if available (if the network is on the GPU, we have to move any data there before processing it!)\n",
        "images = images.to(device)\n",
        "labels = labels.to(device)\n",
        "\n",
        "# compute predictions and bring them back to the CPU\n",
        "outputs = net(images)\n",
        "_, predictions = torch.max(outputs, 1)\n",
        "\n",
        "\n",
        "#print(' '.join(('{}'.format(j) for j in labels)))\n",
        "print(\"Ground truth: \", \" \".join(\"{}\".format(labels[j]) for j in range(num_examples)))\n",
        "print(\"Predicted:    \", \" \".join(\"{}\".format(predictions[j]) for j in range(num_examples)))\n",
        "print(\"Accuracy: {}%\".format(100*(labels==predictions).sum()/num_examples))"
      ],
      "execution_count": 53,
      "outputs": [
        {
          "output_type": "stream",
          "text": [
            "Ground truth:  7 2 1 0 4 1 4 9 5 9 0 6 9 0 1 5 9 7 3 4 9 6 6 5 4 0 7 4 0 1 3 1 3 4 7 2 7 1 2 1 1 7 4 2 3 5 1 2 4 4 6 3 5 5 6 0 4 1 9 5 7 8 9 3 7 4 6 4 3 0 7 0 2 9 1 7 3 2 9 7 7 6 2 7 8 4 7 3 6 1 3 6 9 3 1 4 1 7 6 9\n",
            "Predicted:     7 2 1 0 4 1 4 9 5 9 0 6 9 0 1 5 9 7 3 4 9 6 6 5 4 0 7 4 0 1 3 1 3 4 7 2 7 1 2 1 1 7 4 2 3 5 1 2 4 4 6 3 5 5 6 0 4 1 9 5 7 8 9 3 7 4 6 4 3 0 7 0 2 9 1 7 3 2 9 7 7 6 2 7 8 4 7 3 6 1 3 6 9 3 1 4 1 7 6 9\n",
            "Accuracy: 100.0%\n"
          ],
          "name": "stdout"
        },
        {
          "output_type": "display_data",
          "data": {
            "image/png": "[encoded data removed]",
            "text/plain": [
              "<Figure size 432x288 with 1 Axes>"
            ]
          },
          "metadata": {
            "tags": [],
            "needs_background": "light"
          }
        }
      ]
    },
    {
      "cell_type": "markdown",
      "metadata": {
        "id": "u5ZiM3wQa6FM"
      },
      "source": [
        "## Visualiser les filtres\n",
        "Les filtres du réseau formé peuvent être visualisés en utilisant la même fonction que celle utilisée pour générer les images envoyé à TensorBoard pendant l'apprentissage (mais vous êtes encouragés à utiliser TensorBoard et à regarder comment les filtres ont évolué depuis leur état initial !)\n",
        "\n",
        "En regardant le résultat ci-dessous, voyez-vous une tendance intéressante ?"
      ]
    },
    {
      "cell_type": "code",
      "metadata": {
        "id": "R8EHJrnqbWV9",
        "colab": {
          "base_uri": "https://localhost:8080/",
          "height": 331
        },
        "outputId": "f0ee2850-86a9-4680-f211-a5eb8d91191c"
      },
      "source": [
        "visualize_filters(net.conv1)"
      ],
      "execution_count": 54,
      "outputs": [
        {
          "output_type": "display_data",
          "data": {
            "image/png": "[encoded data removed]",
            "text/plain": [
              "<Figure size 705.6x705.6 with 1 Axes>"
            ]
          },
          "metadata": {
            "tags": [],
            "needs_background": "light"
          }
        }
      ]
    },
    {
      "cell_type": "markdown",
      "metadata": {
        "id": "vbLQ0488baSX"
      },
      "source": [
        "# Exercice\n",
        "\n",
        "Essayez maintenant d'implémenter un réseau convolutif qui effectue la classification des images sur[CIFAR10] (https://www.cs.toronto.edu/~kriz/cifar.html). CIFAR10 est une base de données d'images utilisé pour la reconnaissance d'objets. Il s'agit d'un sous-ensemble de l'ensemble de données[80 millions de minuscules images] (http://people.csail.mit.edu/torralba/tinyimages/) et se compose de 60 000 images couleur 32x32 contenant une des 10 classes d'objets, avec 6 000 images par classe. Les classes d'objets sont les suivantes :\n",
        "\n",
        "\n",
        "0. Avion\n",
        "1. Automobile\n",
        "2. Oiseau\n",
        "3. Chat\n",
        "4. Cerf\n",
        "5. Chien\n",
        "6. Grenouille\n",
        "7. Cheval\n",
        "8. Navire\n",
        "9. Camion\n",
        "\n",
        "\n",
        "\n",
        "Comme MNIST, CIFAR est accessible[directement depuis PyTorch](https://pytorch.org/docs/stable/torchvision/datasets.html#cifar) ; l'interface du chargeur de données devrait être très similaire. Vous pouvez commencer par implémenter une architecture comme celle que nous avons utilisée pour MNIST, et en la formant de la même manière. **Notez que l'entrée est en couleur RVB, et a une taille différente de MNIST (CIFAR est 3x32x32 alors que MNIST est 1x28x28), donc vous devrez probablement commencer par ajuster votre architecture pour y faire face**. Après l'avoir fait fonctionner, vous pouvez essayer de le modifier pour voir ce qui se passe si vous ajoutez, supprimez ou modifiez la taille des filtres, ajoutez ou supprimez des calques, etc."
      ]
    },
    {
      "cell_type": "code",
      "metadata": {
        "id": "H_9To6lTcCEk",
        "colab": {
          "base_uri": "https://localhost:8080/"
        },
        "outputId": "434eb760-9284-4e48-958d-c9f1e8474a1e"
      },
      "source": [
        "# download and unzip 'ngrok', the tool we will use to set up the tunnel\r\n",
        "ngrok_filename = 'ngrok-stable-linux-amd64.zip'\r\n",
        "!if [ ! -f $ngrok_filename ]; then wget https://bin.equinox.io/c/4VmDzA7iaHb/$ngrok_filename && unzip $ngrok_filename; fi\r\n",
        "\r\n",
        "# specify where we will write the logging data files to be read by TensorBoard\r\n",
        "LOG_DIR = './runs'\r\n",
        "\r\n",
        "# ensure the selected directory exists\r\n",
        "!mkdir -p $LOG_DIR\r\n",
        "\r\n",
        "# start TensorBoard\r\n",
        "get_ipython().system_raw(\r\n",
        "    'tensorboard --logdir {} --host 0.0.0.0 --port 6006 &'\r\n",
        "    .format(LOG_DIR)\r\n",
        ")\r\n",
        "\r\n",
        "# open the tunnel with ngrok\r\n",
        "get_ipython().system_raw('./ngrok http 6006 &')\r\n",
        "\r\n",
        "# display a link to the TensorBoard URL\r\n",
        "! curl -s http://localhost:4040/api/tunnels | python3 -c \\\r\n",
        "    \"import sys, json; print('Public TensorBoard URL: {}'.format(json.load(sys.stdin)['tunnels'][0]['public_url']))\"\r\n",
        "    \r\n",
        "# set up tensorboardx, which we will use to log stuff from pytorch\r\n",
        "!pip3 install tensorboardX\r\n",
        "from tensorboardX import SummaryWriter"
      ],
      "execution_count": 256,
      "outputs": [
        {
          "output_type": "stream",
          "text": [
            "Public TensorBoard URL: http://8b69d6d391b8.ngrok.io\n",
            "Requirement already satisfied: tensorboardX in /usr/local/lib/python3.6/dist-packages (2.1)\n",
            "Requirement already satisfied: six in /usr/local/lib/python3.6/dist-packages (from tensorboardX) (1.15.0)\n",
            "Requirement already satisfied: protobuf>=3.8.0 in /usr/local/lib/python3.6/dist-packages (from tensorboardX) (3.12.4)\n",
            "Requirement already satisfied: numpy in /usr/local/lib/python3.6/dist-packages (from tensorboardX) (1.19.4)\n",
            "Requirement already satisfied: setuptools in /usr/local/lib/python3.6/dist-packages (from protobuf>=3.8.0->tensorboardX) (51.0.0)\n"
          ],
          "name": "stdout"
        }
      ]
    },
    {
      "cell_type": "code",
      "metadata": {
        "colab": {
          "base_uri": "https://localhost:8080/"
        },
        "id": "CxcCacRMUB0c",
        "outputId": "4883a719-56d4-4e14-8ddb-7a67389f90e0"
      },
      "source": [
        "# note that PyTorch will automatically download the data from the internet the\r\n",
        "# first time we ask it to load it. Hence we have to specify where it should keep\r\n",
        "# the data\r\n",
        "data_folder = \"./data\"\r\n",
        "\r\n",
        "# define a data loader that we will only use to compute mean and standard\r\n",
        "# deviation on the training set, with the purpose of normalizing all data\r\n",
        "trainset_unnormalized = torchvision.datasets.CIFAR10(root=data_folder, train=True,\r\n",
        "                                                  download=True, transform=torchvision.transforms.ToTensor())\r\n",
        "unnormalized_loader = torch.utils.data.DataLoader(trainset_unnormalized,\r\n",
        "                                                  batch_size=1000)\r\n",
        "\r\n"
      ],
      "execution_count": 281,
      "outputs": [
        {
          "output_type": "stream",
          "text": [
            "Files already downloaded and verified\n"
          ],
          "name": "stdout"
        }
      ]
    },
    {
      "cell_type": "code",
      "metadata": {
        "colab": {
          "base_uri": "https://localhost:8080/",
          "height": 154
        },
        "id": "7XwiaL4eUSK7",
        "outputId": "4416c754-d379-4886-96b9-0114e5f596d6"
      },
      "source": [
        "def imshow(img, ax=None):\r\n",
        "  \"\"\"Plot a PyTorch image using matplotlib\"\"\"\r\n",
        "  npimg = img.numpy()\r\n",
        "  if ax is None:\r\n",
        "    fig, ax = plt.subplots()\r\n",
        "  npimg = np.transpose(npimg, (1,2,0)) # this is needed as torch uses a (channel, height, width) representation while matplotlib usees (width, height, channel)\r\n",
        "  \r\n",
        "  npimg = (npimg - npimg.min(axis=(0,1)))/(npimg.max(axis=(0,1))-npimg.min(axis=(0,1))) # map the values to the interval [0,1] for each channel\r\n",
        "  ax.imshow(npimg)\r\n",
        "  ax.grid(False)\r\n",
        "\r\n",
        "# load one batch of images from the training set\r\n",
        "dataiter_new = iter(unnormalized_loader)\r\n",
        "images, labels = dataiter_new.next()\r\n",
        "\r\n",
        "# it will be useful, in the next cell, to be sure of the size of the images\r\n",
        "# (we know MNIST is 28x28 but it's better to make sure). In pytorch, batches of\r\n",
        "# data are organized as follows: (batch, channels, height, width), so if we want\r\n",
        "# the total number of pixels we have to multiply entries 2 and 3 of the size tuple #ok omar\r\n",
        "# (remember that python uses 0-indexing)\r\n",
        "n_pixels = images.size()[2]*images.size()[3]# size est l'équivalent de shape ici\r\n",
        "\r\n",
        "# only keep the first 16 items of the minibatch for ease of visualization\r\n",
        "images = images[:16]\r\n",
        "labels = labels[:16]\r\n",
        "\r\n",
        "# print labels\r\n",
        "print('True labels for the images below:', ' '.join(('{}'.format(j) for j in labels)))\r\n",
        "\r\n",
        "# show images\r\n",
        "imshow(torchvision.utils.make_grid(images))"
      ],
      "execution_count": 282,
      "outputs": [
        {
          "output_type": "stream",
          "text": [
            "True labels for the images below: 6 9 9 4 1 1 2 7 8 3 4 7 7 2 9 9\n"
          ],
          "name": "stdout"
        },
        {
          "output_type": "display_data",
          "data": {
            "image/png": "[encoded data removed]",
            "text/plain": [
              "<Figure size 432x288 with 1 Axes>"
            ]
          },
          "metadata": {
            "tags": [],
            "needs_background": "light"
          }
        }
      ]
    },
    {
      "cell_type": "code",
      "metadata": {
        "colab": {
          "base_uri": "https://localhost:8080/"
        },
        "id": "_flSb9qCXjYy",
        "outputId": "4fe45ccc-83ce-4753-a356-4b0f38d41829"
      },
      "source": [
        "# iterate over the training images, keeping a running average of the pixel value\r\n",
        "# and their second power. We are performing this iteration in batches of 1000\r\n",
        "# images at the time (controlled by the batch_size parameter in the line above).\r\n",
        "# Strictly speaking this is unnecessary as the whole dataset can easily fit into\r\n",
        "# memory, but we'll do it anyway to show how to iterate over a dataset in\r\n",
        "# batches using a data loader.\r\n",
        "n_total_images = len(trainset_unnormalized)\r\n",
        "train_mean = 0\r\n",
        "train_mean_squares = 0\r\n",
        "for i, data in enumerate(unnormalized_loader):\r\n",
        "  images, labels = data\r\n",
        "  train_mean += images.sum()/(n_total_images*n_pixels)\r\n",
        "  train_mean_squares += images.pow(2).sum()/(n_total_images*n_pixels)\r\n",
        "  \r\n",
        "train_std = (train_mean_squares-train_mean.pow(2)).sqrt()\r\n",
        "import torchvision.transforms as transforms\r\n",
        "\r\n",
        "# now that we have the mean and the standard deviation, define the data loaders\r\n",
        "# we'll actually use such that the data will be automatically standardized at\r\n",
        "# load time.\r\n",
        "\r\n",
        "load_transform = torchvision.transforms.Compose([torchvision.transforms.ToTensor(),\r\n",
        "                                                 transforms.Normalize((0.5, 0.5, 0.5), (0.5, 0.5, 0.5))])\r\n",
        "trainset = torchvision.datasets.CIFAR10(root=data_folder, train=True,\r\n",
        "                                      download=True, transform=load_transform)\r\n",
        "testset =  torchvision.datasets.CIFAR10(root=data_folder, train=False,\r\n",
        "                                      download=True, transform=load_transform)\r\n",
        "\r\n",
        "trainloader = torch.utils.data.DataLoader(trainset, batch_size=100, shuffle=True)\r\n",
        "testloader = torch.utils.data.DataLoader(testset, batch_size=100, shuffle=False)"
      ],
      "execution_count": 304,
      "outputs": [
        {
          "output_type": "stream",
          "text": [
            "Files already downloaded and verified\n",
            "Files already downloaded and verified\n"
          ],
          "name": "stdout"
        }
      ]
    },
    {
      "cell_type": "code",
      "metadata": {
        "id": "tpUUjI7XUh5h"
      },
      "source": [
        "class Net_2(nn.Module):\r\n",
        "  def __init__(self):\r\n",
        "    super(Net_2, self).__init__()\r\n",
        "    # in PyTorch, we often specify all layers of the network that require hyperparameters\r\n",
        "    # by creating them here inside __init__. The connections between layers will\r\n",
        "    # be established below, inside the forward() method. Note that the order in\r\n",
        "    # which we create them here does not matter, as the connections between them\r\n",
        "    # will be specified by the forward() method below.\r\n",
        "    self.conv1 = nn.Conv2d(in_channels=3, padding=2, out_channels=32, kernel_size=5) # what is the output size?\r\n",
        "    self.pool1 = nn.MaxPool2d(kernel_size=2, stride=2) # what is the output size?\r\n",
        "    self.conv2 = nn.Conv2d(in_channels=32, padding=2, out_channels=64, kernel_size=5)# what is the output size?\r\n",
        "    self.pool2 = nn.MaxPool2d(kernel_size=2, stride=2) # what is the output size?\r\n",
        "    self.fc1 = nn.Linear(in_features=64*8*8, out_features=1024) # where is the value passed as the in_features argument coming from?\r\n",
        "    self.fc2 = nn.Linear(in_features=1024, out_features=10)\r\n",
        "    self.dropout = nn.Dropout(p=0.5)\r\n",
        "    \r\n",
        "  def forward(self, x):\r\n",
        "    # this method specifies how the network processes its inputs - in other words, it describes the network's connectivity.\r\n",
        "    \r\n",
        "    # first convolution, followed by ReLU nonlinearity and pooling\r\n",
        "    x = self.pool1(F.relu(self.conv1(x)))\r\n",
        "    \r\n",
        "    # second convolution, followed by ReLU nonlinearity and pooling    \r\n",
        "    x = self.pool2(F.relu(self.conv2(x)))\r\n",
        "    # reshape layer (concatenate all features, removing their \"topographic\" arrangement)\r\n",
        "    x = x.view(-1, 64*8*8)\r\n",
        "    \r\n",
        "    # first fully connected layer (with ReLU nonlinearity)\r\n",
        "    x = F.relu(self.fc1(x))\r\n",
        "    \r\n",
        "    # dropout (regularization)\r\n",
        "    x = self.dropout(x)\r\n",
        "    \r\n",
        "    # second fully connected layer\r\n",
        "    x = self.fc2(x)\r\n",
        "    \r\n",
        "    # softmax (\"squashing nonlinearity\") operation. This maps all values to the \r\n",
        "    # [0,1] interval, so that the final output can be interpreted as the \r\n",
        "    # probability of belonging to each of the 10 classes. Note that here, for \r\n",
        "    # easier later processing, we're actually computing the log of the softmax,\r\n",
        "    # so the outputs can be interpreted as log-probabilities.\r\n",
        "    x = F.log_softmax(x, dim=1)\r\n",
        "    \r\n",
        "    return x"
      ],
      "execution_count": 305,
      "outputs": []
    },
    {
      "cell_type": "code",
      "metadata": {
        "colab": {
          "base_uri": "https://localhost:8080/"
        },
        "id": "4GjMrT2MVfp_",
        "outputId": "a5bba414-a74b-49c3-8074-ce6888bbc78e"
      },
      "source": [
        "# instantiate network\r\n",
        "net2 = Net_2()\r\n",
        "\r\n",
        "# move network to GPU if available\r\n",
        "net2.to(device)"
      ],
      "execution_count": 306,
      "outputs": [
        {
          "output_type": "execute_result",
          "data": {
            "text/plain": [
              "Net_2(\n",
              "  (conv1): Conv2d(3, 32, kernel_size=(5, 5), stride=(1, 1), padding=(2, 2))\n",
              "  (pool1): MaxPool2d(kernel_size=2, stride=2, padding=0, dilation=1, ceil_mode=False)\n",
              "  (conv2): Conv2d(32, 64, kernel_size=(5, 5), stride=(1, 1), padding=(2, 2))\n",
              "  (pool2): MaxPool2d(kernel_size=2, stride=2, padding=0, dilation=1, ceil_mode=False)\n",
              "  (fc1): Linear(in_features=4096, out_features=1024, bias=True)\n",
              "  (fc2): Linear(in_features=1024, out_features=10, bias=True)\n",
              "  (dropout): Dropout(p=0.5, inplace=False)\n",
              ")"
            ]
          },
          "metadata": {
            "tags": []
          },
          "execution_count": 306
        }
      ]
    },
    {
      "cell_type": "code",
      "metadata": {
        "id": "kdoMZLKJVhoQ"
      },
      "source": [
        "def make_filter_image(layer, use_color=True, scale_each=True):\r\n",
        "  \"\"\"Build an image of the weights of the filters in a given convolutional layer.\"\"\"\r\n",
        "  weights = layer.weight.data.to(\"cpu\")\r\n",
        "  if not use_color:\r\n",
        "    n_input_channels = weights.size()[1]\r\n",
        "    weights = weights.view([weights.size()[0], 1, weights.size()[1]*weights.size()[2], weights.size()[3]])\r\n",
        "  img = torchvision.utils.make_grid(weights, normalize=True, scale_each=scale_each)\r\n",
        "  return img\r\n",
        "  \r\n",
        "def visualize_filters(layer, use_color=True, scale_each=True):\r\n",
        "  \"\"\"Plot the weights of the filters in a given convolutional layer.\r\n",
        "  \r\n",
        "    \r\n",
        "  If use_color is true (default), the input layer is expected to have either 1 (grayscale)\r\n",
        "  or 3(rgb) channels. This is useful for plotting the weights of the first hidden\r\n",
        "  layer of the network. If you want to plot the weights of later layer, where the\r\n",
        "  number of input channels is arbitrary set use_color to false.\r\n",
        "  \r\n",
        "  If scale_each is true (default), the values in each filter will be scaled\r\n",
        "  independently before plotting; this makes the features of each individual\r\n",
        "  filter stand out more. If it's false, the scaling will be done globally\r\n",
        "  across all filters; this allows one to compare the filters.\"\"\"\r\n",
        "  \r\n",
        "  img = make_filter_image(layer, use_color=True, scale_each=scale_each)\r\n",
        "  size = 4+max(img.size())/10\r\n",
        "  fig, ax = plt.subplots(figsize=(size,size))\r\n",
        "  imshow(img, ax)\r\n"
      ],
      "execution_count": 307,
      "outputs": []
    },
    {
      "cell_type": "code",
      "metadata": {
        "id": "USLKAIGRVnAu"
      },
      "source": [
        "# negative log likelihood loss (same as cross entropy in our case)\r\n",
        "criterion = nn.NLLLoss()\r\n"
      ],
      "execution_count": 308,
      "outputs": []
    },
    {
      "cell_type": "code",
      "metadata": {
        "id": "EJt2UtxQV4L-"
      },
      "source": [
        "optimizer = optim.SGD(net2.parameters(), lr=0.1, momentum=0.9) # for the weight_decay parameter, see explanation in the cell above (L2 regularization)"
      ],
      "execution_count": 309,
      "outputs": []
    },
    {
      "cell_type": "code",
      "metadata": {
        "colab": {
          "base_uri": "https://localhost:8080/"
        },
        "id": "MR88VFK7WItS",
        "outputId": "063c6569-dbb0-4f11-c70f-10ae84c5dbba"
      },
      "source": [
        "# number of epochs (iterations over the whole training dataset) we want to train\r\n",
        "# the model for. A very small number should be sufficient (1 or 2), but if you \r\n",
        "# are running this on a GPU you can also try increasing it, since it's much faster\r\n",
        "# that way.\r\n",
        "n_epochs = 10\r\n",
        "\r\n",
        "# set the network in \"training mode\". This affects the behaviour of the dropout \r\n",
        "# layer by \"activating\" it.\r\n",
        "net2.train() \r\n",
        "\r\n",
        "# initialize logger\r\n",
        "writer = SummaryWriter()\r\n",
        "\r\n",
        "plot_iteration = 0\r\n",
        "for epoch in range(n_epochs):\r\n",
        "  \r\n",
        "  running_loss = 0 # we will update this value with a running average of the loss, computed by hand, to print during trainig. Note that the loss can also be seen on TensorBoard, and the plot has a smoothing option.\r\n",
        "  for i, data in enumerate(trainloader):\r\n",
        "    # get the next minibatch of data\r\n",
        "    inputs, labels = data\r\n",
        "    \r\n",
        "    # move data and labels to GPU if available\r\n",
        "    inputs = inputs.to(device)\r\n",
        "    labels = labels.to(device)\r\n",
        "    \r\n",
        "    # zero the gradients (this is needed because PyTorch accumulates gradients \r\n",
        "    # in all parameters every time we call loss.backward())\r\n",
        "    optimizer.zero_grad()\r\n",
        "    \r\n",
        "    # forward propagation of inputs: compute the activation of all units within the network\r\n",
        "    outputs = net2(inputs)\r\n",
        "    \r\n",
        "    # compute the loss\r\n",
        "    loss = criterion(outputs, labels)\r\n",
        "    \r\n",
        "    # backpropagation: compute the numerical gradient of the loss with respect to\r\n",
        "    # all parameters, evaluated for the current values of the activations and the loss.\r\n",
        "    # As mentioned above, these values are stored locally within each parameter.\r\n",
        "    loss.backward()\r\n",
        "    \r\n",
        "    # take a step with the optimizer we have defined above. The optimizer will \r\n",
        "    # go through all the parameters it know about (which we have specified when\r\n",
        "    # we created it), and update them according to the gradients it will find there,\r\n",
        "    # which we have computed when we performed backpropagation.\r\n",
        "    optimizer.step()\r\n",
        "    \r\n",
        "    # print some statistics\r\n",
        "    running_loss += loss.item() # the .item() method casts a pytorch tensor of size 1 to a simple python scalar\r\n",
        "    if i % 10 == 0:\r\n",
        "      # every ten minibatches, send a picture of the 1st layer filters and the \r\n",
        "      # value of the loss to TensorBoard, which will automatically figure out how to plot them.\r\n",
        "      writer.add_image('Layer 1 filters', make_filter_image(net2.conv1), plot_iteration)\r\n",
        "      writer.add_scalar('Loss', loss.item(), plot_iteration)\r\n",
        "      plot_iteration += 1\r\n",
        "    if i % 100 == 99:\r\n",
        "      # every 100 minibatches, print some information in the cell output.\r\n",
        "      print(\"[epoch {}, iter {}] loss: {:.3f}\".format(epoch+1, i+1, running_loss/100))\r\n",
        "      running_loss = 0\r\n",
        "\r\n",
        "# close the logger\r\n",
        "writer.close()\r\n",
        "\r\n",
        "print(\"Finished training\")"
      ],
      "execution_count": 312,
      "outputs": [
        {
          "output_type": "stream",
          "text": [
            "[epoch 1, iter 100] loss: 1.475\n",
            "[epoch 1, iter 200] loss: 1.534\n",
            "[epoch 1, iter 300] loss: 1.526\n",
            "[epoch 1, iter 400] loss: 1.513\n",
            "[epoch 1, iter 500] loss: 1.516\n",
            "[epoch 2, iter 100] loss: 1.462\n",
            "[epoch 2, iter 200] loss: 1.441\n",
            "[epoch 2, iter 300] loss: 1.474\n",
            "[epoch 2, iter 400] loss: 1.519\n",
            "[epoch 2, iter 500] loss: 1.502\n",
            "[epoch 3, iter 100] loss: 1.412\n",
            "[epoch 3, iter 200] loss: 1.427\n",
            "[epoch 3, iter 300] loss: 1.459\n",
            "[epoch 3, iter 400] loss: 1.489\n",
            "[epoch 3, iter 500] loss: 1.503\n",
            "[epoch 4, iter 100] loss: 1.365\n",
            "[epoch 4, iter 200] loss: 1.433\n",
            "[epoch 4, iter 300] loss: 1.494\n",
            "[epoch 4, iter 400] loss: 1.435\n",
            "[epoch 4, iter 500] loss: 1.435\n",
            "[epoch 5, iter 100] loss: 1.324\n",
            "[epoch 5, iter 200] loss: 1.402\n",
            "[epoch 5, iter 300] loss: 1.465\n",
            "[epoch 5, iter 400] loss: 1.556\n",
            "[epoch 5, iter 500] loss: 1.495\n",
            "[epoch 6, iter 100] loss: 1.391\n",
            "[epoch 6, iter 200] loss: 1.431\n",
            "[epoch 6, iter 300] loss: 1.412\n",
            "[epoch 6, iter 400] loss: 1.418\n",
            "[epoch 6, iter 500] loss: 1.449\n",
            "[epoch 7, iter 100] loss: 1.415\n",
            "[epoch 7, iter 200] loss: 1.407\n",
            "[epoch 7, iter 300] loss: 1.463\n",
            "[epoch 7, iter 400] loss: 1.479\n",
            "[epoch 7, iter 500] loss: 1.478\n",
            "[epoch 8, iter 100] loss: 1.406\n",
            "[epoch 8, iter 200] loss: 1.434\n",
            "[epoch 8, iter 300] loss: 1.479\n",
            "[epoch 8, iter 400] loss: 1.510\n",
            "[epoch 8, iter 500] loss: 1.526\n",
            "[epoch 9, iter 100] loss: 1.390\n",
            "[epoch 9, iter 200] loss: 1.403\n",
            "[epoch 9, iter 300] loss: 1.436\n",
            "[epoch 9, iter 400] loss: 1.483\n",
            "[epoch 9, iter 500] loss: 1.497\n",
            "[epoch 10, iter 100] loss: 1.378\n",
            "[epoch 10, iter 200] loss: 1.387\n",
            "[epoch 10, iter 300] loss: 1.422\n",
            "[epoch 10, iter 400] loss: 1.498\n",
            "[epoch 10, iter 500] loss: 1.475\n",
            "Finished training\n"
          ],
          "name": "stdout"
        }
      ]
    },
    {
      "cell_type": "code",
      "metadata": {
        "colab": {
          "base_uri": "https://localhost:8080/",
          "height": 342
        },
        "id": "70Hu4zyoWVaX",
        "outputId": "e0c2fc8e-55ed-43cf-df11-196b50364878"
      },
      "source": [
        "net2.eval() # set the network in evaluation mode (as opposed to training mode; see comment above when we called net.train())\r\n",
        "\r\n",
        "# load a set of example images from the testing set\r\n",
        "dataiter = iter(testloader)\r\n",
        "images, labels = dataiter.next()\r\n",
        "\r\n",
        "num_examples = images.size()[0]\r\n",
        "\r\n",
        "# plot the examples\r\n",
        "imshow(torchvision.utils.make_grid(images))\r\n",
        "\r\n",
        "# move the examples and the labels to the GPU if available (if the network is on the GPU, we have to move any data there before processing it!)\r\n",
        "images = images.to(device)\r\n",
        "labels = labels.to(device)\r\n",
        "\r\n",
        "# compute predictions and bring them back to the CPU\r\n",
        "outputs = net2(images)\r\n",
        "_, predictions = torch.max(outputs, 1)\r\n",
        "\r\n",
        "\r\n",
        "#print(' '.join(('{}'.format(j) for j in labels)))\r\n",
        "print(\"Ground truth: \", \" \".join(\"{}\".format(labels[j]) for j in range(num_examples)))\r\n",
        "print(\"Predicted:    \", \" \".join(\"{}\".format(predictions[j]) for j in range(num_examples)))\r\n",
        "print(\"Accuracy: {}%\".format(100*(labels==predictions).sum()/num_examples))"
      ],
      "execution_count": 313,
      "outputs": [
        {
          "output_type": "stream",
          "text": [
            "Ground truth:  3 8 8 0 6 6 1 6 3 1 0 9 5 7 9 8 5 7 8 6 7 0 4 9 5 2 4 0 9 6 6 5 4 5 9 2 4 1 9 5 4 6 5 6 0 9 3 9 7 6 9 8 0 3 8 8 7 7 4 6 7 3 6 3 6 2 1 2 3 7 2 6 8 8 0 2 9 3 3 8 8 1 1 7 2 5 2 7 8 9 0 3 8 6 4 6 6 0 0 7\n",
            "Predicted:     3 8 9 3 2 6 3 6 3 8 0 9 7 7 8 8 5 7 8 6 7 0 2 9 4 4 3 2 9 3 1 4 5 3 9 1 5 9 8 3 4 6 3 2 1 9 3 3 4 4 0 9 6 3 8 4 5 3 2 3 4 3 6 0 6 6 1 0 6 9 3 9 8 8 9 2 9 3 3 8 8 9 1 7 0 7 3 0 9 9 8 5 8 5 4 3 6 4 0 7\n",
            "Accuracy: 44.0%\n"
          ],
          "name": "stdout"
        },
        {
          "output_type": "display_data",
          "data": {
            "image/png": "[encoded data removed]",
            "text/plain": [
              "<Figure size 432x288 with 1 Axes>"
            ]
          },
          "metadata": {
            "tags": [],
            "needs_background": "light"
          }
        }
      ]
    }
  ]
}